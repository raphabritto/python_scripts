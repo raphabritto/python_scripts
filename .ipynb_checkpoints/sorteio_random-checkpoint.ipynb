{
 "cells": [
  {
   "cell_type": "code",
   "execution_count": 36,
   "metadata": {
    "collapsed": true
   },
   "outputs": [],
   "source": [
    "import numpy as np"
   ]
  },
  {
   "cell_type": "code",
   "execution_count": 124,
   "metadata": {
    "collapsed": true
   },
   "outputs": [],
   "source": [
    "apostas = []\n",
    "min_numeros_aposta = 15\n",
    "max_numeros_aposta = 18"
   ]
  },
  {
   "cell_type": "code",
   "execution_count": 123,
   "metadata": {
    "collapsed": false
   },
   "outputs": [
    {
     "name": "stdout",
     "output_type": "stream",
     "text": [
      "Quantidade de números por aposta:18\n"
     ]
    }
   ],
   "source": [
    "while True:\n",
    "    try:\n",
    "        numerosAposta = int(input('Quantidade de números por aposta: '))\n",
    "    except:\n",
    "        "
   ]
  },
  {
   "cell_type": "code",
   "execution_count": 108,
   "metadata": {
    "collapsed": false
   },
   "outputs": [],
   "source": [
    "for i in np.arange(1, 100):\n",
    "    aposta = list(np.random.choice(np.arange(1, 26), numerosAposta, replace= False))\n",
    "    aposta.sort()\n",
    "    apostas.append(aposta)"
   ]
  },
  {
   "cell_type": "code",
   "execution_count": 109,
   "metadata": {
    "collapsed": false
   },
   "outputs": [],
   "source": [
    "# for i in range(0, len(apostas)):\n",
    "i = 0\n",
    "while i < len(apostas):\n",
    "#     print(apostas[i][0])\n",
    "    if min(apostas[i]) > 3:\n",
    "#         print(apostas[i][0])\n",
    "        del apostas[i]\n",
    "    i += 1"
   ]
  },
  {
   "cell_type": "code",
   "execution_count": 110,
   "metadata": {
    "collapsed": false
   },
   "outputs": [
    {
     "data": {
      "text/plain": [
       "92"
      ]
     },
     "execution_count": 110,
     "metadata": {},
     "output_type": "execute_result"
    }
   ],
   "source": [
    "len(apostas)"
   ]
  },
  {
   "cell_type": "code",
   "execution_count": 121,
   "metadata": {
    "collapsed": false
   },
   "outputs": [],
   "source": [
    "i = 0\n",
    "while i < len(apostas):\n",
    "    j = 0\n",
    "    while j < len(apostas):\n",
    "        if i != j:\n",
    "            if len(set(a).intersection(apostas[i])) == 15:\n",
    "                del apostas[j]\n",
    "        j += 1\n",
    "#     print(len(set(a).intersection(apostas[i])))\n",
    "    i += 1"
   ]
  },
  {
   "cell_type": "code",
   "execution_count": 122,
   "metadata": {
    "collapsed": false
   },
   "outputs": [
    {
     "data": {
      "text/plain": [
       "[[1, 2, 8, 10, 11, 12, 13, 15, 16, 18, 19, 20, 22, 23, 25],\n",
       " [1, 3, 4, 5, 7, 8, 9, 11, 12, 16, 17, 18, 19, 21, 24],\n",
       " [2, 3, 5, 6, 7, 8, 9, 13, 14, 15, 17, 18, 19, 22, 23],\n",
       " [2, 6, 7, 9, 11, 12, 13, 14, 15, 17, 18, 20, 21, 22, 24],\n",
       " [1, 2, 3, 4, 6, 9, 10, 11, 12, 13, 14, 16, 18, 21, 24],\n",
       " [2, 3, 5, 7, 12, 14, 15, 16, 17, 19, 21, 22, 23, 24, 25],\n",
       " [2, 3, 4, 6, 7, 8, 9, 10, 13, 14, 15, 16, 20, 21, 23],\n",
       " [1, 3, 5, 6, 8, 10, 11, 14, 15, 16, 20, 21, 23, 24, 25],\n",
       " [1, 2, 3, 6, 7, 9, 10, 11, 14, 15, 17, 18, 20, 23, 24],\n",
       " [1, 2, 3, 6, 8, 11, 12, 13, 15, 16, 17, 21, 23, 24, 25],\n",
       " [1, 2, 3, 5, 6, 7, 8, 9, 11, 13, 14, 16, 19, 22, 23],\n",
       " [1, 6, 7, 9, 10, 11, 13, 14, 15, 16, 19, 21, 23, 24, 25],\n",
       " [1, 3, 4, 7, 8, 9, 10, 11, 13, 15, 17, 18, 19, 21, 25],\n",
       " [1, 2, 5, 8, 9, 10, 11, 13, 14, 19, 21, 22, 23, 24, 25],\n",
       " [1, 4, 5, 6, 7, 8, 9, 10, 11, 12, 14, 16, 21, 23, 25],\n",
       " [1, 2, 3, 8, 9, 10, 12, 14, 15, 17, 18, 19, 20, 24, 25],\n",
       " [3, 4, 6, 8, 10, 11, 13, 15, 16, 19, 20, 21, 22, 24, 25],\n",
       " [1, 2, 4, 6, 7, 9, 11, 14, 15, 17, 20, 21, 23, 24, 25],\n",
       " [2, 3, 4, 7, 8, 10, 12, 14, 17, 18, 19, 20, 21, 23, 25],\n",
       " [3, 5, 6, 7, 8, 10, 11, 12, 13, 14, 17, 18, 20, 21, 25],\n",
       " [1, 2, 3, 4, 6, 7, 9, 10, 11, 14, 15, 19, 20, 23, 25],\n",
       " [1, 2, 7, 11, 12, 14, 15, 16, 17, 19, 20, 21, 22, 23, 25],\n",
       " [1, 3, 4, 5, 6, 7, 8, 13, 14, 16, 17, 20, 21, 23, 25],\n",
       " [1, 2, 3, 5, 6, 7, 12, 13, 15, 17, 19, 21, 23, 24, 25],\n",
       " [1, 2, 4, 6, 8, 14, 15, 16, 17, 19, 20, 21, 22, 23, 25],\n",
       " [2, 5, 6, 8, 11, 12, 13, 14, 15, 17, 18, 19, 22, 24, 25],\n",
       " [1, 2, 3, 4, 6, 7, 9, 10, 13, 14, 16, 17, 21, 22, 24],\n",
       " [2, 3, 6, 8, 11, 12, 13, 14, 17, 18, 20, 21, 23, 24, 25],\n",
       " [1, 3, 4, 6, 7, 8, 11, 12, 13, 16, 20, 21, 22, 24, 25],\n",
       " [1, 2, 3, 4, 6, 8, 12, 13, 16, 17, 18, 19, 20, 22, 23],\n",
       " [1, 3, 7, 8, 10, 11, 13, 16, 18, 19, 20, 21, 22, 24, 25],\n",
       " [1, 2, 3, 4, 6, 7, 8, 14, 16, 17, 18, 21, 22, 23, 25],\n",
       " [1, 5, 6, 7, 8, 9, 10, 11, 12, 15, 16, 18, 21, 24, 25],\n",
       " [1, 2, 5, 7, 8, 9, 11, 12, 15, 16, 17, 18, 19, 21, 23],\n",
       " [1, 3, 4, 5, 7, 11, 12, 13, 15, 16, 18, 21, 22, 24, 25],\n",
       " [2, 3, 6, 7, 9, 11, 14, 16, 17, 19, 20, 21, 23, 24, 25],\n",
       " [1, 5, 8, 9, 10, 12, 13, 16, 18, 19, 20, 22, 23, 24, 25],\n",
       " [1, 3, 4, 5, 6, 8, 10, 12, 14, 17, 19, 21, 22, 23, 24],\n",
       " [1, 2, 3, 8, 10, 11, 12, 13, 14, 15, 16, 18, 19, 22, 23],\n",
       " [1, 2, 3, 6, 7, 8, 11, 12, 14, 16, 20, 21, 22, 23, 24],\n",
       " [1, 3, 4, 5, 6, 8, 12, 13, 14, 16, 17, 19, 20, 22, 23],\n",
       " [1, 2, 3, 4, 7, 8, 10, 14, 16, 18, 19, 21, 22, 24, 25],\n",
       " [1, 2, 3, 4, 8, 10, 11, 13, 14, 15, 18, 19, 20, 24, 25],\n",
       " [1, 2, 3, 4, 5, 6, 9, 11, 14, 16, 19, 20, 21, 23, 24],\n",
       " [1, 2, 3, 4, 5, 8, 9, 11, 16, 17, 18, 19, 20, 22, 23],\n",
       " [1, 3, 4, 6, 9, 11, 12, 13, 15, 16, 17, 18, 22, 24, 25]]"
      ]
     },
     "execution_count": 122,
     "metadata": {},
     "output_type": "execute_result"
    }
   ],
   "source": [
    "apostas"
   ]
  },
  {
   "cell_type": "code",
   "execution_count": null,
   "metadata": {
    "collapsed": true
   },
   "outputs": [],
   "source": []
  }
 ],
 "metadata": {
  "kernelspec": {
   "display_name": "Python 3",
   "language": "python",
   "name": "python3"
  },
  "language_info": {
   "codemirror_mode": {
    "name": "ipython",
    "version": 3
   },
   "file_extension": ".py",
   "mimetype": "text/x-python",
   "name": "python",
   "nbconvert_exporter": "python",
   "pygments_lexer": "ipython3",
   "version": "3.6.0"
  }
 },
 "nbformat": 4,
 "nbformat_minor": 2
}
