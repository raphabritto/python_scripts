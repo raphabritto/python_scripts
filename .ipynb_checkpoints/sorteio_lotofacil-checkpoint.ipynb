{
 "cells": [
  {
   "cell_type": "code",
   "execution_count": 1,
   "metadata": {},
   "outputs": [],
   "source": [
    "import numpy as np\n",
    "import pandas as pd\n",
    "import csv\n",
    "import mysql.connector\n",
    "from datetime import date, datetime\n",
    "import random\n",
    "import time\n",
    "import matplotlib.pyplot as plt\n",
    "\n",
    "import ipdb"
   ]
  },
  {
   "cell_type": "code",
   "execution_count": 2,
   "metadata": {},
   "outputs": [],
   "source": [
    "class Lotofacil:\n",
    "    def __init__(self):\n",
    "        self.id = 0\n",
    "        self.data_sorteio = None\n",
    "        self.ganhadores_15_numeros = 0\n",
    "        self.valor_rateio_15_numeros = 0\n",
    "        self.valor_rateio_14_numeros = 0\n",
    "        self.valor_rateio_13_numeros = 0\n",
    "        self.valor_rateio_12_numeros = 0\n",
    "        self.valor_rateio_11_numeros = 0\n",
    "        self.numeros = ()\n",
    "        self.par = 0\n",
    "        self.impar = 0\n",
    "        self.sequencia = ()\n",
    "        self.vertical = ()\n",
    "        self.horizontal = ()\n",
    "        \n",
    "    def set_numeros(self, numeros):\n",
    "        self.numeros = tuple(numeros)\n",
    "        self.setParImpar()\n",
    "        self.set_sequencia()\n",
    "        self.set_horizontal()\n",
    "        self.set_vertical()\n",
    "        \n",
    "    def set_sequencia(self):\n",
    "        sequencia = []\n",
    "        count = []\n",
    "\n",
    "        sequencia.append(self.numeros[0])\n",
    "        \n",
    "        for i in np.arange(1, len(self.numeros)):\n",
    "            if (self.numeros[i] - self.numeros[i-1] == 1):\n",
    "                sequencia.append(self.numeros[i])\n",
    "                \n",
    "                if (i < len(self.numeros) - 1):\n",
    "                    continue\n",
    "                \n",
    "            if (len(sequencia) > 1):\n",
    "                count.append(len(sequencia))\n",
    "\n",
    "            sequencia = []\n",
    "            sequencia.append(self.numeros[i])\n",
    "            \n",
    "        self.sequencia = tuple(count)\n",
    "        \n",
    "    def setParImpar(self):\n",
    "        self.par = sum([1 if x % 2 == 0 else 0 for x in self.numeros])\n",
    "        self.impar = len(self.numeros) - self.par\n",
    "        \n",
    "    def set_horizontal(self):\n",
    "        quantidade = []\n",
    "        horizontal = np.arange(1,26)\n",
    "        horizontal = np.reshape(horizontal, (5,5))\n",
    "        \n",
    "        for h in horizontal:\n",
    "            quantidade.append(len(set(h).intersection(self.numeros)))\n",
    "            \n",
    "        self.horizontal = tuple(quantidade)\n",
    "        \n",
    "    def set_vertical(self):\n",
    "        quantidade = []\n",
    "        vertical = np.arange(1,26)\n",
    "        vertical = np.reshape(vertical, (5,5)).transpose()\n",
    "        \n",
    "        for v in vertical:\n",
    "            quantidade.append(len(set(v).intersection(self.numeros)))\n",
    "            \n",
    "        self.vertical = tuple(quantidade)\n",
    "        "
   ]
  },
  {
   "cell_type": "code",
   "execution_count": 3,
   "metadata": {},
   "outputs": [],
   "source": [
    "class Jogo:\n",
    "    def __init__(self):\n",
    "        self.id = None\n",
    "        self.data_cadastro = None\n",
    "        self.quantidade = 0\n",
    "        self.numeros = ()\n",
    "        self.par = 0\n",
    "        self.impar = 0\n",
    "        self.sequencia = ()\n",
    "        self.vertical = ()\n",
    "        self.horizontal = ()\n",
    "        \n",
    "#     def sorteio(self, qtdNumeros = 15):\n",
    "#         self.numeros = sorted(tuple(np.random.choice(np.arange(1, 26), qtdNumeros, replace= False)))\n",
    "#         self.setQuantidade()\n",
    "#         self.setParImpar()\n",
    "        \n",
    "#     def setQuantidade(self):\n",
    "#         self.quantidade = len(self.numeros)\n",
    "\n",
    "    def set_numeros(self, numeros):\n",
    "        self.numeros = tuple(numeros)\n",
    "        self.setParImpar()\n",
    "        self.set_sequencia()\n",
    "        self.set_horizontal()\n",
    "        self.set_vertical()\n",
    "        \n",
    "    def setParImpar(self):\n",
    "        self.par = sum([1 if x % 2 == 0 else 0 for x in self.numeros])\n",
    "        self.impar = len(self.numeros) - self.par\n",
    "        \n",
    "    def set_sequencia(self):\n",
    "        sequencia = []\n",
    "        count = []\n",
    "\n",
    "        sequencia.append(self.numeros[0])\n",
    "        \n",
    "        for i in np.arange(1, len(self.numeros)):\n",
    "            if (self.numeros[i] - self.numeros[i-1] == 1):\n",
    "                sequencia.append(self.numeros[i])\n",
    "                \n",
    "                if (i < len(self.numeros) - 1):\n",
    "                    continue\n",
    "                \n",
    "            if (len(sequencia) > 1):\n",
    "                count.append(len(sequencia))\n",
    "\n",
    "            sequencia = []\n",
    "            sequencia.append(self.numeros[i])\n",
    "            \n",
    "        self.sequencia = tuple(count)\n",
    "        \n",
    "    def set_horizontal(self):\n",
    "        quantidade = []\n",
    "        horizontal = np.arange(1,26)\n",
    "        horizontal = np.reshape(horizontal, (5,5))\n",
    "        \n",
    "        for h in horizontal:\n",
    "            quantidade.append(len(set(h).intersection(self.numeros)))\n",
    "            \n",
    "        self.horizontal = tuple(quantidade)\n",
    "        \n",
    "    def set_vertical(self):\n",
    "        quantidade = []\n",
    "        vertical = np.arange(1,26)\n",
    "        vertical = np.reshape(vertical, (5,5)).transpose()\n",
    "        \n",
    "        for v in vertical:\n",
    "            quantidade.append(len(set(v).intersection(self.numeros)))\n",
    "            \n",
    "        self.vertical = tuple(quantidade)"
   ]
  },
  {
   "cell_type": "code",
   "execution_count": 4,
   "metadata": {},
   "outputs": [],
   "source": [
    "def get_concursos_lotofacil_csv(arquivo):\n",
    "    concursos = []\n",
    "    \n",
    "    with open(arquivo) as file:\n",
    "        lotofacil = csv.reader(file, delimiter=';')\n",
    "        data = list(lotofacil)\n",
    "    \n",
    "    for x in data[1:]:\n",
    "        concurso = Lotofacil()\n",
    "        concurso.id = int(x[0])\n",
    "        concurso.data_sorteio = x[1]\n",
    "        concurso.set_numeros(sorted(tuple(map(int, x[2:17]))))\n",
    "#         concurso.numeros = sorted(tuple(map(int, x[2:17])))\n",
    "        concurso.ganhadores_15_numeros = int(x[17])\n",
    "        concurso.valor_rateio_15_numeros = float(x[18].replace('.', '').replace(',', '.'))\n",
    "        concurso.valor_rateio_14_numeros = float(x[19].replace('.', '').replace(',', '.'))\n",
    "        concurso.valor_rateio_13_numeros = float(x[20].replace('.', '').replace(',', '.'))\n",
    "        concurso.valor_rateio_12_numeros = float(x[21].replace('.', '').replace(',', '.'))\n",
    "        concurso.valor_rateio_11_numeros = float(x[22].replace('.', '').replace(',', '.'))\n",
    "#         concurso.setParImpar()\n",
    "        concursos.append(concurso)\n",
    "    \n",
    "    return tuple(concursos)"
   ]
  },
  {
   "cell_type": "code",
   "execution_count": 5,
   "metadata": {},
   "outputs": [],
   "source": [
    "def gerar_jogos(numero_jogos = 1000, numeros_por_jogo = 15, menor_numero = (), maior_numero = ()):\n",
    "    count = 0\n",
    "    jogos = []\n",
    "    tentativas = 0\n",
    "    \n",
    "    try:\n",
    "    \n",
    "        while (len(jogos) < numero_jogos and tentativas < 100):\n",
    "            add = False\n",
    "            jogo = Jogo()\n",
    "            jogo.sorteio(numeros_por_jogo)\n",
    "\n",
    "            if (jogo.numeros[0] not in menor_numero or jogo.numeros[-1] not in maior_numero):\n",
    "                tentativas += 1\n",
    "                continue\n",
    "\n",
    "            for i in jogos:\n",
    "                if (len(i.numeros) == len(jogo.numeros)):\n",
    "                    if (len(set(i.numeros).intersection(jogo.numeros)) == len(jogo.numeros)):\n",
    "                        tentativas += 1\n",
    "                        break\n",
    "\n",
    "            jogos.append(jogo)\n",
    "            count += 1\n",
    "            tentativas = 0\n",
    "            \n",
    "        return tuple(jogos)\n",
    "            \n",
    "    except Exception as ex:\n",
    "        return ex"
   ]
  },
  {
   "cell_type": "code",
   "execution_count": 6,
   "metadata": {},
   "outputs": [],
   "source": [
    "def filtrar_concursos_range(concursos, inicial, final):\n",
    "    concursos_filtrados = []\n",
    "    \n",
    "    for c in concursos:\n",
    "        if (c.id >= inicial and c.id <= final):\n",
    "            concursos_filtrados.append(c)\n",
    "    \n",
    "    return concursos_filtrados"
   ]
  },
  {
   "cell_type": "code",
   "execution_count": 7,
   "metadata": {},
   "outputs": [],
   "source": [
    "# def filtrar_ultimos_concursos(concursos, ultimos):\n",
    "#     concursos_filtrados = []\n",
    "    \n",
    "#     if (ultimos is not None):\n",
    "#         concursos_filtrados = concursos[len(concursos)-ultimos:]\n",
    "        \n",
    "#     return concursos_filtrados"
   ]
  },
  {
   "cell_type": "code",
   "execution_count": 8,
   "metadata": {},
   "outputs": [],
   "source": [
    "def filtrar_concurso_por_numeros(concursos, numeros):\n",
    "    concursos_filtrados = []\n",
    "    \n",
    "    for c in concursos:\n",
    "        if (len(set(c.numeros).intersection(numeros)) == len(numeros)):\n",
    "            concursos_filtrados.append(c)\n",
    "#         if len(set(apostas[i].numeros).intersection(notin[j])) == len(notin[j]):\n",
    "    \n",
    "    return concursos_filtrados"
   ]
  },
  {
   "cell_type": "code",
   "execution_count": 9,
   "metadata": {},
   "outputs": [],
   "source": [
    "def imprimir_concursos(concursos):\n",
    "    print(\"Total concursos: %s \\n\" % (len(concursos)))\n",
    "    for c in concursos:\n",
    "        print(\"Concurso: \", c.id)\n",
    "        print(\"Data Sorteio: \", c.data_sorteio)\n",
    "        print(\"Ganhadores 15 pontos: %s \" % (c.ganhadores_15_numeros))\n",
    "        print(\"Impares/Pares: %s/%s\" % (c.impar, c.par))\n",
    "#         print(\"Pares: %s\" % (c.par))\n",
    "        print(\"Sequencia: \", c.sequencia)\n",
    "        print(\"Horizontal: \", c.horizontal)\n",
    "        print(\"Vertical: \", c.vertical)\n",
    "        print(c.numeros)\n",
    "        print(\"\\n\")"
   ]
  },
  {
   "cell_type": "code",
   "execution_count": 10,
   "metadata": {},
   "outputs": [],
   "source": [
    "def imprimir_aposta(apostas):\n",
    "    print(\"Total apostas: %s \\n\" % (len(apostas)))\n",
    "    for a in apostas:\n",
    "#         print(\"ID: \", a.id)\n",
    "#         print(\"Data: \", a.data_sorteio)\n",
    "        print(\"Impares: %s - Pares: %s\" % (a.impar, a.par))\n",
    "        print(a.numeros)\n",
    "        print(\"\\n\")"
   ]
  },
  {
   "cell_type": "code",
   "execution_count": 11,
   "metadata": {},
   "outputs": [],
   "source": [
    "def imprimir_jogo(jogos):\n",
    "    print(\"Total jogos: %s \\n\" % (len(jogos)))\n",
    "    for a in jogos:\n",
    "        print(\"ID: \", a.id)\n",
    "#         print(\"Data Cadastro: \", a.data_cadastro)\n",
    "        print(\"Tamanho: %s | Imapres/Pares: %s/%s | Sequencia: %s\" % (len(a.numeros), a.impar, a.par, a.sequencia))\n",
    "        print(a.numeros)\n",
    "        print(\"\\n\")"
   ]
  },
  {
   "cell_type": "code",
   "execution_count": 12,
   "metadata": {},
   "outputs": [],
   "source": [
    "def filtrar_jogo_menor_maior(jogos, menor = (), maior = ()):\n",
    "    apostas_filtradas = []\n",
    "    \n",
    "    if (type(menor) != tuple):\n",
    "        menor = tuple(menor)\n",
    "\n",
    "    for jogo in jogos:\n",
    "        if (jogo.numeros[0] in menor and jogo.numeros[-1] in maior):\n",
    "            apostas_filtradas.append(jogo)\n",
    "        \n",
    "    return tuple(apostas_filtradas)"
   ]
  },
  {
   "cell_type": "code",
   "execution_count": 13,
   "metadata": {},
   "outputs": [],
   "source": [
    "def filtrar_jogo_impar_par(jogos, impar = ()):\n",
    "    apostas_filtradas = []\n",
    "    \n",
    "    for jogo in jogos:\n",
    "        for i in impar:\n",
    "            if (jogo.impar == i):\n",
    "                apostas_filtradas.append(jogo)\n",
    "        \n",
    "    return tuple(apostas_filtradas)"
   ]
  },
  {
   "cell_type": "code",
   "execution_count": 14,
   "metadata": {},
   "outputs": [],
   "source": [
    "def filtrar_jogo_por_numeros(jogos, numeros, match):\n",
    "    apostas_filtradas = []\n",
    "    \n",
    "    for j in jogos:\n",
    "        if (len(set(j.numeros).intersection(numeros)) >= match):\n",
    "            apostas_filtradas.append(j)\n",
    "        \n",
    "    return apostas_filtradas"
   ]
  },
  {
   "cell_type": "code",
   "execution_count": 15,
   "metadata": {},
   "outputs": [],
   "source": [
    "# def filtrar_jogo_sequencia(jogos, sequencia = ()):\n",
    "#     apostas_filtradas = []\n",
    "#     add = True\n",
    "    \n",
    "#     for jogo in jogos:\n",
    "#         for s in sequencia:\n",
    "#             if (len(set(jogo.numeros).intersection(s)) == len(s)):\n",
    "#                 add = False\n",
    "#                 break\n",
    "                \n",
    "#         if (add):\n",
    "#             apostas_filtradas.append(jogo)\n",
    "        \n",
    "#     return tuple(apostas_filtradas)"
   ]
  },
  {
   "cell_type": "code",
   "execution_count": 16,
   "metadata": {},
   "outputs": [],
   "source": [
    "def filtrar_jogo_sequencia(jogos, sequencia = ()):\n",
    "    apostas_filtradas = []\n",
    "    \n",
    "    for jogo in jogos:\n",
    "        if (len(set(jogo.numeros).intersection(sequencia)) == len(s)):\n",
    "            apostas_filtradas.append(jogo)\n",
    "        \n",
    "    return tuple(apostas_filtradas)"
   ]
  },
  {
   "cell_type": "code",
   "execution_count": 17,
   "metadata": {},
   "outputs": [],
   "source": [
    "def filtrar_jogo_notin(jogos, numeros):\n",
    "    apostas_filtradas = []\n",
    "    \n",
    "    for j in jogos:\n",
    "        if (len(set(j.numeros).intersection(numeros)) == 0):\n",
    "            apostas_filtradas.append(j)\n",
    "        \n",
    "    return apostas_filtradas"
   ]
  },
  {
   "cell_type": "code",
   "execution_count": 18,
   "metadata": {},
   "outputs": [],
   "source": [
    "def selecionar_jogos_aposta(jogos, quantidade):\n",
    "    jogos_sample = random.sample(jogos, quantidade)\n",
    "    menor_1 = 0\n",
    "    menor_2 = 0\n",
    "    menor_3 = 0\n",
    "    impar_7 = 0\n",
    "    impar_8 = 0\n",
    "    impar_9 = 0\n",
    "    seq_0 = 0\n",
    "    seq_5 = 0\n",
    "    seq_6 = 0\n",
    "    seq_7 = 0\n",
    "\n",
    "    for a in jogos_sample:\n",
    "#         print(a.numeros, a.impar, a.par, a.numeros[0], a.numeros[-1])\n",
    "        if a.numeros[0] == 1:\n",
    "            menor_1 += 1\n",
    "        elif a.numeros[0] == 2:\n",
    "            menor_2 += 1\n",
    "        elif a.numeros[0] == 3:\n",
    "            menor_3 += 1\n",
    "\n",
    "        if a.impar == 7:\n",
    "            impar_7 += 1\n",
    "        elif a.impar == 8:\n",
    "            impar_8 += 1\n",
    "        elif a.impar == 9:\n",
    "            impar_9 += 1\n",
    "            \n",
    "        if a.sequencia == 0:\n",
    "            seq_0 += 1\n",
    "        elif a.sequencia == 5:\n",
    "            seq_5 += 1\n",
    "        elif a.sequencia == 6:\n",
    "            seq_6 += 1\n",
    "        elif a.sequencia == 7:\n",
    "            seq_7 += 1\n",
    "\n",
    "    print('Percentual jogos com 1: ', (menor_1/len(jogos_sample))*100)\n",
    "    print('Percentual jogos com 2: ', (menor_2/len(jogos_sample))*100)\n",
    "    print('Percentual jogos com 3: ', (menor_3/len(jogos_sample))*100)\n",
    "    print('Percentual jogos impar 7: ', (impar_7/len(jogos_sample))*100)\n",
    "    print('Percentual jogos impar 8: ', (impar_8/len(jogos_sample))*100)\n",
    "    print('Percentual jogos impar 9: ', (impar_9/len(jogos_sample))*100)\n",
    "    print('Sequencia 0: ', (seq_0/len(jogos_sample))*100)\n",
    "    print('Sequencia 5: ', (seq_5/len(jogos_sample))*100)\n",
    "    print('Sequencia 6: ', (seq_6/len(jogos_sample))*100)\n",
    "    print('Sequencia 7: ', (seq_7/len(jogos_sample))*100)\n",
    "\n",
    "    return jogos_sample"
   ]
  },
  {
   "cell_type": "code",
   "execution_count": 19,
   "metadata": {},
   "outputs": [],
   "source": [
    "def conexao_mysql():\n",
    "    return mysql.connector.connect(user='root', database='lotofacil', host='192.168.56.100', password='Zaq1@wsX')"
   ]
  },
  {
   "cell_type": "code",
   "execution_count": 20,
   "metadata": {},
   "outputs": [],
   "source": [
    "def get_numeros_jogo(jogo_id):\n",
    "    numeros = []\n",
    "    \n",
    "    try:\n",
    "        cnx = conexao_mysql()\n",
    "        cursor = cnx.cursor()\n",
    "\n",
    "        query = (\"SELECT numero FROM numero_jogo \"\n",
    "                 \"WHERE jogo_id = %(jogo_id)s \"\n",
    "                 \"ORDER BY numero\")\n",
    "        \n",
    "        param_query = {\n",
    "            'jogo_id' : jogo_id,\n",
    "        }\n",
    " \n",
    "        cursor.execute(query, param_query)\n",
    "\n",
    "        rows = cursor.fetchall()\n",
    "        \n",
    "        for row in rows:\n",
    "            numeros.append(row[0])\n",
    "\n",
    "    except Exception as ex:\n",
    "        print(ex)\n",
    " \n",
    "    except ConnectionError as e:\n",
    "        print(e)\n",
    " \n",
    "    finally:\n",
    "        cursor.close()\n",
    "        cnx.close()\n",
    "\n",
    "    return tuple(numeros)"
   ]
  },
  {
   "cell_type": "code",
   "execution_count": 21,
   "metadata": {},
   "outputs": [],
   "source": [
    "# def get_numeros_jogo(jogo_id, numeros =()):\n",
    "#     numeros = []\n",
    "    \n",
    "#     try:\n",
    "#         cnx = conexao_mysql()\n",
    "#         cursor = cnx.cursor()\n",
    "\n",
    "#         query = (\"SELECT numero FROM numero_jogo \"\n",
    "#                  \"WHERE jogo_id = %(jogo_id)s \"\n",
    "#                  \"AND numero in %(numeros)s \"\n",
    "#                  \"ORDER BY numero\")\n",
    "        \n",
    "#         param_query = {\n",
    "#             'jogo_id' : jogo_id,\n",
    "#         }\n",
    " \n",
    "#         cursor.execute(query, param_query)\n",
    "\n",
    "#         rows = cursor.fetchall()\n",
    "        \n",
    "#         for row in rows:\n",
    "#             numeros.append(row[0])\n",
    "\n",
    "#     except Exception as ex:\n",
    "#         print(ex)\n",
    " \n",
    "#     except ConnectionError as e:\n",
    "#         print(e)\n",
    " \n",
    "#     finally:\n",
    "#         cursor.close()\n",
    "#         cnx.close()\n",
    "\n",
    "#     return tuple(numeros)"
   ]
  },
  {
   "cell_type": "code",
   "execution_count": 22,
   "metadata": {},
   "outputs": [],
   "source": [
    "def get_all_jogos():\n",
    "    jogos = []\n",
    "    cursor = None\n",
    "    cnx = None\n",
    "    \n",
    "    try:\n",
    "        cnx = conexao_mysql()\n",
    "        cursor = cnx.cursor()\n",
    "\n",
    "        query = (\"SELECT jogo_id, data_cadastro \"\n",
    "                 \"FROM jogo \"\n",
    "#                  \"WHERE jogo_id < 10001 \"\n",
    "                 \"ORDER BY jogo_id\")\n",
    "        \n",
    "        cursor.execute(query)\n",
    "        \n",
    "        rows = cursor.fetchall()\n",
    "        \n",
    "        for row in rows:\n",
    "            jogo = Jogo()\n",
    "            jogo.id = row[0]\n",
    "            jogo.data_cadastro = row[1]\n",
    "            jogo.numeros = get_numeros_jogo(row[0])\n",
    "            jogo.setParImpar()\n",
    "            jogo.setQuantidade()\n",
    "            jogos.append(jogo)\n",
    "    #         print(jogo_id, data_cadastro)\n",
    "\n",
    "    except Exception as ex:\n",
    "        print(ex)\n",
    "        \n",
    "    except ConnectionError as e:\n",
    "        print(e)\n",
    "        \n",
    "    finally:\n",
    "        cursor.close()\n",
    "        cnx.close()\n",
    "    \n",
    "    return jogos"
   ]
  },
  {
   "cell_type": "code",
   "execution_count": 23,
   "metadata": {},
   "outputs": [],
   "source": [
    "# def get_jogos(numeros = ()):\n",
    "#     jogos = []\n",
    "#     cursor = None\n",
    "#     cnx = None\n",
    "    \n",
    "#     try:\n",
    "#         cnx = conexao_mysql()\n",
    "#         cursor = cnx.cursor()\n",
    "\n",
    "#         query = (\"SELECT jogo_id, data_cadastro \"\n",
    "#                  \"FROM jogo \"\n",
    "# #                  \"WHERE jogo_id < 10001 \"\n",
    "#                  \"ORDER BY jogo_id\")\n",
    "        \n",
    "#         cursor.execute(query)\n",
    "        \n",
    "#         rows = cursor.fetchall()\n",
    "        \n",
    "#         for row in rows:\n",
    "#             jogo = Jogo()\n",
    "#             jogo.id = row[0]\n",
    "#             jogo.data_cadastro = row[1]\n",
    "#             jogo.numeros = get_numeros_jogo(row[0])\n",
    "#             jogo.setParImpar()\n",
    "#             jogo.setQuantidade()\n",
    "#             jogos.append(jogo)\n",
    "#     #         print(jogo_id, data_cadastro)\n",
    "\n",
    "#     except Exception as ex:\n",
    "#         print(ex)\n",
    "        \n",
    "#     except ConnectionError as e:\n",
    "#         print(e)\n",
    "        \n",
    "#     finally:\n",
    "#         cursor.close()\n",
    "#         cnx.close()\n",
    "    \n",
    "#     return jogos"
   ]
  },
  {
   "cell_type": "code",
   "execution_count": 24,
   "metadata": {},
   "outputs": [],
   "source": [
    "def insert_jogo(jogo):\n",
    "    try:\n",
    "        cnx = conexao_mysql()\n",
    "        cursor = cnx.cursor()\n",
    "       \n",
    "        add_jogo = (\"INSERT INTO jogo \"\n",
    "                     \"(data_cadastro) \"\n",
    "                     \"VALUES (%(data_cadastro)s)\")\n",
    "        add_numero_jogo = (\"INSERT INTO numero_jogo \"\n",
    "                            \"(jogo_id, numero) \"\n",
    "                            \"VALUES (%(jogo_id)s, %(numero)s)\")\n",
    "\n",
    "        data_jogo = {\n",
    "            'data_cadastro' : datetime.now().date(),\n",
    "        }\n",
    "\n",
    "        cursor.execute(add_jogo, data_jogo)\n",
    "        jogo_id = cursor.lastrowid\n",
    "        \n",
    "#         numeros = [(jogo_id, numero) for numero in j.numeros]\n",
    "\n",
    "        for numero in jogo.numeros:\n",
    "            data_numero_jogo = {\n",
    "              'jogo_id': jogo_id,\n",
    "              'numero': int(numero),\n",
    "            }\n",
    "            \n",
    "            cursor.execute(add_numero_jogo, data_numero_jogo)\n",
    "\n",
    "#         data_numero_jogo = {\n",
    "#           'jogo_id': jogo_id,\n",
    "#           'numero': jogo.numeros,\n",
    "#         }\n",
    "\n",
    "#         cursor.execute(add_numero_jogo, data_numero_jogo)\n",
    "        \n",
    "        cnx.commit()\n",
    "        \n",
    "    except Exception as ex:\n",
    "        cnx.rollback()\n",
    "        return ex\n",
    "        \n",
    "    finally:\n",
    "        cursor.close()\n",
    "        cnx.close()"
   ]
  },
  {
   "cell_type": "code",
   "execution_count": 25,
   "metadata": {},
   "outputs": [],
   "source": [
    "def salvar_jogos(jogos):\n",
    "    total_salvos = 0\n",
    "    \n",
    "    try:\n",
    "        jogos_db = get_all_jogos()\n",
    "        \n",
    "        for jogo in jogos:\n",
    "            add = True\n",
    "            \n",
    "            for jogo_db in jogos_db:\n",
    "                if (len(jogo.numeros) == len(jogo_db.numeros)):\n",
    "                    if (len(set(jogo.numeros).intersection(jogo_db.numeros)) == len(jogo.numeros)):\n",
    "                        add = False\n",
    "                        break\n",
    "\n",
    "            if (add):\n",
    "                insert_jogo(jogo)\n",
    "                total_salvos += 1\n",
    "                \n",
    "    except Exception as ex:\n",
    "        print(ex)\n",
    "        \n",
    "    finally:\n",
    "        print(\"%s jogos gravados.\" % (total_salvos))\n",
    "        print(\"%s jogos repetidos.\" % (len(jogos) - total_salvos))"
   ]
  },
  {
   "cell_type": "code",
   "execution_count": 26,
   "metadata": {},
   "outputs": [],
   "source": [
    "def frequencia_concursos(concursos):\n",
    "    frequencia = dict.fromkeys(range(1, 26), 0)\n",
    "\n",
    "    for c in concursos:\n",
    "        for n in c.numeros:\n",
    "            frequencia[n] += 1\n",
    "\n",
    "    return frequencia"
   ]
  },
  {
   "cell_type": "code",
   "execution_count": 27,
   "metadata": {},
   "outputs": [],
   "source": [
    "def atraso_concursos(concursos):\n",
    "    atraso = dict.fromkeys(range(1, 26), 0)\n",
    "\n",
    "    for c in concursos:\n",
    "        for n in atraso.keys():\n",
    "            if (n in c.numeros):\n",
    "                atraso[n] = 0\n",
    "            else:\n",
    "                atraso[n] += 1\n",
    "\n",
    "    return atraso"
   ]
  },
  {
   "cell_type": "code",
   "execution_count": 28,
   "metadata": {},
   "outputs": [],
   "source": [
    "# variaveis globais\n",
    "# min_numeros_aposta = 15\n",
    "# max_numeros_aposta = 18"
   ]
  },
  {
   "cell_type": "code",
   "execution_count": 29,
   "metadata": {},
   "outputs": [],
   "source": [
    "# while True:\n",
    "#     try:\n",
    "#         numerosAposta = int(input('Quantidade de números por aposta: '))\n",
    "#         if numerosAposta < 15 or numerosAposta > 18:\n",
    "#             raise ValueError('Digite um valor entre 15 e 18!')\n",
    "#     except ValueError as e:\n",
    "#         print(e)\n",
    "#         continue\n",
    "#     except:\n",
    "#         print('Erro desconhecido!')\n",
    "#         continue\n",
    "#     else:\n",
    "#         break"
   ]
  },
  {
   "cell_type": "markdown",
   "metadata": {},
   "source": [
    "# Concursos"
   ]
  },
  {
   "cell_type": "code",
   "execution_count": 30,
   "metadata": {},
   "outputs": [],
   "source": [
    "concursos = get_concursos_lotofacil_csv('lotofacil_data/lotofacil.csv')"
   ]
  },
  {
   "cell_type": "code",
   "execution_count": null,
   "metadata": {
    "collapsed": true
   },
   "outputs": [],
   "source": [
    "# imprimir_concursos(concursos)"
   ]
  },
  {
   "cell_type": "code",
   "execution_count": null,
   "metadata": {
    "collapsed": true,
    "scrolled": true
   },
   "outputs": [],
   "source": [
    "concursos_50_ultimos = concursos[len(concursos) - 50:]"
   ]
  },
  {
   "cell_type": "code",
   "execution_count": null,
   "metadata": {
    "collapsed": true,
    "scrolled": true
   },
   "outputs": [],
   "source": [
    "imprimir_concursos(concursos_50_ultimos[::-1])"
   ]
  },
  {
   "cell_type": "code",
   "execution_count": null,
   "metadata": {
    "collapsed": true
   },
   "outputs": [],
   "source": [
    "# concursos_v2 = filtrar_concurso_por_numeros(concursos, [20,21,22,23,24,25])\n",
    "# imprimir_concursos(concursos_v2)"
   ]
  },
  {
   "cell_type": "code",
   "execution_count": null,
   "metadata": {
    "collapsed": true
   },
   "outputs": [],
   "source": [
    "frequencia_50_ultimos = frequencia_concursos(concursos_50_ultimos)\n",
    "print(frequencia_50_ultimos)"
   ]
  },
  {
   "cell_type": "code",
   "execution_count": null,
   "metadata": {
    "collapsed": true
   },
   "outputs": [],
   "source": [
    "plt.figure(figsize=(20, 3))\n",
    "plt.bar(frequencia_50_ultimos.keys(), frequencia_50_ultimos.values())\n",
    "# plt.grid(True)\n",
    "plt.xticks(range(1, len(frequencia_50_ultimos) + 1), frequencia_50_ultimos.keys())\n",
    "plt.show()"
   ]
  },
  {
   "cell_type": "code",
   "execution_count": null,
   "metadata": {
    "collapsed": true
   },
   "outputs": [],
   "source": [
    "concursos_10_ultimos = concursos[len(concursos) - 10:]\n",
    "# imprimir_concursos(concursos_10_ultimos)"
   ]
  },
  {
   "cell_type": "code",
   "execution_count": null,
   "metadata": {
    "collapsed": true
   },
   "outputs": [],
   "source": [
    "frequencia_10_ultimos = frequencia_concursos(concursos_10_ultimos)\n",
    "print(frequencia_10_ultimos)"
   ]
  },
  {
   "cell_type": "code",
   "execution_count": null,
   "metadata": {
    "collapsed": true
   },
   "outputs": [],
   "source": [
    "plt.figure(figsize=(20, 3))\n",
    "plt.bar(frequencia_10_ultimos.keys(), frequencia_10_ultimos.values())\n",
    "# plt.grid(True)\n",
    "plt.xticks(range(1, len(frequencia_10_ultimos) + 1), frequencia_10_ultimos.keys())\n",
    "plt.show()"
   ]
  },
  {
   "cell_type": "code",
   "execution_count": null,
   "metadata": {
    "collapsed": true
   },
   "outputs": [],
   "source": [
    "atraso = atraso_concursos(concursos_50_ultimos)\n",
    "print(atraso)"
   ]
  },
  {
   "cell_type": "code",
   "execution_count": null,
   "metadata": {
    "collapsed": true
   },
   "outputs": [],
   "source": [
    "plt.figure(figsize=(20, 3))\n",
    "plt.bar(atraso.keys(), atraso.values())\n",
    "# plt.grid(True)\n",
    "plt.xticks(range(1, len(atraso) + 1), atraso.keys())\n",
    "plt.show()"
   ]
  },
  {
   "cell_type": "code",
   "execution_count": null,
   "metadata": {
    "collapsed": true
   },
   "outputs": [],
   "source": [
    "def frequencia_impar_par(concursos):\n",
    "    impar_par = []\n",
    "\n",
    "    for c in concursos:\n",
    "        if ([c.impar, c.par] not in impar_par):\n",
    "            impar_par.append([c.impar, c.par])\n",
    "\n",
    "    impar_par = sorted(impar_par)\n",
    "\n",
    "    frequencia = [0] * len(impar_par)\n",
    "\n",
    "    for c in concursos:\n",
    "        for i in range(len(impar_par)):\n",
    "            if (c.impar == impar_par[i][0] and c.par == impar_par[i][1]):\n",
    "                frequencia[i] += 1\n",
    "    \n",
    "    impar_par_lst = []\n",
    "\n",
    "    for i in impar_par:\n",
    "        impar_par_lst.append(' - '.join([str(x) for x in i]))\n",
    "\n",
    "    d = {k:v for k, v in zip(impar_par_lst, frequencia)}\n",
    "    \n",
    "    return d"
   ]
  },
  {
   "cell_type": "code",
   "execution_count": null,
   "metadata": {
    "collapsed": true
   },
   "outputs": [],
   "source": [
    "freq_impar_par = frequencia_impar_par(concursos_50_ultimos)\n",
    "print(freq_impar_par)"
   ]
  },
  {
   "cell_type": "code",
   "execution_count": null,
   "metadata": {
    "collapsed": true
   },
   "outputs": [],
   "source": [
    "plt.figure(figsize=(20, 3))\n",
    "plt.bar(freq_impar_par.keys(), freq_impar_par.values(), facecolor='#AA0000')\n",
    "# plt.grid(True)\n",
    "# plt.xticks(range(1, len(d) + 1), d.keys())\n",
    "plt.show()"
   ]
  },
  {
   "cell_type": "code",
   "execution_count": null,
   "metadata": {
    "collapsed": true
   },
   "outputs": [],
   "source": [
    "menor_sorteado = dict.fromkeys(np.arange(1,12), 0)\n",
    "\n",
    "for c in concursos:\n",
    "#     if (min(c.numeros) not in menor_sorteado):\n",
    "#         menor_sorteado.append(min(c.numeros))\n",
    "    menor_sorteado[min(c.numeros)] += 1\n",
    "        \n",
    "menor_sorteado"
   ]
  },
  {
   "cell_type": "code",
   "execution_count": null,
   "metadata": {
    "collapsed": true
   },
   "outputs": [],
   "source": [
    "maior_sorteado = dict.fromkeys(np.arange(15,26), 0)\n",
    "\n",
    "for c in concursos:\n",
    "#     if (min(c.numeros) not in menor_sorteado):\n",
    "#         menor_sorteado.append(min(c.numeros))\n",
    "    maior_sorteado[max(c.numeros)] += 1\n",
    "        \n",
    "maior_sorteado"
   ]
  },
  {
   "cell_type": "code",
   "execution_count": null,
   "metadata": {
    "collapsed": true
   },
   "outputs": [],
   "source": [
    "def frequencia_menor_maior(concursos):\n",
    "    menor_maior_sorteado_lst = []\n",
    "    # dict.fromkeys(np.arange(15,26), 0)\n",
    "\n",
    "    for c in concursos:\n",
    "        if ([min(c.numeros), max(c.numeros)] not in menor_maior_sorteado_lst):\n",
    "            menor_maior_sorteado_lst.append([min(c.numeros), max(c.numeros)])\n",
    "\n",
    "    menor_maior_sorteado_lst = sorted(menor_maior_sorteado_lst)\n",
    "    \n",
    "    menor_maior_sorteado = [0] * len(menor_maior_sorteado_lst)\n",
    "\n",
    "    for c in concursos:\n",
    "        idx = menor_maior_sorteado_lst.index([min(c.numeros), max(c.numeros)])\n",
    "        menor_maior_sorteado[idx] += 1\n",
    "\n",
    "    menor_maior_sorteado_p = [0] * len(menor_maior_sorteado_lst)\n",
    "\n",
    "    for i in np.arange(0, len(menor_maior_sorteado)):\n",
    "        menor_maior_sorteado_p[i] = round((menor_maior_sorteado[i] * 100) / len(concursos),2)\n",
    "\n",
    "    for (a, b, c) in zip(menor_maior_sorteado_lst, menor_maior_sorteado, menor_maior_sorteado_p):\n",
    "        print(a, b, c)"
   ]
  },
  {
   "cell_type": "code",
   "execution_count": null,
   "metadata": {
    "collapsed": true
   },
   "outputs": [],
   "source": [
    "frequencia_menor_maior(concursos_10_ultimos)"
   ]
  },
  {
   "cell_type": "code",
   "execution_count": null,
   "metadata": {
    "collapsed": true
   },
   "outputs": [],
   "source": [
    "# f, ax = plt.subplots()\n",
    "\n",
    "# index = np.arange(n_groups)\n",
    "# bar_width = 0.35\n",
    "\n",
    "ax = plt.bar(d.keys(), d.values(), color='coral', alpha= 0.8)\n",
    "\n",
    "plt.xlabel('Impares - Pares')\n",
    "plt.ylabel('Frequencia')\n",
    "plt.title('Frequencia Impares - Pares', fontsize = 16)\n",
    "# plt.xticks(len(d.keys()) + bar_width, d.keys())\n",
    "# plt.legend()\n",
    "\n",
    "for i in ax.patches:\n",
    "    ax.text(i.get_x() - .03, i.get_height() + 0.5,\n",
    "            str(round(100 * i.get_height() / sum(d.values()), 2)) + '%')\n",
    "\n",
    "# plt.tight_layout()\n",
    "plt.show()"
   ]
  },
  {
   "cell_type": "code",
   "execution_count": null,
   "metadata": {
    "collapsed": true
   },
   "outputs": [],
   "source": [
    "padrao_seq = []\n",
    "\n",
    "for c in concursos_50_ultimos:\n",
    "    if (c.sequencia not in padrao_seq):\n",
    "        padrao_seq.append(c.sequencia)"
   ]
  },
  {
   "cell_type": "code",
   "execution_count": null,
   "metadata": {
    "collapsed": true
   },
   "outputs": [],
   "source": [
    "padrao_seq"
   ]
  },
  {
   "cell_type": "code",
   "execution_count": null,
   "metadata": {
    "collapsed": true
   },
   "outputs": [],
   "source": [
    "def frequencia_max_sequencia(concursos):\n",
    "    dic = dict.fromkeys(np.arange(2,16), 0)\n",
    "\n",
    "    for c in concursos:\n",
    "        dic[max(c.sequencia)] += 1\n",
    "\n",
    "    return dic"
   ]
  },
  {
   "cell_type": "code",
   "execution_count": null,
   "metadata": {
    "collapsed": true
   },
   "outputs": [],
   "source": [
    "dic_seq = frequencia_max_sequencia(concursos_50_ultimos)\n",
    "dic_seq"
   ]
  },
  {
   "cell_type": "code",
   "execution_count": null,
   "metadata": {
    "collapsed": true
   },
   "outputs": [],
   "source": [
    " = []\n",
    "\n",
    "for c in concursos:\n",
    "    if(c.horizontal not in padrao_horizontal):\n",
    "        padrao_horizontal.append(c.horizontal)\n",
    "        \n",
    "padrao_horizontal"
   ]
  },
  {
   "cell_type": "code",
   "execution_count": null,
   "metadata": {
    "collapsed": true
   },
   "outputs": [],
   "source": [
    "padrao_horizontal = []\n",
    "\n",
    "for c in concursos_50_ultimos:\n",
    "    if(c.horizontal not in padrao_horizontal):\n",
    "        padrao_horizontal.append(c.horizontal)\n",
    "        \n",
    "sorted(padrao_horizontal)"
   ]
  },
  {
   "cell_type": "markdown",
   "metadata": {},
   "source": [
    "# Gerar jogos"
   ]
  },
  {
   "cell_type": "code",
   "execution_count": null,
   "metadata": {
    "collapsed": true
   },
   "outputs": [],
   "source": [
    "# jogos_nao_salvos = gerar_jogos(100000, menor_numero=(1,2,3,4), maior_numero=(23,24,25))\n",
    "# len(jogos_nao_salvos)"
   ]
  },
  {
   "cell_type": "code",
   "execution_count": null,
   "metadata": {
    "collapsed": true
   },
   "outputs": [],
   "source": [
    "# a = 0\n",
    "\n",
    "# while a < 20:\n",
    "#     jogos_nao_salvos = gerar_jogos(10000, menor_numero=(1,2,3,4), maior_numero=(23,24,25))\n",
    "#     salvar_jogos(jogos_nao_salvos)\n",
    "#     a += 1\n"
   ]
  },
  {
   "cell_type": "code",
   "execution_count": null,
   "metadata": {
    "collapsed": true
   },
   "outputs": [],
   "source": [
    "# imprimir_jogo(jogos_nao_salvos)"
   ]
  },
  {
   "cell_type": "code",
   "execution_count": null,
   "metadata": {
    "collapsed": true
   },
   "outputs": [],
   "source": [
    "# start = time.time()\n",
    "# salvar_jogos(jogos_nao_salvos)\n",
    "# end = time.time()\n",
    "# print((end - start)/60)"
   ]
  },
  {
   "cell_type": "code",
   "execution_count": null,
   "metadata": {
    "collapsed": true
   },
   "outputs": [],
   "source": [
    "# insert_jogo(jogos_nao_salvos[0])"
   ]
  },
  {
   "cell_type": "markdown",
   "metadata": {},
   "source": [
    "# Jogos"
   ]
  },
  {
   "cell_type": "code",
   "execution_count": null,
   "metadata": {
    "collapsed": true
   },
   "outputs": [],
   "source": [
    "# start = time.time()\n",
    "# jogos_salvos = get_all_jogos()\n",
    "# end = time.time()\n",
    "\n",
    "# print((end - start)/60)\n",
    "# print(len(jogos_salvos))"
   ]
  },
  {
   "cell_type": "code",
   "execution_count": null,
   "metadata": {
    "collapsed": true
   },
   "outputs": [],
   "source": [
    "jogos_filtrados = jogos"
   ]
  },
  {
   "cell_type": "code",
   "execution_count": null,
   "metadata": {
    "collapsed": true
   },
   "outputs": [],
   "source": [
    "# for s in seq_inicial_unica:\n",
    "#     jogos_filtrados = filtrar_jogo_sequencia(jogos_filtrados, s)\n",
    "\n",
    "# len(jogos_filtrados)"
   ]
  },
  {
   "cell_type": "code",
   "execution_count": null,
   "metadata": {
    "collapsed": true
   },
   "outputs": [],
   "source": [
    "# for s in seq_final_unica:\n",
    "#     jogos_filtrados = filtrar_jogo_sequencia(jogos_filtrados, s)\n",
    "\n",
    "# len(jogos_filtrados)"
   ]
  },
  {
   "cell_type": "code",
   "execution_count": null,
   "metadata": {
    "collapsed": true
   },
   "outputs": [],
   "source": [
    "jogos_filtrados = filtrar_jogo_menor_maior(jogos_filtrados, (0,1), (25,26))\n",
    "len(jogos_filtrados)"
   ]
  },
  {
   "cell_type": "code",
   "execution_count": null,
   "metadata": {
    "collapsed": true
   },
   "outputs": [],
   "source": [
    "jogos_filtrados = filtrar_jogo_impar_par(jogos_filtrados, [7,8,9])\n",
    "len(jogos_filtrados)"
   ]
  },
  {
   "cell_type": "code",
   "execution_count": null,
   "metadata": {
    "collapsed": true
   },
   "outputs": [],
   "source": [
    "jogos_filtrados = filtrar_jogo_por_numeros(jogos_filtrados, [14,16,22], 2)\n",
    "len(jogos_filtrados)"
   ]
  },
  {
   "cell_type": "code",
   "execution_count": null,
   "metadata": {
    "collapsed": true
   },
   "outputs": [],
   "source": [
    "# jogos_filtrados = filtrar_jogo_notin(jogos_filtrados, [])"
   ]
  },
  {
   "cell_type": "code",
   "execution_count": null,
   "metadata": {
    "collapsed": true
   },
   "outputs": [],
   "source": [
    "# for c in jogos_filtrados:\n",
    "#     sequencia = []\n",
    "#     count = 0\n",
    "    \n",
    "#     for i in np.arange(1, len(c.numeros[1:])):\n",
    "#         if c.numeros[i] == c.numeros[i - 1] + 1:\n",
    "#             count += 1\n",
    "#         else:\n",
    "#             if count > 0:\n",
    "#                 count += 1\n",
    "#                 sequencia.append(count)\n",
    "#                 count = 0\n",
    "            \n",
    "#     c.sequencia = sorted(tuple(sequencia)) "
   ]
  },
  {
   "cell_type": "code",
   "execution_count": null,
   "metadata": {
    "collapsed": true
   },
   "outputs": [],
   "source": [
    "jogos_t2 = []\n",
    "\n",
    "for c in jogos_filtrados:\n",
    "    if max(c.sequencia) <= 7 or c.sequencia == None:\n",
    "        jogos_t2.append(c)"
   ]
  },
  {
   "cell_type": "code",
   "execution_count": null,
   "metadata": {
    "collapsed": true
   },
   "outputs": [],
   "source": [
    "jogos_filtrados = jogos_t2\n",
    "len(jogos_filtrados)"
   ]
  },
  {
   "cell_type": "code",
   "execution_count": null,
   "metadata": {
    "collapsed": true
   },
   "outputs": [],
   "source": [
    "jogos_t3 = []\n",
    "dezenas = np.arange(10,20)\n",
    "\n",
    "for c in jogos_filtrados:\n",
    "    if (len(set(c.numeros).intersection(dezenas)) >= 5 and len(set(c.numeros).intersection(dezenas)) <= 7):\n",
    "        jogos_t3.append(c)"
   ]
  },
  {
   "cell_type": "code",
   "execution_count": null,
   "metadata": {
    "collapsed": true
   },
   "outputs": [],
   "source": [
    "jogos_filtrados = jogos_t3\n",
    "len(jogos_filtrados)"
   ]
  },
  {
   "cell_type": "code",
   "execution_count": null,
   "metadata": {
    "collapsed": true
   },
   "outputs": [],
   "source": [
    "jogos_t4 = []\n",
    "\n",
    "for c in jogos_filtrados:\n",
    "    if (len(c.sequencia) >= 3 and len(c.sequencia) <= 5):\n",
    "        jogos_t4.append(c)\n",
    "        \n",
    "len(jogos_t4)"
   ]
  },
  {
   "cell_type": "code",
   "execution_count": null,
   "metadata": {
    "collapsed": true
   },
   "outputs": [],
   "source": [
    "jogos_filtrados = jogos_t4\n",
    "len(jogos_filtrados)"
   ]
  },
  {
   "cell_type": "code",
   "execution_count": null,
   "metadata": {
    "collapsed": true
   },
   "outputs": [],
   "source": [
    "# jogos_t6 = filtrar_jogo_por_numeros(jogos_t5, numeros=[19,20,21,22,23,24,25], match=7)\n",
    "# len(jogos_t6)"
   ]
  },
  {
   "cell_type": "code",
   "execution_count": null,
   "metadata": {
    "collapsed": true
   },
   "outputs": [],
   "source": [
    "imprimir_jogo(jogos_filtrados[:100])"
   ]
  },
  {
   "cell_type": "code",
   "execution_count": null,
   "metadata": {
    "collapsed": true
   },
   "outputs": [],
   "source": [
    "apostas_selecionadas = selecionar_jogos_aposta(jogos_filtrados, 130)"
   ]
  },
  {
   "cell_type": "code",
   "execution_count": null,
   "metadata": {
    "collapsed": true
   },
   "outputs": [],
   "source": [
    "imprimir_jogo(apostas_selecionadas)"
   ]
  },
  {
   "cell_type": "code",
   "execution_count": null,
   "metadata": {
    "collapsed": true
   },
   "outputs": [],
   "source": [
    "seq_inicial = []\n",
    "seq_final = []\n",
    "\n",
    "for c in concursos_50_ultimos:\n",
    "#     if (c.numeros[0] == 1):\n",
    "    a = []\n",
    "\n",
    "    for n in c.numeros:\n",
    "        if n <= 5:\n",
    "            a.append(n)\n",
    "\n",
    "    seq_inicial.append(a)\n",
    "        \n",
    "#     if (c.numeros[-1] in (24,25)):\n",
    "    b = []\n",
    "\n",
    "    for o in c.numeros[10:15]:\n",
    "        if o >= 20:\n",
    "            b.append(o)\n",
    "\n",
    "    seq_final.append(b)\n",
    "        \n",
    "seq_inicial_unica = []\n",
    "seq_final_unica = []\n",
    "\n",
    "i = 0\n",
    "\n",
    "while i < len(seq_inicial):\n",
    "    if (len(seq_inicial[i]) > 1):\n",
    "        if (seq_inicial[i] not in seq_inicial_unica):\n",
    "            seq_inicial_unica.append(seq_inicial[i])\n",
    "        \n",
    "    i += 1\n",
    "\n",
    "    \n",
    "j = 0\n",
    "\n",
    "while j < len(seq_final):\n",
    "    if (len(seq_final[j]) > 1):\n",
    "        if (seq_final[j] not in seq_final_unica):\n",
    "            seq_final_unica.append(seq_final[j])\n",
    "        \n",
    "    j += 1"
   ]
  },
  {
   "cell_type": "code",
   "execution_count": null,
   "metadata": {
    "collapsed": true
   },
   "outputs": [],
   "source": [
    "print(sorted(seq_inicial_unica))\n",
    "print(sorted(seq_final_unica))"
   ]
  },
  {
   "cell_type": "code",
   "execution_count": null,
   "metadata": {
    "collapsed": true
   },
   "outputs": [],
   "source": [
    "tst = []\n",
    "\n",
    "for x in sorted(seq_inicial_unica):\n",
    "    txt = ', '.join([str(y) for y in x])\n",
    "    tst.append(txt)\n",
    "\n",
    "print(tst)"
   ]
  },
  {
   "cell_type": "code",
   "execution_count": null,
   "metadata": {
    "collapsed": true
   },
   "outputs": [],
   "source": [
    "d1 = dict([(k, 0) for k in tst])\n",
    "print(d1)"
   ]
  },
  {
   "cell_type": "code",
   "execution_count": null,
   "metadata": {
    "collapsed": true
   },
   "outputs": [],
   "source": [
    "i = 0\n",
    "\n",
    "while i < len(apostas):\n",
    "    j = 0\n",
    "    while j < len(apostas):\n",
    "        if i != j:\n",
    "            if len(set(apostas[i].numeros).intersection(apostas[j].numeros)) == 15:\n",
    "                del apostas[j]\n",
    "        j += 1\n",
    "#     print(len(set(a).intersection(apostas[i])))\n",
    "    i += 1"
   ]
  },
  {
   "cell_type": "code",
   "execution_count": null,
   "metadata": {
    "collapsed": true
   },
   "outputs": [],
   "source": [
    "# !pip install urllib urllib2"
   ]
  },
  {
   "cell_type": "code",
   "execution_count": null,
   "metadata": {
    "collapsed": true
   },
   "outputs": [],
   "source": [
    "# import urllib"
   ]
  },
  {
   "cell_type": "code",
   "execution_count": null,
   "metadata": {
    "collapsed": true
   },
   "outputs": [],
   "source": [
    "# page = urllib.request.urlopen(\"file:///Users/raphael/Documents/GitHub/python_scripts/D_LOTFAC.HTM\", 'r')"
   ]
  },
  {
   "cell_type": "code",
   "execution_count": null,
   "metadata": {
    "collapsed": true
   },
   "outputs": [],
   "source": [
    "# from bs4 import BeautifulSoup"
   ]
  },
  {
   "cell_type": "code",
   "execution_count": null,
   "metadata": {
    "collapsed": true
   },
   "outputs": [],
   "source": [
    "# soup = BeautifulSoup(page.read(), 'html.parser')"
   ]
  },
  {
   "cell_type": "code",
   "execution_count": null,
   "metadata": {
    "collapsed": true
   },
   "outputs": [],
   "source": [
    "# soup = BeautifulSoup(page.read(), 'lxml')"
   ]
  },
  {
   "cell_type": "code",
   "execution_count": null,
   "metadata": {
    "collapsed": true
   },
   "outputs": [],
   "source": [
    "# table = soup.find_all('table')[0]"
   ]
  },
  {
   "cell_type": "code",
   "execution_count": null,
   "metadata": {
    "collapsed": true
   },
   "outputs": [],
   "source": [
    "# for row in table.find_all('tr'):\n",
    "#     columns = row.find_all(['td', 'th'])\n",
    "#     for col in columns:\n",
    "#         print(col.text())"
   ]
  },
  {
   "cell_type": "code",
   "execution_count": null,
   "metadata": {
    "collapsed": true
   },
   "outputs": [],
   "source": [
    "# i = 1\n",
    "# for row in soup.findAll('table')[0].findAll('tr'):\n",
    "#     concurso = row.findAll('td')\n",
    "#     print(concurso)\n",
    "    \n",
    "#     i += 1"
   ]
  },
  {
   "cell_type": "code",
   "execution_count": null,
   "metadata": {
    "collapsed": true
   },
   "outputs": [],
   "source": [
    "par_impar_lst = []\n",
    "\n",
    "for x in concursos:\n",
    "    par_impar_lst.append([x.impar, x.par])\n",
    "  \n",
    "df_v2 = pd.DataFrame(par_impar_lst, columns=['impar', 'par'])\n",
    "df_v2.set_index(['impar'])\n",
    "# par_impar_dic = dict(par_impar_lst)\n",
    "# print(par_impar_dic)"
   ]
  },
  {
   "cell_type": "code",
   "execution_count": null,
   "metadata": {
    "collapsed": true
   },
   "outputs": [],
   "source": [
    "df_v2_group = df_v2.groupby(['impar', 'par'])['impar'].count()"
   ]
  },
  {
   "cell_type": "code",
   "execution_count": null,
   "metadata": {
    "collapsed": true
   },
   "outputs": [],
   "source": [
    "df_v2_group"
   ]
  },
  {
   "cell_type": "code",
   "execution_count": null,
   "metadata": {
    "collapsed": true
   },
   "outputs": [],
   "source": [
    "df_v3 = pd.DataFrame(df_v2_group)"
   ]
  },
  {
   "cell_type": "code",
   "execution_count": null,
   "metadata": {
    "collapsed": true
   },
   "outputs": [],
   "source": [
    "df_v3['perc'] = [(x*100)/df_v2_group.values.sum() for x in df_v2_group.values]"
   ]
  },
  {
   "cell_type": "code",
   "execution_count": null,
   "metadata": {
    "collapsed": true
   },
   "outputs": [],
   "source": [
    "df_v3"
   ]
  },
  {
   "cell_type": "code",
   "execution_count": null,
   "metadata": {
    "collapsed": true
   },
   "outputs": [],
   "source": [
    "menor = []\n",
    "maior = []\n",
    "menor_maior_list = []\n",
    "menor_maior_dict = {}\n",
    "menor_maior_strg = []"
   ]
  },
  {
   "cell_type": "code",
   "execution_count": null,
   "metadata": {
    "collapsed": true
   },
   "outputs": [],
   "source": [
    "for x in concursos_10_ultimos:\n",
    "    menor.append(x.numeros[0])\n",
    "    maior.append(x.numeros[-1])\n",
    "    menor_maior_list.append([x.numeros[0], x.numeros[-1]])\n",
    "    menor_maior_strg.append(str(x.numeros[0]) + ' - ' + str(x.numeros[-1]))\n",
    "#     menor_maior.update({str(x.numeros[0]) + ' - ' + str(x.numeros[-1]): 1})"
   ]
  },
  {
   "cell_type": "code",
   "execution_count": null,
   "metadata": {
    "collapsed": true
   },
   "outputs": [],
   "source": [
    "import matplotlib.pyplot as plt"
   ]
  },
  {
   "cell_type": "code",
   "execution_count": null,
   "metadata": {
    "collapsed": true
   },
   "outputs": [],
   "source": [
    "menor_freq = np.histogram(menor, bins=np.arange(1,11))"
   ]
  },
  {
   "cell_type": "code",
   "execution_count": null,
   "metadata": {
    "collapsed": true
   },
   "outputs": [],
   "source": [
    "menor_perc = [(x * 100)/len(concursos_10_ultimos) for x in menor_freq[0]]"
   ]
  },
  {
   "cell_type": "code",
   "execution_count": null,
   "metadata": {
    "collapsed": true
   },
   "outputs": [],
   "source": [
    "menor_perc"
   ]
  },
  {
   "cell_type": "code",
   "execution_count": null,
   "metadata": {
    "collapsed": true
   },
   "outputs": [],
   "source": [
    "np.histogram(maior, bins=np.arange(15,26))"
   ]
  },
  {
   "cell_type": "code",
   "execution_count": null,
   "metadata": {
    "collapsed": true
   },
   "outputs": [],
   "source": [
    "menor_maior_list[:5]"
   ]
  },
  {
   "cell_type": "code",
   "execution_count": null,
   "metadata": {
    "collapsed": true
   },
   "outputs": [],
   "source": [
    "menor_maior_strg[:5]"
   ]
  },
  {
   "cell_type": "code",
   "execution_count": null,
   "metadata": {
    "collapsed": true
   },
   "outputs": [],
   "source": [
    "df_menor_maior_list = pd.DataFrame(menor_maior_list, columns=['menor', 'maior'])"
   ]
  },
  {
   "cell_type": "code",
   "execution_count": null,
   "metadata": {
    "collapsed": true
   },
   "outputs": [],
   "source": [
    "df_menor_maior_list.set_index(['menor', 'maior'])"
   ]
  },
  {
   "cell_type": "code",
   "execution_count": null,
   "metadata": {
    "collapsed": true
   },
   "outputs": [],
   "source": [
    "menor_maior_freq = df_menor_maior_list.groupby(['menor', 'maior']).count()"
   ]
  },
  {
   "cell_type": "code",
   "execution_count": null,
   "metadata": {
    "collapsed": true
   },
   "outputs": [],
   "source": [
    "menor_maior_freq.values"
   ]
  },
  {
   "cell_type": "code",
   "execution_count": null,
   "metadata": {
    "collapsed": true
   },
   "outputs": [],
   "source": [
    "menor_maior_perc = [(x*100)/len(concursos) for x in menor_maior_freq.values]"
   ]
  },
  {
   "cell_type": "code",
   "execution_count": null,
   "metadata": {
    "collapsed": true
   },
   "outputs": [],
   "source": [
    "df = pd.DataFrame(menor_maior_freq)"
   ]
  },
  {
   "cell_type": "code",
   "execution_count": null,
   "metadata": {
    "collapsed": true
   },
   "outputs": [],
   "source": [
    "df['percentual'] = menor_maior_perc"
   ]
  },
  {
   "cell_type": "code",
   "execution_count": null,
   "metadata": {
    "collapsed": true
   },
   "outputs": [],
   "source": [
    "df"
   ]
  },
  {
   "cell_type": "code",
   "execution_count": null,
   "metadata": {
    "collapsed": true
   },
   "outputs": [],
   "source": [
    "df_menor_maior_str = pd.DataFrame(menor_maior_strg, columns=['col'])"
   ]
  },
  {
   "cell_type": "code",
   "execution_count": null,
   "metadata": {
    "collapsed": true
   },
   "outputs": [],
   "source": [
    "menor_maior_group = df_menor_maior_str.groupby('col')['col'].count()"
   ]
  },
  {
   "cell_type": "code",
   "execution_count": null,
   "metadata": {
    "collapsed": true
   },
   "outputs": [],
   "source": [
    "df_v1 = pd.DataFrame(menor_maior_group)"
   ]
  },
  {
   "cell_type": "code",
   "execution_count": null,
   "metadata": {
    "collapsed": true
   },
   "outputs": [],
   "source": [
    "df_v1"
   ]
  },
  {
   "cell_type": "code",
   "execution_count": null,
   "metadata": {
    "collapsed": true
   },
   "outputs": [],
   "source": [
    "# plt.hist(df_v1)\n",
    "# plt.show()"
   ]
  },
  {
   "cell_type": "code",
   "execution_count": null,
   "metadata": {
    "collapsed": true
   },
   "outputs": [],
   "source": [
    "# np.histogram(menor_maior)"
   ]
  },
  {
   "cell_type": "code",
   "execution_count": null,
   "metadata": {
    "collapsed": true
   },
   "outputs": [],
   "source": [
    "# plt.hist([menor, maior], bins=np.arange(1,26))\n",
    "# plt.xlabel('Menor Numero Sorteado')\n",
    "# plt.ylabel('Frequencia')\n",
    "# plt.grid(True)\n",
    "# plt.show()"
   ]
  },
  {
   "cell_type": "code",
   "execution_count": null,
   "metadata": {
    "collapsed": true
   },
   "outputs": [],
   "source": [
    "# gravar_jogo(apostas)"
   ]
  },
  {
   "cell_type": "code",
   "execution_count": null,
   "metadata": {
    "collapsed": true
   },
   "outputs": [],
   "source": [
    "# from __future__ import print_function\n",
    " \n",
    "# import MySQLdb as my\n",
    " \n",
    "# try:\n",
    " \n",
    "#     db = my.connect(host=\"127.0.0.1\",\n",
    "#                     user=\"root\",\n",
    "#                     passwd=\"\",\n",
    "#                     db=\"world\"\n",
    "#                     )\n",
    " \n",
    "#     cursor = db.cursor()\n",
    " \n",
    "#     sql = \"select * from city where id < 10\"\n",
    "#     number_of_rows = cursor.execute(sql)\n",
    " \n",
    "#     print(cursor.fetchone())  # fetch the first row only\n",
    " \n",
    "#     db.close()\n",
    " \n",
    "# except my.DataError as e:\n",
    "#     print(\"DataError\")\n",
    "#     print(e)\n",
    " \n",
    "# except my.InternalError as e:\n",
    "#     print(\"InternalError\")\n",
    "#     print(e)\n",
    " \n",
    "# except my.IntegrityError as e:\n",
    "#     print(\"IntegrityError\")\n",
    "#     print(e)\n",
    " \n",
    "# except my.OperationalError as e:\n",
    "#     print(\"OperationalError\")\n",
    "#     print(e)\n",
    " \n",
    "# except my.NotSupportedError as e:\n",
    "#     print(\"NotSupportedError\")\n",
    "#     print(e)\n",
    " \n",
    "# except my.ProgrammingError as e:\n",
    "#     print(\"ProgrammingError\")\n",
    "#     print(e)\n",
    " \n",
    "# except :\n",
    "#     print(\"Unknown error occurred\")"
   ]
  },
  {
   "cell_type": "code",
   "execution_count": null,
   "metadata": {
    "collapsed": true
   },
   "outputs": [],
   "source": [
    "from reportlab.pdfgen import canvas\n",
    "from reportlab.lib.units import cm\n",
    "from reportlab.graphics.shapes import Rect\n",
    "from reportlab.lib.colors import black"
   ]
  },
  {
   "cell_type": "code",
   "execution_count": null,
   "metadata": {
    "collapsed": true
   },
   "outputs": [],
   "source": [
    "c = canvas.Canvas(\"formulario.pdf\", pagesize=(8.3*cm, 18.8*cm))\n",
    "# c.drawString(100,750, \"Bem vindo ao reportlab!\")\n",
    "# c.setFillColor()\n",
    "# c.setPageTransition(cm)\n",
    "\n",
    "# c.rect(1.1*cm, 13.6*cm, 0.5*cm, 0.3*cm, fill=1)\n",
    "# c.rect(2.4*cm, 13.6*cm, 0.5*cm, 0.3*cm, fill=1)\n",
    "# c.rect(3.7*cm, 13.6*cm, 0.5*cm, 0.3*cm, fill=1)\n",
    "# c.rect(5*cm, 13.6*cm, 0.5*cm, 0.3*cm, fill=1)\n",
    "# c.rect(6.3*cm, 13.6*cm, 0.5*cm, 0.3*cm, fill=1)\n",
    "\n",
    "# c.rect(1.1*cm, 13.2*cm, 0.5*cm, 0.3*cm, fill=1)\n",
    "# c.rect(2.4*cm, 13.2*cm, 0.5*cm, 0.3*cm, fill=1)\n",
    "# c.rect(3.7*cm, 13.2*cm, 0.5*cm, 0.3*cm, fill=1)\n",
    "# c.rect(5*cm, 13.2*cm, 0.5*cm, 0.3*cm, fill=1)\n",
    "# c.rect(6.3*cm, 13.2*cm, 0.5*cm, 0.3*cm, fill=1)\n",
    "\n",
    "c.rect(1.1*cm, 8.55*cm, 0.5*cm, 0.3*cm, fill=1)\n",
    "c.rect(2.4*cm, 8.55*cm, 0.5*cm, 0.3*cm, fill=1)\n",
    "c.rect(3.7*cm, 8.55*cm, 0.5*cm, 0.3*cm, fill=1)\n",
    "c.rect(5.0*cm, 8.55*cm, 0.5*cm, 0.3*cm, fill=1)\n",
    "c.rect(6.3*cm, 8.55*cm, 0.5*cm, 0.3*cm, fill=1)\n",
    "\n",
    "c.rect(1.1*cm, 8.1*cm, 0.5*cm, 0.3*cm, fill=1)\n",
    "c.rect(2.4*cm, 8.1*cm, 0.5*cm, 0.3*cm, fill=1)\n",
    "c.rect(3.7*cm, 8.1*cm, 0.5*cm, 0.3*cm, fill=1)\n",
    "c.rect(5.0*cm, 8.1*cm, 0.5*cm, 0.3*cm, fill=1)\n",
    "c.rect(6.3*cm, 8.1*cm, 0.5*cm, 0.3*cm, fill=1)\n",
    "\n",
    "c.rect(1.1*cm, 7.65*cm, 0.5*cm, 0.3*cm, fill=1)\n",
    "c.rect(2.4*cm, 7.65*cm, 0.5*cm, 0.3*cm, fill=1)\n",
    "c.rect(3.7*cm, 7.65*cm, 0.5*cm, 0.3*cm, fill=1)\n",
    "c.rect(5.0*cm, 7.65*cm, 0.5*cm, 0.3*cm, fill=1)\n",
    "c.rect(6.3*cm, 7.65*cm, 0.5*cm, 0.3*cm, fill=1)\n",
    "\n",
    "c.rect(1.1*cm, 7.2*cm, 0.5*cm, 0.3*cm, fill=1)\n",
    "c.rect(2.4*cm, 7.2*cm, 0.5*cm, 0.3*cm, fill=1)\n",
    "c.rect(3.7*cm, 7.2*cm, 0.5*cm, 0.3*cm, fill=1)\n",
    "c.rect(5.0*cm, 7.2*cm, 0.5*cm, 0.3*cm, fill=1)\n",
    "c.rect(6.3*cm, 7.2*cm, 0.5*cm, 0.3*cm, fill=1)\n",
    "\n",
    "c.rect(1.1*cm, 6.75*cm, 0.5*cm, 0.3*cm, fill=1)\n",
    "c.rect(2.4*cm, 6.75*cm, 0.5*cm, 0.3*cm, fill=1)\n",
    "c.rect(3.7*cm, 6.75*cm, 0.5*cm, 0.3*cm, fill=1)\n",
    "c.rect(5.0*cm, 6.75*cm, 0.5*cm, 0.3*cm, fill=1)\n",
    "c.rect(6.3*cm, 6.75*cm, 0.5*cm, 0.3*cm, fill=1)\n",
    "\n",
    "# c.rect(1,520,22,13, fill=1)\n",
    "# c.rect(220,520,22,13, fill=1)\n",
    "# c.rect(0,0,8.3*cm,18.8*cm, fill=0)\n",
    "c.save()"
   ]
  },
  {
   "cell_type": "markdown",
   "metadata": {
    "collapsed": true
   },
   "source": [
    "# Conferencia"
   ]
  },
  {
   "cell_type": "code",
   "execution_count": null,
   "metadata": {
    "collapsed": true
   },
   "outputs": [],
   "source": [
    "def verificar_apostas(data_sorteio):\n",
    "    try:\n",
    "        concurso\n",
    "        \n",
    "    except Exception as ex:\n",
    "        print(ex)\n",
    "    "
   ]
  },
  {
   "cell_type": "markdown",
   "metadata": {},
   "source": [
    "# Teste"
   ]
  },
  {
   "cell_type": "code",
   "execution_count": 33,
   "metadata": {
    "scrolled": true
   },
   "outputs": [
    {
     "name": "stdout",
     "output_type": "stream",
     "text": [
      "total jogos ganahdores: 1660\n"
     ]
    }
   ],
   "source": [
    "total = 0\n",
    "\n",
    "for jogo in jogos:\n",
    "    for c in concursos:\n",
    "        if len(set(jogo.numeros).intersection(c.numeros)) == 15:\n",
    "#             print(\"Concurso: \", c.id)\n",
    "#             print(\"ID Aposta: \", jogo.id)\n",
    "#             print(\"Data Sorteio: \", c.data_sorteio)\n",
    "#             print(jogo.numeros)\n",
    "#             print(c.numeros)\n",
    "#             print(\"\\n\")\n",
    "            total += 1\n",
    "            break\n",
    "            \n",
    "print('total jogos ganahdores: %s' % (total))"
   ]
  },
  {
   "cell_type": "code",
   "execution_count": 31,
   "metadata": {},
   "outputs": [],
   "source": [
    "jogos = []\n",
    "\n",
    "jogo_id = 1\n",
    "    \n",
    "for a in np.arange(1, 26 - 14):\n",
    "    if (a > 6):\n",
    "        break\n",
    "        \n",
    "    for b in np.arange(a + 1, 26 - 13):\n",
    "        for c in np.arange(b + 1, 26 - 12):\n",
    "            for d in np.arange(c+1, 26 - 11):\n",
    "                for e in np.arange(d+1, 26 - 10):\n",
    "                    for f in np.arange(e+1, 26 - 9):\n",
    "                        for g in np.arange(f+1, 26 - 8):\n",
    "                            for h in np.arange(g+1, 26 - 7):\n",
    "                                for i in np.arange(h+1, 26 - 6):\n",
    "                                    for j in np.arange(i+1, 26 - 5):\n",
    "                                        for k in np.arange(j+1, 26 - 4):\n",
    "                                            for l in np.arange(k+1, 26 - 3):\n",
    "                                                for m in np.arange(l+1, 26 - 2):\n",
    "                                                    for n in np.arange(m+1, 26 - 1):\n",
    "                                                        for o in np.arange(n+1, 26 - 0):\n",
    "                                                            jogo = Jogo()\n",
    "                                                            num = (a, b, c, d, e, f, g, h, i, j, k, l, m, n, o)\n",
    "                                                            jogo.id = jogo_id\n",
    "                                                            jogo.set_numeros(num)\n",
    "                                                            jogos.append(jogo)\n",
    "                                                            jogo_id += 1"
   ]
  },
  {
   "cell_type": "code",
   "execution_count": 32,
   "metadata": {},
   "outputs": [
    {
     "name": "stdout",
     "output_type": "stream",
     "text": [
      "3264884\n"
     ]
    }
   ],
   "source": [
    "print(len(jogos))"
   ]
  },
  {
   "cell_type": "code",
   "execution_count": null,
   "metadata": {},
   "outputs": [],
   "source": [
    "imprimir_jogo(jogos[:20])\n",
    "    "
   ]
  },
  {
   "cell_type": "code",
   "execution_count": null,
   "metadata": {
    "collapsed": true
   },
   "outputs": [],
   "source": []
  }
 ],
 "metadata": {
  "kernelspec": {
   "display_name": "Python 3",
   "language": "python",
   "name": "python3"
  },
  "language_info": {
   "codemirror_mode": {
    "name": "ipython",
    "version": 3
   },
   "file_extension": ".py",
   "mimetype": "text/x-python",
   "name": "python",
   "nbconvert_exporter": "python",
   "pygments_lexer": "ipython3",
   "version": "3.6.4"
  }
 },
 "nbformat": 4,
 "nbformat_minor": 2
}
