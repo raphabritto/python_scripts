{
 "cells": [
  {
   "cell_type": "code",
   "execution_count": 1,
   "metadata": {
    "collapsed": true
   },
   "outputs": [],
   "source": [
    "import numpy as np\n",
    "import pandas as pd\n",
    "import csv\n",
    "import mysql.connector\n",
    "from datetime import date, datetime\n",
    "import random\n",
    "import time\n",
    "import matplotlib.pyplot as plt"
   ]
  },
  {
   "cell_type": "code",
   "execution_count": 2,
   "metadata": {
    "collapsed": true
   },
   "outputs": [],
   "source": [
    "class Lotofacil:\n",
    "    def __init__(self):\n",
    "        self.id = 0\n",
    "        self.data_sorteio = None\n",
    "        self.ganhadores_15_numeros = 0\n",
    "        self.valor_rateio_15_numeros = 0\n",
    "        self.valor_rateio_14_numeros = 0\n",
    "        self.valor_rateio_13_numeros = 0\n",
    "        self.valor_rateio_12_numeros = 0\n",
    "        self.valor_rateio_11_numeros = 0\n",
    "        self.numeros = ()\n",
    "        self.par = 0\n",
    "        self.impar = 0\n",
    "        self.sequencia = ()\n",
    "        self.vertical = ()\n",
    "        self.horizontal = ()\n",
    "        \n",
    "    def set_numeros(self, numeros):\n",
    "        self.numeros = tuple(numeros)\n",
    "        self.setParImpar()\n",
    "        self.set_sequencia()\n",
    "        \n",
    "    def set_sequencia(self):\n",
    "        sequencia = []\n",
    "        count = []\n",
    "\n",
    "        sequencia.append(self.numeros[0])\n",
    "        \n",
    "        for i in np.arange(1, len(self.numeros)):\n",
    "            if (self.numeros[i] == self.numeros[i-1] + 1):\n",
    "                sequencia.append(self.numeros[i])\n",
    "            else:\n",
    "                if (len(sequencia) >= 2):\n",
    "                    count.append(len(sequencia))\n",
    "                    \n",
    "                    sequencia = []\n",
    "                    sequencia.append(self.numeros[i])\n",
    "                    \n",
    "        self.sequencia = tuple(count)\n",
    "        \n",
    "    def setParImpar(self):\n",
    "        self.par = sum([1 if x % 2 == 0 else 0 for x in self.numeros])\n",
    "        self.impar = len(self.numeros) - self.par"
   ]
  },
  {
   "cell_type": "code",
   "execution_count": 3,
   "metadata": {
    "collapsed": true
   },
   "outputs": [],
   "source": [
    "class Jogo:\n",
    "    def __init__(self):\n",
    "        self.id = None\n",
    "        self.data_cadastro = None\n",
    "        self.quantidade = 0\n",
    "        self.numeros = ()\n",
    "        self.par = 0\n",
    "        self.impar = 0\n",
    "        self.sequencia = ()\n",
    "        self.vertical = ()\n",
    "        self.horizontal = ()\n",
    "        \n",
    "#     def sorteio(self, qtdNumeros = 15):\n",
    "#         self.numeros = sorted(tuple(np.random.choice(np.arange(1, 26), qtdNumeros, replace= False)))\n",
    "#         self.setQuantidade()\n",
    "#         self.setParImpar()\n",
    "        \n",
    "#     def setQuantidade(self):\n",
    "#         self.quantidade = len(self.numeros)\n",
    "\n",
    "    def set_numeros(self, numeros):\n",
    "        self.numeros = tuple(numeros)\n",
    "        self.setParImpar()\n",
    "        self.set_sequencia()\n",
    "        \n",
    "    def setParImpar(self):\n",
    "        self.par = sum([1 if x % 2 == 0 else 0 for x in self.numeros])\n",
    "        self.impar = len(self.numeros) - self.par\n",
    "        \n",
    "    def set_sequencia(self):\n",
    "        sequencia = []\n",
    "        count = []\n",
    "\n",
    "        for i in np.arange(0, len(self.numeros)):\n",
    "            if (i == 0):\n",
    "                sequencia.append(self.numeros[i])\n",
    "            else:\n",
    "                if (self.numeros[i] == self.numeros[i-1] + 1):\n",
    "                    sequencia.append(self.numeros[i])\n",
    "                else:\n",
    "                    if (len(sequencia) >= 2):\n",
    "                        count.append(len(sequencia))\n",
    "\n",
    "                    sequencia = []\n",
    "                    sequencia.append(self.numeros[i])\n",
    "\n",
    "        self.sequencia = tuple(count)"
   ]
  },
  {
   "cell_type": "code",
   "execution_count": 4,
   "metadata": {
    "collapsed": true
   },
   "outputs": [],
   "source": [
    "def get_concursos_lotofacil_csv(arquivo):\n",
    "    concursos = []\n",
    "    \n",
    "    with open(arquivo) as file:\n",
    "        lotofacil = csv.reader(file, delimiter=';')\n",
    "        data = list(lotofacil)\n",
    "    \n",
    "    for x in data[1:]:\n",
    "        concurso = Lotofacil()\n",
    "        concurso.id = int(x[0])\n",
    "        concurso.data_sorteio = x[1]\n",
    "        concurso.set_numeros(sorted(tuple(map(int, x[2:17]))))\n",
    "#         concurso.numeros = sorted(tuple(map(int, x[2:17])))\n",
    "        concurso.ganhadores_15_numeros = int(x[17])\n",
    "        concurso.valor_rateio_15_numeros = float(x[18].replace('.', '').replace(',', '.'))\n",
    "        concurso.valor_rateio_14_numeros = float(x[19].replace('.', '').replace(',', '.'))\n",
    "        concurso.valor_rateio_13_numeros = float(x[20].replace('.', '').replace(',', '.'))\n",
    "        concurso.valor_rateio_12_numeros = float(x[21].replace('.', '').replace(',', '.'))\n",
    "        concurso.valor_rateio_11_numeros = float(x[22].replace('.', '').replace(',', '.'))\n",
    "#         concurso.setParImpar()\n",
    "        concursos.append(concurso)\n",
    "    \n",
    "    return tuple(concursos)"
   ]
  },
  {
   "cell_type": "code",
   "execution_count": 5,
   "metadata": {
    "collapsed": true
   },
   "outputs": [],
   "source": [
    "def gerar_jogos(numero_jogos = 1000, numeros_por_jogo = 15, menor_numero = (), maior_numero = ()):\n",
    "    count = 0\n",
    "    jogos = []\n",
    "    tentativas = 0\n",
    "    \n",
    "    try:\n",
    "    \n",
    "        while (len(jogos) < numero_jogos and tentativas < 100):\n",
    "            add = False\n",
    "            jogo = Jogo()\n",
    "            jogo.sorteio(numeros_por_jogo)\n",
    "\n",
    "            if (jogo.numeros[0] not in menor_numero or jogo.numeros[-1] not in maior_numero):\n",
    "                tentativas += 1\n",
    "                continue\n",
    "\n",
    "            for i in jogos:\n",
    "                if (len(i.numeros) == len(jogo.numeros)):\n",
    "                    if (len(set(i.numeros).intersection(jogo.numeros)) == len(jogo.numeros)):\n",
    "                        tentativas += 1\n",
    "                        break\n",
    "\n",
    "            jogos.append(jogo)\n",
    "            count += 1\n",
    "            tentativas = 0\n",
    "            \n",
    "        return tuple(jogos)\n",
    "            \n",
    "    except Exception as ex:\n",
    "        return ex"
   ]
  },
  {
   "cell_type": "code",
   "execution_count": 93,
   "metadata": {
    "collapsed": true
   },
   "outputs": [],
   "source": [
    "def filtrar_concursos_range(concursos, inicial, final):\n",
    "    concursos_filtrados = []\n",
    "    \n",
    "    for c in concursos:\n",
    "        if (c.id >= inicial and c.id <= final):\n",
    "            concursos_filtrados.append(c)\n",
    "    \n",
    "    return concursos_filtrados"
   ]
  },
  {
   "cell_type": "code",
   "execution_count": 52,
   "metadata": {
    "collapsed": true
   },
   "outputs": [],
   "source": [
    "# def filtrar_ultimos_concursos(concursos, ultimos):\n",
    "#     concursos_filtrados = []\n",
    "    \n",
    "#     if (ultimos is not None):\n",
    "#         concursos_filtrados = concursos[len(concursos)-ultimos:]\n",
    "        \n",
    "#     return concursos_filtrados"
   ]
  },
  {
   "cell_type": "code",
   "execution_count": 8,
   "metadata": {
    "collapsed": true
   },
   "outputs": [],
   "source": [
    "def filtrar_concurso_por_numeros(concursos, numeros):\n",
    "    concursos_filtrados = []\n",
    "    \n",
    "    for c in concursos:\n",
    "        if (len(set(c.numeros).intersection(numeros)) == len(numeros)):\n",
    "            concursos_filtrados.append(c)\n",
    "#         if len(set(apostas[i].numeros).intersection(notin[j])) == len(notin[j]):\n",
    "    \n",
    "    return concursos_filtrados"
   ]
  },
  {
   "cell_type": "code",
   "execution_count": 9,
   "metadata": {
    "collapsed": true
   },
   "outputs": [],
   "source": [
    "def imprimir_concursos(concursos):\n",
    "    print(\"Total concursos: %s \\n\" % (len(concursos)))\n",
    "    for c in concursos:\n",
    "        print(\"Concurso: \", c.id)\n",
    "        print(\"Data Sorteio: \", c.data_sorteio)\n",
    "        print(\"Ganhadores 15 pontos: %s \" % (c.ganhadores_15_numeros))\n",
    "        print(\"Impares: %s\"% (c.impar))\n",
    "        print(\"Pares: %s\" % (c.par))\n",
    "        print(\"Sequencia: \", c.sequencia)\n",
    "        print(c.numeros)\n",
    "        print(\"\\n\")"
   ]
  },
  {
   "cell_type": "code",
   "execution_count": 10,
   "metadata": {
    "collapsed": true
   },
   "outputs": [],
   "source": [
    "def imprimir_aposta(apostas):\n",
    "    print(\"Total apostas: %s \\n\" % (len(apostas)))\n",
    "    for a in apostas:\n",
    "#         print(\"ID: \", a.id)\n",
    "#         print(\"Data: \", a.data_sorteio)\n",
    "        print(\"Impares: %s - Pares: %s\" % (a.impar, a.par))\n",
    "        print(a.numeros)\n",
    "        print(\"\\n\")"
   ]
  },
  {
   "cell_type": "code",
   "execution_count": 11,
   "metadata": {
    "collapsed": true
   },
   "outputs": [],
   "source": [
    "def imprimir_jogo(jogos):\n",
    "    print(\"Total jogos: %s \\n\" % (len(jogos)))\n",
    "    for a in jogos:\n",
    "        print(\"ID: \", a.id)\n",
    "        print(\"Data Cadastro: \", a.data_cadastro)\n",
    "        print(\"Numeros: %s - Impares: %s - Pares: %s | Sequencia: %s\" % (len(a.numeros), a.impar, a.par, a.sequencia))\n",
    "        print(a.numeros)\n",
    "        print(\"\\n\")"
   ]
  },
  {
   "cell_type": "code",
   "execution_count": 12,
   "metadata": {
    "collapsed": true
   },
   "outputs": [],
   "source": [
    "def filtrar_jogo_menor_maior(jogos, menor = (), maior = ()):\n",
    "    apostas_filtradas = []\n",
    "    \n",
    "    if (type(menor) != tuple):\n",
    "        menor = tuple(menor)\n",
    "\n",
    "    for jogo in jogos:\n",
    "        if (jogo.numeros[0] in menor and jogo.numeros[-1] in maior):\n",
    "            apostas_filtradas.append(jogo)\n",
    "        \n",
    "    return tuple(apostas_filtradas)"
   ]
  },
  {
   "cell_type": "code",
   "execution_count": 13,
   "metadata": {
    "collapsed": true
   },
   "outputs": [],
   "source": [
    "def filtrar_jogo_impar_par(jogos, impar = ()):\n",
    "    apostas_filtradas = []\n",
    "    \n",
    "    for jogo in jogos:\n",
    "        for i in impar:\n",
    "            if (jogo.impar == i):\n",
    "                apostas_filtradas.append(jogo)\n",
    "        \n",
    "    return tuple(apostas_filtradas)"
   ]
  },
  {
   "cell_type": "code",
   "execution_count": 14,
   "metadata": {
    "collapsed": true
   },
   "outputs": [],
   "source": [
    "def filtrar_jogo_por_numeros(jogos, numeros, match):\n",
    "    apostas_filtradas = []\n",
    "    \n",
    "    for j in jogos:\n",
    "        if (len(set(j.numeros).intersection(numeros)) >= match):\n",
    "            apostas_filtradas.append(j)\n",
    "        \n",
    "    return apostas_filtradas"
   ]
  },
  {
   "cell_type": "code",
   "execution_count": 15,
   "metadata": {
    "collapsed": true
   },
   "outputs": [],
   "source": [
    "# def filtrar_jogo_sequencia(jogos, sequencia = ()):\n",
    "#     apostas_filtradas = []\n",
    "#     add = True\n",
    "    \n",
    "#     for jogo in jogos:\n",
    "#         for s in sequencia:\n",
    "#             if (len(set(jogo.numeros).intersection(s)) == len(s)):\n",
    "#                 add = False\n",
    "#                 break\n",
    "                \n",
    "#         if (add):\n",
    "#             apostas_filtradas.append(jogo)\n",
    "        \n",
    "#     return tuple(apostas_filtradas)"
   ]
  },
  {
   "cell_type": "code",
   "execution_count": 16,
   "metadata": {
    "collapsed": true
   },
   "outputs": [],
   "source": [
    "def filtrar_jogo_sequencia(jogos, sequencia = ()):\n",
    "    apostas_filtradas = []\n",
    "    \n",
    "    for jogo in jogos:\n",
    "        if (len(set(jogo.numeros).intersection(sequencia)) == len(s)):\n",
    "            apostas_filtradas.append(jogo)\n",
    "        \n",
    "    return tuple(apostas_filtradas)"
   ]
  },
  {
   "cell_type": "code",
   "execution_count": 94,
   "metadata": {
    "collapsed": true
   },
   "outputs": [],
   "source": [
    "def filtrar_jogo_notin(jogos, numeros):\n",
    "    apostas_filtradas = []\n",
    "    \n",
    "    for j in jogos:\n",
    "        if (len(set(j.numeros).intersection(numeros)) == 0):\n",
    "            apostas_filtradas.append(j)\n",
    "        \n",
    "    return apostas_filtradas"
   ]
  },
  {
   "cell_type": "code",
   "execution_count": 18,
   "metadata": {
    "collapsed": true
   },
   "outputs": [],
   "source": [
    "def selecionar_jogos_aposta(jogos, quantidade):\n",
    "    jogos_sample = random.sample(jogos, quantidade)\n",
    "    menor_1 = 0\n",
    "    menor_2 = 0\n",
    "    menor_3 = 0\n",
    "    impar_7 = 0\n",
    "    impar_8 = 0\n",
    "    impar_9 = 0\n",
    "    seq_0 = 0\n",
    "    seq_5 = 0\n",
    "    seq_6 = 0\n",
    "    seq_7 = 0\n",
    "\n",
    "    for a in jogos_sample:\n",
    "#         print(a.numeros, a.impar, a.par, a.numeros[0], a.numeros[-1])\n",
    "        if a.numeros[0] == 1:\n",
    "            menor_1 += 1\n",
    "        elif a.numeros[0] == 2:\n",
    "            menor_2 += 1\n",
    "        elif a.numeros[0] == 3:\n",
    "            menor_3 += 1\n",
    "\n",
    "        if a.impar == 7:\n",
    "            impar_7 += 1\n",
    "        elif a.impar == 8:\n",
    "            impar_8 += 1\n",
    "        elif a.impar == 9:\n",
    "            impar_9 += 1\n",
    "            \n",
    "        if a.sequencia == 0:\n",
    "            seq_0 += 1\n",
    "        elif a.sequencia == 5:\n",
    "            seq_5 += 1\n",
    "        elif a.sequencia == 6:\n",
    "            seq_6 += 1\n",
    "        elif a.sequencia == 7:\n",
    "            seq_7 += 1\n",
    "\n",
    "    print('Percentual jogos com 1: ', (menor_1/len(jogos_sample))*100)\n",
    "    print('Percentual jogos com 2: ', (menor_2/len(jogos_sample))*100)\n",
    "    print('Percentual jogos com 3: ', (menor_3/len(jogos_sample))*100)\n",
    "    print('Percentual jogos impar 7: ', (impar_7/len(jogos_sample))*100)\n",
    "    print('Percentual jogos impar 8: ', (impar_8/len(jogos_sample))*100)\n",
    "    print('Percentual jogos impar 9: ', (impar_9/len(jogos_sample))*100)\n",
    "    print('Sequencia 0: ', (seq_0/len(jogos_sample))*100)\n",
    "    print('Sequencia 5: ', (seq_5/len(jogos_sample))*100)\n",
    "    print('Sequencia 6: ', (seq_6/len(jogos_sample))*100)\n",
    "    print('Sequencia 7: ', (seq_7/len(jogos_sample))*100)\n",
    "\n",
    "    return jogos_sample"
   ]
  },
  {
   "cell_type": "code",
   "execution_count": 19,
   "metadata": {
    "collapsed": true
   },
   "outputs": [],
   "source": [
    "def conexao_mysql():\n",
    "    return mysql.connector.connect(user='root', database='lotofacil', host='192.168.56.100', password='Zaq1@wsX')"
   ]
  },
  {
   "cell_type": "code",
   "execution_count": 20,
   "metadata": {
    "collapsed": true
   },
   "outputs": [],
   "source": [
    "def get_numeros_jogo(jogo_id):\n",
    "    numeros = []\n",
    "    \n",
    "    try:\n",
    "        cnx = conexao_mysql()\n",
    "        cursor = cnx.cursor()\n",
    "\n",
    "        query = (\"SELECT numero FROM numero_jogo \"\n",
    "                 \"WHERE jogo_id = %(jogo_id)s \"\n",
    "                 \"ORDER BY numero\")\n",
    "        \n",
    "        param_query = {\n",
    "            'jogo_id' : jogo_id,\n",
    "        }\n",
    " \n",
    "        cursor.execute(query, param_query)\n",
    "\n",
    "        rows = cursor.fetchall()\n",
    "        \n",
    "        for row in rows:\n",
    "            numeros.append(row[0])\n",
    "\n",
    "    except Exception as ex:\n",
    "        print(ex)\n",
    " \n",
    "    except ConnectionError as e:\n",
    "        print(e)\n",
    " \n",
    "    finally:\n",
    "        cursor.close()\n",
    "        cnx.close()\n",
    "\n",
    "    return tuple(numeros)"
   ]
  },
  {
   "cell_type": "code",
   "execution_count": 21,
   "metadata": {
    "collapsed": true
   },
   "outputs": [],
   "source": [
    "# def get_numeros_jogo(jogo_id, numeros =()):\n",
    "#     numeros = []\n",
    "    \n",
    "#     try:\n",
    "#         cnx = conexao_mysql()\n",
    "#         cursor = cnx.cursor()\n",
    "\n",
    "#         query = (\"SELECT numero FROM numero_jogo \"\n",
    "#                  \"WHERE jogo_id = %(jogo_id)s \"\n",
    "#                  \"AND numero in %(numeros)s \"\n",
    "#                  \"ORDER BY numero\")\n",
    "        \n",
    "#         param_query = {\n",
    "#             'jogo_id' : jogo_id,\n",
    "#         }\n",
    " \n",
    "#         cursor.execute(query, param_query)\n",
    "\n",
    "#         rows = cursor.fetchall()\n",
    "        \n",
    "#         for row in rows:\n",
    "#             numeros.append(row[0])\n",
    "\n",
    "#     except Exception as ex:\n",
    "#         print(ex)\n",
    " \n",
    "#     except ConnectionError as e:\n",
    "#         print(e)\n",
    " \n",
    "#     finally:\n",
    "#         cursor.close()\n",
    "#         cnx.close()\n",
    "\n",
    "#     return tuple(numeros)"
   ]
  },
  {
   "cell_type": "code",
   "execution_count": 22,
   "metadata": {
    "collapsed": true
   },
   "outputs": [],
   "source": [
    "def get_all_jogos():\n",
    "    jogos = []\n",
    "    cursor = None\n",
    "    cnx = None\n",
    "    \n",
    "    try:\n",
    "        cnx = conexao_mysql()\n",
    "        cursor = cnx.cursor()\n",
    "\n",
    "        query = (\"SELECT jogo_id, data_cadastro \"\n",
    "                 \"FROM jogo \"\n",
    "#                  \"WHERE jogo_id < 10001 \"\n",
    "                 \"ORDER BY jogo_id\")\n",
    "        \n",
    "        cursor.execute(query)\n",
    "        \n",
    "        rows = cursor.fetchall()\n",
    "        \n",
    "        for row in rows:\n",
    "            jogo = Jogo()\n",
    "            jogo.id = row[0]\n",
    "            jogo.data_cadastro = row[1]\n",
    "            jogo.numeros = get_numeros_jogo(row[0])\n",
    "            jogo.setParImpar()\n",
    "            jogo.setQuantidade()\n",
    "            jogos.append(jogo)\n",
    "    #         print(jogo_id, data_cadastro)\n",
    "\n",
    "    except Exception as ex:\n",
    "        print(ex)\n",
    "        \n",
    "    except ConnectionError as e:\n",
    "        print(e)\n",
    "        \n",
    "    finally:\n",
    "        cursor.close()\n",
    "        cnx.close()\n",
    "    \n",
    "    return jogos"
   ]
  },
  {
   "cell_type": "code",
   "execution_count": 23,
   "metadata": {
    "collapsed": true
   },
   "outputs": [],
   "source": [
    "# def get_jogos(numeros = ()):\n",
    "#     jogos = []\n",
    "#     cursor = None\n",
    "#     cnx = None\n",
    "    \n",
    "#     try:\n",
    "#         cnx = conexao_mysql()\n",
    "#         cursor = cnx.cursor()\n",
    "\n",
    "#         query = (\"SELECT jogo_id, data_cadastro \"\n",
    "#                  \"FROM jogo \"\n",
    "# #                  \"WHERE jogo_id < 10001 \"\n",
    "#                  \"ORDER BY jogo_id\")\n",
    "        \n",
    "#         cursor.execute(query)\n",
    "        \n",
    "#         rows = cursor.fetchall()\n",
    "        \n",
    "#         for row in rows:\n",
    "#             jogo = Jogo()\n",
    "#             jogo.id = row[0]\n",
    "#             jogo.data_cadastro = row[1]\n",
    "#             jogo.numeros = get_numeros_jogo(row[0])\n",
    "#             jogo.setParImpar()\n",
    "#             jogo.setQuantidade()\n",
    "#             jogos.append(jogo)\n",
    "#     #         print(jogo_id, data_cadastro)\n",
    "\n",
    "#     except Exception as ex:\n",
    "#         print(ex)\n",
    "        \n",
    "#     except ConnectionError as e:\n",
    "#         print(e)\n",
    "        \n",
    "#     finally:\n",
    "#         cursor.close()\n",
    "#         cnx.close()\n",
    "    \n",
    "#     return jogos"
   ]
  },
  {
   "cell_type": "code",
   "execution_count": 24,
   "metadata": {
    "collapsed": true
   },
   "outputs": [],
   "source": [
    "def insert_jogo(jogo):\n",
    "    try:\n",
    "        cnx = conexao_mysql()\n",
    "        cursor = cnx.cursor()\n",
    "       \n",
    "        add_jogo = (\"INSERT INTO jogo \"\n",
    "                     \"(data_cadastro) \"\n",
    "                     \"VALUES (%(data_cadastro)s)\")\n",
    "        add_numero_jogo = (\"INSERT INTO numero_jogo \"\n",
    "                            \"(jogo_id, numero) \"\n",
    "                            \"VALUES (%(jogo_id)s, %(numero)s)\")\n",
    "\n",
    "        data_jogo = {\n",
    "            'data_cadastro' : datetime.now().date(),\n",
    "        }\n",
    "\n",
    "        cursor.execute(add_jogo, data_jogo)\n",
    "        jogo_id = cursor.lastrowid\n",
    "        \n",
    "#         numeros = [(jogo_id, numero) for numero in j.numeros]\n",
    "\n",
    "        for numero in jogo.numeros:\n",
    "            data_numero_jogo = {\n",
    "              'jogo_id': jogo_id,\n",
    "              'numero': int(numero),\n",
    "            }\n",
    "            \n",
    "            cursor.execute(add_numero_jogo, data_numero_jogo)\n",
    "\n",
    "#         data_numero_jogo = {\n",
    "#           'jogo_id': jogo_id,\n",
    "#           'numero': jogo.numeros,\n",
    "#         }\n",
    "\n",
    "#         cursor.execute(add_numero_jogo, data_numero_jogo)\n",
    "        \n",
    "        cnx.commit()\n",
    "        \n",
    "    except Exception as ex:\n",
    "        cnx.rollback()\n",
    "        return ex\n",
    "        \n",
    "    finally:\n",
    "        cursor.close()\n",
    "        cnx.close()"
   ]
  },
  {
   "cell_type": "code",
   "execution_count": 25,
   "metadata": {
    "collapsed": true
   },
   "outputs": [],
   "source": [
    "def salvar_jogos(jogos):\n",
    "    total_salvos = 0\n",
    "    \n",
    "    try:\n",
    "        jogos_db = get_all_jogos()\n",
    "        \n",
    "        for jogo in jogos:\n",
    "            add = True\n",
    "            \n",
    "            for jogo_db in jogos_db:\n",
    "                if (len(jogo.numeros) == len(jogo_db.numeros)):\n",
    "                    if (len(set(jogo.numeros).intersection(jogo_db.numeros)) == len(jogo.numeros)):\n",
    "                        add = False\n",
    "                        break\n",
    "\n",
    "            if (add):\n",
    "                insert_jogo(jogo)\n",
    "                total_salvos += 1\n",
    "                \n",
    "    except Exception as ex:\n",
    "        print(ex)\n",
    "        \n",
    "    finally:\n",
    "        print(\"%s jogos gravados.\" % (total_salvos))\n",
    "        print(\"%s jogos repetidos.\" % (len(jogos) - total_salvos))"
   ]
  },
  {
   "cell_type": "code",
   "execution_count": 26,
   "metadata": {
    "collapsed": true
   },
   "outputs": [],
   "source": [
    "def frequencia_concursos(concursos):\n",
    "    frequencia = dict.fromkeys(range(1, 26), 0)\n",
    "\n",
    "    for c in concursos:\n",
    "        for n in c.numeros:\n",
    "            frequencia[n] += 1\n",
    "\n",
    "    return frequencia"
   ]
  },
  {
   "cell_type": "code",
   "execution_count": 27,
   "metadata": {
    "collapsed": true
   },
   "outputs": [],
   "source": [
    "def atraso_concursos(concursos):\n",
    "    atraso = dict.fromkeys(range(1, 26), 0)\n",
    "\n",
    "    for c in concursos:\n",
    "        for n in atraso.keys():\n",
    "            if (n in c.numeros):\n",
    "                atraso[n] = 0\n",
    "            else:\n",
    "                atraso[n] += 1\n",
    "\n",
    "    return atraso"
   ]
  },
  {
   "cell_type": "code",
   "execution_count": 28,
   "metadata": {
    "collapsed": true
   },
   "outputs": [],
   "source": [
    "# variaveis globais\n",
    "# min_numeros_aposta = 15\n",
    "# max_numeros_aposta = 18"
   ]
  },
  {
   "cell_type": "code",
   "execution_count": 29,
   "metadata": {
    "collapsed": true
   },
   "outputs": [],
   "source": [
    "# while True:\n",
    "#     try:\n",
    "#         numerosAposta = int(input('Quantidade de números por aposta: '))\n",
    "#         if numerosAposta < 15 or numerosAposta > 18:\n",
    "#             raise ValueError('Digite um valor entre 15 e 18!')\n",
    "#     except ValueError as e:\n",
    "#         print(e)\n",
    "#         continue\n",
    "#     except:\n",
    "#         print('Erro desconhecido!')\n",
    "#         continue\n",
    "#     else:\n",
    "#         break"
   ]
  },
  {
   "cell_type": "markdown",
   "metadata": {},
   "source": [
    "# Concursos"
   ]
  },
  {
   "cell_type": "code",
   "execution_count": 30,
   "metadata": {
    "collapsed": true
   },
   "outputs": [],
   "source": [
    "concursos = get_concursos_lotofacil_csv('lotofacil_data/lotofacil.csv')"
   ]
  },
  {
   "cell_type": "code",
   "execution_count": 31,
   "metadata": {
    "collapsed": true
   },
   "outputs": [],
   "source": [
    "# imprimir_concursos(concursos)"
   ]
  },
  {
   "cell_type": "code",
   "execution_count": 53,
   "metadata": {
    "collapsed": true,
    "scrolled": true
   },
   "outputs": [],
   "source": [
    "concursos_50_ultimos = concursos[len(concursos) - 50:]"
   ]
  },
  {
   "cell_type": "code",
   "execution_count": 54,
   "metadata": {
    "scrolled": true
   },
   "outputs": [
    {
     "name": "stdout",
     "output_type": "stream",
     "text": [
      "Total concursos: 50 \n",
      "\n",
      "Concurso:  1657\n",
      "Data Sorteio:  02/05/2018\n",
      "Ganhadores 15 pontos: 0 \n",
      "Impares: 7\n",
      "Pares: 8\n",
      "Sequencia:  (2, 3, 5)\n",
      "(3, 4, 6, 8, 9, 10, 12, 15, 17, 18, 19, 20, 21, 23, 24)\n",
      "\n",
      "\n",
      "Concurso:  1656\n",
      "Data Sorteio:  30/04/2018\n",
      "Ganhadores 15 pontos: 3 \n",
      "Impares: 9\n",
      "Pares: 6\n",
      "Sequencia:  (4, 4, 2)\n",
      "(2, 3, 4, 5, 7, 10, 11, 12, 13, 15, 17, 19, 20, 23, 24)\n",
      "\n",
      "\n",
      "Concurso:  1655\n",
      "Data Sorteio:  27/04/2018\n",
      "Ganhadores 15 pontos: 2 \n",
      "Impares: 6\n",
      "Pares: 9\n",
      "Sequencia:  (3, 3, 3)\n",
      "(1, 2, 3, 5, 6, 7, 10, 12, 14, 16, 18, 19, 20, 22, 23)\n",
      "\n",
      "\n",
      "Concurso:  1654\n",
      "Data Sorteio:  25/04/2018\n",
      "Ganhadores 15 pontos: 5 \n",
      "Impares: 7\n",
      "Pares: 8\n",
      "Sequencia:  (4, 2, 3, 2)\n",
      "(1, 2, 3, 4, 6, 10, 11, 13, 16, 18, 19, 20, 22, 23, 25)\n",
      "\n",
      "\n",
      "Concurso:  1653\n",
      "Data Sorteio:  23/04/2018\n",
      "Ganhadores 15 pontos: 0 \n",
      "Impares: 7\n",
      "Pares: 8\n",
      "Sequencia:  (4, 2)\n",
      "(2, 4, 5, 6, 7, 12, 14, 15, 17, 20, 21, 22, 23, 24, 25)\n",
      "\n",
      "\n",
      "Concurso:  1652\n",
      "Data Sorteio:  20/04/2018\n",
      "Ganhadores 15 pontos: 0 \n",
      "Impares: 7\n",
      "Pares: 8\n",
      "Sequencia:  (6, 2, 3)\n",
      "(2, 3, 4, 5, 6, 7, 10, 11, 14, 16, 17, 18, 21, 24, 25)\n",
      "\n",
      "\n",
      "Concurso:  1651\n",
      "Data Sorteio:  18/04/2018\n",
      "Ganhadores 15 pontos: 4 \n",
      "Impares: 5\n",
      "Pares: 10\n",
      "Sequencia:  (4, 3, 5)\n",
      "(1, 2, 3, 4, 6, 7, 8, 10, 16, 17, 18, 19, 20, 22, 24)\n",
      "\n",
      "\n",
      "Concurso:  1650\n",
      "Data Sorteio:  16/04/2018\n",
      "Ganhadores 15 pontos: 0 \n",
      "Impares: 7\n",
      "Pares: 8\n",
      "Sequencia:  (3, 8)\n",
      "(3, 4, 5, 8, 10, 13, 14, 15, 16, 17, 18, 19, 20, 22, 25)\n",
      "\n",
      "\n",
      "Concurso:  1649\n",
      "Data Sorteio:  13/04/2018\n",
      "Ganhadores 15 pontos: 2 \n",
      "Impares: 6\n",
      "Pares: 9\n",
      "Sequencia:  (2, 2, 7)\n",
      "(4, 5, 8, 9, 12, 13, 14, 15, 16, 17, 18, 20, 22, 23, 24)\n",
      "\n",
      "\n",
      "Concurso:  1648\n",
      "Data Sorteio:  11/04/2018\n",
      "Ganhadores 15 pontos: 1 \n",
      "Impares: 9\n",
      "Pares: 6\n",
      "Sequencia:  (5, 3)\n",
      "(4, 9, 10, 11, 12, 13, 15, 16, 17, 19, 21, 22, 23, 24, 25)\n",
      "\n",
      "\n",
      "Concurso:  1647\n",
      "Data Sorteio:  09/04/2018\n",
      "Ganhadores 15 pontos: 5 \n",
      "Impares: 6\n",
      "Pares: 9\n",
      "Sequencia:  (2, 4, 2, 2)\n",
      "(1, 2, 4, 7, 8, 9, 10, 12, 14, 15, 19, 20, 22, 24, 25)\n",
      "\n",
      "\n",
      "Concurso:  1646\n",
      "Data Sorteio:  06/04/2018\n",
      "Ganhadores 15 pontos: 6 \n",
      "Impares: 9\n",
      "Pares: 6\n",
      "Sequencia:  (5, 2, 2)\n",
      "(1, 3, 4, 5, 6, 7, 9, 12, 13, 15, 17, 18, 20, 22, 25)\n",
      "\n",
      "\n",
      "Concurso:  1645\n",
      "Data Sorteio:  04/04/2018\n",
      "Ganhadores 15 pontos: 3 \n",
      "Impares: 7\n",
      "Pares: 8\n",
      "Sequencia:  (4, 3, 3, 2)\n",
      "(2, 3, 4, 5, 8, 9, 10, 14, 15, 16, 18, 20, 21, 23, 25)\n",
      "\n",
      "\n",
      "Concurso:  1644\n",
      "Data Sorteio:  02/04/2018\n",
      "Ganhadores 15 pontos: 2 \n",
      "Impares: 8\n",
      "Pares: 7\n",
      "Sequencia:  (8,)\n",
      "(2, 3, 4, 5, 6, 7, 8, 9, 11, 13, 15, 18, 22, 23, 24)\n",
      "\n",
      "\n",
      "Concurso:  1643\n",
      "Data Sorteio:  31/03/2018\n",
      "Ganhadores 15 pontos: 2 \n",
      "Impares: 8\n",
      "Pares: 7\n",
      "Sequencia:  (5, 2, 2)\n",
      "(1, 2, 3, 4, 5, 7, 9, 10, 12, 14, 16, 19, 22, 23, 25)\n",
      "\n",
      "\n",
      "Concurso:  1642\n",
      "Data Sorteio:  28/03/2018\n",
      "Ganhadores 15 pontos: 5 \n",
      "Impares: 8\n",
      "Pares: 7\n",
      "Sequencia:  (3, 2, 4)\n",
      "(2, 5, 6, 7, 10, 11, 13, 15, 17, 18, 19, 20, 22, 24, 25)\n",
      "\n",
      "\n",
      "Concurso:  1641\n",
      "Data Sorteio:  26/03/2018\n",
      "Ganhadores 15 pontos: 5 \n",
      "Impares: 8\n",
      "Pares: 7\n",
      "Sequencia:  (3, 2, 2, 2, 4)\n",
      "(3, 4, 5, 8, 9, 11, 12, 14, 16, 17, 19, 20, 21, 22, 25)\n",
      "\n",
      "\n",
      "Concurso:  1640\n",
      "Data Sorteio:  23/03/2018\n",
      "Ganhadores 15 pontos: 3 \n",
      "Impares: 6\n",
      "Pares: 9\n",
      "Sequencia:  (2, 3, 4, 3)\n",
      "(1, 2, 4, 5, 6, 12, 14, 15, 16, 17, 20, 21, 22, 24, 25)\n",
      "\n",
      "\n",
      "Concurso:  1639\n",
      "Data Sorteio:  21/03/2018\n",
      "Ganhadores 15 pontos: 6 \n",
      "Impares: 9\n",
      "Pares: 6\n",
      "Sequencia:  (7, 2, 2)\n",
      "(1, 3, 5, 6, 7, 8, 9, 10, 11, 14, 15, 19, 20, 22, 25)\n",
      "\n",
      "\n",
      "Concurso:  1638\n",
      "Data Sorteio:  19/03/2018\n",
      "Ganhadores 15 pontos: 0 \n",
      "Impares: 7\n",
      "Pares: 8\n",
      "Sequencia:  (2, 3, 3, 2)\n",
      "(1, 7, 8, 10, 11, 12, 14, 15, 16, 19, 20, 22, 23, 24, 25)\n",
      "\n",
      "\n",
      "Concurso:  1637\n",
      "Data Sorteio:  16/03/2018\n",
      "Ganhadores 15 pontos: 6 \n",
      "Impares: 8\n",
      "Pares: 7\n",
      "Sequencia:  (3, 2, 5, 3)\n",
      "(3, 4, 5, 7, 8, 11, 12, 13, 14, 15, 17, 18, 19, 22, 24)\n",
      "\n",
      "\n",
      "Concurso:  1636\n",
      "Data Sorteio:  14/03/2018\n",
      "Ganhadores 15 pontos: 1 \n",
      "Impares: 7\n",
      "Pares: 8\n",
      "Sequencia:  (2, 4, 4, 3)\n",
      "(2, 3, 6, 7, 8, 9, 12, 13, 14, 15, 18, 19, 20, 22, 25)\n",
      "\n",
      "\n",
      "Concurso:  1635\n",
      "Data Sorteio:  12/03/2018\n",
      "Ganhadores 15 pontos: 2 \n",
      "Impares: 9\n",
      "Pares: 6\n",
      "Sequencia:  (3, 3)\n",
      "(1, 3, 6, 7, 8, 12, 15, 16, 17, 19, 21, 22, 23, 24, 25)\n",
      "\n",
      "\n",
      "Concurso:  1634\n",
      "Data Sorteio:  09/03/2018\n",
      "Ganhadores 15 pontos: 2 \n",
      "Impares: 9\n",
      "Pares: 6\n",
      "Sequencia:  (5, 2, 3, 2)\n",
      "(3, 4, 5, 6, 7, 9, 10, 13, 14, 15, 19, 21, 22, 24, 25)\n",
      "\n",
      "\n",
      "Concurso:  1633\n",
      "Data Sorteio:  07/03/2018\n",
      "Ganhadores 15 pontos: 3 \n",
      "Impares: 9\n",
      "Pares: 6\n",
      "Sequencia:  (3, 3, 2, 4)\n",
      "(1, 2, 3, 5, 6, 7, 9, 10, 17, 18, 19, 20, 23, 24, 25)\n",
      "\n",
      "\n",
      "Concurso:  1632\n",
      "Data Sorteio:  05/03/2018\n",
      "Ganhadores 15 pontos: 0 \n",
      "Impares: 6\n",
      "Pares: 9\n",
      "Sequencia:  (2, 5)\n",
      "(4, 5, 8, 12, 13, 14, 15, 16, 18, 20, 21, 22, 23, 24, 25)\n",
      "\n",
      "\n",
      "Concurso:  1631\n",
      "Data Sorteio:  02/03/2018\n",
      "Ganhadores 15 pontos: 6 \n",
      "Impares: 7\n",
      "Pares: 8\n",
      "Sequencia:  (4, 4, 3, 2)\n",
      "(2, 3, 4, 5, 9, 10, 11, 12, 14, 18, 19, 20, 22, 23, 25)\n",
      "\n",
      "\n",
      "Concurso:  1630\n",
      "Data Sorteio:  28/02/2018\n",
      "Ganhadores 15 pontos: 4 \n",
      "Impares: 9\n",
      "Pares: 6\n",
      "Sequencia:  (4, 4, 2)\n",
      "(3, 5, 7, 8, 9, 10, 12, 13, 14, 15, 17, 20, 22, 23, 25)\n",
      "\n",
      "\n",
      "Concurso:  1629\n",
      "Data Sorteio:  26/02/2018\n",
      "Ganhadores 15 pontos: 4 \n",
      "Impares: 7\n",
      "Pares: 8\n",
      "Sequencia:  (3, 3, 2, 2)\n",
      "(1, 2, 3, 5, 6, 7, 9, 10, 12, 14, 15, 18, 22, 24, 25)\n",
      "\n",
      "\n",
      "Concurso:  1628\n",
      "Data Sorteio:  23/02/2018\n",
      "Ganhadores 15 pontos: 2 \n",
      "Impares: 8\n",
      "Pares: 7\n",
      "Sequencia:  (2, 5)\n",
      "(1, 3, 6, 9, 11, 12, 16, 17, 18, 19, 20, 22, 23, 24, 25)\n",
      "\n",
      "\n",
      "Concurso:  1627\n",
      "Data Sorteio:  21/02/2018\n",
      "Ganhadores 15 pontos: 1 \n",
      "Impares: 7\n",
      "Pares: 8\n",
      "Sequencia:  (3, 2, 5, 2)\n",
      "(2, 3, 4, 6, 8, 9, 11, 12, 13, 14, 15, 17, 20, 21, 24)\n",
      "\n",
      "\n",
      "Concurso:  1626\n",
      "Data Sorteio:  19/02/2018\n",
      "Ganhadores 15 pontos: 5 \n",
      "Impares: 9\n",
      "Pares: 6\n",
      "Sequencia:  (2, 5, 3, 2)\n",
      "(1, 3, 4, 7, 8, 9, 10, 11, 13, 15, 16, 17, 20, 21, 24)\n",
      "\n",
      "\n",
      "Concurso:  1625\n",
      "Data Sorteio:  16/02/2018\n",
      "Ganhadores 15 pontos: 4 \n",
      "Impares: 5\n",
      "Pares: 10\n",
      "Sequencia:  (2, 2, 7)\n",
      "(2, 3, 6, 8, 10, 12, 13, 16, 17, 18, 19, 20, 21, 22, 24)\n",
      "\n",
      "\n",
      "Concurso:  1624\n",
      "Data Sorteio:  14/02/2018\n",
      "Ganhadores 15 pontos: 0 \n",
      "Impares: 7\n",
      "Pares: 8\n",
      "Sequencia:  (2, 4, 5)\n",
      "(1, 2, 6, 7, 8, 9, 11, 14, 15, 16, 17, 18, 20, 23, 24)\n",
      "\n",
      "\n",
      "Concurso:  1623\n",
      "Data Sorteio:  09/02/2018\n",
      "Ganhadores 15 pontos: 5 \n",
      "Impares: 7\n",
      "Pares: 8\n",
      "Sequencia:  (4, 3, 2, 2, 2)\n",
      "(1, 2, 3, 4, 6, 7, 8, 10, 11, 13, 14, 17, 19, 20, 24)\n",
      "\n",
      "\n",
      "Concurso:  1622\n",
      "Data Sorteio:  07/02/2018\n",
      "Ganhadores 15 pontos: 1 \n",
      "Impares: 7\n",
      "Pares: 8\n",
      "Sequencia:  (4, 2, 3)\n",
      "(1, 2, 3, 4, 8, 9, 11, 16, 17, 18, 20, 22, 23, 24, 25)\n",
      "\n",
      "\n",
      "Concurso:  1621\n",
      "Data Sorteio:  05/02/2018\n",
      "Ganhadores 15 pontos: 7 \n",
      "Impares: 6\n",
      "Pares: 9\n",
      "Sequencia:  (3, 3, 2, 2)\n",
      "(2, 3, 4, 6, 8, 9, 10, 13, 14, 18, 19, 21, 22, 23, 24)\n",
      "\n",
      "\n",
      "Concurso:  1620\n",
      "Data Sorteio:  02/02/2018\n",
      "Ganhadores 15 pontos: 4 \n",
      "Impares: 7\n",
      "Pares: 8\n",
      "Sequencia:  (2, 6, 2)\n",
      "(1, 2, 4, 7, 9, 10, 11, 12, 13, 14, 18, 20, 21, 24, 25)\n",
      "\n",
      "\n",
      "Concurso:  1619\n",
      "Data Sorteio:  31/01/2018\n",
      "Ganhadores 15 pontos: 1 \n",
      "Impares: 8\n",
      "Pares: 7\n",
      "Sequencia:  (2, 2, 2, 4, 2)\n",
      "(4, 5, 7, 8, 10, 11, 13, 15, 16, 17, 18, 21, 22, 24, 25)\n",
      "\n",
      "\n",
      "Concurso:  1618\n",
      "Data Sorteio:  29/01/2018\n",
      "Ganhadores 15 pontos: 4 \n",
      "Impares: 8\n",
      "Pares: 7\n",
      "Sequencia:  (3, 3, 2, 2, 2)\n",
      "(1, 3, 4, 5, 8, 9, 10, 13, 14, 16, 17, 19, 20, 24, 25)\n",
      "\n",
      "\n",
      "Concurso:  1617\n",
      "Data Sorteio:  26/01/2018\n",
      "Ganhadores 15 pontos: 1 \n",
      "Impares: 7\n",
      "Pares: 8\n",
      "Sequencia:  (6, 4, 2)\n",
      "(2, 5, 6, 7, 8, 9, 10, 12, 13, 14, 15, 20, 22, 23, 25)\n",
      "\n",
      "\n",
      "Concurso:  1616\n",
      "Data Sorteio:  24/01/2018\n",
      "Ganhadores 15 pontos: 0 \n",
      "Impares: 6\n",
      "Pares: 9\n",
      "Sequencia:  (2, 2, 2, 2, 3)\n",
      "(1, 2, 4, 5, 8, 10, 11, 13, 14, 16, 17, 18, 22, 23, 24)\n",
      "\n",
      "\n",
      "Concurso:  1615\n",
      "Data Sorteio:  22/01/2018\n",
      "Ganhadores 15 pontos: 3 \n",
      "Impares: 9\n",
      "Pares: 6\n",
      "Sequencia:  (2, 4, 3, 2, 3)\n",
      "(1, 2, 4, 5, 6, 7, 9, 10, 11, 16, 17, 19, 20, 21, 25)\n",
      "\n",
      "\n",
      "Concurso:  1614\n",
      "Data Sorteio:  19/01/2018\n",
      "Ganhadores 15 pontos: 3 \n",
      "Impares: 10\n",
      "Pares: 5\n",
      "Sequencia:  (3, 2, 6)\n",
      "(1, 2, 3, 7, 9, 10, 12, 13, 14, 15, 16, 17, 19, 21, 23)\n",
      "\n",
      "\n",
      "Concurso:  1613\n",
      "Data Sorteio:  17/01/2018\n",
      "Ganhadores 15 pontos: 5 \n",
      "Impares: 7\n",
      "Pares: 8\n",
      "Sequencia:  (4, 3, 2, 4)\n",
      "(1, 2, 3, 4, 6, 8, 9, 10, 13, 14, 16, 17, 18, 19, 21)\n",
      "\n",
      "\n",
      "Concurso:  1612\n",
      "Data Sorteio:  15/01/2018\n",
      "Ganhadores 15 pontos: 0 \n",
      "Impares: 8\n",
      "Pares: 7\n",
      "Sequencia:  (4, 2, 2)\n",
      "(2, 3, 4, 5, 7, 11, 12, 14, 15, 18, 21, 22, 23, 24, 25)\n",
      "\n",
      "\n",
      "Concurso:  1611\n",
      "Data Sorteio:  12/01/2018\n",
      "Ganhadores 15 pontos: 1 \n",
      "Impares: 6\n",
      "Pares: 9\n",
      "Sequencia:  (2, 7, 2)\n",
      "(1, 3, 4, 6, 7, 8, 9, 10, 11, 12, 14, 15, 20, 22, 24)\n",
      "\n",
      "\n",
      "Concurso:  1610\n",
      "Data Sorteio:  10/01/2018\n",
      "Ganhadores 15 pontos: 6 \n",
      "Impares: 8\n",
      "Pares: 7\n",
      "Sequencia:  (2, 3, 2, 2, 4)\n",
      "(3, 6, 7, 9, 10, 11, 13, 14, 16, 17, 19, 20, 21, 22, 24)\n",
      "\n",
      "\n",
      "Concurso:  1609\n",
      "Data Sorteio:  08/01/2018\n",
      "Ganhadores 15 pontos: 2 \n",
      "Impares: 9\n",
      "Pares: 6\n",
      "Sequencia:  (5, 2, 2, 2)\n",
      "(5, 6, 7, 8, 9, 11, 13, 14, 17, 18, 20, 21, 23, 24, 25)\n",
      "\n",
      "\n",
      "Concurso:  1608\n",
      "Data Sorteio:  05/01/2018\n",
      "Ganhadores 15 pontos: 5 \n",
      "Impares: 8\n",
      "Pares: 7\n",
      "Sequencia:  (3, 2, 2, 2, 4)\n",
      "(1, 2, 3, 5, 6, 9, 10, 14, 17, 18, 20, 21, 22, 23, 25)\n",
      "\n",
      "\n"
     ]
    }
   ],
   "source": [
    "imprimir_concursos(concursos_50_ultimos[::-1])"
   ]
  },
  {
   "cell_type": "code",
   "execution_count": 34,
   "metadata": {
    "collapsed": true
   },
   "outputs": [],
   "source": [
    "# concursos_v2 = filtrar_concurso_por_numeros(concursos, [20,21,22,23,24,25])\n",
    "# imprimir_concursos(concursos_v2)"
   ]
  },
  {
   "cell_type": "code",
   "execution_count": 56,
   "metadata": {},
   "outputs": [
    {
     "name": "stdout",
     "output_type": "stream",
     "text": [
      "{1: 25, 2: 30, 3: 35, 4: 33, 5: 29, 6: 29, 7: 31, 8: 29, 9: 32, 10: 34, 11: 25, 12: 27, 13: 27, 14: 34, 15: 29, 16: 26, 17: 32, 18: 29, 19: 28, 20: 36, 21: 23, 22: 35, 23: 26, 24: 34, 25: 32}\n"
     ]
    }
   ],
   "source": [
    "frequencia_50_ultimos = frequencia_concursos(concursos_50_ultimos)\n",
    "print(frequencia_50_ultimos)"
   ]
  },
  {
   "cell_type": "code",
   "execution_count": 58,
   "metadata": {},
   "outputs": [
    {
     "data": {
      "image/png": "[encoded data removed]",
      "text/plain": [
       "<matplotlib.figure.Figure at 0x6d6bcda0>"
      ]
     },
     "metadata": {},
     "output_type": "display_data"
    }
   ],
   "source": [
    "plt.figure(figsize=(20, 3))\n",
    "plt.bar(frequencia_50_ultimos.keys(), frequencia_50_ultimos.values())\n",
    "# plt.grid(True)\n",
    "plt.xticks(range(1, len(frequencia_50_ultimos) + 1), frequencia_50_ultimos.keys())\n",
    "plt.show()"
   ]
  },
  {
   "cell_type": "code",
   "execution_count": 67,
   "metadata": {},
   "outputs": [],
   "source": [
    "concursos_10_ultimos = concursos[len(concursos) - 10:]\n",
    "# imprimir_concursos(concursos_10_ultimos)"
   ]
  },
  {
   "cell_type": "code",
   "execution_count": 68,
   "metadata": {},
   "outputs": [
    {
     "name": "stdout",
     "output_type": "stream",
     "text": [
      "{1: 3, 2: 6, 3: 7, 4: 9, 5: 6, 6: 6, 7: 5, 8: 4, 9: 3, 10: 8, 11: 4, 12: 6, 13: 5, 14: 5, 15: 6, 16: 7, 17: 8, 18: 7, 19: 7, 20: 8, 21: 4, 22: 7, 23: 7, 24: 7, 25: 5}\n"
     ]
    }
   ],
   "source": [
    "frequencia_10_ultimos = frequencia_concursos(concursos_10_ultimos)\n",
    "print(frequencia_10_ultimos)"
   ]
  },
  {
   "cell_type": "code",
   "execution_count": 69,
   "metadata": {},
   "outputs": [
    {
     "data": {
      "image/png": "[encoded data removed]",
      "text/plain": [
       "<matplotlib.figure.Figure at 0x6da2eeb8>"
      ]
     },
     "metadata": {},
     "output_type": "display_data"
    }
   ],
   "source": [
    "plt.figure(figsize=(20, 3))\n",
    "plt.bar(frequencia_10_ultimos.keys(), frequencia_10_ultimos.values())\n",
    "# plt.grid(True)\n",
    "plt.xticks(range(1, len(frequencia_10_ultimos) + 1), frequencia_10_ultimos.keys())\n",
    "plt.show()"
   ]
  },
  {
   "cell_type": "code",
   "execution_count": 70,
   "metadata": {},
   "outputs": [
    {
     "name": "stdout",
     "output_type": "stream",
     "text": [
      "{1: 2, 2: 1, 3: 0, 4: 0, 5: 1, 6: 0, 7: 1, 8: 0, 9: 0, 10: 0, 11: 1, 12: 0, 13: 1, 14: 2, 15: 0, 16: 2, 17: 0, 18: 0, 19: 0, 20: 0, 21: 0, 22: 2, 23: 0, 24: 0, 25: 3}\n"
     ]
    }
   ],
   "source": [
    "atraso = atraso_concursos(concursos_50_ultimos)\n",
    "print(atraso)"
   ]
  },
  {
   "cell_type": "code",
   "execution_count": 40,
   "metadata": {},
   "outputs": [
    {
     "data": {
      "image/png": "[encoded data removed]",
      "text/plain": [
       "<matplotlib.figure.Figure at 0xaf9dc50>"
      ]
     },
     "metadata": {},
     "output_type": "display_data"
    }
   ],
   "source": [
    "plt.figure(figsize=(20, 3))\n",
    "plt.bar(atraso.keys(), atraso.values())\n",
    "# plt.grid(True)\n",
    "plt.xticks(range(1, len(atraso) + 1), atraso.keys())\n",
    "plt.show()"
   ]
  },
  {
   "cell_type": "code",
   "execution_count": 76,
   "metadata": {
    "collapsed": true
   },
   "outputs": [],
   "source": [
    "def frequencia_impar_par(concursos):\n",
    "    impar_par = []\n",
    "\n",
    "    for c in concursos:\n",
    "        if ([c.impar, c.par] not in impar_par):\n",
    "            impar_par.append([c.impar, c.par])\n",
    "\n",
    "    impar_par = sorted(impar_par)\n",
    "\n",
    "    frequencia = [0] * len(impar_par)\n",
    "\n",
    "    for c in concursos:\n",
    "        for i in range(len(impar_par)):\n",
    "            if (c.impar == impar_par[i][0] and c.par == impar_par[i][1]):\n",
    "                frequencia[i] += 1\n",
    "    \n",
    "    impar_par_lst = []\n",
    "\n",
    "    for i in impar_par:\n",
    "        impar_par_lst.append(' - '.join([str(x) for x in i]))\n",
    "\n",
    "    d = {k:v for k, v in zip(impar_par_lst, frequencia)}\n",
    "    \n",
    "    return d"
   ]
  },
  {
   "cell_type": "code",
   "execution_count": 77,
   "metadata": {},
   "outputs": [
    {
     "name": "stdout",
     "output_type": "stream",
     "text": [
      "{'5 - 10': 2, '6 - 9': 8, '7 - 8': 17, '8 - 7': 11, '9 - 6': 11, '10 - 5': 1}\n"
     ]
    }
   ],
   "source": [
    "freq_impar_par = frequencia_impar_par(concursos_50_ultimos)\n",
    "print(freq_impar_par)"
   ]
  },
  {
   "cell_type": "code",
   "execution_count": 78,
   "metadata": {},
   "outputs": [
    {
     "data": {
      "image/png": "[encoded data removed]",
      "text/plain": [
       "<matplotlib.figure.Figure at 0x6dfac5f8>"
      ]
     },
     "metadata": {},
     "output_type": "display_data"
    }
   ],
   "source": [
    "plt.figure(figsize=(20, 3))\n",
    "plt.bar(freq_impar_par.keys(), freq_impar_par.values(), facecolor='#AA0000')\n",
    "# plt.grid(True)\n",
    "# plt.xticks(range(1, len(d) + 1), d.keys())\n",
    "plt.show()"
   ]
  },
  {
   "cell_type": "code",
   "execution_count": 44,
   "metadata": {},
   "outputs": [
    {
     "ename": "AttributeError",
     "evalue": "'BarContainer' object has no attribute 'text'",
     "output_type": "error",
     "traceback": [
      "\u001b[1;31m---------------------------------------------------------------------------\u001b[0m",
      "\u001b[1;31mAttributeError\u001b[0m                            Traceback (most recent call last)",
      "\u001b[1;32m<ipython-input-44-41873b7ccfa7>\u001b[0m in \u001b[0;36m<module>\u001b[1;34m()\u001b[0m\n\u001b[0;32m     13\u001b[0m \u001b[1;33m\u001b[0m\u001b[0m\n\u001b[0;32m     14\u001b[0m \u001b[1;32mfor\u001b[0m \u001b[0mi\u001b[0m \u001b[1;32min\u001b[0m \u001b[0max\u001b[0m\u001b[1;33m.\u001b[0m\u001b[0mpatches\u001b[0m\u001b[1;33m:\u001b[0m\u001b[1;33m\u001b[0m\u001b[0m\n\u001b[1;32m---> 15\u001b[1;33m     ax.text(i.get_x() - .03, i.get_height() + 0.5,\n\u001b[0m\u001b[0;32m     16\u001b[0m             str(round(100 * i.get_height() / sum(d.values()), 2)) + '%')\n\u001b[0;32m     17\u001b[0m \u001b[1;33m\u001b[0m\u001b[0m\n",
      "\u001b[1;31mAttributeError\u001b[0m: 'BarContainer' object has no attribute 'text'"
     ]
    }
   ],
   "source": [
    "# f, ax = plt.subplots()\n",
    "\n",
    "# index = np.arange(n_groups)\n",
    "# bar_width = 0.35\n",
    "\n",
    "ax = plt.bar(d.keys(), d.values(), color='coral', alpha= 0.8)\n",
    "\n",
    "plt.xlabel('Impares - Pares')\n",
    "plt.ylabel('Frequencia')\n",
    "plt.title('Frequencia Impares - Pares', fontsize = 16)\n",
    "# plt.xticks(len(d.keys()) + bar_width, d.keys())\n",
    "# plt.legend()\n",
    "\n",
    "for i in ax.patches:\n",
    "    ax.text(i.get_x() - .03, i.get_height() + 0.5,\n",
    "            str(round(100 * i.get_height() / sum(d.values()), 2)) + '%')\n",
    "\n",
    "# plt.tight_layout()\n",
    "plt.show()"
   ]
  },
  {
   "cell_type": "code",
   "execution_count": 107,
   "metadata": {
    "collapsed": true
   },
   "outputs": [],
   "source": [
    "padrao_seq = []\n",
    "\n",
    "for c in concursos_50_ultimos:\n",
    "    if (c.sequencia not in padrao_seq):\n",
    "        padrao_seq.append(c.sequencia)"
   ]
  },
  {
   "cell_type": "code",
   "execution_count": 108,
   "metadata": {},
   "outputs": [
    {
     "data": {
      "text/plain": [
       "[(3, 2, 2, 2, 4),\n",
       " (5, 2, 2, 2),\n",
       " (2, 3, 2, 2, 4),\n",
       " (2, 7, 2),\n",
       " (4, 2, 2),\n",
       " (4, 3, 2, 4),\n",
       " (3, 2, 6),\n",
       " (2, 4, 3, 2, 3),\n",
       " (2, 2, 2, 2, 3),\n",
       " (6, 4, 2),\n",
       " (3, 3, 2, 2, 2),\n",
       " (2, 2, 2, 4, 2),\n",
       " (2, 6, 2),\n",
       " (3, 3, 2, 2),\n",
       " (4, 2, 3),\n",
       " (4, 3, 2, 2, 2),\n",
       " (2, 4, 5),\n",
       " (2, 2, 7),\n",
       " (2, 5, 3, 2),\n",
       " (3, 2, 5, 2),\n",
       " (2, 5),\n",
       " (4, 4, 2),\n",
       " (4, 4, 3, 2),\n",
       " (3, 3, 2, 4),\n",
       " (5, 2, 3, 2),\n",
       " (3, 3),\n",
       " (2, 4, 4, 3),\n",
       " (3, 2, 5, 3),\n",
       " (2, 3, 3, 2),\n",
       " (7, 2, 2),\n",
       " (2, 3, 4, 3),\n",
       " (3, 2, 4),\n",
       " (5, 2, 2),\n",
       " (8,),\n",
       " (4, 3, 3, 2),\n",
       " (2, 4, 2, 2),\n",
       " (5, 3),\n",
       " (3, 8),\n",
       " (4, 3, 5),\n",
       " (6, 2, 3),\n",
       " (4, 2),\n",
       " (4, 2, 3, 2),\n",
       " (3, 3, 3),\n",
       " (2, 3, 5)]"
      ]
     },
     "execution_count": 108,
     "metadata": {},
     "output_type": "execute_result"
    }
   ],
   "source": [
    "padrao_seq"
   ]
  },
  {
   "cell_type": "code",
   "execution_count": null,
   "metadata": {
    "collapsed": true
   },
   "outputs": [],
   "source": [
    "imprimir_concursos(concursos[:20])"
   ]
  },
  {
   "cell_type": "code",
   "execution_count": null,
   "metadata": {
    "collapsed": true
   },
   "outputs": [],
   "source": [
    "d2 = dict.fromkeys(np.arange(1,16), 0)\n",
    "\n",
    "for c in concursos:\n",
    "    d2[max(c.sequencia)] += 1\n",
    "    \n",
    "d2"
   ]
  },
  {
   "cell_type": "code",
   "execution_count": null,
   "metadata": {
    "collapsed": true
   },
   "outputs": [],
   "source": []
  },
  {
   "cell_type": "markdown",
   "metadata": {},
   "source": [
    "# Gerar jogos"
   ]
  },
  {
   "cell_type": "code",
   "execution_count": null,
   "metadata": {
    "collapsed": true
   },
   "outputs": [],
   "source": [
    "# jogos_nao_salvos = gerar_jogos(100000, menor_numero=(1,2,3,4), maior_numero=(23,24,25))\n",
    "# len(jogos_nao_salvos)"
   ]
  },
  {
   "cell_type": "code",
   "execution_count": null,
   "metadata": {
    "collapsed": true
   },
   "outputs": [],
   "source": [
    "# a = 0\n",
    "\n",
    "# while a < 20:\n",
    "#     jogos_nao_salvos = gerar_jogos(10000, menor_numero=(1,2,3,4), maior_numero=(23,24,25))\n",
    "#     salvar_jogos(jogos_nao_salvos)\n",
    "#     a += 1\n"
   ]
  },
  {
   "cell_type": "code",
   "execution_count": null,
   "metadata": {
    "collapsed": true
   },
   "outputs": [],
   "source": [
    "# imprimir_jogo(jogos_nao_salvos)"
   ]
  },
  {
   "cell_type": "code",
   "execution_count": null,
   "metadata": {
    "collapsed": true
   },
   "outputs": [],
   "source": [
    "# start = time.time()\n",
    "# salvar_jogos(jogos_nao_salvos)\n",
    "# end = time.time()\n",
    "# print((end - start)/60)"
   ]
  },
  {
   "cell_type": "code",
   "execution_count": null,
   "metadata": {
    "collapsed": true
   },
   "outputs": [],
   "source": [
    "# insert_jogo(jogos_nao_salvos[0])"
   ]
  },
  {
   "cell_type": "markdown",
   "metadata": {},
   "source": [
    "# Jogos"
   ]
  },
  {
   "cell_type": "code",
   "execution_count": null,
   "metadata": {
    "collapsed": true
   },
   "outputs": [],
   "source": [
    "# start = time.time()\n",
    "# jogos_salvos = get_all_jogos()\n",
    "# end = time.time()\n",
    "\n",
    "# print((end - start)/60)\n",
    "# print(len(jogos_salvos))"
   ]
  },
  {
   "cell_type": "code",
   "execution_count": 109,
   "metadata": {
    "collapsed": true
   },
   "outputs": [],
   "source": [
    "jogos_filtrados = jogos"
   ]
  },
  {
   "cell_type": "code",
   "execution_count": 110,
   "metadata": {
    "collapsed": true
   },
   "outputs": [],
   "source": [
    "# for s in seq_inicial_unica:\n",
    "#     jogos_filtrados = filtrar_jogo_sequencia(jogos_filtrados, s)\n",
    "\n",
    "# len(jogos_filtrados)"
   ]
  },
  {
   "cell_type": "code",
   "execution_count": 111,
   "metadata": {
    "collapsed": true
   },
   "outputs": [],
   "source": [
    "# for s in seq_final_unica:\n",
    "#     jogos_filtrados = filtrar_jogo_sequencia(jogos_filtrados, s)\n",
    "\n",
    "# len(jogos_filtrados)"
   ]
  },
  {
   "cell_type": "code",
   "execution_count": 112,
   "metadata": {},
   "outputs": [
    {
     "data": {
      "text/plain": [
       "1144066"
      ]
     },
     "execution_count": 112,
     "metadata": {},
     "output_type": "execute_result"
    }
   ],
   "source": [
    "jogos_filtrados = filtrar_jogo_menor_maior(jogos_filtrados, (0,1), (25,26))\n",
    "len(jogos_filtrados)"
   ]
  },
  {
   "cell_type": "code",
   "execution_count": 113,
   "metadata": {},
   "outputs": [
    {
     "data": {
      "text/plain": [
       "899514"
      ]
     },
     "execution_count": 113,
     "metadata": {},
     "output_type": "execute_result"
    }
   ],
   "source": [
    "jogos_filtrados = filtrar_jogo_impar_par(jogos_filtrados, [7,8,9])\n",
    "len(jogos_filtrados)"
   ]
  },
  {
   "cell_type": "code",
   "execution_count": 116,
   "metadata": {},
   "outputs": [
    {
     "data": {
      "text/plain": [
       "559944"
      ]
     },
     "execution_count": 116,
     "metadata": {},
     "output_type": "execute_result"
    }
   ],
   "source": [
    "jogos_filtrados = filtrar_jogo_por_numeros(jogos_filtrados, [14,16,22], 2)\n",
    "len(jogos_filtrados)"
   ]
  },
  {
   "cell_type": "code",
   "execution_count": 115,
   "metadata": {
    "collapsed": true
   },
   "outputs": [],
   "source": [
    "# jogos_filtrados = filtrar_jogo_notin(jogos_filtrados, [])"
   ]
  },
  {
   "cell_type": "code",
   "execution_count": null,
   "metadata": {
    "collapsed": true
   },
   "outputs": [],
   "source": [
    "# for c in jogos_filtrados:\n",
    "#     sequencia = []\n",
    "#     count = 0\n",
    "    \n",
    "#     for i in np.arange(1, len(c.numeros[1:])):\n",
    "#         if c.numeros[i] == c.numeros[i - 1] + 1:\n",
    "#             count += 1\n",
    "#         else:\n",
    "#             if count > 0:\n",
    "#                 count += 1\n",
    "#                 sequencia.append(count)\n",
    "#                 count = 0\n",
    "            \n",
    "#     c.sequencia = sorted(tuple(sequencia)) "
   ]
  },
  {
   "cell_type": "code",
   "execution_count": 117,
   "metadata": {},
   "outputs": [
    {
     "ename": "ValueError",
     "evalue": "max() arg is an empty sequence",
     "output_type": "error",
     "traceback": [
      "\u001b[1;31m---------------------------------------------------------------------------\u001b[0m",
      "\u001b[1;31mValueError\u001b[0m                                Traceback (most recent call last)",
      "\u001b[1;32m<ipython-input-117-0ed64a8c7335>\u001b[0m in \u001b[0;36m<module>\u001b[1;34m()\u001b[0m\n\u001b[0;32m      2\u001b[0m \u001b[1;33m\u001b[0m\u001b[0m\n\u001b[0;32m      3\u001b[0m \u001b[1;32mfor\u001b[0m \u001b[0mc\u001b[0m \u001b[1;32min\u001b[0m \u001b[0mjogos_filtrados\u001b[0m\u001b[1;33m:\u001b[0m\u001b[1;33m\u001b[0m\u001b[0m\n\u001b[1;32m----> 4\u001b[1;33m     \u001b[1;32mif\u001b[0m \u001b[0mmax\u001b[0m\u001b[1;33m(\u001b[0m\u001b[0mc\u001b[0m\u001b[1;33m.\u001b[0m\u001b[0msequencia\u001b[0m\u001b[1;33m)\u001b[0m \u001b[1;33m<=\u001b[0m \u001b[1;36m7\u001b[0m \u001b[1;32mor\u001b[0m \u001b[0mc\u001b[0m\u001b[1;33m.\u001b[0m\u001b[0msequencia\u001b[0m \u001b[1;33m==\u001b[0m \u001b[1;32mNone\u001b[0m\u001b[1;33m:\u001b[0m\u001b[1;33m\u001b[0m\u001b[0m\n\u001b[0m\u001b[0;32m      5\u001b[0m         \u001b[0mjogos_t2\u001b[0m\u001b[1;33m.\u001b[0m\u001b[0mappend\u001b[0m\u001b[1;33m(\u001b[0m\u001b[0mc\u001b[0m\u001b[1;33m)\u001b[0m\u001b[1;33m\u001b[0m\u001b[0m\n",
      "\u001b[1;31mValueError\u001b[0m: max() arg is an empty sequence"
     ]
    }
   ],
   "source": [
    "jogos_t2 = []\n",
    "\n",
    "for c in jogos_filtrados:\n",
    "    if max(c.sequencia) <= 7 or c.sequencia == None:\n",
    "        jogos_t2.append(c)"
   ]
  },
  {
   "cell_type": "code",
   "execution_count": null,
   "metadata": {
    "collapsed": true
   },
   "outputs": [],
   "source": [
    "jogos_filtrados = jogos_t2\n",
    "len(jogos_filtrados)"
   ]
  },
  {
   "cell_type": "code",
   "execution_count": 118,
   "metadata": {
    "collapsed": true
   },
   "outputs": [],
   "source": [
    "jogos_t3 = []\n",
    "dezenas = np.arange(10,20)\n",
    "\n",
    "for c in jogos_filtrados:\n",
    "    if (len(set(c.numeros).intersection(dezenas)) >= 5 and len(set(c.numeros).intersection(dezenas)) <= 7):\n",
    "        jogos_t3.append(c)"
   ]
  },
  {
   "cell_type": "code",
   "execution_count": 119,
   "metadata": {},
   "outputs": [
    {
     "data": {
      "text/plain": [
       "441889"
      ]
     },
     "execution_count": 119,
     "metadata": {},
     "output_type": "execute_result"
    }
   ],
   "source": [
    "jogos_filtrados = jogos_t3\n",
    "len(jogos_filtrados)"
   ]
  },
  {
   "cell_type": "code",
   "execution_count": 120,
   "metadata": {},
   "outputs": [
    {
     "data": {
      "text/plain": [
       "372291"
      ]
     },
     "execution_count": 120,
     "metadata": {},
     "output_type": "execute_result"
    }
   ],
   "source": [
    "jogos_t4 = []\n",
    "\n",
    "for c in jogos_filtrados:\n",
    "    if (len(c.sequencia) >= 3 and len(c.sequencia) <= 5):\n",
    "        jogos_t4.append(c)\n",
    "        \n",
    "len(jogos_t4)"
   ]
  },
  {
   "cell_type": "code",
   "execution_count": 121,
   "metadata": {},
   "outputs": [
    {
     "data": {
      "text/plain": [
       "372291"
      ]
     },
     "execution_count": 121,
     "metadata": {},
     "output_type": "execute_result"
    }
   ],
   "source": [
    "jogos_filtrados = jogos_t4\n",
    "len(jogos_filtrados)"
   ]
  },
  {
   "cell_type": "code",
   "execution_count": null,
   "metadata": {
    "collapsed": true
   },
   "outputs": [],
   "source": [
    "# jogos_t6 = filtrar_jogo_por_numeros(jogos_t5, numeros=[19,20,21,22,23,24,25], match=7)\n",
    "# len(jogos_t6)"
   ]
  },
  {
   "cell_type": "code",
   "execution_count": null,
   "metadata": {
    "collapsed": true
   },
   "outputs": [],
   "source": [
    "imprimir_jogo(jogos_filtrados[:100])"
   ]
  },
  {
   "cell_type": "code",
   "execution_count": 122,
   "metadata": {},
   "outputs": [
    {
     "name": "stdout",
     "output_type": "stream",
     "text": [
      "Percentual jogos com 1:  100.0\n",
      "Percentual jogos com 2:  0.0\n",
      "Percentual jogos com 3:  0.0\n",
      "Percentual jogos impar 7:  26.923076923076923\n",
      "Percentual jogos impar 8:  43.07692307692308\n",
      "Percentual jogos impar 9:  30.0\n",
      "Sequencia 0:  0.0\n",
      "Sequencia 5:  0.0\n",
      "Sequencia 6:  0.0\n",
      "Sequencia 7:  0.0\n"
     ]
    }
   ],
   "source": [
    "apostas_selecionadas = selecionar_jogos_aposta(jogos_filtrados, 130)"
   ]
  },
  {
   "cell_type": "code",
   "execution_count": 123,
   "metadata": {},
   "outputs": [
    {
     "name": "stdout",
     "output_type": "stream",
     "text": [
      "Total jogos: 130 \n",
      "\n",
      "ID:  None\n",
      "Data Cadastro:  None\n",
      "Numeros: 15 - Impares: 9 - Pares: 6 | Sequencia: (2, 6, 3)\n",
      "(1, 4, 5, 7, 8, 9, 10, 11, 12, 14, 17, 21, 22, 23, 25)\n",
      "\n",
      "\n",
      "ID:  None\n",
      "Data Cadastro:  None\n",
      "Numeros: 15 - Impares: 9 - Pares: 6 | Sequencia: (4, 2, 2, 2, 2)\n",
      "(1, 3, 4, 5, 6, 9, 11, 12, 14, 15, 18, 19, 21, 22, 25)\n",
      "\n",
      "\n",
      "ID:  None\n",
      "Data Cadastro:  None\n",
      "Numeros: 15 - Impares: 7 - Pares: 8 | Sequencia: (2, 3, 5)\n",
      "(1, 2, 4, 7, 8, 9, 12, 13, 14, 15, 16, 19, 22, 24, 25)\n",
      "\n",
      "\n",
      "ID:  None\n",
      "Data Cadastro:  None\n",
      "Numeros: 15 - Impares: 8 - Pares: 7 | Sequencia: (3, 2, 2)\n",
      "(1, 5, 6, 7, 9, 11, 12, 14, 16, 17, 20, 22, 23, 24, 25)\n",
      "\n",
      "\n",
      "ID:  None\n",
      "Data Cadastro:  None\n",
      "Numeros: 15 - Impares: 7 - Pares: 8 | Sequencia: (4, 2, 2, 2)\n",
      "(1, 2, 3, 4, 11, 12, 14, 15, 17, 18, 20, 22, 23, 24, 25)\n",
      "\n",
      "\n",
      "ID:  None\n",
      "Data Cadastro:  None\n",
      "Numeros: 15 - Impares: 9 - Pares: 6 | Sequencia: (3, 3, 2, 2)\n",
      "(1, 2, 3, 7, 9, 10, 11, 13, 15, 16, 18, 20, 22, 23, 25)\n",
      "\n",
      "\n",
      "ID:  None\n",
      "Data Cadastro:  None\n",
      "Numeros: 15 - Impares: 8 - Pares: 7 | Sequencia: (3, 4, 2, 2, 2)\n",
      "(1, 4, 5, 6, 9, 10, 11, 12, 14, 15, 17, 18, 22, 23, 25)\n",
      "\n",
      "\n",
      "ID:  None\n",
      "Data Cadastro:  None\n",
      "Numeros: 15 - Impares: 7 - Pares: 8 | Sequencia: (2, 3, 6)\n",
      "(1, 2, 4, 6, 7, 8, 10, 13, 14, 15, 16, 17, 18, 23, 25)\n",
      "\n",
      "\n",
      "ID:  None\n",
      "Data Cadastro:  None\n",
      "Numeros: 15 - Impares: 7 - Pares: 8 | Sequencia: (4, 2, 3, 3)\n",
      "(1, 2, 3, 4, 7, 8, 11, 12, 13, 16, 17, 18, 20, 22, 25)\n",
      "\n",
      "\n",
      "ID:  None\n",
      "Data Cadastro:  None\n",
      "Numeros: 15 - Impares: 9 - Pares: 6 | Sequencia: (4, 2, 4, 2)\n",
      "(1, 3, 4, 5, 6, 11, 13, 14, 16, 17, 18, 19, 21, 22, 25)\n",
      "\n",
      "\n",
      "ID:  None\n",
      "Data Cadastro:  None\n",
      "Numeros: 15 - Impares: 7 - Pares: 8 | Sequencia: (5, 2, 2)\n",
      "(1, 4, 5, 6, 7, 8, 10, 11, 13, 16, 18, 21, 22, 24, 25)\n",
      "\n",
      "\n",
      "ID:  None\n",
      "Data Cadastro:  None\n",
      "Numeros: 15 - Impares: 9 - Pares: 6 | Sequencia: (2, 3, 2, 2)\n",
      "(1, 3, 5, 7, 9, 10, 12, 13, 14, 16, 18, 19, 22, 23, 25)\n",
      "\n",
      "\n",
      "ID:  None\n",
      "Data Cadastro:  None\n",
      "Numeros: 15 - Impares: 9 - Pares: 6 | Sequencia: (3, 2, 2, 2, 4)\n",
      "(1, 2, 3, 5, 6, 9, 10, 13, 15, 16, 19, 20, 21, 22, 25)\n",
      "\n",
      "\n",
      "ID:  None\n",
      "Data Cadastro:  None\n",
      "Numeros: 15 - Impares: 7 - Pares: 8 | Sequencia: (3, 2, 2, 2, 3)\n",
      "(1, 2, 3, 6, 7, 9, 10, 13, 14, 16, 17, 18, 20, 24, 25)\n",
      "\n",
      "\n",
      "ID:  None\n",
      "Data Cadastro:  None\n",
      "Numeros: 15 - Impares: 7 - Pares: 8 | Sequencia: (2, 5, 2, 2)\n",
      "(1, 3, 4, 6, 10, 12, 13, 14, 15, 16, 19, 20, 22, 23, 25)\n",
      "\n",
      "\n",
      "ID:  None\n",
      "Data Cadastro:  None\n",
      "Numeros: 15 - Impares: 8 - Pares: 7 | Sequencia: (2, 6, 3)\n",
      "(1, 4, 5, 9, 10, 11, 12, 13, 14, 17, 20, 21, 22, 24, 25)\n",
      "\n",
      "\n",
      "ID:  None\n",
      "Data Cadastro:  None\n",
      "Numeros: 15 - Impares: 7 - Pares: 8 | Sequencia: (2, 5, 4)\n",
      "(1, 3, 4, 6, 10, 11, 12, 13, 14, 18, 20, 21, 22, 23, 25)\n",
      "\n",
      "\n",
      "ID:  None\n",
      "Data Cadastro:  None\n",
      "Numeros: 15 - Impares: 8 - Pares: 7 | Sequencia: (4, 4, 4)\n",
      "(1, 2, 3, 4, 7, 10, 12, 13, 14, 15, 20, 21, 22, 23, 25)\n",
      "\n",
      "\n",
      "ID:  None\n",
      "Data Cadastro:  None\n",
      "Numeros: 15 - Impares: 9 - Pares: 6 | Sequencia: (5, 2, 4)\n",
      "(1, 3, 4, 5, 6, 7, 10, 11, 14, 15, 16, 17, 19, 22, 25)\n",
      "\n",
      "\n",
      "ID:  None\n",
      "Data Cadastro:  None\n",
      "Numeros: 15 - Impares: 7 - Pares: 8 | Sequencia: (3, 2, 2, 2, 2)\n",
      "(1, 4, 6, 7, 8, 10, 11, 14, 16, 17, 19, 20, 22, 23, 25)\n",
      "\n",
      "\n",
      "ID:  None\n",
      "Data Cadastro:  None\n",
      "Numeros: 15 - Impares: 7 - Pares: 8 | Sequencia: (2, 2, 6)\n",
      "(1, 2, 5, 6, 9, 10, 11, 12, 13, 14, 20, 22, 23, 24, 25)\n",
      "\n",
      "\n",
      "ID:  None\n",
      "Data Cadastro:  None\n",
      "Numeros: 15 - Impares: 8 - Pares: 7 | Sequencia: (3, 6, 2)\n",
      "(1, 8, 9, 10, 12, 13, 14, 15, 16, 17, 20, 21, 23, 24, 25)\n",
      "\n",
      "\n",
      "ID:  None\n",
      "Data Cadastro:  None\n",
      "Numeros: 15 - Impares: 9 - Pares: 6 | Sequencia: (2, 2, 3)\n",
      "(1, 3, 4, 7, 9, 10, 13, 14, 15, 17, 20, 22, 23, 24, 25)\n",
      "\n",
      "\n",
      "ID:  None\n",
      "Data Cadastro:  None\n",
      "Numeros: 15 - Impares: 8 - Pares: 7 | Sequencia: (2, 2, 4, 3)\n",
      "(1, 4, 5, 7, 11, 12, 14, 15, 16, 17, 20, 21, 22, 24, 25)\n",
      "\n",
      "\n",
      "ID:  None\n",
      "Data Cadastro:  None\n",
      "Numeros: 15 - Impares: 8 - Pares: 7 | Sequencia: (2, 3, 2, 2, 2)\n",
      "(1, 2, 5, 9, 10, 11, 13, 14, 16, 18, 19, 21, 22, 24, 25)\n",
      "\n",
      "\n",
      "ID:  None\n",
      "Data Cadastro:  None\n",
      "Numeros: 15 - Impares: 8 - Pares: 7 | Sequencia: (2, 2, 7)\n",
      "(1, 4, 6, 10, 11, 13, 14, 17, 18, 19, 20, 21, 22, 23, 25)\n",
      "\n",
      "\n",
      "ID:  None\n",
      "Data Cadastro:  None\n",
      "Numeros: 15 - Impares: 7 - Pares: 8 | Sequencia: (2, 3, 2, 3)\n",
      "(1, 2, 4, 6, 7, 8, 10, 13, 15, 16, 18, 21, 22, 23, 25)\n",
      "\n",
      "\n",
      "ID:  None\n",
      "Data Cadastro:  None\n",
      "Numeros: 15 - Impares: 9 - Pares: 6 | Sequencia: (5, 4, 3)\n",
      "(1, 2, 3, 4, 5, 9, 12, 14, 15, 16, 17, 21, 22, 23, 25)\n",
      "\n",
      "\n",
      "ID:  None\n",
      "Data Cadastro:  None\n",
      "Numeros: 15 - Impares: 9 - Pares: 6 | Sequencia: (3, 2, 2, 4)\n",
      "(1, 3, 4, 5, 7, 8, 10, 11, 14, 15, 16, 17, 20, 23, 25)\n",
      "\n",
      "\n",
      "ID:  None\n",
      "Data Cadastro:  None\n",
      "Numeros: 15 - Impares: 9 - Pares: 6 | Sequencia: (2, 2, 6)\n",
      "(1, 3, 4, 9, 11, 14, 15, 17, 18, 19, 20, 21, 22, 24, 25)\n",
      "\n",
      "\n",
      "ID:  None\n",
      "Data Cadastro:  None\n",
      "Numeros: 15 - Impares: 8 - Pares: 7 | Sequencia: (3, 2, 2)\n",
      "(1, 3, 4, 5, 8, 10, 13, 14, 18, 19, 21, 22, 23, 24, 25)\n",
      "\n",
      "\n",
      "ID:  None\n",
      "Data Cadastro:  None\n",
      "Numeros: 15 - Impares: 9 - Pares: 6 | Sequencia: (3, 2, 5)\n",
      "(1, 3, 4, 5, 7, 8, 11, 13, 16, 18, 19, 20, 21, 22, 25)\n",
      "\n",
      "\n",
      "ID:  None\n",
      "Data Cadastro:  None\n",
      "Numeros: 15 - Impares: 9 - Pares: 6 | Sequencia: (3, 2, 3, 2)\n",
      "(1, 2, 3, 5, 7, 10, 12, 13, 15, 16, 17, 21, 22, 24, 25)\n",
      "\n",
      "\n",
      "ID:  None\n",
      "Data Cadastro:  None\n",
      "Numeros: 15 - Impares: 8 - Pares: 7 | Sequencia: (2, 2, 2)\n",
      "(1, 3, 6, 7, 9, 10, 12, 13, 16, 18, 21, 22, 23, 24, 25)\n",
      "\n",
      "\n",
      "ID:  None\n",
      "Data Cadastro:  None\n",
      "Numeros: 15 - Impares: 8 - Pares: 7 | Sequencia: (2, 3, 3, 2)\n",
      "(1, 2, 5, 7, 10, 12, 13, 14, 17, 18, 19, 21, 22, 24, 25)\n",
      "\n",
      "\n",
      "ID:  None\n",
      "Data Cadastro:  None\n",
      "Numeros: 15 - Impares: 8 - Pares: 7 | Sequencia: (2, 2, 3)\n",
      "(1, 2, 4, 8, 10, 11, 15, 16, 17, 19, 21, 22, 23, 24, 25)\n",
      "\n",
      "\n",
      "ID:  None\n",
      "Data Cadastro:  None\n",
      "Numeros: 15 - Impares: 8 - Pares: 7 | Sequencia: (5, 4, 2)\n",
      "(1, 4, 5, 6, 7, 8, 11, 12, 13, 14, 16, 19, 21, 22, 25)\n",
      "\n",
      "\n",
      "ID:  None\n",
      "Data Cadastro:  None\n",
      "Numeros: 15 - Impares: 7 - Pares: 8 | Sequencia: (4, 2, 2)\n",
      "(1, 2, 3, 4, 6, 8, 13, 15, 16, 18, 19, 22, 23, 24, 25)\n",
      "\n",
      "\n",
      "ID:  None\n",
      "Data Cadastro:  None\n",
      "Numeros: 15 - Impares: 8 - Pares: 7 | Sequencia: (3, 2, 3)\n",
      "(1, 3, 6, 8, 9, 10, 13, 14, 17, 18, 19, 22, 23, 24, 25)\n",
      "\n",
      "\n",
      "ID:  None\n",
      "Data Cadastro:  None\n",
      "Numeros: 15 - Impares: 8 - Pares: 7 | Sequencia: (2, 3, 4, 3)\n",
      "(1, 2, 4, 5, 6, 11, 13, 15, 16, 17, 18, 20, 21, 22, 25)\n",
      "\n",
      "\n",
      "ID:  None\n",
      "Data Cadastro:  None\n",
      "Numeros: 15 - Impares: 9 - Pares: 6 | Sequencia: (2, 3, 2, 3, 2)\n",
      "(1, 3, 4, 7, 8, 9, 11, 12, 14, 15, 16, 18, 19, 21, 25)\n",
      "\n",
      "\n",
      "ID:  None\n",
      "Data Cadastro:  None\n",
      "Numeros: 15 - Impares: 7 - Pares: 8 | Sequencia: (3, 2, 3, 4)\n",
      "(1, 2, 3, 6, 7, 12, 14, 15, 16, 19, 20, 21, 22, 24, 25)\n",
      "\n",
      "\n",
      "ID:  None\n",
      "Data Cadastro:  None\n",
      "Numeros: 15 - Impares: 7 - Pares: 8 | Sequencia: (2, 2, 3, 4)\n",
      "(1, 2, 5, 6, 10, 12, 15, 16, 17, 19, 20, 21, 22, 24, 25)\n",
      "\n",
      "\n",
      "ID:  None\n",
      "Data Cadastro:  None\n",
      "Numeros: 15 - Impares: 7 - Pares: 8 | Sequencia: (2, 2, 4, 4)\n",
      "(1, 2, 6, 8, 10, 11, 13, 14, 15, 16, 19, 20, 21, 22, 25)\n",
      "\n",
      "\n",
      "ID:  None\n",
      "Data Cadastro:  None\n",
      "Numeros: 15 - Impares: 9 - Pares: 6 | Sequencia: (5, 2, 2, 2)\n",
      "(1, 3, 4, 5, 6, 7, 9, 10, 13, 14, 16, 19, 20, 23, 25)\n",
      "\n",
      "\n",
      "ID:  None\n",
      "Data Cadastro:  None\n",
      "Numeros: 15 - Impares: 8 - Pares: 7 | Sequencia: (3, 3, 2, 2)\n",
      "(1, 2, 3, 7, 8, 9, 11, 12, 14, 16, 17, 20, 23, 24, 25)\n",
      "\n",
      "\n",
      "ID:  None\n",
      "Data Cadastro:  None\n",
      "Numeros: 15 - Impares: 8 - Pares: 7 | Sequencia: (2, 4, 2)\n",
      "(1, 2, 5, 7, 8, 9, 10, 12, 15, 16, 19, 22, 23, 24, 25)\n",
      "\n",
      "\n",
      "ID:  None\n",
      "Data Cadastro:  None\n",
      "Numeros: 15 - Impares: 8 - Pares: 7 | Sequencia: (2, 3, 4, 3)\n",
      "(1, 2, 5, 6, 7, 10, 11, 12, 13, 15, 16, 17, 22, 24, 25)\n",
      "\n",
      "\n",
      "ID:  None\n",
      "Data Cadastro:  None\n",
      "Numeros: 15 - Impares: 8 - Pares: 7 | Sequencia: (3, 3, 3, 4)\n",
      "(1, 2, 3, 5, 8, 9, 10, 14, 15, 16, 18, 19, 20, 21, 25)\n",
      "\n",
      "\n",
      "ID:  None\n",
      "Data Cadastro:  None\n",
      "Numeros: 15 - Impares: 8 - Pares: 7 | Sequencia: (2, 2, 2, 4)\n",
      "(1, 4, 5, 8, 9, 13, 14, 17, 18, 19, 20, 22, 23, 24, 25)\n",
      "\n",
      "\n",
      "ID:  None\n",
      "Data Cadastro:  None\n",
      "Numeros: 15 - Impares: 8 - Pares: 7 | Sequencia: (2, 2, 2, 2, 2)\n",
      "(1, 4, 5, 7, 8, 10, 11, 13, 14, 18, 19, 22, 23, 24, 25)\n",
      "\n",
      "\n",
      "ID:  None\n",
      "Data Cadastro:  None\n",
      "Numeros: 15 - Impares: 9 - Pares: 6 | Sequencia: (2, 7, 2)\n",
      "(1, 2, 5, 7, 8, 9, 10, 11, 12, 13, 16, 17, 19, 22, 25)\n",
      "\n",
      "\n",
      "ID:  None\n",
      "Data Cadastro:  None\n",
      "Numeros: 15 - Impares: 8 - Pares: 7 | Sequencia: (2, 2, 7)\n",
      "(1, 3, 5, 6, 12, 13, 16, 17, 18, 19, 20, 21, 22, 24, 25)\n",
      "\n",
      "\n",
      "ID:  None\n",
      "Data Cadastro:  None\n",
      "Numeros: 15 - Impares: 8 - Pares: 7 | Sequencia: (4, 2, 2, 4)\n",
      "(1, 2, 3, 4, 7, 9, 10, 12, 13, 15, 16, 17, 18, 22, 25)\n",
      "\n",
      "\n",
      "ID:  None\n",
      "Data Cadastro:  None\n",
      "Numeros: 15 - Impares: 8 - Pares: 7 | Sequencia: (4, 2, 4)\n",
      "(1, 8, 9, 10, 11, 13, 14, 17, 18, 19, 20, 22, 23, 24, 25)\n",
      "\n",
      "\n",
      "ID:  None\n",
      "Data Cadastro:  None\n",
      "Numeros: 15 - Impares: 8 - Pares: 7 | Sequencia: (3, 2, 2)\n",
      "(1, 2, 3, 6, 8, 9, 11, 13, 14, 16, 18, 21, 23, 24, 25)\n",
      "\n",
      "\n",
      "ID:  None\n",
      "Data Cadastro:  None\n",
      "Numeros: 15 - Impares: 7 - Pares: 8 | Sequencia: (4, 6, 2)\n",
      "(1, 2, 3, 4, 6, 10, 13, 14, 15, 16, 17, 18, 22, 23, 25)\n",
      "\n",
      "\n",
      "ID:  None\n",
      "Data Cadastro:  None\n",
      "Numeros: 15 - Impares: 9 - Pares: 6 | Sequencia: (2, 2, 3)\n",
      "(1, 4, 5, 7, 10, 11, 13, 15, 16, 17, 20, 22, 23, 24, 25)\n",
      "\n",
      "\n",
      "ID:  None\n",
      "Data Cadastro:  None\n",
      "Numeros: 15 - Impares: 8 - Pares: 7 | Sequencia: (3, 5, 2, 3)\n",
      "(1, 6, 7, 8, 12, 13, 14, 15, 16, 18, 19, 21, 22, 23, 25)\n",
      "\n",
      "\n",
      "ID:  None\n",
      "Data Cadastro:  None\n",
      "Numeros: 15 - Impares: 8 - Pares: 7 | Sequencia: (3, 2, 3)\n",
      "(1, 5, 6, 7, 9, 13, 14, 16, 18, 19, 20, 22, 23, 24, 25)\n",
      "\n",
      "\n",
      "ID:  None\n",
      "Data Cadastro:  None\n",
      "Numeros: 15 - Impares: 9 - Pares: 6 | Sequencia: (4, 2, 3)\n",
      "(1, 5, 8, 9, 10, 11, 13, 14, 17, 18, 19, 22, 23, 24, 25)\n",
      "\n",
      "\n",
      "ID:  None\n",
      "Data Cadastro:  None\n",
      "Numeros: 15 - Impares: 8 - Pares: 7 | Sequencia: (2, 2, 2, 2, 4)\n",
      "(1, 5, 6, 9, 10, 12, 13, 15, 16, 19, 20, 21, 22, 24, 25)\n",
      "\n",
      "\n",
      "ID:  None\n",
      "Data Cadastro:  None\n",
      "Numeros: 15 - Impares: 9 - Pares: 6 | Sequencia: (5, 2, 2, 2)\n",
      "(1, 2, 3, 4, 5, 7, 10, 13, 14, 16, 17, 19, 22, 23, 25)\n",
      "\n",
      "\n",
      "ID:  None\n",
      "Data Cadastro:  None\n",
      "Numeros: 15 - Impares: 9 - Pares: 6 | Sequencia: (3, 2, 8)\n",
      "(1, 3, 4, 5, 8, 9, 13, 14, 15, 16, 17, 18, 19, 20, 25)\n",
      "\n",
      "\n",
      "ID:  None\n",
      "Data Cadastro:  None\n",
      "Numeros: 15 - Impares: 9 - Pares: 6 | Sequencia: (2, 2, 2, 3)\n",
      "(1, 2, 4, 5, 8, 9, 11, 13, 14, 15, 17, 19, 22, 24, 25)\n",
      "\n",
      "\n",
      "ID:  None\n",
      "Data Cadastro:  None\n",
      "Numeros: 15 - Impares: 8 - Pares: 7 | Sequencia: (2, 5, 4, 2)\n",
      "(1, 2, 7, 8, 9, 10, 11, 14, 17, 18, 19, 20, 22, 23, 25)\n",
      "\n",
      "\n",
      "ID:  None\n",
      "Data Cadastro:  None\n",
      "Numeros: 15 - Impares: 7 - Pares: 8 | Sequencia: (2, 5, 2, 4)\n",
      "(1, 2, 6, 8, 9, 10, 11, 12, 15, 16, 20, 21, 22, 23, 25)\n",
      "\n",
      "\n",
      "ID:  None\n",
      "Data Cadastro:  None\n",
      "Numeros: 15 - Impares: 8 - Pares: 7 | Sequencia: (4, 3, 3)\n",
      "(1, 3, 4, 5, 6, 8, 9, 10, 14, 15, 16, 19, 21, 24, 25)\n",
      "\n",
      "\n",
      "ID:  None\n",
      "Data Cadastro:  None\n",
      "Numeros: 15 - Impares: 8 - Pares: 7 | Sequencia: (2, 3, 3, 3)\n",
      "(1, 3, 4, 7, 8, 9, 12, 13, 14, 16, 18, 19, 20, 23, 25)\n",
      "\n",
      "\n",
      "ID:  None\n",
      "Data Cadastro:  None\n",
      "Numeros: 15 - Impares: 8 - Pares: 7 | Sequencia: (2, 2, 2, 4, 3)\n",
      "(1, 2, 4, 5, 8, 10, 11, 14, 15, 16, 17, 21, 22, 23, 25)\n",
      "\n",
      "\n",
      "ID:  None\n",
      "Data Cadastro:  None\n",
      "Numeros: 15 - Impares: 8 - Pares: 7 | Sequencia: (2, 3, 2, 2)\n",
      "(1, 3, 4, 7, 9, 10, 11, 13, 14, 16, 19, 20, 22, 24, 25)\n",
      "\n",
      "\n",
      "ID:  None\n",
      "Data Cadastro:  None\n",
      "Numeros: 15 - Impares: 8 - Pares: 7 | Sequencia: (2, 5, 2, 2)\n",
      "(1, 2, 7, 8, 9, 10, 11, 13, 14, 16, 19, 20, 23, 24, 25)\n",
      "\n",
      "\n",
      "ID:  None\n",
      "Data Cadastro:  None\n",
      "Numeros: 15 - Impares: 7 - Pares: 8 | Sequencia: (2, 4, 6)\n",
      "(1, 2, 4, 6, 7, 8, 9, 11, 12, 13, 14, 15, 16, 20, 25)\n",
      "\n",
      "\n",
      "ID:  None\n",
      "Data Cadastro:  None\n",
      "Numeros: 15 - Impares: 9 - Pares: 6 | Sequencia: (2, 2, 2)\n",
      "(1, 3, 5, 6, 8, 11, 13, 16, 17, 19, 20, 22, 23, 24, 25)\n",
      "\n",
      "\n",
      "ID:  None\n",
      "Data Cadastro:  None\n",
      "Numeros: 15 - Impares: 9 - Pares: 6 | Sequencia: (4, 2, 4, 2)\n",
      "(1, 2, 3, 4, 7, 9, 12, 13, 16, 17, 18, 19, 22, 23, 25)\n",
      "\n",
      "\n",
      "ID:  None\n",
      "Data Cadastro:  None\n",
      "Numeros: 15 - Impares: 7 - Pares: 8 | Sequencia: (2, 3, 3, 3, 2)\n",
      "(1, 5, 6, 8, 9, 10, 12, 13, 14, 16, 17, 18, 22, 23, 25)\n",
      "\n",
      "\n",
      "ID:  None\n",
      "Data Cadastro:  None\n",
      "Numeros: 15 - Impares: 7 - Pares: 8 | Sequencia: (4, 2, 4, 3)\n",
      "(1, 2, 3, 4, 8, 10, 11, 15, 16, 17, 18, 20, 21, 22, 25)\n",
      "\n",
      "\n",
      "ID:  None\n",
      "Data Cadastro:  None\n",
      "Numeros: 15 - Impares: 8 - Pares: 7 | Sequencia: (6, 3, 2)\n",
      "(1, 2, 3, 4, 5, 6, 9, 11, 14, 15, 16, 18, 22, 23, 25)\n",
      "\n",
      "\n",
      "ID:  None\n",
      "Data Cadastro:  None\n",
      "Numeros: 15 - Impares: 8 - Pares: 7 | Sequencia: (2, 2, 3, 2, 3)\n",
      "(1, 4, 5, 8, 9, 12, 14, 15, 16, 18, 19, 21, 22, 23, 25)\n",
      "\n",
      "\n",
      "ID:  None\n",
      "Data Cadastro:  None\n",
      "Numeros: 15 - Impares: 8 - Pares: 7 | Sequencia: (3, 4, 2, 2)\n",
      "(1, 4, 5, 6, 9, 10, 11, 12, 15, 16, 19, 21, 22, 24, 25)\n",
      "\n",
      "\n",
      "ID:  None\n",
      "Data Cadastro:  None\n",
      "Numeros: 15 - Impares: 8 - Pares: 7 | Sequencia: (2, 3, 5, 2)\n",
      "(1, 2, 7, 8, 9, 11, 14, 16, 17, 18, 19, 20, 22, 23, 25)\n",
      "\n",
      "\n",
      "ID:  None\n",
      "Data Cadastro:  None\n",
      "Numeros: 15 - Impares: 8 - Pares: 7 | Sequencia: (5, 3, 2)\n",
      "(1, 2, 3, 4, 5, 7, 10, 11, 12, 14, 16, 18, 19, 21, 25)\n",
      "\n",
      "\n",
      "ID:  None\n",
      "Data Cadastro:  None\n",
      "Numeros: 15 - Impares: 7 - Pares: 8 | Sequencia: (3, 3, 3, 4)\n",
      "(1, 8, 9, 10, 12, 13, 14, 16, 17, 18, 20, 21, 22, 23, 25)\n",
      "\n",
      "\n",
      "ID:  None\n",
      "Data Cadastro:  None\n",
      "Numeros: 15 - Impares: 9 - Pares: 6 | Sequencia: (3, 4, 2, 4)\n",
      "(1, 2, 3, 6, 7, 8, 9, 13, 14, 16, 17, 18, 19, 23, 25)\n",
      "\n",
      "\n",
      "ID:  None\n",
      "Data Cadastro:  None\n",
      "Numeros: 15 - Impares: 8 - Pares: 7 | Sequencia: (2, 2, 4, 3)\n",
      "(1, 3, 4, 9, 10, 12, 14, 16, 17, 18, 19, 21, 22, 23, 25)\n",
      "\n",
      "\n",
      "ID:  None\n",
      "Data Cadastro:  None\n",
      "Numeros: 15 - Impares: 8 - Pares: 7 | Sequencia: (3, 2, 2, 2, 4)\n",
      "(1, 2, 3, 5, 6, 10, 12, 13, 16, 17, 19, 20, 21, 22, 25)\n",
      "\n",
      "\n",
      "ID:  None\n",
      "Data Cadastro:  None\n",
      "Numeros: 15 - Impares: 7 - Pares: 8 | Sequencia: (2, 3, 3, 2)\n",
      "(1, 4, 5, 7, 8, 9, 12, 13, 14, 16, 18, 21, 22, 24, 25)\n",
      "\n",
      "\n",
      "ID:  None\n",
      "Data Cadastro:  None\n",
      "Numeros: 15 - Impares: 7 - Pares: 8 | Sequencia: (4, 3, 2)\n",
      "(1, 4, 5, 6, 7, 9, 10, 11, 14, 17, 18, 20, 22, 24, 25)\n",
      "\n",
      "\n",
      "ID:  None\n",
      "Data Cadastro:  None\n",
      "Numeros: 15 - Impares: 9 - Pares: 6 | Sequencia: (4, 2, 3)\n",
      "(1, 3, 4, 5, 6, 12, 13, 15, 16, 17, 19, 22, 23, 24, 25)\n",
      "\n",
      "\n",
      "ID:  None\n",
      "Data Cadastro:  None\n",
      "Numeros: 15 - Impares: 7 - Pares: 8 | Sequencia: (2, 2, 4, 4)\n",
      "(1, 2, 5, 6, 9, 10, 11, 12, 16, 18, 20, 21, 22, 23, 25)\n",
      "\n",
      "\n",
      "ID:  None\n",
      "Data Cadastro:  None\n",
      "Numeros: 15 - Impares: 8 - Pares: 7 | Sequencia: (3, 3, 3)\n",
      "(1, 2, 3, 7, 9, 10, 11, 14, 16, 18, 19, 20, 23, 24, 25)\n",
      "\n",
      "\n",
      "ID:  None\n",
      "Data Cadastro:  None\n",
      "Numeros: 15 - Impares: 8 - Pares: 7 | Sequencia: (4, 2, 3)\n",
      "(1, 4, 6, 7, 8, 9, 12, 13, 15, 16, 17, 19, 22, 24, 25)\n",
      "\n",
      "\n",
      "ID:  None\n",
      "Data Cadastro:  None\n",
      "Numeros: 15 - Impares: 7 - Pares: 8 | Sequencia: (4, 2, 3, 2)\n",
      "(1, 2, 3, 4, 6, 9, 10, 12, 13, 14, 16, 19, 22, 23, 25)\n",
      "\n",
      "\n",
      "ID:  None\n",
      "Data Cadastro:  None\n",
      "Numeros: 15 - Impares: 9 - Pares: 6 | Sequencia: (2, 2, 6)\n",
      "(1, 2, 8, 9, 11, 13, 14, 15, 16, 17, 18, 21, 23, 24, 25)\n",
      "\n",
      "\n",
      "ID:  None\n",
      "Data Cadastro:  None\n",
      "Numeros: 15 - Impares: 9 - Pares: 6 | Sequencia: (3, 3, 4, 2)\n",
      "(1, 2, 3, 5, 6, 7, 11, 12, 13, 14, 16, 19, 22, 23, 25)\n",
      "\n",
      "\n",
      "ID:  None\n",
      "Data Cadastro:  None\n",
      "Numeros: 15 - Impares: 7 - Pares: 8 | Sequencia: (2, 2, 2)\n",
      "(1, 2, 6, 9, 10, 14, 16, 17, 19, 20, 21, 22, 23, 24, 25)\n",
      "\n",
      "\n",
      "ID:  None\n",
      "Data Cadastro:  None\n",
      "Numeros: 15 - Impares: 9 - Pares: 6 | Sequencia: (2, 2, 4, 3, 2)\n",
      "(1, 2, 6, 7, 9, 11, 12, 13, 14, 17, 18, 19, 22, 23, 25)\n",
      "\n",
      "\n",
      "ID:  None\n",
      "Data Cadastro:  None\n",
      "Numeros: 15 - Impares: 7 - Pares: 8 | Sequencia: (2, 2, 2, 4)\n",
      "(1, 3, 4, 6, 10, 11, 14, 15, 17, 18, 19, 20, 22, 24, 25)\n",
      "\n",
      "\n",
      "ID:  None\n",
      "Data Cadastro:  None\n",
      "Numeros: 15 - Impares: 7 - Pares: 8 | Sequencia: (4, 2, 2)\n",
      "(1, 4, 6, 8, 9, 10, 11, 14, 16, 17, 19, 21, 22, 24, 25)\n",
      "\n",
      "\n",
      "ID:  None\n",
      "Data Cadastro:  None\n",
      "Numeros: 15 - Impares: 9 - Pares: 6 | Sequencia: (3, 2, 2)\n",
      "(1, 3, 5, 6, 7, 11, 13, 14, 16, 18, 19, 22, 23, 24, 25)\n",
      "\n",
      "\n",
      "ID:  None\n",
      "Data Cadastro:  None\n",
      "Numeros: 15 - Impares: 7 - Pares: 8 | Sequencia: (3, 3, 2, 3)\n",
      "(1, 2, 3, 7, 10, 11, 12, 14, 15, 18, 20, 21, 22, 24, 25)\n",
      "\n",
      "\n",
      "ID:  None\n",
      "Data Cadastro:  None\n",
      "Numeros: 15 - Impares: 8 - Pares: 7 | Sequencia: (4, 3, 2, 2)\n",
      "(1, 2, 3, 4, 6, 8, 9, 10, 13, 14, 16, 17, 19, 21, 25)\n",
      "\n",
      "\n",
      "ID:  None\n",
      "Data Cadastro:  None\n",
      "Numeros: 15 - Impares: 7 - Pares: 8 | Sequencia: (6, 2, 3, 2)\n",
      "(1, 2, 3, 4, 5, 6, 10, 11, 14, 15, 16, 18, 19, 24, 25)\n",
      "\n",
      "\n",
      "ID:  None\n",
      "Data Cadastro:  None\n",
      "Numeros: 15 - Impares: 8 - Pares: 7 | Sequencia: (4, 4, 4)\n",
      "(1, 2, 3, 4, 7, 8, 9, 10, 12, 14, 15, 16, 17, 21, 25)\n",
      "\n",
      "\n",
      "ID:  None\n",
      "Data Cadastro:  None\n",
      "Numeros: 15 - Impares: 8 - Pares: 7 | Sequencia: (3, 2, 2, 2, 2)\n",
      "(1, 2, 3, 5, 6, 8, 11, 14, 15, 17, 18, 21, 22, 24, 25)\n",
      "\n",
      "\n",
      "ID:  None\n",
      "Data Cadastro:  None\n",
      "Numeros: 15 - Impares: 7 - Pares: 8 | Sequencia: (2, 3, 2)\n",
      "(1, 4, 6, 7, 10, 12, 13, 14, 16, 18, 19, 21, 23, 24, 25)\n",
      "\n",
      "\n",
      "ID:  None\n",
      "Data Cadastro:  None\n",
      "Numeros: 15 - Impares: 9 - Pares: 6 | Sequencia: (3, 2, 3, 2, 3)\n",
      "(1, 2, 3, 5, 6, 9, 10, 11, 13, 14, 17, 20, 21, 22, 25)\n",
      "\n",
      "\n",
      "ID:  None\n",
      "Data Cadastro:  None\n",
      "Numeros: 15 - Impares: 7 - Pares: 8 | Sequencia: (2, 3, 2)\n",
      "(1, 5, 6, 8, 12, 14, 15, 16, 18, 19, 21, 22, 23, 24, 25)\n",
      "\n",
      "\n",
      "ID:  None\n",
      "Data Cadastro:  None\n",
      "Numeros: 15 - Impares: 8 - Pares: 7 | Sequencia: (3, 2, 2, 2, 2)\n",
      "(1, 2, 3, 5, 6, 9, 10, 13, 14, 16, 17, 22, 23, 24, 25)\n",
      "\n",
      "\n",
      "ID:  None\n",
      "Data Cadastro:  None\n",
      "Numeros: 15 - Impares: 8 - Pares: 7 | Sequencia: (3, 2, 2, 4)\n",
      "(1, 3, 4, 5, 7, 8, 11, 12, 14, 15, 16, 17, 20, 24, 25)\n",
      "\n",
      "\n",
      "ID:  None\n",
      "Data Cadastro:  None\n",
      "Numeros: 15 - Impares: 9 - Pares: 6 | Sequencia: (2, 3, 2, 5, 2)\n",
      "(1, 2, 5, 6, 7, 11, 12, 15, 16, 17, 18, 19, 21, 22, 25)\n",
      "\n",
      "\n",
      "ID:  None\n",
      "Data Cadastro:  None\n",
      "Numeros: 15 - Impares: 9 - Pares: 6 | Sequencia: (3, 4, 5)\n",
      "(1, 2, 3, 5, 8, 9, 10, 11, 15, 16, 17, 18, 19, 22, 25)\n",
      "\n",
      "\n",
      "ID:  None\n",
      "Data Cadastro:  None\n",
      "Numeros: 15 - Impares: 9 - Pares: 6 | Sequencia: (2, 3, 2, 2)\n",
      "(1, 3, 5, 7, 8, 10, 11, 12, 14, 16, 17, 19, 22, 23, 25)\n",
      "\n",
      "\n",
      "ID:  None\n",
      "Data Cadastro:  None\n",
      "Numeros: 15 - Impares: 8 - Pares: 7 | Sequencia: (2, 5, 3)\n",
      "(1, 4, 5, 7, 8, 9, 10, 11, 13, 16, 18, 19, 20, 22, 25)\n",
      "\n",
      "\n",
      "ID:  None\n",
      "Data Cadastro:  None\n",
      "Numeros: 15 - Impares: 9 - Pares: 6 | Sequencia: (4, 4, 2)\n",
      "(1, 3, 7, 8, 9, 10, 13, 14, 15, 16, 19, 21, 22, 24, 25)\n",
      "\n",
      "\n",
      "ID:  None\n",
      "Data Cadastro:  None\n",
      "Numeros: 15 - Impares: 9 - Pares: 6 | Sequencia: (3, 2, 3, 2)\n",
      "(1, 3, 4, 5, 7, 9, 11, 12, 14, 18, 19, 20, 22, 23, 25)\n",
      "\n",
      "\n",
      "ID:  None\n",
      "Data Cadastro:  None\n",
      "Numeros: 15 - Impares: 9 - Pares: 6 | Sequencia: (2, 2, 3, 3, 2)\n",
      "(1, 2, 4, 5, 9, 10, 11, 13, 14, 15, 17, 20, 22, 23, 25)\n",
      "\n",
      "\n",
      "ID:  None\n",
      "Data Cadastro:  None\n",
      "Numeros: 15 - Impares: 8 - Pares: 7 | Sequencia: (2, 2, 5, 2)\n",
      "(1, 2, 4, 7, 9, 10, 12, 13, 14, 15, 16, 19, 20, 23, 25)\n",
      "\n",
      "\n",
      "ID:  None\n",
      "Data Cadastro:  None\n",
      "Numeros: 15 - Impares: 8 - Pares: 7 | Sequencia: (2, 3, 2)\n",
      "(1, 4, 6, 7, 9, 12, 13, 14, 16, 17, 19, 22, 23, 24, 25)\n",
      "\n",
      "\n",
      "ID:  None\n",
      "Data Cadastro:  None\n",
      "Numeros: 15 - Impares: 7 - Pares: 8 | Sequencia: (2, 2, 2, 2, 3)\n",
      "(1, 2, 5, 6, 8, 9, 11, 12, 14, 16, 17, 18, 21, 24, 25)\n",
      "\n",
      "\n",
      "ID:  None\n",
      "Data Cadastro:  None\n",
      "Numeros: 15 - Impares: 9 - Pares: 6 | Sequencia: (3, 2, 4)\n",
      "(1, 3, 5, 6, 7, 9, 10, 12, 13, 14, 15, 22, 23, 24, 25)\n",
      "\n",
      "\n",
      "ID:  None\n",
      "Data Cadastro:  None\n",
      "Numeros: 15 - Impares: 8 - Pares: 7 | Sequencia: (2, 2, 2, 6)\n",
      "(1, 2, 7, 10, 12, 13, 15, 16, 18, 19, 20, 21, 22, 23, 25)\n",
      "\n",
      "\n",
      "ID:  None\n",
      "Data Cadastro:  None\n",
      "Numeros: 15 - Impares: 9 - Pares: 6 | Sequencia: (4, 2, 4, 2)\n",
      "(1, 3, 4, 5, 6, 8, 9, 11, 14, 15, 16, 17, 22, 23, 25)\n",
      "\n",
      "\n",
      "ID:  None\n",
      "Data Cadastro:  None\n",
      "Numeros: 15 - Impares: 8 - Pares: 7 | Sequencia: (2, 3, 3)\n",
      "(1, 2, 5, 6, 7, 9, 11, 13, 14, 15, 18, 20, 22, 24, 25)\n",
      "\n",
      "\n",
      "ID:  None\n",
      "Data Cadastro:  None\n",
      "Numeros: 15 - Impares: 7 - Pares: 8 | Sequencia: (5, 2, 2, 2)\n",
      "(1, 2, 3, 4, 5, 10, 13, 14, 16, 18, 19, 21, 22, 24, 25)\n",
      "\n",
      "\n",
      "ID:  None\n",
      "Data Cadastro:  None\n",
      "Numeros: 15 - Impares: 8 - Pares: 7 | Sequencia: (2, 3, 4, 2)\n",
      "(1, 3, 4, 6, 7, 8, 11, 13, 14, 15, 16, 19, 20, 24, 25)\n",
      "\n",
      "\n",
      "ID:  None\n",
      "Data Cadastro:  None\n",
      "Numeros: 15 - Impares: 8 - Pares: 7 | Sequencia: (5, 3, 3)\n",
      "(1, 5, 6, 7, 8, 9, 12, 14, 15, 16, 18, 19, 20, 23, 25)\n",
      "\n",
      "\n",
      "ID:  None\n",
      "Data Cadastro:  None\n",
      "Numeros: 15 - Impares: 8 - Pares: 7 | Sequencia: (2, 6, 3)\n",
      "(1, 4, 6, 7, 10, 14, 15, 16, 17, 18, 19, 21, 22, 23, 25)\n",
      "\n",
      "\n",
      "ID:  None\n",
      "Data Cadastro:  None\n",
      "Numeros: 15 - Impares: 7 - Pares: 8 | Sequencia: (2, 3, 2, 2)\n",
      "(1, 2, 5, 8, 10, 11, 12, 14, 16, 17, 20, 21, 23, 24, 25)\n",
      "\n",
      "\n",
      "ID:  None\n",
      "Data Cadastro:  None\n",
      "Numeros: 15 - Impares: 9 - Pares: 6 | Sequencia: (2, 2, 3, 4)\n",
      "(1, 2, 6, 7, 9, 11, 13, 14, 15, 19, 20, 21, 22, 24, 25)\n",
      "\n",
      "\n"
     ]
    }
   ],
   "source": [
    "imprimir_jogo(apostas_selecionadas)"
   ]
  },
  {
   "cell_type": "code",
   "execution_count": 165,
   "metadata": {
    "collapsed": true
   },
   "outputs": [],
   "source": [
    "seq_inicial = []\n",
    "seq_final = []\n",
    "\n",
    "for c in concursos_50_ultimos:\n",
    "#     if (c.numeros[0] == 1):\n",
    "    a = []\n",
    "\n",
    "    for n in c.numeros:\n",
    "        if n <= 5:\n",
    "            a.append(n)\n",
    "\n",
    "    seq_inicial.append(a)\n",
    "        \n",
    "#     if (c.numeros[-1] in (24,25)):\n",
    "    b = []\n",
    "\n",
    "    for o in c.numeros[10:15]:\n",
    "        if o >= 20:\n",
    "            b.append(o)\n",
    "\n",
    "    seq_final.append(b)\n",
    "        \n",
    "seq_inicial_unica = []\n",
    "seq_final_unica = []\n",
    "\n",
    "i = 0\n",
    "\n",
    "while i < len(seq_inicial):\n",
    "    if (len(seq_inicial[i]) > 1):\n",
    "        if (seq_inicial[i] not in seq_inicial_unica):\n",
    "            seq_inicial_unica.append(seq_inicial[i])\n",
    "        \n",
    "    i += 1\n",
    "\n",
    "    \n",
    "j = 0\n",
    "\n",
    "while j < len(seq_final):\n",
    "    if (len(seq_final[j]) > 1):\n",
    "        if (seq_final[j] not in seq_final_unica):\n",
    "            seq_final_unica.append(seq_final[j])\n",
    "        \n",
    "    j += 1"
   ]
  },
  {
   "cell_type": "code",
   "execution_count": 166,
   "metadata": {},
   "outputs": [
    {
     "name": "stdout",
     "output_type": "stream",
     "text": [
      "[[1, 2], [1, 2, 3], [1, 2, 3, 4], [1, 2, 3, 4, 5], [1, 2, 3, 5], [1, 2, 4], [1, 2, 4, 5], [1, 3], [1, 3, 4], [1, 3, 4, 5], [1, 3, 5], [2, 3], [2, 3, 4], [2, 3, 4, 5], [2, 4, 5], [2, 5], [3, 4], [3, 4, 5], [3, 5], [4, 5]]\n",
      "[[20, 21, 22, 23, 25], [20, 21, 22, 24], [20, 21, 22, 24, 25], [20, 21, 22, 25], [20, 21, 23, 24], [20, 21, 23, 24, 25], [20, 21, 23, 25], [20, 21, 24], [20, 21, 24, 25], [20, 21, 25], [20, 22, 23], [20, 22, 23, 24], [20, 22, 23, 24, 25], [20, 22, 23, 25], [20, 22, 24], [20, 22, 24, 25], [20, 22, 25], [20, 23, 24], [20, 23, 24, 25], [20, 24], [20, 24, 25], [21, 22, 23, 24], [21, 22, 23, 24, 25], [21, 22, 24, 25], [21, 23], [21, 24, 25], [22, 23, 24], [22, 23, 25], [22, 24], [22, 24, 25]]\n"
     ]
    }
   ],
   "source": [
    "print(sorted(seq_inicial_unica))\n",
    "print(sorted(seq_final_unica))"
   ]
  },
  {
   "cell_type": "code",
   "execution_count": 162,
   "metadata": {},
   "outputs": [
    {
     "name": "stdout",
     "output_type": "stream",
     "text": [
      "['1, 2', '1, 2, 3', '1, 2, 3, 4', '1, 2, 3, 4, 5', '1, 2, 3, 5', '1, 2, 4', '1, 2, 4, 5', '1, 3', '1, 3, 4', '1, 3, 4, 5', '1, 3, 5']\n"
     ]
    }
   ],
   "source": [
    "tst = []\n",
    "\n",
    "for x in sorted(seq_inicial_unica):\n",
    "    txt = ', '.join([str(y) for y in x])\n",
    "    tst.append(txt)\n",
    "\n",
    "print(tst)"
   ]
  },
  {
   "cell_type": "code",
   "execution_count": 163,
   "metadata": {},
   "outputs": [
    {
     "name": "stdout",
     "output_type": "stream",
     "text": [
      "{'1, 2': 0, '1, 2, 3': 0, '1, 2, 3, 4': 0, '1, 2, 3, 4, 5': 0, '1, 2, 3, 5': 0, '1, 2, 4': 0, '1, 2, 4, 5': 0, '1, 3': 0, '1, 3, 4': 0, '1, 3, 4, 5': 0, '1, 3, 5': 0}\n"
     ]
    }
   ],
   "source": [
    "d1 = dict([(k, 0) for k in tst])\n",
    "print(d1)"
   ]
  },
  {
   "cell_type": "code",
   "execution_count": 164,
   "metadata": {},
   "outputs": [
    {
     "ename": "NameError",
     "evalue": "name 'apostas' is not defined",
     "output_type": "error",
     "traceback": [
      "\u001b[1;31m---------------------------------------------------------------------------\u001b[0m",
      "\u001b[1;31mNameError\u001b[0m                                 Traceback (most recent call last)",
      "\u001b[1;32m<ipython-input-164-e6d477dcf13b>\u001b[0m in \u001b[0;36m<module>\u001b[1;34m()\u001b[0m\n\u001b[0;32m      1\u001b[0m \u001b[0mi\u001b[0m \u001b[1;33m=\u001b[0m \u001b[1;36m0\u001b[0m\u001b[1;33m\u001b[0m\u001b[0m\n\u001b[0;32m      2\u001b[0m \u001b[1;33m\u001b[0m\u001b[0m\n\u001b[1;32m----> 3\u001b[1;33m \u001b[1;32mwhile\u001b[0m \u001b[0mi\u001b[0m \u001b[1;33m<\u001b[0m \u001b[0mlen\u001b[0m\u001b[1;33m(\u001b[0m\u001b[0mapostas\u001b[0m\u001b[1;33m)\u001b[0m\u001b[1;33m:\u001b[0m\u001b[1;33m\u001b[0m\u001b[0m\n\u001b[0m\u001b[0;32m      4\u001b[0m     \u001b[0mj\u001b[0m \u001b[1;33m=\u001b[0m \u001b[1;36m0\u001b[0m\u001b[1;33m\u001b[0m\u001b[0m\n\u001b[0;32m      5\u001b[0m     \u001b[1;32mwhile\u001b[0m \u001b[0mj\u001b[0m \u001b[1;33m<\u001b[0m \u001b[0mlen\u001b[0m\u001b[1;33m(\u001b[0m\u001b[0mapostas\u001b[0m\u001b[1;33m)\u001b[0m\u001b[1;33m:\u001b[0m\u001b[1;33m\u001b[0m\u001b[0m\n",
      "\u001b[1;31mNameError\u001b[0m: name 'apostas' is not defined"
     ]
    }
   ],
   "source": [
    "i = 0\n",
    "\n",
    "while i < len(apostas):\n",
    "    j = 0\n",
    "    while j < len(apostas):\n",
    "        if i != j:\n",
    "            if len(set(apostas[i].numeros).intersection(apostas[j].numeros)) == 15:\n",
    "                del apostas[j]\n",
    "        j += 1\n",
    "#     print(len(set(a).intersection(apostas[i])))\n",
    "    i += 1"
   ]
  },
  {
   "cell_type": "code",
   "execution_count": null,
   "metadata": {
    "collapsed": true
   },
   "outputs": [],
   "source": [
    "# !pip install urllib urllib2"
   ]
  },
  {
   "cell_type": "code",
   "execution_count": null,
   "metadata": {
    "collapsed": true
   },
   "outputs": [],
   "source": [
    "# import urllib"
   ]
  },
  {
   "cell_type": "code",
   "execution_count": null,
   "metadata": {
    "collapsed": true
   },
   "outputs": [],
   "source": [
    "# page = urllib.request.urlopen(\"file:///Users/raphael/Documents/GitHub/python_scripts/D_LOTFAC.HTM\", 'r')"
   ]
  },
  {
   "cell_type": "code",
   "execution_count": null,
   "metadata": {
    "collapsed": true
   },
   "outputs": [],
   "source": [
    "# from bs4 import BeautifulSoup"
   ]
  },
  {
   "cell_type": "code",
   "execution_count": null,
   "metadata": {
    "collapsed": true
   },
   "outputs": [],
   "source": [
    "# soup = BeautifulSoup(page.read(), 'html.parser')"
   ]
  },
  {
   "cell_type": "code",
   "execution_count": null,
   "metadata": {
    "collapsed": true
   },
   "outputs": [],
   "source": [
    "# soup = BeautifulSoup(page.read(), 'lxml')"
   ]
  },
  {
   "cell_type": "code",
   "execution_count": null,
   "metadata": {
    "collapsed": true
   },
   "outputs": [],
   "source": [
    "# table = soup.find_all('table')[0]"
   ]
  },
  {
   "cell_type": "code",
   "execution_count": null,
   "metadata": {
    "collapsed": true
   },
   "outputs": [],
   "source": [
    "# for row in table.find_all('tr'):\n",
    "#     columns = row.find_all(['td', 'th'])\n",
    "#     for col in columns:\n",
    "#         print(col.text())"
   ]
  },
  {
   "cell_type": "code",
   "execution_count": null,
   "metadata": {
    "collapsed": true
   },
   "outputs": [],
   "source": [
    "# i = 1\n",
    "# for row in soup.findAll('table')[0].findAll('tr'):\n",
    "#     concurso = row.findAll('td')\n",
    "#     print(concurso)\n",
    "    \n",
    "#     i += 1"
   ]
  },
  {
   "cell_type": "code",
   "execution_count": null,
   "metadata": {
    "collapsed": true
   },
   "outputs": [],
   "source": [
    "par_impar_lst = []\n",
    "\n",
    "for x in concursos:\n",
    "    par_impar_lst.append([x.impar, x.par])\n",
    "  \n",
    "df_v2 = pd.DataFrame(par_impar_lst, columns=['impar', 'par'])\n",
    "df_v2.set_index(['impar'])\n",
    "# par_impar_dic = dict(par_impar_lst)\n",
    "# print(par_impar_dic)"
   ]
  },
  {
   "cell_type": "code",
   "execution_count": null,
   "metadata": {
    "collapsed": true
   },
   "outputs": [],
   "source": [
    "df_v2_group = df_v2.groupby(['impar', 'par'])['impar'].count()"
   ]
  },
  {
   "cell_type": "code",
   "execution_count": null,
   "metadata": {
    "collapsed": true
   },
   "outputs": [],
   "source": [
    "df_v2_group"
   ]
  },
  {
   "cell_type": "code",
   "execution_count": null,
   "metadata": {
    "collapsed": true
   },
   "outputs": [],
   "source": [
    "df_v3 = pd.DataFrame(df_v2_group)"
   ]
  },
  {
   "cell_type": "code",
   "execution_count": null,
   "metadata": {
    "collapsed": true
   },
   "outputs": [],
   "source": [
    "df_v3['perc'] = [(x*100)/df_v2_group.values.sum() for x in df_v2_group.values]"
   ]
  },
  {
   "cell_type": "code",
   "execution_count": null,
   "metadata": {
    "collapsed": true
   },
   "outputs": [],
   "source": [
    "df_v3"
   ]
  },
  {
   "cell_type": "code",
   "execution_count": 143,
   "metadata": {
    "collapsed": true
   },
   "outputs": [],
   "source": [
    "menor = []\n",
    "maior = []\n",
    "menor_maior_list = []\n",
    "menor_maior_dict = {}\n",
    "menor_maior_strg = []"
   ]
  },
  {
   "cell_type": "code",
   "execution_count": 144,
   "metadata": {
    "collapsed": true
   },
   "outputs": [],
   "source": [
    "for x in concursos_10_ultimos:\n",
    "    menor.append(x.numeros[0])\n",
    "    maior.append(x.numeros[-1])\n",
    "    menor_maior_list.append([x.numeros[0], x.numeros[-1]])\n",
    "    menor_maior_strg.append(str(x.numeros[0]) + ' - ' + str(x.numeros[-1]))\n",
    "#     menor_maior.update({str(x.numeros[0]) + ' - ' + str(x.numeros[-1]): 1})"
   ]
  },
  {
   "cell_type": "code",
   "execution_count": 145,
   "metadata": {
    "collapsed": true
   },
   "outputs": [],
   "source": [
    "import matplotlib.pyplot as plt"
   ]
  },
  {
   "cell_type": "code",
   "execution_count": 146,
   "metadata": {
    "collapsed": true
   },
   "outputs": [],
   "source": [
    "menor_freq = np.histogram(menor, bins=np.arange(1,11))"
   ]
  },
  {
   "cell_type": "code",
   "execution_count": 147,
   "metadata": {
    "collapsed": true
   },
   "outputs": [],
   "source": [
    "menor_perc = [(x * 100)/len(concursos_10_ultimos) for x in menor_freq[0]]"
   ]
  },
  {
   "cell_type": "code",
   "execution_count": 148,
   "metadata": {},
   "outputs": [
    {
     "data": {
      "text/plain": [
       "[30.0, 30.0, 20.0, 20.0, 0.0, 0.0, 0.0, 0.0, 0.0]"
      ]
     },
     "execution_count": 148,
     "metadata": {},
     "output_type": "execute_result"
    }
   ],
   "source": [
    "menor_perc"
   ]
  },
  {
   "cell_type": "code",
   "execution_count": 149,
   "metadata": {},
   "outputs": [
    {
     "data": {
      "text/plain": [
       "(array([0, 0, 0, 0, 0, 0, 0, 0, 1, 9], dtype=int64),\n",
       " array([15, 16, 17, 18, 19, 20, 21, 22, 23, 24, 25]))"
      ]
     },
     "execution_count": 149,
     "metadata": {},
     "output_type": "execute_result"
    }
   ],
   "source": [
    "np.histogram(maior, bins=np.arange(15,26))"
   ]
  },
  {
   "cell_type": "code",
   "execution_count": 150,
   "metadata": {},
   "outputs": [
    {
     "data": {
      "text/plain": [
       "[[4, 25], [4, 24], [3, 25], [1, 24], [2, 25]]"
      ]
     },
     "execution_count": 150,
     "metadata": {},
     "output_type": "execute_result"
    }
   ],
   "source": [
    "menor_maior_list[:5]"
   ]
  },
  {
   "cell_type": "code",
   "execution_count": 151,
   "metadata": {},
   "outputs": [
    {
     "data": {
      "text/plain": [
       "['4 - 25', '4 - 24', '3 - 25', '1 - 24', '2 - 25']"
      ]
     },
     "execution_count": 151,
     "metadata": {},
     "output_type": "execute_result"
    }
   ],
   "source": [
    "menor_maior_strg[:5]"
   ]
  },
  {
   "cell_type": "code",
   "execution_count": 152,
   "metadata": {
    "collapsed": true
   },
   "outputs": [],
   "source": [
    "df_menor_maior_list = pd.DataFrame(menor_maior_list, columns=['menor', 'maior'])"
   ]
  },
  {
   "cell_type": "code",
   "execution_count": 153,
   "metadata": {},
   "outputs": [
    {
     "data": {
      "text/html": [
       "<div>\n",
       "<style>\n",
       "    .dataframe thead tr:only-child th {\n",
       "        text-align: right;\n",
       "    }\n",
       "\n",
       "    .dataframe thead th {\n",
       "        text-align: left;\n",
       "    }\n",
       "\n",
       "    .dataframe tbody tr th {\n",
       "        vertical-align: top;\n",
       "    }\n",
       "</style>\n",
       "<table border=\"1\" class=\"dataframe\">\n",
       "  <thead>\n",
       "    <tr style=\"text-align: right;\">\n",
       "      <th></th>\n",
       "      <th></th>\n",
       "    </tr>\n",
       "    <tr>\n",
       "      <th>menor</th>\n",
       "      <th>maior</th>\n",
       "    </tr>\n",
       "  </thead>\n",
       "  <tbody>\n",
       "    <tr>\n",
       "      <th rowspan=\"2\" valign=\"top\">4</th>\n",
       "      <th>25</th>\n",
       "    </tr>\n",
       "    <tr>\n",
       "      <th>24</th>\n",
       "    </tr>\n",
       "    <tr>\n",
       "      <th>3</th>\n",
       "      <th>25</th>\n",
       "    </tr>\n",
       "    <tr>\n",
       "      <th>1</th>\n",
       "      <th>24</th>\n",
       "    </tr>\n",
       "    <tr>\n",
       "      <th rowspan=\"2\" valign=\"top\">2</th>\n",
       "      <th>25</th>\n",
       "    </tr>\n",
       "    <tr>\n",
       "      <th>25</th>\n",
       "    </tr>\n",
       "    <tr>\n",
       "      <th rowspan=\"2\" valign=\"top\">1</th>\n",
       "      <th>25</th>\n",
       "    </tr>\n",
       "    <tr>\n",
       "      <th>23</th>\n",
       "    </tr>\n",
       "    <tr>\n",
       "      <th>2</th>\n",
       "      <th>24</th>\n",
       "    </tr>\n",
       "    <tr>\n",
       "      <th>3</th>\n",
       "      <th>24</th>\n",
       "    </tr>\n",
       "  </tbody>\n",
       "</table>\n",
       "</div>"
      ],
      "text/plain": [
       "Empty DataFrame\n",
       "Columns: []\n",
       "Index: [(4, 25), (4, 24), (3, 25), (1, 24), (2, 25), (2, 25), (1, 25), (1, 23), (2, 24), (3, 24)]"
      ]
     },
     "execution_count": 153,
     "metadata": {},
     "output_type": "execute_result"
    }
   ],
   "source": [
    "df_menor_maior_list.set_index(['menor', 'maior'])"
   ]
  },
  {
   "cell_type": "code",
   "execution_count": 154,
   "metadata": {
    "collapsed": true
   },
   "outputs": [],
   "source": [
    "menor_maior_freq = df_menor_maior_list.groupby(['menor', 'maior']).count()"
   ]
  },
  {
   "cell_type": "code",
   "execution_count": 155,
   "metadata": {},
   "outputs": [
    {
     "data": {
      "text/plain": [
       "array([], shape=(9, 0), dtype=float64)"
      ]
     },
     "execution_count": 155,
     "metadata": {},
     "output_type": "execute_result"
    }
   ],
   "source": [
    "menor_maior_freq.values"
   ]
  },
  {
   "cell_type": "code",
   "execution_count": 156,
   "metadata": {
    "collapsed": true
   },
   "outputs": [],
   "source": [
    "menor_maior_perc = [(x*100)/len(concursos) for x in menor_maior_freq.values]"
   ]
  },
  {
   "cell_type": "code",
   "execution_count": 157,
   "metadata": {
    "collapsed": true
   },
   "outputs": [],
   "source": [
    "df = pd.DataFrame(menor_maior_freq)"
   ]
  },
  {
   "cell_type": "code",
   "execution_count": 158,
   "metadata": {
    "collapsed": true
   },
   "outputs": [],
   "source": [
    "df['percentual'] = menor_maior_perc"
   ]
  },
  {
   "cell_type": "code",
   "execution_count": 159,
   "metadata": {},
   "outputs": [
    {
     "data": {
      "text/html": [
       "<div>\n",
       "<style>\n",
       "    .dataframe thead tr:only-child th {\n",
       "        text-align: right;\n",
       "    }\n",
       "\n",
       "    .dataframe thead th {\n",
       "        text-align: left;\n",
       "    }\n",
       "\n",
       "    .dataframe tbody tr th {\n",
       "        vertical-align: top;\n",
       "    }\n",
       "</style>\n",
       "<table border=\"1\" class=\"dataframe\">\n",
       "  <thead>\n",
       "    <tr style=\"text-align: right;\">\n",
       "      <th></th>\n",
       "      <th></th>\n",
       "      <th>percentual</th>\n",
       "    </tr>\n",
       "    <tr>\n",
       "      <th>menor</th>\n",
       "      <th>maior</th>\n",
       "      <th></th>\n",
       "    </tr>\n",
       "  </thead>\n",
       "  <tbody>\n",
       "    <tr>\n",
       "      <th rowspan=\"3\" valign=\"top\">1</th>\n",
       "      <th>23</th>\n",
       "      <td>[]</td>\n",
       "    </tr>\n",
       "    <tr>\n",
       "      <th>24</th>\n",
       "      <td>[]</td>\n",
       "    </tr>\n",
       "    <tr>\n",
       "      <th>25</th>\n",
       "      <td>[]</td>\n",
       "    </tr>\n",
       "    <tr>\n",
       "      <th rowspan=\"2\" valign=\"top\">2</th>\n",
       "      <th>24</th>\n",
       "      <td>[]</td>\n",
       "    </tr>\n",
       "    <tr>\n",
       "      <th>25</th>\n",
       "      <td>[]</td>\n",
       "    </tr>\n",
       "    <tr>\n",
       "      <th rowspan=\"2\" valign=\"top\">3</th>\n",
       "      <th>24</th>\n",
       "      <td>[]</td>\n",
       "    </tr>\n",
       "    <tr>\n",
       "      <th>25</th>\n",
       "      <td>[]</td>\n",
       "    </tr>\n",
       "    <tr>\n",
       "      <th rowspan=\"2\" valign=\"top\">4</th>\n",
       "      <th>24</th>\n",
       "      <td>[]</td>\n",
       "    </tr>\n",
       "    <tr>\n",
       "      <th>25</th>\n",
       "      <td>[]</td>\n",
       "    </tr>\n",
       "  </tbody>\n",
       "</table>\n",
       "</div>"
      ],
      "text/plain": [
       "            percentual\n",
       "menor maior           \n",
       "1     23            []\n",
       "      24            []\n",
       "      25            []\n",
       "2     24            []\n",
       "      25            []\n",
       "3     24            []\n",
       "      25            []\n",
       "4     24            []\n",
       "      25            []"
      ]
     },
     "execution_count": 159,
     "metadata": {},
     "output_type": "execute_result"
    }
   ],
   "source": [
    "df"
   ]
  },
  {
   "cell_type": "code",
   "execution_count": null,
   "metadata": {
    "collapsed": true
   },
   "outputs": [],
   "source": [
    "df_menor_maior_str = pd.DataFrame(menor_maior_strg, columns=['col'])"
   ]
  },
  {
   "cell_type": "code",
   "execution_count": null,
   "metadata": {
    "collapsed": true
   },
   "outputs": [],
   "source": [
    "menor_maior_group = df_menor_maior_str.groupby('col')['col'].count()"
   ]
  },
  {
   "cell_type": "code",
   "execution_count": null,
   "metadata": {
    "collapsed": true
   },
   "outputs": [],
   "source": [
    "df_v1 = pd.DataFrame(menor_maior_group)"
   ]
  },
  {
   "cell_type": "code",
   "execution_count": null,
   "metadata": {
    "collapsed": true
   },
   "outputs": [],
   "source": [
    "df_v1"
   ]
  },
  {
   "cell_type": "code",
   "execution_count": null,
   "metadata": {
    "collapsed": true
   },
   "outputs": [],
   "source": [
    "# plt.hist(df_v1)\n",
    "# plt.show()"
   ]
  },
  {
   "cell_type": "code",
   "execution_count": null,
   "metadata": {
    "collapsed": true
   },
   "outputs": [],
   "source": [
    "# np.histogram(menor_maior)"
   ]
  },
  {
   "cell_type": "code",
   "execution_count": null,
   "metadata": {
    "collapsed": true
   },
   "outputs": [],
   "source": [
    "# plt.hist([menor, maior], bins=np.arange(1,26))\n",
    "# plt.xlabel('Menor Numero Sorteado')\n",
    "# plt.ylabel('Frequencia')\n",
    "# plt.grid(True)\n",
    "# plt.show()"
   ]
  },
  {
   "cell_type": "code",
   "execution_count": null,
   "metadata": {
    "collapsed": true
   },
   "outputs": [],
   "source": [
    "# gravar_jogo(apostas)"
   ]
  },
  {
   "cell_type": "code",
   "execution_count": null,
   "metadata": {
    "collapsed": true
   },
   "outputs": [],
   "source": [
    "# from __future__ import print_function\n",
    " \n",
    "# import MySQLdb as my\n",
    " \n",
    "# try:\n",
    " \n",
    "#     db = my.connect(host=\"127.0.0.1\",\n",
    "#                     user=\"root\",\n",
    "#                     passwd=\"\",\n",
    "#                     db=\"world\"\n",
    "#                     )\n",
    " \n",
    "#     cursor = db.cursor()\n",
    " \n",
    "#     sql = \"select * from city where id < 10\"\n",
    "#     number_of_rows = cursor.execute(sql)\n",
    " \n",
    "#     print(cursor.fetchone())  # fetch the first row only\n",
    " \n",
    "#     db.close()\n",
    " \n",
    "# except my.DataError as e:\n",
    "#     print(\"DataError\")\n",
    "#     print(e)\n",
    " \n",
    "# except my.InternalError as e:\n",
    "#     print(\"InternalError\")\n",
    "#     print(e)\n",
    " \n",
    "# except my.IntegrityError as e:\n",
    "#     print(\"IntegrityError\")\n",
    "#     print(e)\n",
    " \n",
    "# except my.OperationalError as e:\n",
    "#     print(\"OperationalError\")\n",
    "#     print(e)\n",
    " \n",
    "# except my.NotSupportedError as e:\n",
    "#     print(\"NotSupportedError\")\n",
    "#     print(e)\n",
    " \n",
    "# except my.ProgrammingError as e:\n",
    "#     print(\"ProgrammingError\")\n",
    "#     print(e)\n",
    " \n",
    "# except :\n",
    "#     print(\"Unknown error occurred\")"
   ]
  },
  {
   "cell_type": "code",
   "execution_count": null,
   "metadata": {
    "collapsed": true
   },
   "outputs": [],
   "source": [
    "from reportlab.pdfgen import canvas\n",
    "from reportlab.lib.units import cm\n",
    "from reportlab.graphics.shapes import Rect\n",
    "from reportlab.lib.colors import black"
   ]
  },
  {
   "cell_type": "code",
   "execution_count": null,
   "metadata": {
    "collapsed": true
   },
   "outputs": [],
   "source": [
    "c = canvas.Canvas(\"formulario.pdf\", pagesize=(8.3*cm, 18.8*cm))\n",
    "# c.drawString(100,750, \"Bem vindo ao reportlab!\")\n",
    "# c.setFillColor()\n",
    "# c.setPageTransition(cm)\n",
    "\n",
    "# c.rect(1.1*cm, 13.6*cm, 0.5*cm, 0.3*cm, fill=1)\n",
    "# c.rect(2.4*cm, 13.6*cm, 0.5*cm, 0.3*cm, fill=1)\n",
    "# c.rect(3.7*cm, 13.6*cm, 0.5*cm, 0.3*cm, fill=1)\n",
    "# c.rect(5*cm, 13.6*cm, 0.5*cm, 0.3*cm, fill=1)\n",
    "# c.rect(6.3*cm, 13.6*cm, 0.5*cm, 0.3*cm, fill=1)\n",
    "\n",
    "# c.rect(1.1*cm, 13.2*cm, 0.5*cm, 0.3*cm, fill=1)\n",
    "# c.rect(2.4*cm, 13.2*cm, 0.5*cm, 0.3*cm, fill=1)\n",
    "# c.rect(3.7*cm, 13.2*cm, 0.5*cm, 0.3*cm, fill=1)\n",
    "# c.rect(5*cm, 13.2*cm, 0.5*cm, 0.3*cm, fill=1)\n",
    "# c.rect(6.3*cm, 13.2*cm, 0.5*cm, 0.3*cm, fill=1)\n",
    "\n",
    "c.rect(1.1*cm, 8.55*cm, 0.5*cm, 0.3*cm, fill=1)\n",
    "c.rect(2.4*cm, 8.55*cm, 0.5*cm, 0.3*cm, fill=1)\n",
    "c.rect(3.7*cm, 8.55*cm, 0.5*cm, 0.3*cm, fill=1)\n",
    "c.rect(5.0*cm, 8.55*cm, 0.5*cm, 0.3*cm, fill=1)\n",
    "c.rect(6.3*cm, 8.55*cm, 0.5*cm, 0.3*cm, fill=1)\n",
    "\n",
    "c.rect(1.1*cm, 8.1*cm, 0.5*cm, 0.3*cm, fill=1)\n",
    "c.rect(2.4*cm, 8.1*cm, 0.5*cm, 0.3*cm, fill=1)\n",
    "c.rect(3.7*cm, 8.1*cm, 0.5*cm, 0.3*cm, fill=1)\n",
    "c.rect(5.0*cm, 8.1*cm, 0.5*cm, 0.3*cm, fill=1)\n",
    "c.rect(6.3*cm, 8.1*cm, 0.5*cm, 0.3*cm, fill=1)\n",
    "\n",
    "c.rect(1.1*cm, 7.65*cm, 0.5*cm, 0.3*cm, fill=1)\n",
    "c.rect(2.4*cm, 7.65*cm, 0.5*cm, 0.3*cm, fill=1)\n",
    "c.rect(3.7*cm, 7.65*cm, 0.5*cm, 0.3*cm, fill=1)\n",
    "c.rect(5.0*cm, 7.65*cm, 0.5*cm, 0.3*cm, fill=1)\n",
    "c.rect(6.3*cm, 7.65*cm, 0.5*cm, 0.3*cm, fill=1)\n",
    "\n",
    "c.rect(1.1*cm, 7.2*cm, 0.5*cm, 0.3*cm, fill=1)\n",
    "c.rect(2.4*cm, 7.2*cm, 0.5*cm, 0.3*cm, fill=1)\n",
    "c.rect(3.7*cm, 7.2*cm, 0.5*cm, 0.3*cm, fill=1)\n",
    "c.rect(5.0*cm, 7.2*cm, 0.5*cm, 0.3*cm, fill=1)\n",
    "c.rect(6.3*cm, 7.2*cm, 0.5*cm, 0.3*cm, fill=1)\n",
    "\n",
    "c.rect(1.1*cm, 6.75*cm, 0.5*cm, 0.3*cm, fill=1)\n",
    "c.rect(2.4*cm, 6.75*cm, 0.5*cm, 0.3*cm, fill=1)\n",
    "c.rect(3.7*cm, 6.75*cm, 0.5*cm, 0.3*cm, fill=1)\n",
    "c.rect(5.0*cm, 6.75*cm, 0.5*cm, 0.3*cm, fill=1)\n",
    "c.rect(6.3*cm, 6.75*cm, 0.5*cm, 0.3*cm, fill=1)\n",
    "\n",
    "# c.rect(1,520,22,13, fill=1)\n",
    "# c.rect(220,520,22,13, fill=1)\n",
    "# c.rect(0,0,8.3*cm,18.8*cm, fill=0)\n",
    "c.save()"
   ]
  },
  {
   "cell_type": "markdown",
   "metadata": {
    "collapsed": true
   },
   "source": [
    "# Conferencia"
   ]
  },
  {
   "cell_type": "code",
   "execution_count": null,
   "metadata": {
    "collapsed": true
   },
   "outputs": [],
   "source": [
    "def verificar_apostas(data_sorteio):\n",
    "    try:\n",
    "        concurso\n",
    "        \n",
    "    except Exception as ex:\n",
    "        print(ex)\n",
    "    "
   ]
  },
  {
   "cell_type": "markdown",
   "metadata": {},
   "source": [
    "# Teste"
   ]
  },
  {
   "cell_type": "code",
   "execution_count": null,
   "metadata": {
    "collapsed": true,
    "scrolled": true
   },
   "outputs": [],
   "source": [
    "total = 0\n",
    "\n",
    "for jogo in jogos_salvos:\n",
    "    for c in concursos:\n",
    "        if len(set(jogo.numeros).intersection(c.numeros)) == 15:\n",
    "            print(\"Concurso: \", c.id)\n",
    "            print(\"ID Aposta: \", jogo.id)\n",
    "            print(\"Data Sorteio: \", c.data_sorteio)\n",
    "#             print(jogo.numeros)\n",
    "            print(c.numeros)\n",
    "            print(\"\\n\")\n",
    "            total += 1\n",
    "            break\n",
    "            \n",
    "print('total jogos ganahdores: %s' % (total))"
   ]
  },
  {
   "cell_type": "code",
   "execution_count": 47,
   "metadata": {
    "collapsed": true
   },
   "outputs": [],
   "source": [
    "jogos = []\n",
    "    \n",
    "for a in np.arange(1, 26 - 14):\n",
    "    if (a > 3):\n",
    "        break\n",
    "        \n",
    "    for b in np.arange(a + 1, 26 - 13):\n",
    "        for c in np.arange(b + 1, 26 - 12):\n",
    "            for d in np.arange(c+1, 26 - 11):\n",
    "                for e in np.arange(d+1, 26 - 10):\n",
    "                    for f in np.arange(e+1, 26 - 9):\n",
    "                        for g in np.arange(f+1, 26 - 8):\n",
    "                            for h in np.arange(g+1, 26 - 7):\n",
    "                                for i in np.arange(h+1, 26 - 6):\n",
    "                                    for j in np.arange(i+1, 26 - 5):\n",
    "                                        for k in np.arange(j+1, 26 - 4):\n",
    "                                            for l in np.arange(k+1, 26 - 3):\n",
    "                                                for m in np.arange(l+1, 26 - 2):\n",
    "                                                    for n in np.arange(m+1, 26 - 1):\n",
    "                                                        for o in np.arange(n+1, 26 - 0):\n",
    "                                                            jogo = Jogo()\n",
    "                                                            num = (a, b, c, d, e, f, g, h, i, j, k, l, m, n, o)\n",
    "                                                            jogo.set_numeros(num)\n",
    "                                                            jogos.append(jogo)"
   ]
  },
  {
   "cell_type": "code",
   "execution_count": 48,
   "metadata": {},
   "outputs": [
    {
     "name": "stdout",
     "output_type": "stream",
     "text": [
      "3098216\n"
     ]
    }
   ],
   "source": [
    "print(len(jogos))"
   ]
  },
  {
   "cell_type": "code",
   "execution_count": null,
   "metadata": {
    "collapsed": true
   },
   "outputs": [],
   "source": []
  }
 ],
 "metadata": {
  "kernelspec": {
   "display_name": "Python 3",
   "language": "python",
   "name": "python3"
  },
  "language_info": {
   "codemirror_mode": {
    "name": "ipython",
    "version": 3
   },
   "file_extension": ".py",
   "mimetype": "text/x-python",
   "name": "python",
   "nbconvert_exporter": "python",
   "pygments_lexer": "ipython3",
   "version": "3.6.3"
  }
 },
 "nbformat": 4,
 "nbformat_minor": 2
}
