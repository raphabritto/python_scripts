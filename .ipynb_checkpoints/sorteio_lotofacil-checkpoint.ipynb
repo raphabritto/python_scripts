{
 "cells": [
  {
   "cell_type": "code",
   "execution_count": 1,
   "metadata": {
    "collapsed": true
   },
   "outputs": [],
   "source": [
    "import numpy as np\n",
    "import pandas as pd\n",
    "import csv\n",
    "import mysql.connector\n",
    "from datetime import date, datetime\n",
    "import random\n",
    "import time"
   ]
  },
  {
   "cell_type": "code",
   "execution_count": 2,
   "metadata": {
    "collapsed": true
   },
   "outputs": [],
   "source": [
    "class Lotofacil:\n",
    "    def __init__(self):\n",
    "        self.id = 0\n",
    "        self.data_sorteio = None\n",
    "        self.ganhadores_15_numeros = 0\n",
    "        self.valor_rateio_15_numeros = 0\n",
    "        self.valor_rateio_14_numeros = 0\n",
    "        self.valor_rateio_13_numeros = 0\n",
    "        self.valor_rateio_12_numeros = 0\n",
    "        self.valor_rateio_11_numeros = 0\n",
    "        self.par = 0\n",
    "        self.impar = 0\n",
    "        self.numeros = ()\n",
    "       \n",
    "    def setParImpar(self):\n",
    "        self.par = sum([1 if x % 2 == 0 else 0 for x in self.numeros])\n",
    "        self.impar = len(self.numeros) - self.par"
   ]
  },
  {
   "cell_type": "code",
   "execution_count": 3,
   "metadata": {
    "collapsed": true
   },
   "outputs": [],
   "source": [
    "class Jogo:\n",
    "    def __init__(self):\n",
    "        self.id = None\n",
    "        self.data_cadastro = None\n",
    "        self.quantidade = 0\n",
    "        self.par = 0\n",
    "        self.impar = 0\n",
    "        numeros = ()\n",
    "        \n",
    "    def sorteio(self, qtdNumeros = 15):\n",
    "        self.numeros = sorted(tuple(np.random.choice(np.arange(1, 26), qtdNumeros, replace= False)))\n",
    "        self.setQuantidade()\n",
    "        self.setParImpar()\n",
    "        \n",
    "    def setQuantidade(self):\n",
    "        self.quantidade = len(self.numeros)\n",
    "        \n",
    "    def setParImpar(self):\n",
    "        self.par = sum([1 if x % 2 == 0 else 0 for x in self.numeros])\n",
    "        self.impar = len(self.numeros) - self.par"
   ]
  },
  {
   "cell_type": "code",
   "execution_count": 68,
   "metadata": {
    "collapsed": true
   },
   "outputs": [],
   "source": [
    "def get_concursos_lotofacil_csv(arquivo):\n",
    "    concursos = []\n",
    "    \n",
    "    with open(arquivo) as file:\n",
    "        lotofacil = csv.reader(file, delimiter=';')\n",
    "        data = list(lotofacil)\n",
    "    \n",
    "    for x in data[1:]:\n",
    "        concurso = Lotofacil()\n",
    "        concurso.id = int(x[0])\n",
    "        concurso.data_sorteio = x[1]\n",
    "        concurso.numeros = sorted(list(map(int, x[2:17])))\n",
    "        concurso.ganhadores_15_numeros = int(x[17])\n",
    "        concurso.valor_rateio_15_numeros = float(x[18].replace('.', '').replace(',', '.'))\n",
    "        concurso.valor_rateio_14_numeros = float(x[19].replace('.', '').replace(',', '.'))\n",
    "        concurso.valor_rateio_13_numeros = float(x[20].replace('.', '').replace(',', '.'))\n",
    "        concurso.valor_rateio_12_numeros = float(x[21].replace('.', '').replace(',', '.'))\n",
    "        concurso.valor_rateio_11_numeros = float(x[22].replace('.', '').replace(',', '.'))\n",
    "        concurso.setParImpar()\n",
    "        concursos.append(concurso)\n",
    "    \n",
    "    return tuple(concursos)"
   ]
  },
  {
   "cell_type": "code",
   "execution_count": 69,
   "metadata": {},
   "outputs": [],
   "source": [
    "def gerar_jogos(qtd_apostas = 1000, numeros_por_jogo = 15, menor_numero = (), maior_numero = ()):\n",
    "    count = 0\n",
    "    jogos = []\n",
    "    qtd_tentativas = 0\n",
    "    \n",
    "    try:\n",
    "    \n",
    "        while (count < qtd_apostas and qtd_tentativas < 1000):\n",
    "            add = False\n",
    "            jogo = Jogo()\n",
    "            jogo.sorteio(numeros_por_jogo)\n",
    "\n",
    "            if (jogo.numeros[0] not in menor_numero or jogo.numeros[-1] not in maior_numero):\n",
    "                qtd_tentativas += 1\n",
    "                continue\n",
    "\n",
    "            for i in jogos:\n",
    "                if (len(i.numeros) == len(jogo.numeros)):\n",
    "                    if (len(set(i.numeros).intersection(jogo.numeros)) == len(jogo.numeros)):\n",
    "                        qtd_tentativas += 1\n",
    "                        break\n",
    "\n",
    "    #         if (add):\n",
    "            jogos.append(jogo)\n",
    "            count += 1\n",
    "            qtd_tentativas = 0\n",
    "            \n",
    "        return tuple(jogos)\n",
    "            \n",
    "    except Exception as ex:\n",
    "        return ex"
   ]
  },
  {
   "cell_type": "code",
   "execution_count": 6,
   "metadata": {
    "collapsed": true
   },
   "outputs": [],
   "source": [
    "def filtrar_concursos_por_numero(concursos, inicial, final):\n",
    "    concursos_filtrados = []\n",
    "    \n",
    "    for c in concursos:\n",
    "        if (c.id >= inicial and c.id <= final):\n",
    "            concursos_filtrados.append(c)\n",
    "    \n",
    "    return concursos_filtrados"
   ]
  },
  {
   "cell_type": "code",
   "execution_count": 7,
   "metadata": {
    "collapsed": true
   },
   "outputs": [],
   "source": [
    "def filtrar_ultimos_concursos(concursos, ultimos):\n",
    "    concursos_filtrados = []\n",
    "    \n",
    "    if (ultimos is not None):\n",
    "        concursos_filtrados = concursos[len(concursos)-ultimos:]\n",
    "        \n",
    "    return concursos_filtrados"
   ]
  },
  {
   "cell_type": "code",
   "execution_count": 8,
   "metadata": {
    "collapsed": true
   },
   "outputs": [],
   "source": [
    "def filtrar_concurso_por_numeros(concursos, numeros):\n",
    "    concursos_filtrados = []\n",
    "    \n",
    "    for c in concursos:\n",
    "        if (len(set(c.numeros).intersection(numeros)) == len(numeros)):\n",
    "            concursos_filtrados.append(c)\n",
    "#         if len(set(apostas[i].numeros).intersection(notin[j])) == len(notin[j]):\n",
    "    \n",
    "    return concursos_filtrados"
   ]
  },
  {
   "cell_type": "code",
   "execution_count": 37,
   "metadata": {
    "collapsed": true
   },
   "outputs": [],
   "source": [
    "def imprimir_concursos(concursos):\n",
    "    print(\"Total concursos: %s \\n\" % (len(concursos)))\n",
    "    for c in concursos:\n",
    "        print(\"Concurso: \", c.id)\n",
    "        print(\"Data Sorteio: \", c.data_sorteio)\n",
    "        print(\"Ganhadores 15 pontos: %s \" % (c.ganhadores_15_numeros))\n",
    "        print(\"Impares: %s\"% (c.impar))\n",
    "        print(\"Pares: %s\" % (c.par))\n",
    "        print(c.numeros)\n",
    "        print(\"\\n\")"
   ]
  },
  {
   "cell_type": "code",
   "execution_count": 10,
   "metadata": {
    "collapsed": true
   },
   "outputs": [],
   "source": [
    "def imprimir_aposta(apostas):\n",
    "    print(\"Total apostas: %s \\n\" % (len(apostas)))\n",
    "    for a in apostas:\n",
    "#         print(\"ID: \", a.id)\n",
    "#         print(\"Data: \", a.data_sorteio)\n",
    "        print(\"Impares: %s - Pares: %s\" % (a.impar, a.par))\n",
    "        print(a.numeros)\n",
    "        print(\"\\n\")"
   ]
  },
  {
   "cell_type": "code",
   "execution_count": 11,
   "metadata": {
    "collapsed": true
   },
   "outputs": [],
   "source": [
    "def imprimir_jogo(jogos):\n",
    "    print(\"Total jogos: %s \\n\" % (len(jogos)))\n",
    "    for a in jogos:\n",
    "        print(\"ID: \", a.id)\n",
    "        print(\"Data Cadastro: \", a.data_cadastro)\n",
    "        print(\"Numeros: %s - Impares: %s - Pares: %s\" % (len(a.numeros), a.impar, a.par))\n",
    "        print(a.numeros)\n",
    "        print(\"\\n\")"
   ]
  },
  {
   "cell_type": "code",
   "execution_count": 70,
   "metadata": {
    "collapsed": true
   },
   "outputs": [],
   "source": [
    "def filtrar_jogo_menor_maior(jogos, menor = (), maior = ()):\n",
    "    apostas_filtradas = []\n",
    "    \n",
    "    if (type(menor) != tuple):\n",
    "        menor = tuple(menor)\n",
    "\n",
    "    for jogo in jogos:\n",
    "        if (jogo.numeros[0] in menor and jogo.numeros[-1] in maior):\n",
    "            apostas_filtradas.append(jogo)\n",
    "        \n",
    "    return tuple(apostas_filtradas)"
   ]
  },
  {
   "cell_type": "code",
   "execution_count": 79,
   "metadata": {
    "collapsed": true
   },
   "outputs": [],
   "source": [
    "def filtrar_jogo_impar_par(jogos, impar = ()):\n",
    "    apostas_filtradas = []\n",
    "    \n",
    "    for jogo in jogos:\n",
    "        for i in impar:\n",
    "            if (jogo.impar == i):\n",
    "                apostas_filtradas.append(jogo)\n",
    "        \n",
    "    return tuple(apostas_filtradas)"
   ]
  },
  {
   "cell_type": "code",
   "execution_count": 14,
   "metadata": {
    "collapsed": true
   },
   "outputs": [],
   "source": [
    "def filtrar_jogo_por_numeros(jogos, numeros, match):\n",
    "    apostas_filtradas = []\n",
    "    \n",
    "    for j in jogos:\n",
    "        if (len(set(j.numeros).intersection(numeros)) >= match):\n",
    "            apostas_filtradas.append(j)\n",
    "        \n",
    "    return apostas_filtradas"
   ]
  },
  {
   "cell_type": "code",
   "execution_count": 92,
   "metadata": {},
   "outputs": [],
   "source": [
    "# def filtrar_jogo_sequencia(jogos, sequencia = ()):\n",
    "#     apostas_filtradas = []\n",
    "#     add = True\n",
    "    \n",
    "#     for jogo in jogos:\n",
    "#         for s in sequencia:\n",
    "#             if (len(set(jogo.numeros).intersection(s)) == len(s)):\n",
    "#                 add = False\n",
    "#                 break\n",
    "                \n",
    "#         if (add):\n",
    "#             apostas_filtradas.append(jogo)\n",
    "        \n",
    "#     return tuple(apostas_filtradas)"
   ]
  },
  {
   "cell_type": "code",
   "execution_count": 179,
   "metadata": {
    "collapsed": true
   },
   "outputs": [],
   "source": [
    "def filtrar_jogo_sequencia(jogos, sequencia = ()):\n",
    "    apostas_filtradas = []\n",
    "    \n",
    "    for jogo in jogos:\n",
    "        if (len(set(jogo.numeros).intersection(sequencia)) == len(s)):\n",
    "            apostas_filtradas.append(jogo)\n",
    "        \n",
    "    return tuple(apostas_filtradas)"
   ]
  },
  {
   "cell_type": "code",
   "execution_count": 16,
   "metadata": {
    "collapsed": true
   },
   "outputs": [],
   "source": [
    "def filtrar_jogo_notin(jogos, numeros):\n",
    "    apostas_filtradas = []\n",
    "    \n",
    "    for j in jogos:\n",
    "        if (len(set(j.numeros).intersection(numeros)) == 0):\n",
    "            apostas_filtradas.append(j)\n",
    "        \n",
    "    return apostas_filtradas"
   ]
  },
  {
   "cell_type": "code",
   "execution_count": 17,
   "metadata": {
    "collapsed": true
   },
   "outputs": [],
   "source": [
    "def selecionar_jogos_aposta(jogos, quantidade):\n",
    "    jogos_sample = random.sample(jogos, quantidade)\n",
    "    menor_1 = 0\n",
    "    menor_2 = 0\n",
    "    menor_3 = 0\n",
    "    impar_7 = 0\n",
    "    impar_8 = 0\n",
    "    impar_9 = 0\n",
    "\n",
    "    for a in jogos_sample:\n",
    "#         print(a.numeros, a.impar, a.par, a.numeros[0], a.numeros[-1])\n",
    "        if a.numeros[0] == 1:\n",
    "            menor_1 += 1\n",
    "        elif a.numeros[0] == 2:\n",
    "            menor_2 += 1\n",
    "        elif a.numeros[0] == 3:\n",
    "            menor_3 += 1\n",
    "\n",
    "        if a.impar == 7:\n",
    "            impar_7 += 1\n",
    "        elif a.impar == 8:\n",
    "            impar_8 += 1\n",
    "        elif a.impar == 9:\n",
    "            impar_9 += 1\n",
    "\n",
    "    print('Percentual jogos com 1: ', (menor_1/len(jogos_sample))*100)\n",
    "    print('Percentual jogos com 2: ', (menor_2/len(jogos_sample))*100)\n",
    "    print('Percentual jogos com 3: ', (menor_3/len(jogos_sample))*100)\n",
    "    print('Percentual jogos impar 7: ', (impar_7/len(jogos_sample))*100)\n",
    "    print('Percentual jogos impar 8: ', (impar_8/len(jogos_sample))*100)\n",
    "    print('Percentual jogos impar 9: ', (impar_9/len(jogos_sample))*100)\n",
    "\n",
    "    return jogos_sample"
   ]
  },
  {
   "cell_type": "code",
   "execution_count": 18,
   "metadata": {
    "collapsed": true
   },
   "outputs": [],
   "source": [
    "def conexao_mysql():\n",
    "    return mysql.connector.connect(user='root', database='lotofacil', host='192.168.56.100', password='Zaq1@wsX')"
   ]
  },
  {
   "cell_type": "code",
   "execution_count": 19,
   "metadata": {
    "collapsed": true
   },
   "outputs": [],
   "source": [
    "def get_numeros_jogo(jogo_id):\n",
    "    numeros = []\n",
    "    \n",
    "    try:\n",
    "        cnx = conexao_mysql()\n",
    "        cursor = cnx.cursor()\n",
    "\n",
    "        query = (\"SELECT numero FROM numero_jogo \"\n",
    "                 \"WHERE jogo_id = %(jogo_id)s \"\n",
    "                 \"ORDER BY numero\")\n",
    "        \n",
    "        param_query = {\n",
    "            'jogo_id' : jogo_id,\n",
    "        }\n",
    " \n",
    "        cursor.execute(query, param_query)\n",
    "\n",
    "        rows = cursor.fetchall()\n",
    "        \n",
    "        for row in rows:\n",
    "            numeros.append(row[0])\n",
    "\n",
    "    except Exception as ex:\n",
    "        print(ex)\n",
    " \n",
    "    except ConnectionError as e:\n",
    "        print(e)\n",
    " \n",
    "    finally:\n",
    "        cursor.close()\n",
    "        cnx.close()\n",
    "\n",
    "    return tuple(numeros)"
   ]
  },
  {
   "cell_type": "code",
   "execution_count": 27,
   "metadata": {
    "collapsed": true
   },
   "outputs": [],
   "source": [
    "def get_all_jogos():\n",
    "    jogos = []\n",
    "    cursor = None\n",
    "    cnx = None\n",
    "    \n",
    "    try:\n",
    "        cnx = conexao_mysql()\n",
    "        cursor = cnx.cursor()\n",
    "\n",
    "        query = (\"SELECT jogo_id, data_cadastro \"\n",
    "                 \"FROM jogo \"\n",
    "#                  \"WHERE jogo_id < 10001 \"\n",
    "                 \"ORDER BY jogo_id\")\n",
    "        \n",
    "        cursor.execute(query)\n",
    "        \n",
    "        rows = cursor.fetchall()\n",
    "        \n",
    "        for row in rows:\n",
    "            jogo = Jogo()\n",
    "            jogo.id = row[0]\n",
    "            jogo.data_cadastro = row[1]\n",
    "            jogo.numeros = get_numeros_jogo(row[0])\n",
    "            jogo.setParImpar()\n",
    "            jogo.setQuantidade()\n",
    "            jogos.append(jogo)\n",
    "    #         print(jogo_id, data_cadastro)\n",
    "\n",
    "    except Exception as ex:\n",
    "        print(ex)\n",
    "        \n",
    "    except ConnectionError as e:\n",
    "        print(e)\n",
    "        \n",
    "    finally:\n",
    "        cursor.close()\n",
    "        cnx.close()\n",
    "    \n",
    "    return jogos"
   ]
  },
  {
   "cell_type": "code",
   "execution_count": 21,
   "metadata": {
    "collapsed": true
   },
   "outputs": [],
   "source": [
    "def insert_jogo(jogo):\n",
    "    try:\n",
    "        cnx = conexao_mysql()\n",
    "        cursor = cnx.cursor()\n",
    "       \n",
    "        add_jogo = (\"INSERT INTO jogo \"\n",
    "                     \"(data_cadastro) \"\n",
    "                     \"VALUES (%(data_cadastro)s)\")\n",
    "        add_numero_jogo = (\"INSERT INTO numero_jogo \"\n",
    "                            \"(jogo_id, numero) \"\n",
    "                            \"VALUES (%(jogo_id)s, %(numero)s)\")\n",
    "\n",
    "        data_jogo = {\n",
    "            'data_cadastro' : datetime.now().date(),\n",
    "        }\n",
    "\n",
    "        cursor.execute(add_jogo, data_jogo)\n",
    "        jogo_id = cursor.lastrowid\n",
    "        \n",
    "#         numeros = [(jogo_id, numero) for numero in j.numeros]\n",
    "\n",
    "        for numero in jogo.numeros:\n",
    "            data_numero_jogo = {\n",
    "              'jogo_id': jogo_id,\n",
    "              'numero': int(numero),\n",
    "            }\n",
    "            \n",
    "            cursor.execute(add_numero_jogo, data_numero_jogo)\n",
    "\n",
    "#         data_numero_jogo = {\n",
    "#           'jogo_id': jogo_id,\n",
    "#           'numero': jogo.numeros,\n",
    "#         }\n",
    "\n",
    "#         cursor.execute(add_numero_jogo, data_numero_jogo)\n",
    "        \n",
    "        cnx.commit()\n",
    "        \n",
    "    except Exception as ex:\n",
    "        cnx.rollback()\n",
    "        return ex\n",
    "        \n",
    "    finally:\n",
    "        cursor.close()\n",
    "        cnx.close()"
   ]
  },
  {
   "cell_type": "code",
   "execution_count": 22,
   "metadata": {
    "collapsed": true
   },
   "outputs": [],
   "source": [
    "def salvar_jogos(jogos):\n",
    "    total_salvos = 0\n",
    "    \n",
    "    try:\n",
    "        jogos_db = get_all_jogos()\n",
    "        \n",
    "        for jogo in jogos:\n",
    "            add = True\n",
    "            \n",
    "            for jogo_db in jogos_db:\n",
    "                if (len(jogo.numeros) == len(jogo_db.numeros)):\n",
    "                    if (len(set(jogo.numeros).intersection(jogo_db.numeros)) == len(jogo.numeros)):\n",
    "                        add = False\n",
    "                        break\n",
    "\n",
    "            if (add):\n",
    "                insert_jogo(jogo)\n",
    "                total_salvos += 1\n",
    "                \n",
    "    except Exception as ex:\n",
    "        print(ex)\n",
    "        \n",
    "    finally:\n",
    "        print(\"%s jogos gravados.\" % (total_salvos))\n",
    "        print(\"%s jogos repetidos.\" % (len(jogos) - total_salvos))"
   ]
  },
  {
   "cell_type": "code",
   "execution_count": 23,
   "metadata": {
    "collapsed": true
   },
   "outputs": [],
   "source": [
    "# variaveis globais\n",
    "# min_numeros_aposta = 15\n",
    "# max_numeros_aposta = 18"
   ]
  },
  {
   "cell_type": "code",
   "execution_count": 24,
   "metadata": {
    "collapsed": true
   },
   "outputs": [],
   "source": [
    "# while True:\n",
    "#     try:\n",
    "#         numerosAposta = int(input('Quantidade de números por aposta: '))\n",
    "#         if numerosAposta < 15 or numerosAposta > 18:\n",
    "#             raise ValueError('Digite um valor entre 15 e 18!')\n",
    "#     except ValueError as e:\n",
    "#         print(e)\n",
    "#         continue\n",
    "#     except:\n",
    "#         print('Erro desconhecido!')\n",
    "#         continue\n",
    "#     else:\n",
    "#         break"
   ]
  },
  {
   "cell_type": "markdown",
   "metadata": {},
   "source": [
    "# Concursos"
   ]
  },
  {
   "cell_type": "code",
   "execution_count": 29,
   "metadata": {
    "collapsed": true
   },
   "outputs": [],
   "source": [
    "concursos = get_concursos_lotofacil_csv('lotofacil_data/lotofacil.csv')"
   ]
  },
  {
   "cell_type": "code",
   "execution_count": null,
   "metadata": {},
   "outputs": [],
   "source": [
    "# imprimir_concursos(concursos)"
   ]
  },
  {
   "cell_type": "code",
   "execution_count": 41,
   "metadata": {
    "scrolled": true
   },
   "outputs": [],
   "source": [
    "concursos_last = filtrar_ultimos_concursos(concursos, 100)"
   ]
  },
  {
   "cell_type": "code",
   "execution_count": 43,
   "metadata": {
    "scrolled": true
   },
   "outputs": [
    {
     "name": "stdout",
     "output_type": "stream",
     "text": [
      "Total concursos: 100 \n",
      "\n",
      "Concurso:  1654\n",
      "Data Sorteio:  25/04/2018\n",
      "Ganhadores 15 pontos: 5 \n",
      "Impares: 7\n",
      "Pares: 8\n",
      "[1, 2, 3, 4, 6, 10, 11, 13, 16, 18, 19, 20, 22, 23, 25]\n",
      "\n",
      "\n",
      "Concurso:  1653\n",
      "Data Sorteio:  23/04/2018\n",
      "Ganhadores 15 pontos: 0 \n",
      "Impares: 7\n",
      "Pares: 8\n",
      "[2, 4, 5, 6, 7, 12, 14, 15, 17, 20, 21, 22, 23, 24, 25]\n",
      "\n",
      "\n",
      "Concurso:  1652\n",
      "Data Sorteio:  20/04/2018\n",
      "Ganhadores 15 pontos: 0 \n",
      "Impares: 7\n",
      "Pares: 8\n",
      "[2, 3, 4, 5, 6, 7, 10, 11, 14, 16, 17, 18, 21, 24, 25]\n",
      "\n",
      "\n",
      "Concurso:  1651\n",
      "Data Sorteio:  18/04/2018\n",
      "Ganhadores 15 pontos: 4 \n",
      "Impares: 5\n",
      "Pares: 10\n",
      "[1, 2, 3, 4, 6, 7, 8, 10, 16, 17, 18, 19, 20, 22, 24]\n",
      "\n",
      "\n",
      "Concurso:  1650\n",
      "Data Sorteio:  16/04/2018\n",
      "Ganhadores 15 pontos: 0 \n",
      "Impares: 7\n",
      "Pares: 8\n",
      "[3, 4, 5, 8, 10, 13, 14, 15, 16, 17, 18, 19, 20, 22, 25]\n",
      "\n",
      "\n",
      "Concurso:  1649\n",
      "Data Sorteio:  13/04/2018\n",
      "Ganhadores 15 pontos: 2 \n",
      "Impares: 6\n",
      "Pares: 9\n",
      "[4, 5, 8, 9, 12, 13, 14, 15, 16, 17, 18, 20, 22, 23, 24]\n",
      "\n",
      "\n",
      "Concurso:  1648\n",
      "Data Sorteio:  11/04/2018\n",
      "Ganhadores 15 pontos: 1 \n",
      "Impares: 9\n",
      "Pares: 6\n",
      "[4, 9, 10, 11, 12, 13, 15, 16, 17, 19, 21, 22, 23, 24, 25]\n",
      "\n",
      "\n",
      "Concurso:  1647\n",
      "Data Sorteio:  09/04/2018\n",
      "Ganhadores 15 pontos: 5 \n",
      "Impares: 6\n",
      "Pares: 9\n",
      "[1, 2, 4, 7, 8, 9, 10, 12, 14, 15, 19, 20, 22, 24, 25]\n",
      "\n",
      "\n",
      "Concurso:  1646\n",
      "Data Sorteio:  06/04/2018\n",
      "Ganhadores 15 pontos: 6 \n",
      "Impares: 9\n",
      "Pares: 6\n",
      "[1, 3, 4, 5, 6, 7, 9, 12, 13, 15, 17, 18, 20, 22, 25]\n",
      "\n",
      "\n",
      "Concurso:  1645\n",
      "Data Sorteio:  04/04/2018\n",
      "Ganhadores 15 pontos: 3 \n",
      "Impares: 7\n",
      "Pares: 8\n",
      "[2, 3, 4, 5, 8, 9, 10, 14, 15, 16, 18, 20, 21, 23, 25]\n",
      "\n",
      "\n",
      "Concurso:  1644\n",
      "Data Sorteio:  02/04/2018\n",
      "Ganhadores 15 pontos: 2 \n",
      "Impares: 8\n",
      "Pares: 7\n",
      "[2, 3, 4, 5, 6, 7, 8, 9, 11, 13, 15, 18, 22, 23, 24]\n",
      "\n",
      "\n",
      "Concurso:  1643\n",
      "Data Sorteio:  31/03/2018\n",
      "Ganhadores 15 pontos: 2 \n",
      "Impares: 8\n",
      "Pares: 7\n",
      "[1, 2, 3, 4, 5, 7, 9, 10, 12, 14, 16, 19, 22, 23, 25]\n",
      "\n",
      "\n",
      "Concurso:  1642\n",
      "Data Sorteio:  28/03/2018\n",
      "Ganhadores 15 pontos: 5 \n",
      "Impares: 8\n",
      "Pares: 7\n",
      "[2, 5, 6, 7, 10, 11, 13, 15, 17, 18, 19, 20, 22, 24, 25]\n",
      "\n",
      "\n",
      "Concurso:  1641\n",
      "Data Sorteio:  26/03/2018\n",
      "Ganhadores 15 pontos: 5 \n",
      "Impares: 8\n",
      "Pares: 7\n",
      "[3, 4, 5, 8, 9, 11, 12, 14, 16, 17, 19, 20, 21, 22, 25]\n",
      "\n",
      "\n",
      "Concurso:  1640\n",
      "Data Sorteio:  23/03/2018\n",
      "Ganhadores 15 pontos: 3 \n",
      "Impares: 6\n",
      "Pares: 9\n",
      "[1, 2, 4, 5, 6, 12, 14, 15, 16, 17, 20, 21, 22, 24, 25]\n",
      "\n",
      "\n",
      "Concurso:  1639\n",
      "Data Sorteio:  21/03/2018\n",
      "Ganhadores 15 pontos: 6 \n",
      "Impares: 9\n",
      "Pares: 6\n",
      "[1, 3, 5, 6, 7, 8, 9, 10, 11, 14, 15, 19, 20, 22, 25]\n",
      "\n",
      "\n",
      "Concurso:  1638\n",
      "Data Sorteio:  19/03/2018\n",
      "Ganhadores 15 pontos: 0 \n",
      "Impares: 7\n",
      "Pares: 8\n",
      "[1, 7, 8, 10, 11, 12, 14, 15, 16, 19, 20, 22, 23, 24, 25]\n",
      "\n",
      "\n",
      "Concurso:  1637\n",
      "Data Sorteio:  16/03/2018\n",
      "Ganhadores 15 pontos: 6 \n",
      "Impares: 8\n",
      "Pares: 7\n",
      "[3, 4, 5, 7, 8, 11, 12, 13, 14, 15, 17, 18, 19, 22, 24]\n",
      "\n",
      "\n",
      "Concurso:  1636\n",
      "Data Sorteio:  14/03/2018\n",
      "Ganhadores 15 pontos: 1 \n",
      "Impares: 7\n",
      "Pares: 8\n",
      "[2, 3, 6, 7, 8, 9, 12, 13, 14, 15, 18, 19, 20, 22, 25]\n",
      "\n",
      "\n",
      "Concurso:  1635\n",
      "Data Sorteio:  12/03/2018\n",
      "Ganhadores 15 pontos: 2 \n",
      "Impares: 9\n",
      "Pares: 6\n",
      "[1, 3, 6, 7, 8, 12, 15, 16, 17, 19, 21, 22, 23, 24, 25]\n",
      "\n",
      "\n",
      "Concurso:  1634\n",
      "Data Sorteio:  09/03/2018\n",
      "Ganhadores 15 pontos: 2 \n",
      "Impares: 9\n",
      "Pares: 6\n",
      "[3, 4, 5, 6, 7, 9, 10, 13, 14, 15, 19, 21, 22, 24, 25]\n",
      "\n",
      "\n",
      "Concurso:  1633\n",
      "Data Sorteio:  07/03/2018\n",
      "Ganhadores 15 pontos: 3 \n",
      "Impares: 9\n",
      "Pares: 6\n",
      "[1, 2, 3, 5, 6, 7, 9, 10, 17, 18, 19, 20, 23, 24, 25]\n",
      "\n",
      "\n",
      "Concurso:  1632\n",
      "Data Sorteio:  05/03/2018\n",
      "Ganhadores 15 pontos: 0 \n",
      "Impares: 6\n",
      "Pares: 9\n",
      "[4, 5, 8, 12, 13, 14, 15, 16, 18, 20, 21, 22, 23, 24, 25]\n",
      "\n",
      "\n",
      "Concurso:  1631\n",
      "Data Sorteio:  02/03/2018\n",
      "Ganhadores 15 pontos: 6 \n",
      "Impares: 7\n",
      "Pares: 8\n",
      "[2, 3, 4, 5, 9, 10, 11, 12, 14, 18, 19, 20, 22, 23, 25]\n",
      "\n",
      "\n",
      "Concurso:  1630\n",
      "Data Sorteio:  28/02/2018\n",
      "Ganhadores 15 pontos: 4 \n",
      "Impares: 9\n",
      "Pares: 6\n",
      "[3, 5, 7, 8, 9, 10, 12, 13, 14, 15, 17, 20, 22, 23, 25]\n",
      "\n",
      "\n",
      "Concurso:  1629\n",
      "Data Sorteio:  26/02/2018\n",
      "Ganhadores 15 pontos: 4 \n",
      "Impares: 7\n",
      "Pares: 8\n",
      "[1, 2, 3, 5, 6, 7, 9, 10, 12, 14, 15, 18, 22, 24, 25]\n",
      "\n",
      "\n",
      "Concurso:  1628\n",
      "Data Sorteio:  23/02/2018\n",
      "Ganhadores 15 pontos: 2 \n",
      "Impares: 8\n",
      "Pares: 7\n",
      "[1, 3, 6, 9, 11, 12, 16, 17, 18, 19, 20, 22, 23, 24, 25]\n",
      "\n",
      "\n",
      "Concurso:  1627\n",
      "Data Sorteio:  21/02/2018\n",
      "Ganhadores 15 pontos: 1 \n",
      "Impares: 7\n",
      "Pares: 8\n",
      "[2, 3, 4, 6, 8, 9, 11, 12, 13, 14, 15, 17, 20, 21, 24]\n",
      "\n",
      "\n",
      "Concurso:  1626\n",
      "Data Sorteio:  19/02/2018\n",
      "Ganhadores 15 pontos: 5 \n",
      "Impares: 9\n",
      "Pares: 6\n",
      "[1, 3, 4, 7, 8, 9, 10, 11, 13, 15, 16, 17, 20, 21, 24]\n",
      "\n",
      "\n",
      "Concurso:  1625\n",
      "Data Sorteio:  16/02/2018\n",
      "Ganhadores 15 pontos: 4 \n",
      "Impares: 5\n",
      "Pares: 10\n",
      "[2, 3, 6, 8, 10, 12, 13, 16, 17, 18, 19, 20, 21, 22, 24]\n",
      "\n",
      "\n",
      "Concurso:  1624\n",
      "Data Sorteio:  14/02/2018\n",
      "Ganhadores 15 pontos: 0 \n",
      "Impares: 7\n",
      "Pares: 8\n",
      "[1, 2, 6, 7, 8, 9, 11, 14, 15, 16, 17, 18, 20, 23, 24]\n",
      "\n",
      "\n",
      "Concurso:  1623\n",
      "Data Sorteio:  09/02/2018\n",
      "Ganhadores 15 pontos: 5 \n",
      "Impares: 7\n",
      "Pares: 8\n",
      "[1, 2, 3, 4, 6, 7, 8, 10, 11, 13, 14, 17, 19, 20, 24]\n",
      "\n",
      "\n",
      "Concurso:  1622\n",
      "Data Sorteio:  07/02/2018\n",
      "Ganhadores 15 pontos: 1 \n",
      "Impares: 7\n",
      "Pares: 8\n",
      "[1, 2, 3, 4, 8, 9, 11, 16, 17, 18, 20, 22, 23, 24, 25]\n",
      "\n",
      "\n",
      "Concurso:  1621\n",
      "Data Sorteio:  05/02/2018\n",
      "Ganhadores 15 pontos: 7 \n",
      "Impares: 6\n",
      "Pares: 9\n",
      "[2, 3, 4, 6, 8, 9, 10, 13, 14, 18, 19, 21, 22, 23, 24]\n",
      "\n",
      "\n",
      "Concurso:  1620\n",
      "Data Sorteio:  02/02/2018\n",
      "Ganhadores 15 pontos: 4 \n",
      "Impares: 7\n",
      "Pares: 8\n",
      "[1, 2, 4, 7, 9, 10, 11, 12, 13, 14, 18, 20, 21, 24, 25]\n",
      "\n",
      "\n",
      "Concurso:  1619\n",
      "Data Sorteio:  31/01/2018\n",
      "Ganhadores 15 pontos: 1 \n",
      "Impares: 8\n",
      "Pares: 7\n",
      "[4, 5, 7, 8, 10, 11, 13, 15, 16, 17, 18, 21, 22, 24, 25]\n",
      "\n",
      "\n",
      "Concurso:  1618\n",
      "Data Sorteio:  29/01/2018\n",
      "Ganhadores 15 pontos: 4 \n",
      "Impares: 8\n",
      "Pares: 7\n",
      "[1, 3, 4, 5, 8, 9, 10, 13, 14, 16, 17, 19, 20, 24, 25]\n",
      "\n",
      "\n",
      "Concurso:  1617\n",
      "Data Sorteio:  26/01/2018\n",
      "Ganhadores 15 pontos: 1 \n",
      "Impares: 7\n",
      "Pares: 8\n",
      "[2, 5, 6, 7, 8, 9, 10, 12, 13, 14, 15, 20, 22, 23, 25]\n",
      "\n",
      "\n",
      "Concurso:  1616\n",
      "Data Sorteio:  24/01/2018\n",
      "Ganhadores 15 pontos: 0 \n",
      "Impares: 6\n",
      "Pares: 9\n",
      "[1, 2, 4, 5, 8, 10, 11, 13, 14, 16, 17, 18, 22, 23, 24]\n",
      "\n",
      "\n",
      "Concurso:  1615\n",
      "Data Sorteio:  22/01/2018\n",
      "Ganhadores 15 pontos: 3 \n",
      "Impares: 9\n",
      "Pares: 6\n",
      "[1, 2, 4, 5, 6, 7, 9, 10, 11, 16, 17, 19, 20, 21, 25]\n",
      "\n",
      "\n",
      "Concurso:  1614\n",
      "Data Sorteio:  19/01/2018\n",
      "Ganhadores 15 pontos: 3 \n",
      "Impares: 10\n",
      "Pares: 5\n",
      "[1, 2, 3, 7, 9, 10, 12, 13, 14, 15, 16, 17, 19, 21, 23]\n",
      "\n",
      "\n",
      "Concurso:  1613\n",
      "Data Sorteio:  17/01/2018\n",
      "Ganhadores 15 pontos: 5 \n",
      "Impares: 7\n",
      "Pares: 8\n",
      "[1, 2, 3, 4, 6, 8, 9, 10, 13, 14, 16, 17, 18, 19, 21]\n",
      "\n",
      "\n",
      "Concurso:  1612\n",
      "Data Sorteio:  15/01/2018\n",
      "Ganhadores 15 pontos: 0 \n",
      "Impares: 8\n",
      "Pares: 7\n",
      "[2, 3, 4, 5, 7, 11, 12, 14, 15, 18, 21, 22, 23, 24, 25]\n",
      "\n",
      "\n",
      "Concurso:  1611\n",
      "Data Sorteio:  12/01/2018\n",
      "Ganhadores 15 pontos: 1 \n",
      "Impares: 6\n",
      "Pares: 9\n",
      "[1, 3, 4, 6, 7, 8, 9, 10, 11, 12, 14, 15, 20, 22, 24]\n",
      "\n",
      "\n",
      "Concurso:  1610\n",
      "Data Sorteio:  10/01/2018\n",
      "Ganhadores 15 pontos: 6 \n",
      "Impares: 8\n",
      "Pares: 7\n",
      "[3, 6, 7, 9, 10, 11, 13, 14, 16, 17, 19, 20, 21, 22, 24]\n",
      "\n",
      "\n",
      "Concurso:  1609\n",
      "Data Sorteio:  08/01/2018\n",
      "Ganhadores 15 pontos: 2 \n",
      "Impares: 9\n",
      "Pares: 6\n",
      "[5, 6, 7, 8, 9, 11, 13, 14, 17, 18, 20, 21, 23, 24, 25]\n",
      "\n",
      "\n",
      "Concurso:  1608\n",
      "Data Sorteio:  05/01/2018\n",
      "Ganhadores 15 pontos: 5 \n",
      "Impares: 8\n",
      "Pares: 7\n",
      "[1, 2, 3, 5, 6, 9, 10, 14, 17, 18, 20, 21, 22, 23, 25]\n",
      "\n",
      "\n",
      "Concurso:  1607\n",
      "Data Sorteio:  03/01/2018\n",
      "Ganhadores 15 pontos: 0 \n",
      "Impares: 8\n",
      "Pares: 7\n",
      "[1, 2, 3, 6, 7, 8, 9, 11, 12, 13, 14, 15, 17, 18, 24]\n",
      "\n",
      "\n",
      "Concurso:  1606\n",
      "Data Sorteio:  02/01/2018\n",
      "Ganhadores 15 pontos: 5 \n",
      "Impares: 10\n",
      "Pares: 5\n",
      "[1, 3, 5, 7, 8, 9, 10, 11, 14, 15, 19, 20, 22, 23, 25]\n",
      "\n",
      "\n",
      "Concurso:  1605\n",
      "Data Sorteio:  29/12/2017\n",
      "Ganhadores 15 pontos: 4 \n",
      "Impares: 8\n",
      "Pares: 7\n",
      "[2, 4, 5, 8, 9, 10, 11, 14, 16, 17, 18, 19, 21, 23, 25]\n",
      "\n",
      "\n",
      "Concurso:  1604\n",
      "Data Sorteio:  27/12/2017\n",
      "Ganhadores 15 pontos: 2 \n",
      "Impares: 8\n",
      "Pares: 7\n",
      "[3, 4, 5, 6, 7, 8, 9, 10, 12, 13, 15, 19, 21, 22, 24]\n",
      "\n",
      "\n",
      "Concurso:  1603\n",
      "Data Sorteio:  26/12/2017\n",
      "Ganhadores 15 pontos: 5 \n",
      "Impares: 8\n",
      "Pares: 7\n",
      "[1, 2, 3, 4, 7, 9, 10, 13, 14, 16, 19, 20, 21, 23, 24]\n",
      "\n",
      "\n",
      "Concurso:  1602\n",
      "Data Sorteio:  22/12/2017\n",
      "Ganhadores 15 pontos: 8 \n",
      "Impares: 10\n",
      "Pares: 5\n",
      "[1, 3, 4, 8, 9, 10, 11, 13, 14, 15, 17, 19, 21, 23, 24]\n",
      "\n",
      "\n",
      "Concurso:  1601\n",
      "Data Sorteio:  20/12/2017\n",
      "Ganhadores 15 pontos: 3 \n",
      "Impares: 5\n",
      "Pares: 10\n",
      "[2, 4, 6, 8, 9, 10, 11, 12, 13, 14, 15, 18, 20, 22, 25]\n",
      "\n",
      "\n",
      "Concurso:  1600\n",
      "Data Sorteio:  18/12/2017\n",
      "Ganhadores 15 pontos: 1 \n",
      "Impares: 7\n",
      "Pares: 8\n",
      "[2, 3, 4, 5, 7, 9, 13, 14, 16, 17, 18, 20, 22, 23, 24]\n",
      "\n",
      "\n",
      "Concurso:  1599\n",
      "Data Sorteio:  15/12/2017\n",
      "Ganhadores 15 pontos: 1 \n",
      "Impares: 7\n",
      "Pares: 8\n",
      "[1, 3, 4, 5, 6, 8, 9, 10, 14, 18, 20, 21, 22, 23, 25]\n",
      "\n",
      "\n",
      "Concurso:  1598\n",
      "Data Sorteio:  13/12/2017\n",
      "Ganhadores 15 pontos: 2 \n",
      "Impares: 7\n",
      "Pares: 8\n",
      "[2, 5, 6, 7, 10, 12, 13, 15, 16, 17, 18, 19, 20, 21, 24]\n",
      "\n",
      "\n",
      "Concurso:  1597\n",
      "Data Sorteio:  11/12/2017\n",
      "Ganhadores 15 pontos: 4 \n",
      "Impares: 8\n",
      "Pares: 7\n",
      "[1, 2, 5, 6, 7, 8, 9, 13, 17, 18, 19, 20, 21, 22, 24]\n",
      "\n",
      "\n",
      "Concurso:  1596\n",
      "Data Sorteio:  08/12/2017\n",
      "Ganhadores 15 pontos: 4 \n",
      "Impares: 8\n",
      "Pares: 7\n",
      "[5, 8, 9, 10, 11, 12, 13, 15, 18, 19, 20, 21, 22, 23, 24]\n",
      "\n",
      "\n",
      "Concurso:  1595\n",
      "Data Sorteio:  06/12/2017\n",
      "Ganhadores 15 pontos: 3 \n",
      "Impares: 8\n",
      "Pares: 7\n",
      "[1, 2, 3, 4, 6, 7, 9, 10, 11, 13, 17, 18, 20, 22, 25]\n",
      "\n",
      "\n",
      "Concurso:  1594\n",
      "Data Sorteio:  04/12/2017\n",
      "Ganhadores 15 pontos: 4 \n",
      "Impares: 8\n",
      "Pares: 7\n",
      "[1, 2, 4, 6, 8, 10, 11, 12, 13, 15, 16, 17, 19, 21, 25]\n",
      "\n",
      "\n",
      "Concurso:  1593\n",
      "Data Sorteio:  01/12/2017\n",
      "Ganhadores 15 pontos: 3 \n",
      "Impares: 7\n",
      "Pares: 8\n",
      "[3, 4, 5, 7, 8, 9, 10, 11, 13, 14, 16, 17, 20, 22, 24]\n",
      "\n",
      "\n",
      "Concurso:  1592\n",
      "Data Sorteio:  29/11/2017\n",
      "Ganhadores 15 pontos: 0 \n",
      "Impares: 7\n",
      "Pares: 8\n",
      "[1, 2, 3, 4, 5, 6, 9, 12, 14, 15, 16, 19, 20, 22, 25]\n",
      "\n",
      "\n",
      "Concurso:  1591\n",
      "Data Sorteio:  27/11/2017\n",
      "Ganhadores 15 pontos: 1 \n",
      "Impares: 9\n",
      "Pares: 6\n",
      "[1, 3, 5, 7, 8, 10, 11, 12, 17, 19, 20, 21, 22, 23, 24]\n",
      "\n",
      "\n",
      "Concurso:  1590\n",
      "Data Sorteio:  24/11/2017\n",
      "Ganhadores 15 pontos: 1 \n",
      "Impares: 8\n",
      "Pares: 7\n",
      "[1, 3, 5, 7, 8, 10, 14, 16, 17, 18, 20, 21, 22, 23, 25]\n",
      "\n",
      "\n",
      "Concurso:  1589\n",
      "Data Sorteio:  22/11/2017\n",
      "Ganhadores 15 pontos: 2 \n",
      "Impares: 7\n",
      "Pares: 8\n",
      "[1, 2, 3, 4, 6, 12, 13, 14, 15, 17, 18, 22, 23, 24, 25]\n",
      "\n",
      "\n",
      "Concurso:  1588\n",
      "Data Sorteio:  20/11/2017\n",
      "Ganhadores 15 pontos: 4 \n",
      "Impares: 10\n",
      "Pares: 5\n",
      "[1, 3, 4, 5, 7, 9, 10, 11, 14, 15, 17, 20, 21, 22, 23]\n",
      "\n",
      "\n",
      "Concurso:  1587\n",
      "Data Sorteio:  17/11/2017\n",
      "Ganhadores 15 pontos: 5 \n",
      "Impares: 9\n",
      "Pares: 6\n",
      "[2, 3, 5, 7, 8, 11, 14, 15, 16, 17, 19, 20, 21, 22, 25]\n",
      "\n",
      "\n",
      "Concurso:  1586\n",
      "Data Sorteio:  16/11/2017\n",
      "Ganhadores 15 pontos: 1 \n",
      "Impares: 7\n",
      "Pares: 8\n",
      "[1, 3, 4, 10, 11, 12, 13, 16, 18, 19, 20, 22, 23, 24, 25]\n",
      "\n",
      "\n",
      "Concurso:  1585\n",
      "Data Sorteio:  13/11/2017\n",
      "Ganhadores 15 pontos: 1 \n",
      "Impares: 10\n",
      "Pares: 5\n",
      "[1, 2, 4, 5, 6, 7, 9, 11, 17, 18, 19, 21, 23, 24, 25]\n",
      "\n",
      "\n",
      "Concurso:  1584\n",
      "Data Sorteio:  10/11/2017\n",
      "Ganhadores 15 pontos: 0 \n",
      "Impares: 8\n",
      "Pares: 7\n",
      "[1, 2, 3, 5, 6, 11, 12, 14, 15, 16, 17, 19, 20, 24, 25]\n",
      "\n",
      "\n",
      "Concurso:  1583\n",
      "Data Sorteio:  08/11/2017\n",
      "Ganhadores 15 pontos: 2 \n",
      "Impares: 8\n",
      "Pares: 7\n",
      "[2, 3, 4, 6, 7, 9, 10, 14, 15, 16, 17, 19, 20, 23, 25]\n",
      "\n",
      "\n",
      "Concurso:  1582\n",
      "Data Sorteio:  06/11/2017\n",
      "Ganhadores 15 pontos: 4 \n",
      "Impares: 8\n",
      "Pares: 7\n",
      "[1, 2, 5, 7, 8, 10, 11, 14, 16, 17, 18, 19, 23, 24, 25]\n",
      "\n",
      "\n",
      "Concurso:  1581\n",
      "Data Sorteio:  03/11/2017\n",
      "Ganhadores 15 pontos: 2 \n",
      "Impares: 8\n",
      "Pares: 7\n",
      "[3, 4, 5, 6, 7, 8, 11, 12, 13, 16, 20, 21, 23, 24, 25]\n",
      "\n",
      "\n",
      "Concurso:  1580\n",
      "Data Sorteio:  01/11/2017\n",
      "Ganhadores 15 pontos: 4 \n",
      "Impares: 7\n",
      "Pares: 8\n",
      "[3, 4, 7, 10, 11, 12, 13, 14, 15, 16, 18, 20, 22, 23, 25]\n",
      "\n",
      "\n",
      "Concurso:  1579\n",
      "Data Sorteio:  30/10/2017\n",
      "Ganhadores 15 pontos: 0 \n",
      "Impares: 6\n",
      "Pares: 9\n",
      "[1, 2, 4, 6, 7, 10, 12, 13, 14, 15, 16, 18, 21, 22, 23]\n",
      "\n",
      "\n",
      "Concurso:  1578\n",
      "Data Sorteio:  27/10/2017\n",
      "Ganhadores 15 pontos: 2 \n",
      "Impares: 5\n",
      "Pares: 10\n",
      "[4, 6, 8, 9, 10, 12, 13, 14, 16, 17, 18, 19, 21, 22, 24]\n",
      "\n",
      "\n",
      "Concurso:  1577\n",
      "Data Sorteio:  25/10/2017\n",
      "Ganhadores 15 pontos: 2 \n",
      "Impares: 10\n",
      "Pares: 5\n",
      "[3, 5, 6, 7, 9, 10, 11, 13, 15, 16, 17, 18, 19, 21, 24]\n",
      "\n",
      "\n",
      "Concurso:  1576\n",
      "Data Sorteio:  23/10/2017\n",
      "Ganhadores 15 pontos: 6 \n",
      "Impares: 8\n",
      "Pares: 7\n",
      "[1, 2, 5, 7, 8, 9, 11, 12, 14, 15, 16, 18, 20, 21, 25]\n",
      "\n",
      "\n",
      "Concurso:  1575\n",
      "Data Sorteio:  20/10/2017\n",
      "Ganhadores 15 pontos: 2 \n",
      "Impares: 9\n",
      "Pares: 6\n",
      "[1, 3, 5, 6, 7, 9, 10, 11, 12, 14, 16, 17, 22, 23, 25]\n",
      "\n",
      "\n",
      "Concurso:  1574\n",
      "Data Sorteio:  18/10/2017\n",
      "Ganhadores 15 pontos: 3 \n",
      "Impares: 8\n",
      "Pares: 7\n",
      "[1, 2, 3, 5, 6, 7, 10, 11, 12, 14, 15, 17, 18, 21, 22]\n",
      "\n",
      "\n",
      "Concurso:  1573\n",
      "Data Sorteio:  16/10/2017\n",
      "Ganhadores 15 pontos: 4 \n",
      "Impares: 7\n",
      "Pares: 8\n",
      "[2, 6, 7, 8, 10, 11, 12, 13, 14, 15, 16, 17, 18, 19, 23]\n",
      "\n",
      "\n",
      "Concurso:  1572\n",
      "Data Sorteio:  13/10/2017\n",
      "Ganhadores 15 pontos: 1 \n",
      "Impares: 6\n",
      "Pares: 9\n",
      "[2, 4, 5, 6, 8, 9, 10, 13, 16, 18, 19, 21, 22, 23, 24]\n",
      "\n",
      "\n",
      "Concurso:  1571\n",
      "Data Sorteio:  11/10/2017\n",
      "Ganhadores 15 pontos: 1 \n",
      "Impares: 9\n",
      "Pares: 6\n",
      "[1, 3, 4, 5, 6, 7, 11, 12, 14, 17, 18, 19, 23, 24, 25]\n",
      "\n",
      "\n",
      "Concurso:  1570\n",
      "Data Sorteio:  09/10/2017\n",
      "Ganhadores 15 pontos: 2 \n",
      "Impares: 10\n",
      "Pares: 5\n",
      "[1, 3, 7, 8, 9, 11, 13, 16, 18, 19, 20, 21, 23, 24, 25]\n",
      "\n",
      "\n",
      "Concurso:  1569\n",
      "Data Sorteio:  06/10/2017\n",
      "Ganhadores 15 pontos: 3 \n",
      "Impares: 5\n",
      "Pares: 10\n",
      "[2, 4, 8, 9, 10, 12, 13, 14, 16, 18, 20, 21, 23, 24, 25]\n",
      "\n",
      "\n",
      "Concurso:  1568\n",
      "Data Sorteio:  04/10/2017\n",
      "Ganhadores 15 pontos: 7 \n",
      "Impares: 8\n",
      "Pares: 7\n",
      "[1, 2, 3, 4, 6, 7, 10, 11, 13, 16, 17, 19, 21, 22, 24]\n",
      "\n",
      "\n",
      "Concurso:  1567\n",
      "Data Sorteio:  02/10/2017\n",
      "Ganhadores 15 pontos: 4 \n",
      "Impares: 9\n",
      "Pares: 6\n",
      "[2, 3, 5, 7, 9, 10, 11, 12, 14, 15, 17, 18, 19, 21, 24]\n",
      "\n",
      "\n",
      "Concurso:  1566\n",
      "Data Sorteio:  29/09/2017\n",
      "Ganhadores 15 pontos: 4 \n",
      "Impares: 9\n",
      "Pares: 6\n",
      "[1, 2, 4, 5, 7, 8, 9, 13, 14, 15, 16, 19, 23, 24, 25]\n",
      "\n",
      "\n",
      "Concurso:  1565\n",
      "Data Sorteio:  27/09/2017\n",
      "Ganhadores 15 pontos: 0 \n",
      "Impares: 9\n",
      "Pares: 6\n",
      "[1, 3, 6, 7, 8, 9, 10, 11, 12, 13, 15, 17, 18, 24, 25]\n",
      "\n",
      "\n",
      "Concurso:  1564\n",
      "Data Sorteio:  25/09/2017\n",
      "Ganhadores 15 pontos: 1 \n",
      "Impares: 7\n",
      "Pares: 8\n",
      "[3, 4, 6, 8, 9, 11, 12, 13, 16, 17, 18, 19, 20, 21, 24]\n",
      "\n",
      "\n",
      "Concurso:  1563\n",
      "Data Sorteio:  22/09/2017\n",
      "Ganhadores 15 pontos: 3 \n",
      "Impares: 8\n",
      "Pares: 7\n",
      "[1, 2, 3, 5, 6, 9, 10, 12, 13, 17, 18, 20, 21, 22, 23]\n",
      "\n",
      "\n",
      "Concurso:  1562\n",
      "Data Sorteio:  20/09/2017\n",
      "Ganhadores 15 pontos: 9 \n",
      "Impares: 7\n",
      "Pares: 8\n",
      "[1, 2, 3, 4, 5, 6, 7, 8, 9, 11, 12, 14, 16, 17, 18]\n",
      "\n",
      "\n",
      "Concurso:  1561\n",
      "Data Sorteio:  18/09/2017\n",
      "Ganhadores 15 pontos: 4 \n",
      "Impares: 7\n",
      "Pares: 8\n",
      "[3, 5, 6, 7, 8, 12, 13, 15, 16, 18, 20, 21, 22, 24, 25]\n",
      "\n",
      "\n",
      "Concurso:  1560\n",
      "Data Sorteio:  15/09/2017\n",
      "Ganhadores 15 pontos: 3 \n",
      "Impares: 8\n",
      "Pares: 7\n",
      "[1, 2, 3, 4, 5, 7, 8, 9, 11, 14, 17, 18, 20, 24, 25]\n",
      "\n",
      "\n",
      "Concurso:  1559\n",
      "Data Sorteio:  13/09/2017\n",
      "Ganhadores 15 pontos: 1 \n",
      "Impares: 8\n",
      "Pares: 7\n",
      "[3, 4, 5, 6, 7, 9, 10, 11, 14, 16, 18, 19, 20, 23, 25]\n",
      "\n",
      "\n",
      "Concurso:  1558\n",
      "Data Sorteio:  11/09/2017\n",
      "Ganhadores 15 pontos: 1 \n",
      "Impares: 8\n",
      "Pares: 7\n",
      "[1, 2, 4, 5, 6, 9, 11, 14, 15, 16, 17, 18, 21, 22, 25]\n",
      "\n",
      "\n",
      "Concurso:  1557\n",
      "Data Sorteio:  07/09/2017\n",
      "Ganhadores 15 pontos: 15 \n",
      "Impares: 6\n",
      "Pares: 9\n",
      "[2, 3, 4, 5, 6, 9, 12, 16, 17, 18, 20, 21, 22, 24, 25]\n",
      "\n",
      "\n",
      "Concurso:  1556\n",
      "Data Sorteio:  28/08/2017\n",
      "Ganhadores 15 pontos: 2 \n",
      "Impares: 9\n",
      "Pares: 6\n",
      "[1, 2, 3, 5, 6, 8, 12, 15, 16, 17, 19, 21, 22, 23, 25]\n",
      "\n",
      "\n",
      "Concurso:  1555\n",
      "Data Sorteio:  25/08/2017\n",
      "Ganhadores 15 pontos: 6 \n",
      "Impares: 5\n",
      "Pares: 10\n",
      "[1, 2, 6, 8, 9, 10, 12, 13, 14, 16, 18, 20, 22, 23, 25]\n",
      "\n",
      "\n"
     ]
    }
   ],
   "source": [
    "imprimir_concursos(concursos_last[::-1])"
   ]
  },
  {
   "cell_type": "code",
   "execution_count": null,
   "metadata": {},
   "outputs": [],
   "source": [
    "# concursos_v2 = filtrar_concurso_por_numeros(concursos, [20,21,22,23,24,25])\n",
    "# imprimir_concursos(concursos_v2)"
   ]
  },
  {
   "cell_type": "markdown",
   "metadata": {},
   "source": [
    "# Gerar jogos"
   ]
  },
  {
   "cell_type": "code",
   "execution_count": null,
   "metadata": {},
   "outputs": [],
   "source": [
    "jogos_nao_salvos = gerar_jogos(100000, menor_numero=(1,2), maior_numero=(24,25))\n",
    "len(jogos_nao_salvos)"
   ]
  },
  {
   "cell_type": "code",
   "execution_count": null,
   "metadata": {
    "collapsed": true
   },
   "outputs": [],
   "source": [
    "# imprimir_jogo(jogos_nao_salvos)"
   ]
  },
  {
   "cell_type": "code",
   "execution_count": null,
   "metadata": {},
   "outputs": [],
   "source": [
    "start = time.time()\n",
    "salvar_jogos(jogos_nao_salvos)\n",
    "end = time.time()\n",
    "\n",
    "print((end - start)/60)"
   ]
  },
  {
   "cell_type": "code",
   "execution_count": null,
   "metadata": {
    "collapsed": true
   },
   "outputs": [],
   "source": [
    "# insert_jogo(jogos_nao_salvos[0])"
   ]
  },
  {
   "cell_type": "markdown",
   "metadata": {},
   "source": [
    "# Jogos"
   ]
  },
  {
   "cell_type": "code",
   "execution_count": 28,
   "metadata": {},
   "outputs": [
    {
     "name": "stdout",
     "output_type": "stream",
     "text": [
      "144.6599466840426\n",
      "198124\n"
     ]
    }
   ],
   "source": [
    "start = time.time()\n",
    "jogos_salvos = get_all_jogos()\n",
    "end = time.time()\n",
    "\n",
    "print((end - start)/60)\n",
    "print(len(jogos_salvos))"
   ]
  },
  {
   "cell_type": "code",
   "execution_count": 184,
   "metadata": {
    "collapsed": true
   },
   "outputs": [],
   "source": [
    "# jogos_filtrados = jogos_salvos"
   ]
  },
  {
   "cell_type": "code",
   "execution_count": 205,
   "metadata": {},
   "outputs": [],
   "source": [
    "# for s in seq_inicial_unica:\n",
    "#     jogos_filtrados = filtrar_jogo_sequencia(jogos_filtrados, s)\n",
    "\n",
    "# len(jogos_filtrados)"
   ]
  },
  {
   "cell_type": "code",
   "execution_count": 206,
   "metadata": {},
   "outputs": [],
   "source": [
    "# for s in seq_final_unica:\n",
    "#     jogos_filtrados = filtrar_jogo_sequencia(jogos_filtrados, s)\n",
    "\n",
    "# len(jogos_filtrados)"
   ]
  },
  {
   "cell_type": "code",
   "execution_count": 207,
   "metadata": {},
   "outputs": [
    {
     "data": {
      "text/plain": [
       "124625"
      ]
     },
     "execution_count": 207,
     "metadata": {},
     "output_type": "execute_result"
    }
   ],
   "source": [
    "jogos_filtrados = filtrar_jogo_menor_maior(jogos_salvos, (0,1), (24, 25))\n",
    "len(jogos_filtrados)"
   ]
  },
  {
   "cell_type": "code",
   "execution_count": 208,
   "metadata": {},
   "outputs": [
    {
     "data": {
      "text/plain": [
       "68249"
      ]
     },
     "execution_count": 208,
     "metadata": {},
     "output_type": "execute_result"
    }
   ],
   "source": [
    "jogos_filtrados = filtrar_jogo_impar_par(jogos_filtrados, [7,8])\n",
    "len(jogos_filtrados)"
   ]
  },
  {
   "cell_type": "code",
   "execution_count": 209,
   "metadata": {},
   "outputs": [
    {
     "data": {
      "text/plain": [
       "22039"
      ]
     },
     "execution_count": 209,
     "metadata": {},
     "output_type": "execute_result"
    }
   ],
   "source": [
    "jogos_filtrados = filtrar_jogo_por_numeros(jogos_filtrados, [8, 9], 2)\n",
    "len(jogos_filtrados)"
   ]
  },
  {
   "cell_type": "code",
   "execution_count": 160,
   "metadata": {},
   "outputs": [],
   "source": [
    "# jogos_t6 = filtrar_jogo_por_numeros(jogos_t5, numeros=[19,20,21,22,23,24,25], match=7)\n",
    "# len(jogos_t6)"
   ]
  },
  {
   "cell_type": "code",
   "execution_count": 178,
   "metadata": {},
   "outputs": [
    {
     "name": "stdout",
     "output_type": "stream",
     "text": [
      "Total jogos: 20 \n",
      "\n",
      "ID:  208\n",
      "Data Cadastro:  2018-04-25\n",
      "Numeros: 15 - Impares: 5 - Pares: 10\n",
      "(2, 3, 4, 5, 6, 8, 9, 12, 14, 16, 18, 19, 20, 22, 23)\n",
      "\n",
      "\n",
      "ID:  214\n",
      "Data Cadastro:  2018-04-25\n",
      "Numeros: 15 - Impares: 10 - Pares: 5\n",
      "(2, 4, 5, 7, 8, 9, 11, 13, 15, 16, 17, 19, 21, 22, 23)\n",
      "\n",
      "\n",
      "ID:  230\n",
      "Data Cadastro:  2018-04-25\n",
      "Numeros: 15 - Impares: 11 - Pares: 4\n",
      "(3, 4, 5, 7, 8, 9, 10, 11, 13, 14, 15, 17, 19, 21, 23)\n",
      "\n",
      "\n",
      "ID:  333\n",
      "Data Cadastro:  2018-04-25\n",
      "Numeros: 15 - Impares: 7 - Pares: 8\n",
      "(2, 3, 4, 6, 7, 8, 9, 11, 14, 15, 16, 17, 18, 22, 23)\n",
      "\n",
      "\n",
      "ID:  334\n",
      "Data Cadastro:  2018-04-25\n",
      "Numeros: 15 - Impares: 7 - Pares: 8\n",
      "(2, 3, 8, 9, 10, 13, 14, 15, 16, 17, 18, 20, 21, 22, 23)\n",
      "\n",
      "\n",
      "ID:  359\n",
      "Data Cadastro:  2018-04-25\n",
      "Numeros: 15 - Impares: 6 - Pares: 9\n",
      "(2, 3, 6, 7, 8, 9, 11, 12, 14, 15, 16, 18, 20, 22, 23)\n",
      "\n",
      "\n",
      "ID:  423\n",
      "Data Cadastro:  2018-04-25\n",
      "Numeros: 15 - Impares: 9 - Pares: 6\n",
      "(3, 5, 6, 7, 8, 9, 10, 11, 13, 14, 15, 17, 18, 22, 23)\n",
      "\n",
      "\n",
      "ID:  431\n",
      "Data Cadastro:  2018-04-25\n",
      "Numeros: 15 - Impares: 6 - Pares: 9\n",
      "(2, 5, 6, 8, 9, 11, 12, 13, 14, 15, 16, 18, 20, 22, 23)\n",
      "\n",
      "\n",
      "ID:  580\n",
      "Data Cadastro:  2018-04-25\n",
      "Numeros: 15 - Impares: 8 - Pares: 7\n",
      "(3, 6, 7, 8, 9, 10, 11, 12, 13, 14, 15, 20, 21, 24, 25)\n",
      "\n",
      "\n",
      "ID:  606\n",
      "Data Cadastro:  2018-04-25\n",
      "Numeros: 15 - Impares: 7 - Pares: 8\n",
      "(2, 3, 5, 6, 8, 9, 10, 14, 15, 16, 17, 20, 21, 22, 23)\n",
      "\n",
      "\n",
      "ID:  655\n",
      "Data Cadastro:  2018-04-25\n",
      "Numeros: 15 - Impares: 7 - Pares: 8\n",
      "(3, 4, 5, 8, 9, 10, 11, 12, 14, 15, 16, 18, 19, 20, 23)\n",
      "\n",
      "\n",
      "ID:  678\n",
      "Data Cadastro:  2018-04-25\n",
      "Numeros: 15 - Impares: 7 - Pares: 8\n",
      "(2, 3, 4, 5, 6, 7, 8, 9, 10, 12, 15, 16, 19, 20, 23)\n",
      "\n",
      "\n",
      "ID:  696\n",
      "Data Cadastro:  2018-04-25\n",
      "Numeros: 15 - Impares: 8 - Pares: 7\n",
      "(3, 4, 5, 6, 7, 8, 9, 11, 12, 13, 14, 16, 22, 23, 25)\n",
      "\n",
      "\n",
      "ID:  773\n",
      "Data Cadastro:  2018-04-25\n",
      "Numeros: 15 - Impares: 6 - Pares: 9\n",
      "(2, 4, 5, 6, 7, 8, 9, 12, 13, 14, 16, 17, 19, 22, 24)\n",
      "\n",
      "\n",
      "ID:  783\n",
      "Data Cadastro:  2018-04-25\n",
      "Numeros: 15 - Impares: 8 - Pares: 7\n",
      "(3, 5, 6, 7, 8, 9, 12, 14, 15, 16, 17, 20, 21, 22, 23)\n",
      "\n",
      "\n",
      "ID:  868\n",
      "Data Cadastro:  2018-04-25\n",
      "Numeros: 15 - Impares: 7 - Pares: 8\n",
      "(2, 4, 6, 7, 8, 9, 11, 12, 13, 14, 17, 20, 21, 22, 23)\n",
      "\n",
      "\n",
      "ID:  882\n",
      "Data Cadastro:  2018-04-25\n",
      "Numeros: 15 - Impares: 7 - Pares: 8\n",
      "(2, 3, 4, 5, 7, 8, 9, 10, 11, 14, 18, 19, 20, 22, 23)\n",
      "\n",
      "\n",
      "ID:  922\n",
      "Data Cadastro:  2018-04-25\n",
      "Numeros: 15 - Impares: 8 - Pares: 7\n",
      "(2, 3, 4, 5, 6, 7, 8, 9, 11, 13, 14, 18, 19, 20, 25)\n",
      "\n",
      "\n",
      "ID:  923\n",
      "Data Cadastro:  2018-04-25\n",
      "Numeros: 15 - Impares: 8 - Pares: 7\n",
      "(2, 3, 7, 8, 9, 10, 11, 12, 13, 14, 16, 19, 20, 21, 23)\n",
      "\n",
      "\n",
      "ID:  957\n",
      "Data Cadastro:  2018-04-25\n",
      "Numeros: 15 - Impares: 6 - Pares: 9\n",
      "(2, 3, 4, 6, 8, 9, 10, 11, 12, 13, 14, 17, 18, 20, 25)\n",
      "\n",
      "\n"
     ]
    }
   ],
   "source": [
    "imprimir_jogo(jogos_filtrados[:20])"
   ]
  },
  {
   "cell_type": "code",
   "execution_count": 152,
   "metadata": {},
   "outputs": [
    {
     "name": "stdout",
     "output_type": "stream",
     "text": [
      "Percentual jogos com 1:  100.0\n",
      "Percentual jogos com 2:  0.0\n",
      "Percentual jogos com 3:  0.0\n",
      "Percentual jogos impar 7:  40.0\n",
      "Percentual jogos impar 8:  60.0\n",
      "Percentual jogos impar 9:  0.0\n"
     ]
    }
   ],
   "source": [
    "apostas_selecionadas = selecionar_jogos_aposta(jogos_filtrados, 50)"
   ]
  },
  {
   "cell_type": "code",
   "execution_count": 153,
   "metadata": {},
   "outputs": [
    {
     "name": "stdout",
     "output_type": "stream",
     "text": [
      "Total jogos: 50 \n",
      "\n",
      "ID:  66117\n",
      "Data Cadastro:  2018-04-25\n",
      "Numeros: 15 - Impares: 8 - Pares: 7\n",
      "(1, 2, 4, 8, 9, 10, 12, 13, 15, 16, 17, 19, 21, 24, 25)\n",
      "\n",
      "\n",
      "ID:  80316\n",
      "Data Cadastro:  2018-04-25\n",
      "Numeros: 15 - Impares: 8 - Pares: 7\n",
      "(1, 2, 4, 8, 9, 10, 11, 13, 14, 15, 17, 18, 23, 24, 25)\n",
      "\n",
      "\n",
      "ID:  113765\n",
      "Data Cadastro:  2018-04-27\n",
      "Numeros: 15 - Impares: 8 - Pares: 7\n",
      "(1, 2, 4, 8, 9, 10, 11, 13, 14, 15, 17, 19, 20, 23, 24)\n",
      "\n",
      "\n",
      "ID:  164389\n",
      "Data Cadastro:  2018-04-27\n",
      "Numeros: 15 - Impares: 7 - Pares: 8\n",
      "(1, 3, 5, 8, 9, 10, 11, 14, 15, 16, 18, 19, 20, 22, 24)\n",
      "\n",
      "\n",
      "ID:  178236\n",
      "Data Cadastro:  2018-04-27\n",
      "Numeros: 15 - Impares: 8 - Pares: 7\n",
      "(1, 3, 4, 8, 9, 10, 11, 12, 15, 17, 18, 19, 20, 24, 25)\n",
      "\n",
      "\n",
      "ID:  156089\n",
      "Data Cadastro:  2018-04-27\n",
      "Numeros: 15 - Impares: 7 - Pares: 8\n",
      "(1, 2, 5, 8, 9, 10, 12, 14, 15, 16, 19, 20, 22, 23, 25)\n",
      "\n",
      "\n",
      "ID:  126131\n",
      "Data Cadastro:  2018-04-27\n",
      "Numeros: 15 - Impares: 8 - Pares: 7\n",
      "(1, 3, 4, 8, 9, 10, 11, 12, 15, 16, 18, 21, 22, 23, 25)\n",
      "\n",
      "\n",
      "ID:  166564\n",
      "Data Cadastro:  2018-04-27\n",
      "Numeros: 15 - Impares: 7 - Pares: 8\n",
      "(1, 3, 6, 8, 9, 12, 13, 14, 16, 17, 18, 19, 20, 22, 25)\n",
      "\n",
      "\n",
      "ID:  143178\n",
      "Data Cadastro:  2018-04-27\n",
      "Numeros: 15 - Impares: 7 - Pares: 8\n",
      "(1, 2, 3, 8, 9, 10, 12, 14, 15, 17, 18, 19, 22, 23, 24)\n",
      "\n",
      "\n",
      "ID:  51162\n",
      "Data Cadastro:  2018-04-25\n",
      "Numeros: 15 - Impares: 8 - Pares: 7\n",
      "(1, 2, 7, 8, 9, 11, 14, 15, 16, 17, 18, 22, 23, 24, 25)\n",
      "\n",
      "\n",
      "ID:  10138\n",
      "Data Cadastro:  2018-04-25\n",
      "Numeros: 15 - Impares: 7 - Pares: 8\n",
      "(1, 4, 8, 9, 11, 12, 13, 14, 16, 17, 18, 20, 21, 24, 25)\n",
      "\n",
      "\n",
      "ID:  121716\n",
      "Data Cadastro:  2018-04-27\n",
      "Numeros: 15 - Impares: 8 - Pares: 7\n",
      "(1, 4, 6, 8, 9, 11, 12, 14, 15, 17, 18, 21, 23, 24, 25)\n",
      "\n",
      "\n",
      "ID:  38773\n",
      "Data Cadastro:  2018-04-25\n",
      "Numeros: 15 - Impares: 7 - Pares: 8\n",
      "(1, 2, 3, 8, 9, 11, 12, 13, 14, 16, 18, 19, 20, 21, 24)\n",
      "\n",
      "\n",
      "ID:  124321\n",
      "Data Cadastro:  2018-04-27\n",
      "Numeros: 15 - Impares: 7 - Pares: 8\n",
      "(1, 4, 7, 8, 9, 10, 12, 14, 15, 16, 17, 19, 20, 23, 24)\n",
      "\n",
      "\n",
      "ID:  152145\n",
      "Data Cadastro:  2018-04-27\n",
      "Numeros: 15 - Impares: 7 - Pares: 8\n",
      "(1, 2, 6, 8, 9, 10, 11, 14, 15, 16, 20, 21, 23, 24, 25)\n",
      "\n",
      "\n",
      "ID:  139505\n",
      "Data Cadastro:  2018-04-27\n",
      "Numeros: 15 - Impares: 7 - Pares: 8\n",
      "(1, 3, 4, 8, 9, 12, 13, 14, 15, 16, 17, 20, 21, 22, 24)\n",
      "\n",
      "\n",
      "ID:  1273\n",
      "Data Cadastro:  2018-04-25\n",
      "Numeros: 15 - Impares: 8 - Pares: 7\n",
      "(1, 3, 8, 9, 11, 12, 13, 14, 15, 17, 18, 20, 22, 24, 25)\n",
      "\n",
      "\n",
      "ID:  145302\n",
      "Data Cadastro:  2018-04-27\n",
      "Numeros: 15 - Impares: 8 - Pares: 7\n",
      "(1, 2, 7, 8, 9, 11, 12, 14, 15, 16, 17, 18, 23, 24, 25)\n",
      "\n",
      "\n",
      "ID:  175283\n",
      "Data Cadastro:  2018-04-27\n",
      "Numeros: 15 - Impares: 8 - Pares: 7\n",
      "(1, 2, 3, 8, 9, 10, 12, 13, 14, 16, 17, 19, 22, 23, 25)\n",
      "\n",
      "\n",
      "ID:  164683\n",
      "Data Cadastro:  2018-04-27\n",
      "Numeros: 15 - Impares: 8 - Pares: 7\n",
      "(1, 2, 8, 9, 11, 12, 13, 14, 15, 16, 17, 18, 20, 21, 25)\n",
      "\n",
      "\n",
      "ID:  121833\n",
      "Data Cadastro:  2018-04-27\n",
      "Numeros: 15 - Impares: 8 - Pares: 7\n",
      "(1, 2, 3, 8, 9, 10, 11, 13, 14, 17, 18, 19, 21, 22, 24)\n",
      "\n",
      "\n",
      "ID:  30680\n",
      "Data Cadastro:  2018-04-25\n",
      "Numeros: 15 - Impares: 8 - Pares: 7\n",
      "(1, 4, 5, 8, 9, 11, 12, 13, 14, 16, 19, 20, 22, 23, 25)\n",
      "\n",
      "\n",
      "ID:  96116\n",
      "Data Cadastro:  2018-04-25\n",
      "Numeros: 15 - Impares: 8 - Pares: 7\n",
      "(1, 2, 4, 8, 9, 11, 12, 14, 15, 16, 17, 19, 22, 23, 25)\n",
      "\n",
      "\n",
      "ID:  181767\n",
      "Data Cadastro:  2018-04-27\n",
      "Numeros: 15 - Impares: 8 - Pares: 7\n",
      "(1, 2, 4, 8, 9, 11, 13, 14, 15, 17, 18, 20, 23, 24, 25)\n",
      "\n",
      "\n",
      "ID:  157260\n",
      "Data Cadastro:  2018-04-27\n",
      "Numeros: 15 - Impares: 8 - Pares: 7\n",
      "(1, 3, 8, 9, 10, 11, 13, 14, 15, 16, 17, 19, 20, 22, 24)\n",
      "\n",
      "\n",
      "ID:  109844\n",
      "Data Cadastro:  2018-04-27\n",
      "Numeros: 15 - Impares: 7 - Pares: 8\n",
      "(1, 2, 6, 8, 9, 11, 12, 14, 15, 16, 17, 18, 20, 23, 25)\n",
      "\n",
      "\n",
      "ID:  196453\n",
      "Data Cadastro:  2018-04-27\n",
      "Numeros: 15 - Impares: 8 - Pares: 7\n",
      "(1, 5, 8, 9, 10, 11, 13, 14, 15, 16, 19, 20, 21, 22, 24)\n",
      "\n",
      "\n",
      "ID:  134967\n",
      "Data Cadastro:  2018-04-27\n",
      "Numeros: 15 - Impares: 7 - Pares: 8\n",
      "(1, 3, 8, 9, 10, 11, 12, 14, 16, 17, 18, 22, 23, 24, 25)\n",
      "\n",
      "\n",
      "ID:  113515\n",
      "Data Cadastro:  2018-04-27\n",
      "Numeros: 15 - Impares: 7 - Pares: 8\n",
      "(1, 2, 3, 8, 9, 10, 12, 13, 14, 15, 18, 20, 21, 22, 25)\n",
      "\n",
      "\n",
      "ID:  20644\n",
      "Data Cadastro:  2018-04-25\n",
      "Numeros: 15 - Impares: 8 - Pares: 7\n",
      "(1, 2, 5, 8, 9, 11, 14, 15, 16, 17, 18, 21, 22, 24, 25)\n",
      "\n",
      "\n",
      "ID:  16526\n",
      "Data Cadastro:  2018-04-25\n",
      "Numeros: 15 - Impares: 8 - Pares: 7\n",
      "(1, 2, 8, 9, 10, 11, 12, 15, 16, 17, 18, 19, 23, 24, 25)\n",
      "\n",
      "\n",
      "ID:  194366\n",
      "Data Cadastro:  2018-04-27\n",
      "Numeros: 15 - Impares: 8 - Pares: 7\n",
      "(1, 5, 8, 9, 10, 13, 14, 15, 16, 17, 18, 21, 22, 24, 25)\n",
      "\n",
      "\n",
      "ID:  138449\n",
      "Data Cadastro:  2018-04-27\n",
      "Numeros: 15 - Impares: 7 - Pares: 8\n",
      "(1, 4, 8, 9, 10, 11, 12, 14, 15, 17, 18, 21, 22, 24, 25)\n",
      "\n",
      "\n",
      "ID:  172425\n",
      "Data Cadastro:  2018-04-27\n",
      "Numeros: 15 - Impares: 7 - Pares: 8\n",
      "(1, 2, 8, 9, 11, 12, 13, 14, 15, 16, 17, 18, 22, 23, 24)\n",
      "\n",
      "\n",
      "ID:  188503\n",
      "Data Cadastro:  2018-04-27\n",
      "Numeros: 15 - Impares: 8 - Pares: 7\n",
      "(1, 3, 8, 9, 10, 11, 13, 14, 16, 17, 18, 20, 23, 24, 25)\n",
      "\n",
      "\n",
      "ID:  196672\n",
      "Data Cadastro:  2018-04-27\n",
      "Numeros: 15 - Impares: 8 - Pares: 7\n",
      "(1, 2, 3, 8, 9, 10, 13, 15, 16, 17, 18, 20, 22, 23, 25)\n",
      "\n",
      "\n",
      "ID:  2724\n",
      "Data Cadastro:  2018-04-25\n",
      "Numeros: 15 - Impares: 7 - Pares: 8\n",
      "(1, 4, 7, 8, 9, 12, 13, 14, 15, 16, 18, 22, 23, 24, 25)\n",
      "\n",
      "\n",
      "ID:  39075\n",
      "Data Cadastro:  2018-04-25\n",
      "Numeros: 15 - Impares: 8 - Pares: 7\n",
      "(1, 3, 4, 8, 9, 11, 14, 15, 16, 17, 18, 20, 21, 24, 25)\n",
      "\n",
      "\n",
      "ID:  101583\n",
      "Data Cadastro:  2018-04-26\n",
      "Numeros: 15 - Impares: 7 - Pares: 8\n",
      "(1, 2, 3, 8, 9, 10, 11, 12, 14, 15, 16, 19, 20, 24, 25)\n",
      "\n",
      "\n",
      "ID:  89543\n",
      "Data Cadastro:  2018-04-25\n",
      "Numeros: 15 - Impares: 8 - Pares: 7\n",
      "(1, 2, 3, 8, 9, 10, 12, 13, 14, 15, 16, 17, 20, 23, 25)\n",
      "\n",
      "\n",
      "ID:  74508\n",
      "Data Cadastro:  2018-04-25\n",
      "Numeros: 15 - Impares: 7 - Pares: 8\n",
      "(1, 2, 6, 8, 9, 13, 14, 15, 16, 17, 18, 20, 23, 24, 25)\n",
      "\n",
      "\n",
      "ID:  186046\n",
      "Data Cadastro:  2018-04-27\n",
      "Numeros: 15 - Impares: 8 - Pares: 7\n",
      "(1, 3, 4, 8, 9, 10, 11, 12, 14, 15, 17, 20, 21, 22, 25)\n",
      "\n",
      "\n",
      "ID:  49228\n",
      "Data Cadastro:  2018-04-25\n",
      "Numeros: 15 - Impares: 7 - Pares: 8\n",
      "(1, 4, 5, 8, 9, 10, 11, 13, 14, 16, 18, 19, 21, 22, 24)\n",
      "\n",
      "\n",
      "ID:  163433\n",
      "Data Cadastro:  2018-04-27\n",
      "Numeros: 15 - Impares: 8 - Pares: 7\n",
      "(1, 5, 8, 9, 10, 11, 13, 14, 15, 16, 20, 21, 22, 24, 25)\n",
      "\n",
      "\n",
      "ID:  192067\n",
      "Data Cadastro:  2018-04-27\n",
      "Numeros: 15 - Impares: 7 - Pares: 8\n",
      "(1, 2, 4, 8, 9, 10, 11, 14, 15, 16, 17, 20, 22, 23, 25)\n",
      "\n",
      "\n",
      "ID:  173443\n",
      "Data Cadastro:  2018-04-27\n",
      "Numeros: 15 - Impares: 8 - Pares: 7\n",
      "(1, 3, 5, 8, 9, 10, 12, 14, 16, 17, 18, 21, 22, 23, 25)\n",
      "\n",
      "\n",
      "ID:  96593\n",
      "Data Cadastro:  2018-04-25\n",
      "Numeros: 15 - Impares: 8 - Pares: 7\n",
      "(1, 2, 7, 8, 9, 10, 12, 14, 15, 16, 17, 19, 20, 21, 25)\n",
      "\n",
      "\n",
      "ID:  185805\n",
      "Data Cadastro:  2018-04-27\n",
      "Numeros: 15 - Impares: 8 - Pares: 7\n",
      "(1, 2, 5, 8, 9, 10, 11, 13, 15, 16, 20, 22, 23, 24, 25)\n",
      "\n",
      "\n",
      "ID:  193421\n",
      "Data Cadastro:  2018-04-27\n",
      "Numeros: 15 - Impares: 8 - Pares: 7\n",
      "(1, 2, 4, 8, 9, 10, 11, 12, 14, 15, 17, 20, 21, 23, 25)\n",
      "\n",
      "\n",
      "ID:  108664\n",
      "Data Cadastro:  2018-04-26\n",
      "Numeros: 15 - Impares: 7 - Pares: 8\n",
      "(1, 2, 5, 8, 9, 11, 12, 13, 14, 16, 18, 20, 22, 23, 25)\n",
      "\n",
      "\n"
     ]
    }
   ],
   "source": [
    "imprimir_jogo(apostas_selecionadas)"
   ]
  },
  {
   "cell_type": "code",
   "execution_count": 225,
   "metadata": {},
   "outputs": [],
   "source": [
    "seq_inicial = []\n",
    "seq_final = []\n",
    "\n",
    "for c in concursos:\n",
    "    if (c.numeros[0] == 1):\n",
    "        a = []\n",
    "        \n",
    "        for n in c.numeros:\n",
    "            if n <= 5:\n",
    "                a.append(n)\n",
    "            \n",
    "        seq_inicial.append(a)\n",
    "        \n",
    "    if (c.numeros[-1] in (24,25)):\n",
    "        b = []\n",
    "        \n",
    "        for o in c.numeros[10:15]:\n",
    "            if o >= 20:\n",
    "                b.append(o)\n",
    "                \n",
    "        seq_final.append(b)\n",
    "        \n",
    "seq_inicial_unica = []\n",
    "seq_final_unica = []\n",
    "\n",
    "i = 0\n",
    "\n",
    "while i < len(seq_inicial):\n",
    "    if (len(seq_inicial[i]) > 1):\n",
    "        if (seq_inicial[i] not in seq_inicial_unica):\n",
    "            seq_inicial_unica.append(seq_inicial[i])\n",
    "        \n",
    "    i += 1\n",
    "\n",
    "    \n",
    "j = 0\n",
    "\n",
    "while j < len(seq_final):\n",
    "    if (len(seq_final[j]) > 1):\n",
    "        if (seq_final[j] not in seq_final_unica):\n",
    "            seq_final_unica.append(seq_final[j])\n",
    "        \n",
    "    j += 1"
   ]
  },
  {
   "cell_type": "code",
   "execution_count": 226,
   "metadata": {},
   "outputs": [
    {
     "name": "stdout",
     "output_type": "stream",
     "text": [
      "[[1, 2], [1, 2, 3], [1, 2, 3, 4], [1, 2, 3, 4, 5], [1, 2, 3, 5], [1, 2, 4], [1, 2, 4, 5], [1, 2, 5], [1, 3], [1, 3, 4], [1, 3, 4, 5], [1, 3, 5], [1, 4], [1, 4, 5], [1, 5]]\n",
      "[[20, 21, 22, 23, 24], [20, 21, 22, 23, 25], [20, 21, 22, 24], [20, 21, 22, 24, 25], [20, 21, 22, 25], [20, 21, 23, 24], [20, 21, 23, 24, 25], [20, 21, 23, 25], [20, 21, 24], [20, 21, 24, 25], [20, 21, 25], [20, 22, 23, 24], [20, 22, 23, 24, 25], [20, 22, 23, 25], [20, 22, 24], [20, 22, 24, 25], [20, 22, 25], [20, 23, 24], [20, 23, 24, 25], [20, 23, 25], [20, 24], [20, 24, 25], [20, 25], [21, 22, 23, 24], [21, 22, 23, 24, 25], [21, 22, 23, 25], [21, 22, 24], [21, 22, 24, 25], [21, 22, 25], [21, 23, 24], [21, 23, 24, 25], [21, 23, 25], [21, 24], [21, 24, 25], [21, 25], [22, 23, 24], [22, 23, 24, 25], [22, 23, 25], [22, 24], [22, 24, 25], [22, 25], [23, 24], [23, 24, 25], [23, 25], [24, 25]]\n"
     ]
    }
   ],
   "source": [
    "print(sorted(seq_inicial_unica))\n",
    "print(sorted(seq_final_unica))"
   ]
  },
  {
   "cell_type": "code",
   "execution_count": 240,
   "metadata": {},
   "outputs": [
    {
     "name": "stdout",
     "output_type": "stream",
     "text": [
      "['1, 2', '1, 2, 3', '1, 2, 3, 4', '1, 2, 3, 4, 5', '1, 2, 3, 5', '1, 2, 4', '1, 2, 4, 5', '1, 2, 5', '1, 3', '1, 3, 4', '1, 3, 4, 5', '1, 3, 5', '1, 4', '1, 4, 5', '1, 5']\n"
     ]
    }
   ],
   "source": [
    "tst = []\n",
    "\n",
    "for x in sorted(seq_inicial_unica):\n",
    "    txt = ', '.join([str(y) for y in x])\n",
    "    tst.append(txt)\n",
    "\n",
    "print(tst)"
   ]
  },
  {
   "cell_type": "code",
   "execution_count": 244,
   "metadata": {},
   "outputs": [
    {
     "name": "stdout",
     "output_type": "stream",
     "text": [
      "{'1, 2': 0, '1, 2, 3': 0, '1, 2, 3, 4': 0, '1, 2, 3, 4, 5': 0, '1, 2, 3, 5': 0, '1, 2, 4': 0, '1, 2, 4, 5': 0, '1, 2, 5': 0, '1, 3': 0, '1, 3, 4': 0, '1, 3, 4, 5': 0, '1, 3, 5': 0, '1, 4': 0, '1, 4, 5': 0, '1, 5': 0}\n"
     ]
    }
   ],
   "source": [
    "d1 = dict([(k, 0) for k in tst])\n",
    "print(d1)"
   ]
  },
  {
   "cell_type": "code",
   "execution_count": null,
   "metadata": {
    "collapsed": true
   },
   "outputs": [],
   "source": [
    "i = 0\n",
    "\n",
    "while i < len(apostas):\n",
    "    j = 0\n",
    "    while j < len(apostas):\n",
    "        if i != j:\n",
    "            if len(set(apostas[i].numeros).intersection(apostas[j].numeros)) == 15:\n",
    "                del apostas[j]\n",
    "        j += 1\n",
    "#     print(len(set(a).intersection(apostas[i])))\n",
    "    i += 1"
   ]
  },
  {
   "cell_type": "code",
   "execution_count": null,
   "metadata": {
    "collapsed": true
   },
   "outputs": [],
   "source": [
    "i = 0\n",
    "notin = [[1,2,3,4,5,6,7,8], [18,19,20,21,22,23,24,25]]\n",
    "\n",
    "while i < len(apostas):\n",
    "    j = 0\n",
    "    a = 0\n",
    "    while j < len(notin):\n",
    "        if len(set(apostas[i].numeros).intersection(notin[j])) == len(notin[j]):\n",
    "            a += 1\n",
    "        j += 1\n",
    "    \n",
    "    if (a > 0):\n",
    "        del apostas[i]\n",
    "        \n",
    "    i += 1"
   ]
  },
  {
   "cell_type": "code",
   "execution_count": null,
   "metadata": {
    "collapsed": true
   },
   "outputs": [],
   "source": [
    "i = 0\n",
    "final = [23,24,25]\n",
    "\n",
    "while i < len(apostas):\n",
    "    if len(set(apostas[i].numeros).intersection(final)) < 2:\n",
    "        del apostas[i]\n",
    "        \n",
    "    i += 1"
   ]
  },
  {
   "cell_type": "code",
   "execution_count": null,
   "metadata": {
    "collapsed": true
   },
   "outputs": [],
   "source": [
    "i = 0\n",
    "inicio = [1,2,3]\n",
    "\n",
    "while i < len(apostas):\n",
    "    if len(set(apostas[i].numeros).intersection(inicio)) < 2:\n",
    "        del apostas[i]\n",
    "        \n",
    "    i += 1"
   ]
  },
  {
   "cell_type": "code",
   "execution_count": null,
   "metadata": {
    "collapsed": true
   },
   "outputs": [],
   "source": [
    "i = 0\n",
    "\n",
    "while i < len(apostas):\n",
    "    if (apostas[i].impar <= 6 or apostas[i].impar >= 10):\n",
    "        del apostas[i]\n",
    "    i += 1"
   ]
  },
  {
   "cell_type": "code",
   "execution_count": null,
   "metadata": {
    "collapsed": true
   },
   "outputs": [],
   "source": [
    "# !pip install urllib urllib2"
   ]
  },
  {
   "cell_type": "code",
   "execution_count": null,
   "metadata": {
    "collapsed": true
   },
   "outputs": [],
   "source": [
    "# import urllib"
   ]
  },
  {
   "cell_type": "code",
   "execution_count": null,
   "metadata": {
    "collapsed": true
   },
   "outputs": [],
   "source": [
    "# page = urllib.request.urlopen(\"file:///Users/raphael/Documents/GitHub/python_scripts/D_LOTFAC.HTM\", 'r')"
   ]
  },
  {
   "cell_type": "code",
   "execution_count": null,
   "metadata": {
    "collapsed": true
   },
   "outputs": [],
   "source": [
    "# from bs4 import BeautifulSoup"
   ]
  },
  {
   "cell_type": "code",
   "execution_count": null,
   "metadata": {
    "collapsed": true
   },
   "outputs": [],
   "source": [
    "# soup = BeautifulSoup(page.read(), 'html.parser')"
   ]
  },
  {
   "cell_type": "code",
   "execution_count": null,
   "metadata": {
    "collapsed": true
   },
   "outputs": [],
   "source": [
    "# soup = BeautifulSoup(page.read(), 'lxml')"
   ]
  },
  {
   "cell_type": "code",
   "execution_count": null,
   "metadata": {
    "collapsed": true
   },
   "outputs": [],
   "source": [
    "# table = soup.find_all('table')[0]"
   ]
  },
  {
   "cell_type": "code",
   "execution_count": null,
   "metadata": {
    "collapsed": true
   },
   "outputs": [],
   "source": [
    "# for row in table.find_all('tr'):\n",
    "#     columns = row.find_all(['td', 'th'])\n",
    "#     for col in columns:\n",
    "#         print(col.text())"
   ]
  },
  {
   "cell_type": "code",
   "execution_count": null,
   "metadata": {
    "collapsed": true
   },
   "outputs": [],
   "source": [
    "# i = 1\n",
    "# for row in soup.findAll('table')[0].findAll('tr'):\n",
    "#     concurso = row.findAll('td')\n",
    "#     print(concurso)\n",
    "    \n",
    "#     i += 1"
   ]
  },
  {
   "cell_type": "code",
   "execution_count": null,
   "metadata": {},
   "outputs": [],
   "source": [
    "par_impar_lst = []\n",
    "\n",
    "for x in concursos:\n",
    "    par_impar_lst.append([x.impar, x.par])\n",
    "  \n",
    "df_v2 = pd.DataFrame(par_impar_lst, columns=['impar', 'par'])\n",
    "df_v2.set_index(['impar'])\n",
    "# par_impar_dic = dict(par_impar_lst)\n",
    "# print(par_impar_dic)"
   ]
  },
  {
   "cell_type": "code",
   "execution_count": null,
   "metadata": {
    "collapsed": true
   },
   "outputs": [],
   "source": [
    "df_v2_group = df_v2.groupby(['impar', 'par'])['impar'].count()"
   ]
  },
  {
   "cell_type": "code",
   "execution_count": null,
   "metadata": {},
   "outputs": [],
   "source": [
    "df_v2_group"
   ]
  },
  {
   "cell_type": "code",
   "execution_count": null,
   "metadata": {
    "collapsed": true
   },
   "outputs": [],
   "source": [
    "df_v3 = pd.DataFrame(df_v2_group)"
   ]
  },
  {
   "cell_type": "code",
   "execution_count": null,
   "metadata": {
    "collapsed": true
   },
   "outputs": [],
   "source": [
    "df_v3['perc'] = [(x*100)/df_v2_group.values.sum() for x in df_v2_group.values]"
   ]
  },
  {
   "cell_type": "code",
   "execution_count": null,
   "metadata": {},
   "outputs": [],
   "source": [
    "df_v3"
   ]
  },
  {
   "cell_type": "code",
   "execution_count": null,
   "metadata": {
    "collapsed": true
   },
   "outputs": [],
   "source": [
    "menor = []\n",
    "maior = []\n",
    "menor_maior_list = []\n",
    "menor_maior_dict = {}\n",
    "menor_maior_strg = []"
   ]
  },
  {
   "cell_type": "code",
   "execution_count": null,
   "metadata": {
    "collapsed": true
   },
   "outputs": [],
   "source": [
    "for x in concursos:\n",
    "    menor.append(x.numeros[0])\n",
    "    maior.append(x.numeros[-1])\n",
    "    menor_maior_list.append([x.numeros[0], x.numeros[-1]])\n",
    "    menor_maior_strg.append(str(x.numeros[0]) + ' - ' + str(x.numeros[-1]))\n",
    "#     menor_maior.update({str(x.numeros[0]) + ' - ' + str(x.numeros[-1]): 1})"
   ]
  },
  {
   "cell_type": "code",
   "execution_count": null,
   "metadata": {
    "collapsed": true
   },
   "outputs": [],
   "source": [
    "import matplotlib.pyplot as plt"
   ]
  },
  {
   "cell_type": "code",
   "execution_count": null,
   "metadata": {
    "collapsed": true
   },
   "outputs": [],
   "source": [
    "menor_freq = np.histogram(menor, bins=np.arange(1,11))"
   ]
  },
  {
   "cell_type": "code",
   "execution_count": null,
   "metadata": {
    "collapsed": true
   },
   "outputs": [],
   "source": [
    "menor_perc = [(x * 100)/len(concursos) for x in menor_freq[0]]"
   ]
  },
  {
   "cell_type": "code",
   "execution_count": null,
   "metadata": {},
   "outputs": [],
   "source": [
    "menor_perc"
   ]
  },
  {
   "cell_type": "code",
   "execution_count": null,
   "metadata": {},
   "outputs": [],
   "source": [
    "np.histogram(maior, bins=np.arange(15,26))"
   ]
  },
  {
   "cell_type": "code",
   "execution_count": null,
   "metadata": {},
   "outputs": [],
   "source": [
    "menor_maior_list[:5]"
   ]
  },
  {
   "cell_type": "code",
   "execution_count": null,
   "metadata": {},
   "outputs": [],
   "source": [
    "menor_maior_strg[:5]"
   ]
  },
  {
   "cell_type": "code",
   "execution_count": null,
   "metadata": {
    "collapsed": true
   },
   "outputs": [],
   "source": [
    "df_menor_maior_list = pd.DataFrame(menor_maior_list, columns=['menor', 'maior'])"
   ]
  },
  {
   "cell_type": "code",
   "execution_count": null,
   "metadata": {},
   "outputs": [],
   "source": [
    "df_menor_maior_list.set_index(['menor', 'maior'])"
   ]
  },
  {
   "cell_type": "code",
   "execution_count": null,
   "metadata": {
    "collapsed": true
   },
   "outputs": [],
   "source": [
    "menor_maior_freq = df_menor_maior_list.groupby(['menor', 'maior']).count()"
   ]
  },
  {
   "cell_type": "code",
   "execution_count": null,
   "metadata": {},
   "outputs": [],
   "source": [
    "menor_maior_freq.values"
   ]
  },
  {
   "cell_type": "code",
   "execution_count": null,
   "metadata": {
    "collapsed": true
   },
   "outputs": [],
   "source": [
    "menor_maior_perc = [(x*100)/len(concursos) for x in menor_maior_freq.values]"
   ]
  },
  {
   "cell_type": "code",
   "execution_count": null,
   "metadata": {
    "collapsed": true
   },
   "outputs": [],
   "source": [
    "df = pd.DataFrame(menor_maior_freq)"
   ]
  },
  {
   "cell_type": "code",
   "execution_count": null,
   "metadata": {
    "collapsed": true
   },
   "outputs": [],
   "source": [
    "df['percentual'] = menor_maior_perc"
   ]
  },
  {
   "cell_type": "code",
   "execution_count": null,
   "metadata": {},
   "outputs": [],
   "source": [
    "df"
   ]
  },
  {
   "cell_type": "code",
   "execution_count": null,
   "metadata": {
    "collapsed": true
   },
   "outputs": [],
   "source": [
    "df_menor_maior_str = pd.DataFrame(menor_maior_strg, columns=['col'])"
   ]
  },
  {
   "cell_type": "code",
   "execution_count": null,
   "metadata": {
    "collapsed": true
   },
   "outputs": [],
   "source": [
    "menor_maior_group = df_menor_maior_str.groupby('col')['col'].count()"
   ]
  },
  {
   "cell_type": "code",
   "execution_count": null,
   "metadata": {
    "collapsed": true
   },
   "outputs": [],
   "source": [
    "df_v1 = pd.DataFrame(menor_maior_group)"
   ]
  },
  {
   "cell_type": "code",
   "execution_count": null,
   "metadata": {},
   "outputs": [],
   "source": [
    "df_v1"
   ]
  },
  {
   "cell_type": "code",
   "execution_count": null,
   "metadata": {
    "collapsed": true
   },
   "outputs": [],
   "source": [
    "# plt.hist(df_v1)\n",
    "# plt.show()"
   ]
  },
  {
   "cell_type": "code",
   "execution_count": null,
   "metadata": {
    "collapsed": true
   },
   "outputs": [],
   "source": [
    "# np.histogram(menor_maior)"
   ]
  },
  {
   "cell_type": "code",
   "execution_count": null,
   "metadata": {
    "collapsed": true
   },
   "outputs": [],
   "source": [
    "# plt.hist([menor, maior], bins=np.arange(1,26))\n",
    "# plt.xlabel('Menor Numero Sorteado')\n",
    "# plt.ylabel('Frequencia')\n",
    "# plt.grid(True)\n",
    "# plt.show()"
   ]
  },
  {
   "cell_type": "code",
   "execution_count": null,
   "metadata": {},
   "outputs": [],
   "source": [
    "total = 0\n",
    "\n",
    "for a in apostas:\n",
    "    for c in concursos:\n",
    "        if len(set(a.numeros).intersection(c.numeros)) == 15:\n",
    "            print(c.id)\n",
    "            print(a.numeros)\n",
    "            print(c.numeros)\n",
    "            total += 1\n",
    "            \n",
    "print('total jogos ganahdores: %s' % (total))"
   ]
  },
  {
   "cell_type": "code",
   "execution_count": null,
   "metadata": {
    "collapsed": true
   },
   "outputs": [],
   "source": [
    "numeros_aposta = []\n",
    "qtd_total_apostas = 30000\n",
    "qtd_apostas = 0\n",
    "\n",
    "while (qtd_apostas < qtd_total_apostas):\n",
    "    num_tmp = sorted(list(np.random.choice(np.arange(1, 26), 15, replace= False)))\n",
    "    numeros_aposta.append(num_tmp)\n",
    "    qtd_apostas += 1"
   ]
  },
  {
   "cell_type": "code",
   "execution_count": null,
   "metadata": {},
   "outputs": [],
   "source": [
    "print(len(numeros_aposta))"
   ]
  },
  {
   "cell_type": "code",
   "execution_count": null,
   "metadata": {},
   "outputs": [],
   "source": [
    "numeros_aposta[0]"
   ]
  },
  {
   "cell_type": "code",
   "execution_count": null,
   "metadata": {},
   "outputs": [],
   "source": [
    "for a in apostas:\n",
    "    print(a.numeros)"
   ]
  },
  {
   "cell_type": "code",
   "execution_count": null,
   "metadata": {
    "collapsed": true
   },
   "outputs": [],
   "source": [
    "# gravar_jogo(apostas)"
   ]
  },
  {
   "cell_type": "code",
   "execution_count": null,
   "metadata": {
    "collapsed": true
   },
   "outputs": [],
   "source": [
    "# from __future__ import print_function\n",
    " \n",
    "# import MySQLdb as my\n",
    " \n",
    "# try:\n",
    " \n",
    "#     db = my.connect(host=\"127.0.0.1\",\n",
    "#                     user=\"root\",\n",
    "#                     passwd=\"\",\n",
    "#                     db=\"world\"\n",
    "#                     )\n",
    " \n",
    "#     cursor = db.cursor()\n",
    " \n",
    "#     sql = \"select * from city where id < 10\"\n",
    "#     number_of_rows = cursor.execute(sql)\n",
    " \n",
    "#     print(cursor.fetchone())  # fetch the first row only\n",
    " \n",
    "#     db.close()\n",
    " \n",
    "# except my.DataError as e:\n",
    "#     print(\"DataError\")\n",
    "#     print(e)\n",
    " \n",
    "# except my.InternalError as e:\n",
    "#     print(\"InternalError\")\n",
    "#     print(e)\n",
    " \n",
    "# except my.IntegrityError as e:\n",
    "#     print(\"IntegrityError\")\n",
    "#     print(e)\n",
    " \n",
    "# except my.OperationalError as e:\n",
    "#     print(\"OperationalError\")\n",
    "#     print(e)\n",
    " \n",
    "# except my.NotSupportedError as e:\n",
    "#     print(\"NotSupportedError\")\n",
    "#     print(e)\n",
    " \n",
    "# except my.ProgrammingError as e:\n",
    "#     print(\"ProgrammingError\")\n",
    "#     print(e)\n",
    " \n",
    "# except :\n",
    "#     print(\"Unknown error occurred\")"
   ]
  },
  {
   "cell_type": "code",
   "execution_count": null,
   "metadata": {
    "collapsed": true
   },
   "outputs": [],
   "source": [
    "from reportlab.pdfgen import canvas\n",
    "from reportlab.lib.units import cm\n",
    "from reportlab.graphics.shapes import Rect\n",
    "from reportlab.lib.colors import black"
   ]
  },
  {
   "cell_type": "code",
   "execution_count": null,
   "metadata": {
    "collapsed": true
   },
   "outputs": [],
   "source": [
    "c = canvas.Canvas(\"formulario.pdf\", pagesize=(8.3*cm, 18.8*cm))\n",
    "# c.drawString(100,750, \"Bem vindo ao reportlab!\")\n",
    "# c.setFillColor()\n",
    "# c.setPageTransition(cm)\n",
    "\n",
    "# c.rect(1.1*cm, 13.6*cm, 0.5*cm, 0.3*cm, fill=1)\n",
    "# c.rect(2.4*cm, 13.6*cm, 0.5*cm, 0.3*cm, fill=1)\n",
    "# c.rect(3.7*cm, 13.6*cm, 0.5*cm, 0.3*cm, fill=1)\n",
    "# c.rect(5*cm, 13.6*cm, 0.5*cm, 0.3*cm, fill=1)\n",
    "# c.rect(6.3*cm, 13.6*cm, 0.5*cm, 0.3*cm, fill=1)\n",
    "\n",
    "# c.rect(1.1*cm, 13.2*cm, 0.5*cm, 0.3*cm, fill=1)\n",
    "# c.rect(2.4*cm, 13.2*cm, 0.5*cm, 0.3*cm, fill=1)\n",
    "# c.rect(3.7*cm, 13.2*cm, 0.5*cm, 0.3*cm, fill=1)\n",
    "# c.rect(5*cm, 13.2*cm, 0.5*cm, 0.3*cm, fill=1)\n",
    "# c.rect(6.3*cm, 13.2*cm, 0.5*cm, 0.3*cm, fill=1)\n",
    "\n",
    "c.rect(1.1*cm, 8.55*cm, 0.5*cm, 0.3*cm, fill=1)\n",
    "c.rect(2.4*cm, 8.55*cm, 0.5*cm, 0.3*cm, fill=1)\n",
    "c.rect(3.7*cm, 8.55*cm, 0.5*cm, 0.3*cm, fill=1)\n",
    "c.rect(5.0*cm, 8.55*cm, 0.5*cm, 0.3*cm, fill=1)\n",
    "c.rect(6.3*cm, 8.55*cm, 0.5*cm, 0.3*cm, fill=1)\n",
    "\n",
    "c.rect(1.1*cm, 8.1*cm, 0.5*cm, 0.3*cm, fill=1)\n",
    "c.rect(2.4*cm, 8.1*cm, 0.5*cm, 0.3*cm, fill=1)\n",
    "c.rect(3.7*cm, 8.1*cm, 0.5*cm, 0.3*cm, fill=1)\n",
    "c.rect(5.0*cm, 8.1*cm, 0.5*cm, 0.3*cm, fill=1)\n",
    "c.rect(6.3*cm, 8.1*cm, 0.5*cm, 0.3*cm, fill=1)\n",
    "\n",
    "c.rect(1.1*cm, 7.65*cm, 0.5*cm, 0.3*cm, fill=1)\n",
    "c.rect(2.4*cm, 7.65*cm, 0.5*cm, 0.3*cm, fill=1)\n",
    "c.rect(3.7*cm, 7.65*cm, 0.5*cm, 0.3*cm, fill=1)\n",
    "c.rect(5.0*cm, 7.65*cm, 0.5*cm, 0.3*cm, fill=1)\n",
    "c.rect(6.3*cm, 7.65*cm, 0.5*cm, 0.3*cm, fill=1)\n",
    "\n",
    "c.rect(1.1*cm, 7.2*cm, 0.5*cm, 0.3*cm, fill=1)\n",
    "c.rect(2.4*cm, 7.2*cm, 0.5*cm, 0.3*cm, fill=1)\n",
    "c.rect(3.7*cm, 7.2*cm, 0.5*cm, 0.3*cm, fill=1)\n",
    "c.rect(5.0*cm, 7.2*cm, 0.5*cm, 0.3*cm, fill=1)\n",
    "c.rect(6.3*cm, 7.2*cm, 0.5*cm, 0.3*cm, fill=1)\n",
    "\n",
    "c.rect(1.1*cm, 6.75*cm, 0.5*cm, 0.3*cm, fill=1)\n",
    "c.rect(2.4*cm, 6.75*cm, 0.5*cm, 0.3*cm, fill=1)\n",
    "c.rect(3.7*cm, 6.75*cm, 0.5*cm, 0.3*cm, fill=1)\n",
    "c.rect(5.0*cm, 6.75*cm, 0.5*cm, 0.3*cm, fill=1)\n",
    "c.rect(6.3*cm, 6.75*cm, 0.5*cm, 0.3*cm, fill=1)\n",
    "\n",
    "# c.rect(1,520,22,13, fill=1)\n",
    "# c.rect(220,520,22,13, fill=1)\n",
    "# c.rect(0,0,8.3*cm,18.8*cm, fill=0)\n",
    "c.save()"
   ]
  },
  {
   "cell_type": "code",
   "execution_count": null,
   "metadata": {
    "collapsed": true
   },
   "outputs": [],
   "source": []
  }
 ],
 "metadata": {
  "kernelspec": {
   "display_name": "Python 3",
   "language": "python",
   "name": "python3"
  },
  "language_info": {
   "codemirror_mode": {
    "name": "ipython",
    "version": 3
   },
   "file_extension": ".py",
   "mimetype": "text/x-python",
   "name": "python",
   "nbconvert_exporter": "python",
   "pygments_lexer": "ipython3",
   "version": "3.6.3"
  }
 },
 "nbformat": 4,
 "nbformat_minor": 2
}
