{
 "cells": [
  {
   "cell_type": "code",
   "execution_count": 1,
   "metadata": {
    "collapsed": true
   },
   "outputs": [],
   "source": [
    "import numpy as np\n",
    "import pandas as pd\n",
    "import csv\n",
    "import mysql.connector\n",
    "from datetime import date, datetime"
   ]
  },
  {
   "cell_type": "code",
   "execution_count": 2,
   "metadata": {
    "collapsed": true
   },
   "outputs": [],
   "source": [
    "class Lotofacil:\n",
    "    def __init__(self):\n",
    "        self.id = 0\n",
    "        self.data_sorteio = None\n",
    "        self.ganhadores_15_numeros = 0\n",
    "        self.valor_rateio_15_numeros = 0\n",
    "        self.valor_rateio_14_numeros = 0\n",
    "        self.valor_rateio_13_numeros = 0\n",
    "        self.valor_rateio_12_numeros = 0\n",
    "        self.valor_rateio_11_numeros = 0\n",
    "        self.par = 0\n",
    "        self.impar = 0\n",
    "        self.numeros = []\n",
    "       \n",
    "    def setParImpar(self):\n",
    "        self.par = sum([1 if x % 2 == 0 else 0 for x in self.numeros])\n",
    "        self.impar = len(self.numeros) - self.par"
   ]
  },
  {
   "cell_type": "code",
   "execution_count": 3,
   "metadata": {
    "collapsed": true
   },
   "outputs": [],
   "source": [
    "class Jogo:\n",
    "    \n",
    "    def __init__(self):\n",
    "        self.id = None\n",
    "        self.data_cadastro = None\n",
    "        self.quantidade = 0\n",
    "        self.par = 0\n",
    "        self.impar = 0\n",
    "        numeros = []\n",
    "        \n",
    "    def sorteio(self, qtdNumeros = 15):\n",
    "        self.numeros = sorted(list(np.random.choice(np.arange(1, 26), qtdNumeros, replace= False)))\n",
    "        self.setQuantidade()\n",
    "        self.setParImpar()\n",
    "        \n",
    "    def setQuantidade(self):\n",
    "        self.quantidade = len(self.numeros)\n",
    "        \n",
    "    def setParImpar(self):\n",
    "        self.par = sum([1 if x % 2 == 0 else 0 for x in self.numeros])\n",
    "        self.impar = len(self.numeros) - self.par"
   ]
  },
  {
   "cell_type": "code",
   "execution_count": 4,
   "metadata": {
    "collapsed": true
   },
   "outputs": [],
   "source": [
    "def get_concursos_lotofacil_csv(arquivo):\n",
    "    concursos = []\n",
    "    \n",
    "    with open(arquivo) as file:\n",
    "        lotofacil = csv.reader(file, delimiter=';')\n",
    "        data = list(lotofacil)\n",
    "    \n",
    "    for x in data[1:]:\n",
    "        concurso = Lotofacil()\n",
    "        concurso.id = int(x[0])\n",
    "        concurso.data_sorteio = x[1]\n",
    "        concurso.numeros = sorted(list(map(int, x[2:17])))\n",
    "        concurso.ganhadores_15_numeros = int(x[17])\n",
    "        concurso.valor_rateio_15_numeros = float(x[18].replace('.', '').replace(',', '.'))\n",
    "        concurso.valor_rateio_14_numeros = float(x[19].replace('.', '').replace(',', '.'))\n",
    "        concurso.valor_rateio_13_numeros = float(x[20].replace('.', '').replace(',', '.'))\n",
    "        concurso.valor_rateio_12_numeros = float(x[21].replace('.', '').replace(',', '.'))\n",
    "        concurso.valor_rateio_11_numeros = float(x[22].replace('.', '').replace(',', '.'))\n",
    "        concurso.setParImpar()\n",
    "        concursos.append(concurso)\n",
    "    \n",
    "    return concursos"
   ]
  },
  {
   "cell_type": "code",
   "execution_count": 5,
   "metadata": {
    "collapsed": true
   },
   "outputs": [],
   "source": [
    "def gerar_jogo(qtd_apostas = 1000):\n",
    "    count = 0\n",
    "    apostas = []\n",
    "    limite_inferior = 3\n",
    "    limite_superior = 23\n",
    "    numeros_aposta = 15\n",
    "    qtd_tentativas = 0\n",
    "    \n",
    "    while (count < qtd_apostas and qtd_tentativas < 1000):\n",
    "        add = True\n",
    "        aposta = Aposta()\n",
    "        aposta.sorteio(numeros_aposta)\n",
    "        \n",
    "        if (aposta.numeros[0] > limite_inferior or aposta.numeros[-1] < limite_superior):\n",
    "            qtd_tentativas += 1\n",
    "            continue\n",
    "            \n",
    "        for i in apostas:\n",
    "            if (len(set(i.numeros).intersection(aposta.numeros)) == 15):\n",
    "                add = False\n",
    "                qtd_tentativas += 1\n",
    "                continue\n",
    "                \n",
    "        if (add):\n",
    "            apostas.append(aposta)\n",
    "            count += 1\n",
    "            qtd_tentativas = 0\n",
    "            \n",
    "    print('apostas geradas: %s - tentativas: %s' % (count, qtd_tentativas))\n",
    "            \n",
    "    return apostas"
   ]
  },
  {
   "cell_type": "code",
   "execution_count": 6,
   "metadata": {
    "collapsed": true
   },
   "outputs": [],
   "source": [
    "def filtrar_concursos_por_numero(concursos, inicial, final):\n",
    "    concursos_filtrados = []\n",
    "    \n",
    "    for c in concursos:\n",
    "        if (c.id >= inicial and c.id <= final):\n",
    "            concursos_filtrados.append(c)\n",
    "    \n",
    "    return concursos_filtrados"
   ]
  },
  {
   "cell_type": "code",
   "execution_count": 7,
   "metadata": {
    "collapsed": true
   },
   "outputs": [],
   "source": [
    "def filtrar_ultimos_concursos(concursos, ultimos):\n",
    "    concursos_filtrados = []\n",
    "    \n",
    "    if (ultimos is not None):\n",
    "        concursos_filtrados = concursos[len(concursos)-ultimos:]\n",
    "        \n",
    "    return concursos_filtrados"
   ]
  },
  {
   "cell_type": "code",
   "execution_count": 8,
   "metadata": {
    "collapsed": true
   },
   "outputs": [],
   "source": [
    "def filtrar_concurso_por_numeros(concursos, numeros):\n",
    "    concursos_filtrados = []\n",
    "    \n",
    "    for c in concursos:\n",
    "        if (len(set(c.numeros).intersection(numeros)) == len(numeros)):\n",
    "            concursos_filtrados.append(c)\n",
    "#         if len(set(apostas[i].numeros).intersection(notin[j])) == len(notin[j]):\n",
    "    \n",
    "    return concursos_filtrados"
   ]
  },
  {
   "cell_type": "code",
   "execution_count": 9,
   "metadata": {
    "collapsed": true
   },
   "outputs": [],
   "source": [
    "def imprimir_concursos(concursos):\n",
    "    print(\"Total concursos: %s \\n\" % (len(concursos)))\n",
    "    for c in concursos:\n",
    "        print(\"Concurso: \", c.id)\n",
    "        print(\"Data Sorteio: \", c.data_sorteio)\n",
    "        print(\"Ganhadores 15 pontos: %s \" % (c.ganhadores_15_numeros))\n",
    "        print(\"Impares: %s - Pares: %s\" % (c.impar, c.par))\n",
    "        print(c.numeros)\n",
    "        print(\"\\n\")"
   ]
  },
  {
   "cell_type": "code",
   "execution_count": 10,
   "metadata": {
    "collapsed": true
   },
   "outputs": [],
   "source": [
    "def imprimir_aposta(apostas):\n",
    "    print(\"Total apostas: %s \\n\" % (len(apostas)))\n",
    "    for a in apostas:\n",
    "#         print(\"ID: \", a.id)\n",
    "#         print(\"Data: \", a.data_sorteio)\n",
    "        print(\"Impares: %s - Pares: %s\" % (a.impar, a.par))\n",
    "        print(a.numeros)\n",
    "        print(\"\\n\")"
   ]
  },
  {
   "cell_type": "code",
   "execution_count": 11,
   "metadata": {
    "collapsed": true
   },
   "outputs": [],
   "source": [
    "def imprimir_jogo(jogos):\n",
    "    print(\"Total jogos: %s \\n\" % (len(jogos)))\n",
    "    for a in jogos:\n",
    "#         print(\"ID: \", a.id)\n",
    "#         print(\"Data: \", a.data_sorteio)\n",
    "        print(\"Impares: %s - Pares: %s\" % (a.impar, a.par))\n",
    "        print(a.numeros)\n",
    "        print(\"\\n\")"
   ]
  },
  {
   "cell_type": "code",
   "execution_count": 12,
   "metadata": {
    "collapsed": true
   },
   "outputs": [],
   "source": [
    "def filtrar_jogo_inicio_fim(jogos, posicao, numeros):\n",
    "    apostas_filtradas = []\n",
    "\n",
    "    for a in jogos:\n",
    "        for n in numeros:\n",
    "            if (a.numeros[posicao] == n):\n",
    "                apostas_filtradas.append(a)\n",
    "                continue\n",
    "        \n",
    "    return apostas_filtradas"
   ]
  },
  {
   "cell_type": "code",
   "execution_count": 13,
   "metadata": {
    "collapsed": true
   },
   "outputs": [],
   "source": [
    "def filtrar_jogo_impar_par(jogos, impar):\n",
    "    apostas_filtradas = []\n",
    "    \n",
    "    for a in jogos:\n",
    "        for i in impar:\n",
    "            if (a.impar == i):\n",
    "                apostas_filtradas.append(a)\n",
    "        \n",
    "    return apostas_filtradas"
   ]
  },
  {
   "cell_type": "code",
   "execution_count": 14,
   "metadata": {
    "collapsed": true
   },
   "outputs": [],
   "source": [
    "def filtrar_jogo_por_numeros(apostas, numeros, match):\n",
    "    apostas_filtradas = []\n",
    "    \n",
    "    for a in apostas:\n",
    "        if len(set(a.numeros).intersection(numeros)) >= match:\n",
    "            apostas_filtradas.append(a)\n",
    "        \n",
    "    return apostas_filtradas"
   ]
  },
  {
   "cell_type": "code",
   "execution_count": 15,
   "metadata": {
    "collapsed": true
   },
   "outputs": [],
   "source": [
    "# variaveis globais\n",
    "min_numeros_aposta = 15\n",
    "max_numeros_aposta = 18"
   ]
  },
  {
   "cell_type": "code",
   "execution_count": 4,
   "metadata": {},
   "outputs": [
    {
     "name": "stdout",
     "output_type": "stream",
     "text": [
      "Quantidade de números por aposta: 15\n"
     ]
    }
   ],
   "source": [
    "while True:\n",
    "    try:\n",
    "        numerosAposta = int(input('Quantidade de números por aposta: '))\n",
    "        if numerosAposta < 15 or numerosAposta > 18:\n",
    "            raise ValueError('Digite um valor entre 15 e 18!')\n",
    "    except ValueError as e:\n",
    "        print(e)\n",
    "        continue\n",
    "    except:\n",
    "        print('Erro desconhecido!')\n",
    "        continue\n",
    "    else:\n",
    "        break"
   ]
  },
  {
   "cell_type": "code",
   "execution_count": 11,
   "metadata": {},
   "outputs": [
    {
     "name": "stdout",
     "output_type": "stream",
     "text": [
      "apostas geradas: 100000 - tentativas: 0\n"
     ]
    }
   ],
   "source": [
    "jogos = gerar_jogo(100000)"
   ]
  },
  {
   "cell_type": "code",
   "execution_count": 51,
   "metadata": {},
   "outputs": [
    {
     "data": {
      "text/plain": [
       "100000"
      ]
     },
     "execution_count": 51,
     "metadata": {},
     "output_type": "execute_result"
    }
   ],
   "source": [
    "len(apostas)"
   ]
  },
  {
   "cell_type": "code",
   "execution_count": 11,
   "metadata": {
    "collapsed": true
   },
   "outputs": [],
   "source": [
    "i = 0\n",
    "\n",
    "while i < len(apostas):\n",
    "    j = 0\n",
    "    while j < len(apostas):\n",
    "        if i != j:\n",
    "            if len(set(apostas[i].numeros).intersection(apostas[j].numeros)) == 15:\n",
    "                del apostas[j]\n",
    "        j += 1\n",
    "#     print(len(set(a).intersection(apostas[i])))\n",
    "    i += 1"
   ]
  },
  {
   "cell_type": "code",
   "execution_count": 13,
   "metadata": {
    "collapsed": true
   },
   "outputs": [],
   "source": [
    "i = 0\n",
    "notin = [[1,2,3,4,5,6,7,8], [18,19,20,21,22,23,24,25]]\n",
    "\n",
    "while i < len(apostas):\n",
    "    j = 0\n",
    "    a = 0\n",
    "    while j < len(notin):\n",
    "        if len(set(apostas[i].numeros).intersection(notin[j])) == len(notin[j]):\n",
    "            a += 1\n",
    "        j += 1\n",
    "    \n",
    "    if (a > 0):\n",
    "        del apostas[i]\n",
    "        \n",
    "    i += 1"
   ]
  },
  {
   "cell_type": "code",
   "execution_count": 14,
   "metadata": {
    "collapsed": true
   },
   "outputs": [],
   "source": [
    "i = 0\n",
    "final = [23,24,25]\n",
    "\n",
    "while i < len(apostas):\n",
    "    if len(set(apostas[i].numeros).intersection(final)) < 2:\n",
    "        del apostas[i]\n",
    "        \n",
    "    i += 1"
   ]
  },
  {
   "cell_type": "code",
   "execution_count": 15,
   "metadata": {
    "collapsed": true
   },
   "outputs": [],
   "source": [
    "i = 0\n",
    "inicio = [1,2,3]\n",
    "\n",
    "while i < len(apostas):\n",
    "    if len(set(apostas[i].numeros).intersection(inicio)) < 2:\n",
    "        del apostas[i]\n",
    "        \n",
    "    i += 1"
   ]
  },
  {
   "cell_type": "code",
   "execution_count": 16,
   "metadata": {
    "collapsed": true
   },
   "outputs": [],
   "source": [
    "i = 0\n",
    "\n",
    "while i < len(apostas):\n",
    "    if (apostas[i].impar <= 6 or apostas[i].impar >= 10):\n",
    "        del apostas[i]\n",
    "    i += 1"
   ]
  },
  {
   "cell_type": "code",
   "execution_count": null,
   "metadata": {
    "collapsed": true
   },
   "outputs": [],
   "source": [
    "# !pip install urllib urllib2"
   ]
  },
  {
   "cell_type": "code",
   "execution_count": null,
   "metadata": {
    "collapsed": true
   },
   "outputs": [],
   "source": [
    "# import urllib"
   ]
  },
  {
   "cell_type": "code",
   "execution_count": null,
   "metadata": {
    "collapsed": true
   },
   "outputs": [],
   "source": [
    "# page = urllib.request.urlopen(\"file:///Users/raphael/Documents/GitHub/python_scripts/D_LOTFAC.HTM\", 'r')"
   ]
  },
  {
   "cell_type": "code",
   "execution_count": null,
   "metadata": {
    "collapsed": true
   },
   "outputs": [],
   "source": [
    "# from bs4 import BeautifulSoup"
   ]
  },
  {
   "cell_type": "code",
   "execution_count": null,
   "metadata": {
    "collapsed": true
   },
   "outputs": [],
   "source": [
    "# soup = BeautifulSoup(page.read(), 'html.parser')"
   ]
  },
  {
   "cell_type": "code",
   "execution_count": null,
   "metadata": {
    "collapsed": true
   },
   "outputs": [],
   "source": [
    "# soup = BeautifulSoup(page.read(), 'lxml')"
   ]
  },
  {
   "cell_type": "code",
   "execution_count": null,
   "metadata": {
    "collapsed": true
   },
   "outputs": [],
   "source": [
    "# table = soup.find_all('table')[0]"
   ]
  },
  {
   "cell_type": "code",
   "execution_count": null,
   "metadata": {
    "collapsed": true
   },
   "outputs": [],
   "source": [
    "# for row in table.find_all('tr'):\n",
    "#     columns = row.find_all(['td', 'th'])\n",
    "#     for col in columns:\n",
    "#         print(col.text())"
   ]
  },
  {
   "cell_type": "code",
   "execution_count": null,
   "metadata": {
    "collapsed": true
   },
   "outputs": [],
   "source": [
    "# i = 1\n",
    "# for row in soup.findAll('table')[0].findAll('tr'):\n",
    "#     concurso = row.findAll('td')\n",
    "#     print(concurso)\n",
    "    \n",
    "#     i += 1"
   ]
  },
  {
   "cell_type": "code",
   "execution_count": 8,
   "metadata": {
    "collapsed": true
   },
   "outputs": [],
   "source": [
    "concursos = get_concursos_lotofacil_csv('lotofacil_data/lotofacil.csv')"
   ]
  },
  {
   "cell_type": "code",
   "execution_count": 9,
   "metadata": {
    "scrolled": true
   },
   "outputs": [
    {
     "name": "stdout",
     "output_type": "stream",
     "text": [
      "1 29/09/2003 5 49765.82 689.84 10.0 4.0 2.0 7 8\n",
      "[2, 3, 5, 6, 9, 10, 11, 13, 14, 16, 18, 20, 23, 24, 25]\n",
      "2 06/10/2003 1 596323.7 1388.95 10.0 4.0 2.0 9 6\n",
      "[1, 4, 5, 6, 7, 9, 11, 12, 13, 15, 16, 19, 20, 23, 24]\n",
      "3 13/10/2003 2 400623.7 2173.36 10.0 4.0 2.0 6 9\n",
      "[1, 4, 6, 7, 8, 9, 10, 11, 12, 14, 16, 17, 20, 23, 24]\n"
     ]
    }
   ],
   "source": [
    "for x in concursos[:3]:\n",
    "    print(x.id, x.data_sorteio, x.ganhadores_15_numeros, x.valor_rateio_15_numeros , x.valor_rateio_14_numeros, x.valor_rateio_13_numeros, x.valor_rateio_12_numeros, x.valor_rateio_11_numeros, x.impar, x.par)\n",
    "    print(x.numeros)"
   ]
  },
  {
   "cell_type": "code",
   "execution_count": 10,
   "metadata": {
    "collapsed": true
   },
   "outputs": [],
   "source": [
    "concursos_v1 = filtrar_ultimos_concursos(concursos, 100)"
   ]
  },
  {
   "cell_type": "code",
   "execution_count": 71,
   "metadata": {},
   "outputs": [
    {
     "name": "stdout",
     "output_type": "stream",
     "text": [
      "Total concursos: 43 \n",
      "\n",
      "Concurso:  89\n",
      "Data Sorteio:  06/06/2005\n",
      "Ganhadores 15 pontos: 2 \n",
      "Impares: 9 - Pares: 6\n",
      "[1, 6, 11, 12, 13, 15, 16, 17, 19, 20, 21, 22, 23, 24, 25]\n",
      "\n",
      "\n",
      "Concurso:  90\n",
      "Data Sorteio:  13/06/2005\n",
      "Ganhadores 15 pontos: 4 \n",
      "Impares: 8 - Pares: 7\n",
      "[1, 2, 3, 8, 10, 11, 12, 15, 17, 20, 21, 22, 23, 24, 25]\n",
      "\n",
      "\n",
      "Concurso:  161\n",
      "Data Sorteio:  19/10/2006\n",
      "Ganhadores 15 pontos: 0 \n",
      "Impares: 9 - Pares: 6\n",
      "[1, 5, 8, 11, 13, 15, 16, 17, 18, 20, 21, 22, 23, 24, 25]\n",
      "\n",
      "\n",
      "Concurso:  173\n",
      "Data Sorteio:  30/11/2006\n",
      "Ganhadores 15 pontos: 0 \n",
      "Impares: 9 - Pares: 6\n",
      "[2, 3, 4, 5, 7, 8, 11, 15, 19, 20, 21, 22, 23, 24, 25]\n",
      "\n",
      "\n",
      "Concurso:  188\n",
      "Data Sorteio:  22/01/2007\n",
      "Ganhadores 15 pontos: 6 \n",
      "Impares: 8 - Pares: 7\n",
      "[2, 3, 5, 8, 10, 11, 13, 16, 19, 20, 21, 22, 23, 24, 25]\n",
      "\n",
      "\n",
      "Concurso:  374\n",
      "Data Sorteio:  10/11/2008\n",
      "Ganhadores 15 pontos: 3 \n",
      "Impares: 7 - Pares: 8\n",
      "[1, 2, 3, 6, 9, 12, 13, 16, 18, 20, 21, 22, 23, 24, 25]\n",
      "\n",
      "\n",
      "Concurso:  402\n",
      "Data Sorteio:  16/02/2009\n",
      "Ganhadores 15 pontos: 3 \n",
      "Impares: 7 - Pares: 8\n",
      "[1, 2, 4, 6, 7, 8, 9, 11, 16, 20, 21, 22, 23, 24, 25]\n",
      "\n",
      "\n",
      "Concurso:  464\n",
      "Data Sorteio:  24/09/2009\n",
      "Ganhadores 15 pontos: 2 \n",
      "Impares: 8 - Pares: 7\n",
      "[1, 2, 5, 8, 10, 11, 16, 17, 19, 20, 21, 22, 23, 24, 25]\n",
      "\n",
      "\n",
      "Concurso:  491\n",
      "Data Sorteio:  28/12/2009\n",
      "Ganhadores 15 pontos: 10 \n",
      "Impares: 9 - Pares: 6\n",
      "[1, 2, 3, 7, 9, 11, 12, 13, 16, 20, 21, 22, 23, 24, 25]\n",
      "\n",
      "\n",
      "Concurso:  589\n",
      "Data Sorteio:  06/12/2010\n",
      "Ganhadores 15 pontos: 3 \n",
      "Impares: 6 - Pares: 9\n",
      "[2, 3, 4, 6, 8, 9, 10, 12, 13, 20, 21, 22, 23, 24, 25]\n",
      "\n",
      "\n",
      "Concurso:  615\n",
      "Data Sorteio:  05/03/2011\n",
      "Ganhadores 15 pontos: 0 \n",
      "Impares: 8 - Pares: 7\n",
      "[1, 2, 4, 7, 8, 11, 12, 17, 19, 20, 21, 22, 23, 24, 25]\n",
      "\n",
      "\n",
      "Concurso:  633\n",
      "Data Sorteio:  09/05/2011\n",
      "Ganhadores 15 pontos: 2 \n",
      "Impares: 6 - Pares: 9\n",
      "[2, 3, 6, 7, 8, 9, 10, 12, 18, 20, 21, 22, 23, 24, 25]\n",
      "\n",
      "\n",
      "Concurso:  685\n",
      "Data Sorteio:  07/11/2011\n",
      "Ganhadores 15 pontos: 6 \n",
      "Impares: 10 - Pares: 5\n",
      "[1, 3, 4, 9, 12, 13, 15, 17, 19, 20, 21, 22, 23, 24, 25]\n",
      "\n",
      "\n",
      "Concurso:  703\n",
      "Data Sorteio:  09/01/2012\n",
      "Ganhadores 15 pontos: 6 \n",
      "Impares: 7 - Pares: 8\n",
      "[2, 5, 8, 10, 11, 14, 15, 17, 18, 20, 21, 22, 23, 24, 25]\n",
      "\n",
      "\n",
      "Concurso:  727\n",
      "Data Sorteio:  16/03/2012\n",
      "Ganhadores 15 pontos: 2 \n",
      "Impares: 7 - Pares: 8\n",
      "[3, 4, 6, 7, 8, 9, 11, 16, 18, 20, 21, 22, 23, 24, 25]\n",
      "\n",
      "\n",
      "Concurso:  732\n",
      "Data Sorteio:  28/03/2012\n",
      "Ganhadores 15 pontos: 2 \n",
      "Impares: 8 - Pares: 7\n",
      "[1, 4, 8, 9, 10, 11, 13, 14, 17, 20, 21, 22, 23, 24, 25]\n",
      "\n",
      "\n",
      "Concurso:  739\n",
      "Data Sorteio:  13/04/2012\n",
      "Ganhadores 15 pontos: 4 \n",
      "Impares: 7 - Pares: 8\n",
      "[2, 3, 4, 8, 9, 10, 11, 14, 17, 20, 21, 22, 23, 24, 25]\n",
      "\n",
      "\n",
      "Concurso:  815\n",
      "Data Sorteio:  13/10/2012\n",
      "Ganhadores 15 pontos: 4 \n",
      "Impares: 7 - Pares: 8\n",
      "[6, 7, 8, 10, 11, 14, 15, 17, 18, 20, 21, 22, 23, 24, 25]\n",
      "\n",
      "\n",
      "Concurso:  869\n",
      "Data Sorteio:  18/02/2013\n",
      "Ganhadores 15 pontos: 6 \n",
      "Impares: 7 - Pares: 8\n",
      "[1, 3, 6, 9, 10, 11, 12, 14, 18, 20, 21, 22, 23, 24, 25]\n",
      "\n",
      "\n",
      "Concurso:  934\n",
      "Data Sorteio:  22/07/2013\n",
      "Ganhadores 15 pontos: 6 \n",
      "Impares: 7 - Pares: 8\n",
      "[2, 3, 4, 8, 9, 10, 11, 14, 19, 20, 21, 22, 23, 24, 25]\n",
      "\n",
      "\n",
      "Concurso:  959\n",
      "Data Sorteio:  23/09/2013\n",
      "Ganhadores 15 pontos: 5 \n",
      "Impares: 7 - Pares: 8\n",
      "[2, 5, 6, 9, 11, 12, 14, 16, 19, 20, 21, 22, 23, 24, 25]\n",
      "\n",
      "\n",
      "Concurso:  971\n",
      "Data Sorteio:  21/10/2013\n",
      "Ganhadores 15 pontos: 2 \n",
      "Impares: 8 - Pares: 7\n",
      "[3, 4, 5, 6, 7, 9, 10, 11, 18, 20, 21, 22, 23, 24, 25]\n",
      "\n",
      "\n",
      "Concurso:  972\n",
      "Data Sorteio:  23/10/2013\n",
      "Ganhadores 15 pontos: 4 \n",
      "Impares: 8 - Pares: 7\n",
      "[1, 3, 6, 8, 11, 13, 14, 15, 16, 20, 21, 22, 23, 24, 25]\n",
      "\n",
      "\n",
      "Concurso:  984\n",
      "Data Sorteio:  20/11/2013\n",
      "Ganhadores 15 pontos: 3 \n",
      "Impares: 7 - Pares: 8\n",
      "[2, 4, 8, 9, 10, 11, 12, 13, 15, 20, 21, 22, 23, 24, 25]\n",
      "\n",
      "\n",
      "Concurso:  993\n",
      "Data Sorteio:  11/12/2013\n",
      "Ganhadores 15 pontos: 13 \n",
      "Impares: 7 - Pares: 8\n",
      "[2, 4, 5, 7, 9, 10, 12, 14, 17, 20, 21, 22, 23, 24, 25]\n",
      "\n",
      "\n",
      "Concurso:  1045\n",
      "Data Sorteio:  19/04/2014\n",
      "Ganhadores 15 pontos: 4 \n",
      "Impares: 9 - Pares: 6\n",
      "[2, 3, 5, 6, 9, 11, 15, 16, 17, 20, 21, 22, 23, 24, 25]\n",
      "\n",
      "\n",
      "Concurso:  1070\n",
      "Data Sorteio:  18/06/2014\n",
      "Ganhadores 15 pontos: 1 \n",
      "Impares: 7 - Pares: 8\n",
      "[4, 9, 10, 11, 12, 13, 16, 18, 19, 20, 21, 22, 23, 24, 25]\n",
      "\n",
      "\n",
      "Concurso:  1074\n",
      "Data Sorteio:  27/06/2014\n",
      "Ganhadores 15 pontos: 2 \n",
      "Impares: 9 - Pares: 6\n",
      "[1, 4, 7, 8, 9, 10, 11, 13, 17, 20, 21, 22, 23, 24, 25]\n",
      "\n",
      "\n",
      "Concurso:  1164\n",
      "Data Sorteio:  28/01/2015\n",
      "Ganhadores 15 pontos: 7 \n",
      "Impares: 9 - Pares: 6\n",
      "[3, 4, 5, 8, 10, 11, 13, 15, 17, 20, 21, 22, 23, 24, 25]\n",
      "\n",
      "\n",
      "Concurso:  1201\n",
      "Data Sorteio:  27/04/2015\n",
      "Ganhadores 15 pontos: 2 \n",
      "Impares: 7 - Pares: 8\n",
      "[5, 6, 9, 10, 11, 14, 16, 18, 19, 20, 21, 22, 23, 24, 25]\n",
      "\n",
      "\n",
      "Concurso:  1298\n",
      "Data Sorteio:  16/12/2015\n",
      "Ganhadores 15 pontos: 2 \n",
      "Impares: 7 - Pares: 8\n",
      "[2, 3, 4, 6, 7, 9, 12, 17, 18, 20, 21, 22, 23, 24, 25]\n",
      "\n",
      "\n",
      "Concurso:  1313\n",
      "Data Sorteio:  20/01/2016\n",
      "Ganhadores 15 pontos: 4 \n",
      "Impares: 8 - Pares: 7\n",
      "[1, 4, 8, 10, 11, 13, 15, 16, 17, 20, 21, 22, 23, 24, 25]\n",
      "\n",
      "\n",
      "Concurso:  1351\n",
      "Data Sorteio:  20/04/2016\n",
      "Ganhadores 15 pontos: 3 \n",
      "Impares: 8 - Pares: 7\n",
      "[2, 4, 6, 7, 10, 11, 13, 17, 19, 20, 21, 22, 23, 24, 25]\n",
      "\n",
      "\n",
      "Concurso:  1365\n",
      "Data Sorteio:  23/05/2016\n",
      "Ganhadores 15 pontos: 1 \n",
      "Impares: 7 - Pares: 8\n",
      "[2, 3, 6, 9, 10, 12, 14, 15, 19, 20, 21, 22, 23, 24, 25]\n",
      "\n",
      "\n",
      "Concurso:  1371\n",
      "Data Sorteio:  06/06/2016\n",
      "Ganhadores 15 pontos: 1 \n",
      "Impares: 10 - Pares: 5\n",
      "[3, 4, 5, 7, 13, 15, 17, 18, 19, 20, 21, 22, 23, 24, 25]\n",
      "\n",
      "\n",
      "Concurso:  1407\n",
      "Data Sorteio:  29/08/2016\n",
      "Ganhadores 15 pontos: 0 \n",
      "Impares: 7 - Pares: 8\n",
      "[1, 2, 4, 5, 6, 7, 10, 12, 13, 20, 21, 22, 23, 24, 25]\n",
      "\n",
      "\n",
      "Concurso:  1446\n",
      "Data Sorteio:  09/12/2016\n",
      "Ganhadores 15 pontos: 0 \n",
      "Impares: 7 - Pares: 8\n",
      "[1, 4, 6, 7, 8, 12, 13, 16, 17, 20, 21, 22, 23, 24, 25]\n",
      "\n",
      "\n",
      "Concurso:  1466\n",
      "Data Sorteio:  25/01/2017\n",
      "Ganhadores 15 pontos: 1 \n",
      "Impares: 6 - Pares: 9\n",
      "[2, 3, 4, 6, 10, 11, 12, 14, 19, 20, 21, 22, 23, 24, 25]\n",
      "\n",
      "\n",
      "Concurso:  1467\n",
      "Data Sorteio:  27/01/2017\n",
      "Ganhadores 15 pontos: 8 \n",
      "Impares: 8 - Pares: 7\n",
      "[1, 4, 5, 6, 9, 10, 11, 12, 19, 20, 21, 22, 23, 24, 25]\n",
      "\n",
      "\n",
      "Concurso:  1503\n",
      "Data Sorteio:  24/04/2017\n",
      "Ganhadores 15 pontos: 0 \n",
      "Impares: 8 - Pares: 7\n",
      "[1, 2, 3, 7, 12, 15, 16, 17, 18, 20, 21, 22, 23, 24, 25]\n",
      "\n",
      "\n",
      "Concurso:  1519\n",
      "Data Sorteio:  02/06/2017\n",
      "Ganhadores 15 pontos: 4 \n",
      "Impares: 6 - Pares: 9\n",
      "[1, 4, 6, 8, 13, 14, 16, 17, 18, 20, 21, 22, 23, 24, 25]\n",
      "\n",
      "\n",
      "Concurso:  1632\n",
      "Data Sorteio:  05/03/2018\n",
      "Ganhadores 15 pontos: 0 \n",
      "Impares: 6 - Pares: 9\n",
      "[4, 5, 8, 12, 13, 14, 15, 16, 18, 20, 21, 22, 23, 24, 25]\n",
      "\n",
      "\n",
      "Concurso:  1653\n",
      "Data Sorteio:  23/04/2018\n",
      "Ganhadores 15 pontos: 0 \n",
      "Impares: 7 - Pares: 8\n",
      "[2, 4, 5, 6, 7, 12, 14, 15, 17, 20, 21, 22, 23, 24, 25]\n",
      "\n",
      "\n"
     ]
    }
   ],
   "source": [
    "concursos_v2 = filtrar_concurso_por_numeros(concursos, [20,21,22,23,24,25])\n",
    "imprimir_concursos(concursos_v2)"
   ]
  },
  {
   "cell_type": "code",
   "execution_count": 216,
   "metadata": {},
   "outputs": [
    {
     "data": {
      "text/html": [
       "<div>\n",
       "<style>\n",
       "    .dataframe thead tr:only-child th {\n",
       "        text-align: right;\n",
       "    }\n",
       "\n",
       "    .dataframe thead th {\n",
       "        text-align: left;\n",
       "    }\n",
       "\n",
       "    .dataframe tbody tr th {\n",
       "        vertical-align: top;\n",
       "    }\n",
       "</style>\n",
       "<table border=\"1\" class=\"dataframe\">\n",
       "  <thead>\n",
       "    <tr style=\"text-align: right;\">\n",
       "      <th></th>\n",
       "      <th>par</th>\n",
       "    </tr>\n",
       "    <tr>\n",
       "      <th>impar</th>\n",
       "      <th></th>\n",
       "    </tr>\n",
       "  </thead>\n",
       "  <tbody>\n",
       "    <tr>\n",
       "      <th>7</th>\n",
       "      <td>8</td>\n",
       "    </tr>\n",
       "    <tr>\n",
       "      <th>9</th>\n",
       "      <td>6</td>\n",
       "    </tr>\n",
       "    <tr>\n",
       "      <th>6</th>\n",
       "      <td>9</td>\n",
       "    </tr>\n",
       "    <tr>\n",
       "      <th>7</th>\n",
       "      <td>8</td>\n",
       "    </tr>\n",
       "    <tr>\n",
       "      <th>8</th>\n",
       "      <td>7</td>\n",
       "    </tr>\n",
       "    <tr>\n",
       "      <th>9</th>\n",
       "      <td>6</td>\n",
       "    </tr>\n",
       "    <tr>\n",
       "      <th>7</th>\n",
       "      <td>8</td>\n",
       "    </tr>\n",
       "    <tr>\n",
       "      <th>8</th>\n",
       "      <td>7</td>\n",
       "    </tr>\n",
       "    <tr>\n",
       "      <th>10</th>\n",
       "      <td>5</td>\n",
       "    </tr>\n",
       "    <tr>\n",
       "      <th>6</th>\n",
       "      <td>9</td>\n",
       "    </tr>\n",
       "    <tr>\n",
       "      <th>6</th>\n",
       "      <td>9</td>\n",
       "    </tr>\n",
       "    <tr>\n",
       "      <th>7</th>\n",
       "      <td>8</td>\n",
       "    </tr>\n",
       "    <tr>\n",
       "      <th>10</th>\n",
       "      <td>5</td>\n",
       "    </tr>\n",
       "    <tr>\n",
       "      <th>10</th>\n",
       "      <td>5</td>\n",
       "    </tr>\n",
       "    <tr>\n",
       "      <th>6</th>\n",
       "      <td>9</td>\n",
       "    </tr>\n",
       "    <tr>\n",
       "      <th>9</th>\n",
       "      <td>6</td>\n",
       "    </tr>\n",
       "    <tr>\n",
       "      <th>9</th>\n",
       "      <td>6</td>\n",
       "    </tr>\n",
       "    <tr>\n",
       "      <th>6</th>\n",
       "      <td>9</td>\n",
       "    </tr>\n",
       "    <tr>\n",
       "      <th>7</th>\n",
       "      <td>8</td>\n",
       "    </tr>\n",
       "    <tr>\n",
       "      <th>6</th>\n",
       "      <td>9</td>\n",
       "    </tr>\n",
       "    <tr>\n",
       "      <th>6</th>\n",
       "      <td>9</td>\n",
       "    </tr>\n",
       "    <tr>\n",
       "      <th>8</th>\n",
       "      <td>7</td>\n",
       "    </tr>\n",
       "    <tr>\n",
       "      <th>6</th>\n",
       "      <td>9</td>\n",
       "    </tr>\n",
       "    <tr>\n",
       "      <th>10</th>\n",
       "      <td>5</td>\n",
       "    </tr>\n",
       "    <tr>\n",
       "      <th>7</th>\n",
       "      <td>8</td>\n",
       "    </tr>\n",
       "    <tr>\n",
       "      <th>9</th>\n",
       "      <td>6</td>\n",
       "    </tr>\n",
       "    <tr>\n",
       "      <th>6</th>\n",
       "      <td>9</td>\n",
       "    </tr>\n",
       "    <tr>\n",
       "      <th>9</th>\n",
       "      <td>6</td>\n",
       "    </tr>\n",
       "    <tr>\n",
       "      <th>7</th>\n",
       "      <td>8</td>\n",
       "    </tr>\n",
       "    <tr>\n",
       "      <th>8</th>\n",
       "      <td>7</td>\n",
       "    </tr>\n",
       "    <tr>\n",
       "      <th>...</th>\n",
       "      <td>...</td>\n",
       "    </tr>\n",
       "    <tr>\n",
       "      <th>7</th>\n",
       "      <td>8</td>\n",
       "    </tr>\n",
       "    <tr>\n",
       "      <th>7</th>\n",
       "      <td>8</td>\n",
       "    </tr>\n",
       "    <tr>\n",
       "      <th>5</th>\n",
       "      <td>10</td>\n",
       "    </tr>\n",
       "    <tr>\n",
       "      <th>9</th>\n",
       "      <td>6</td>\n",
       "    </tr>\n",
       "    <tr>\n",
       "      <th>7</th>\n",
       "      <td>8</td>\n",
       "    </tr>\n",
       "    <tr>\n",
       "      <th>8</th>\n",
       "      <td>7</td>\n",
       "    </tr>\n",
       "    <tr>\n",
       "      <th>7</th>\n",
       "      <td>8</td>\n",
       "    </tr>\n",
       "    <tr>\n",
       "      <th>9</th>\n",
       "      <td>6</td>\n",
       "    </tr>\n",
       "    <tr>\n",
       "      <th>7</th>\n",
       "      <td>8</td>\n",
       "    </tr>\n",
       "    <tr>\n",
       "      <th>6</th>\n",
       "      <td>9</td>\n",
       "    </tr>\n",
       "    <tr>\n",
       "      <th>9</th>\n",
       "      <td>6</td>\n",
       "    </tr>\n",
       "    <tr>\n",
       "      <th>9</th>\n",
       "      <td>6</td>\n",
       "    </tr>\n",
       "    <tr>\n",
       "      <th>9</th>\n",
       "      <td>6</td>\n",
       "    </tr>\n",
       "    <tr>\n",
       "      <th>7</th>\n",
       "      <td>8</td>\n",
       "    </tr>\n",
       "    <tr>\n",
       "      <th>8</th>\n",
       "      <td>7</td>\n",
       "    </tr>\n",
       "    <tr>\n",
       "      <th>7</th>\n",
       "      <td>8</td>\n",
       "    </tr>\n",
       "    <tr>\n",
       "      <th>9</th>\n",
       "      <td>6</td>\n",
       "    </tr>\n",
       "    <tr>\n",
       "      <th>6</th>\n",
       "      <td>9</td>\n",
       "    </tr>\n",
       "    <tr>\n",
       "      <th>8</th>\n",
       "      <td>7</td>\n",
       "    </tr>\n",
       "    <tr>\n",
       "      <th>8</th>\n",
       "      <td>7</td>\n",
       "    </tr>\n",
       "    <tr>\n",
       "      <th>8</th>\n",
       "      <td>7</td>\n",
       "    </tr>\n",
       "    <tr>\n",
       "      <th>8</th>\n",
       "      <td>7</td>\n",
       "    </tr>\n",
       "    <tr>\n",
       "      <th>7</th>\n",
       "      <td>8</td>\n",
       "    </tr>\n",
       "    <tr>\n",
       "      <th>9</th>\n",
       "      <td>6</td>\n",
       "    </tr>\n",
       "    <tr>\n",
       "      <th>6</th>\n",
       "      <td>9</td>\n",
       "    </tr>\n",
       "    <tr>\n",
       "      <th>9</th>\n",
       "      <td>6</td>\n",
       "    </tr>\n",
       "    <tr>\n",
       "      <th>6</th>\n",
       "      <td>9</td>\n",
       "    </tr>\n",
       "    <tr>\n",
       "      <th>7</th>\n",
       "      <td>8</td>\n",
       "    </tr>\n",
       "    <tr>\n",
       "      <th>5</th>\n",
       "      <td>10</td>\n",
       "    </tr>\n",
       "    <tr>\n",
       "      <th>7</th>\n",
       "      <td>8</td>\n",
       "    </tr>\n",
       "  </tbody>\n",
       "</table>\n",
       "<p>1652 rows × 1 columns</p>\n",
       "</div>"
      ],
      "text/plain": [
       "       par\n",
       "impar     \n",
       "7        8\n",
       "9        6\n",
       "6        9\n",
       "7        8\n",
       "8        7\n",
       "9        6\n",
       "7        8\n",
       "8        7\n",
       "10       5\n",
       "6        9\n",
       "6        9\n",
       "7        8\n",
       "10       5\n",
       "10       5\n",
       "6        9\n",
       "9        6\n",
       "9        6\n",
       "6        9\n",
       "7        8\n",
       "6        9\n",
       "6        9\n",
       "8        7\n",
       "6        9\n",
       "10       5\n",
       "7        8\n",
       "9        6\n",
       "6        9\n",
       "9        6\n",
       "7        8\n",
       "8        7\n",
       "...    ...\n",
       "7        8\n",
       "7        8\n",
       "5       10\n",
       "9        6\n",
       "7        8\n",
       "8        7\n",
       "7        8\n",
       "9        6\n",
       "7        8\n",
       "6        9\n",
       "9        6\n",
       "9        6\n",
       "9        6\n",
       "7        8\n",
       "8        7\n",
       "7        8\n",
       "9        6\n",
       "6        9\n",
       "8        7\n",
       "8        7\n",
       "8        7\n",
       "8        7\n",
       "7        8\n",
       "9        6\n",
       "6        9\n",
       "9        6\n",
       "6        9\n",
       "7        8\n",
       "5       10\n",
       "7        8\n",
       "\n",
       "[1652 rows x 1 columns]"
      ]
     },
     "execution_count": 216,
     "metadata": {},
     "output_type": "execute_result"
    }
   ],
   "source": [
    "par_impar_lst = []\n",
    "\n",
    "for x in concursos:\n",
    "    par_impar_lst.append([x.impar, x.par])\n",
    "  \n",
    "df_v2 = pd.DataFrame(par_impar_lst, columns=['impar', 'par'])\n",
    "df_v2.set_index(['impar'])\n",
    "# par_impar_dic = dict(par_impar_lst)\n",
    "# print(par_impar_dic)"
   ]
  },
  {
   "cell_type": "code",
   "execution_count": 229,
   "metadata": {
    "collapsed": true
   },
   "outputs": [],
   "source": [
    "df_v2_group = df_v2.groupby(['impar', 'par'])['impar'].count()"
   ]
  },
  {
   "cell_type": "code",
   "execution_count": 230,
   "metadata": {},
   "outputs": [
    {
     "data": {
      "text/plain": [
       "impar  par\n",
       "4      11       5\n",
       "5      10      41\n",
       "6      9      182\n",
       "7      8      429\n",
       "8      7      517\n",
       "9      6      336\n",
       "10     5      118\n",
       "11     4       21\n",
       "12     3        3\n",
       "Name: impar, dtype: int64"
      ]
     },
     "execution_count": 230,
     "metadata": {},
     "output_type": "execute_result"
    }
   ],
   "source": [
    "df_v2_group"
   ]
  },
  {
   "cell_type": "code",
   "execution_count": 231,
   "metadata": {
    "collapsed": true
   },
   "outputs": [],
   "source": [
    "df_v3 = pd.DataFrame(df_v2_group)"
   ]
  },
  {
   "cell_type": "code",
   "execution_count": 232,
   "metadata": {
    "collapsed": true
   },
   "outputs": [],
   "source": [
    "df_v3['perc'] = [(x*100)/df_v2_group.values.sum() for x in df_v2_group.values]"
   ]
  },
  {
   "cell_type": "code",
   "execution_count": 233,
   "metadata": {},
   "outputs": [
    {
     "data": {
      "text/html": [
       "<div>\n",
       "<style>\n",
       "    .dataframe thead tr:only-child th {\n",
       "        text-align: right;\n",
       "    }\n",
       "\n",
       "    .dataframe thead th {\n",
       "        text-align: left;\n",
       "    }\n",
       "\n",
       "    .dataframe tbody tr th {\n",
       "        vertical-align: top;\n",
       "    }\n",
       "</style>\n",
       "<table border=\"1\" class=\"dataframe\">\n",
       "  <thead>\n",
       "    <tr style=\"text-align: right;\">\n",
       "      <th></th>\n",
       "      <th></th>\n",
       "      <th>impar</th>\n",
       "      <th>perc</th>\n",
       "    </tr>\n",
       "    <tr>\n",
       "      <th>impar</th>\n",
       "      <th>par</th>\n",
       "      <th></th>\n",
       "      <th></th>\n",
       "    </tr>\n",
       "  </thead>\n",
       "  <tbody>\n",
       "    <tr>\n",
       "      <th>4</th>\n",
       "      <th>11</th>\n",
       "      <td>5</td>\n",
       "      <td>0.302663</td>\n",
       "    </tr>\n",
       "    <tr>\n",
       "      <th>5</th>\n",
       "      <th>10</th>\n",
       "      <td>41</td>\n",
       "      <td>2.481840</td>\n",
       "    </tr>\n",
       "    <tr>\n",
       "      <th>6</th>\n",
       "      <th>9</th>\n",
       "      <td>182</td>\n",
       "      <td>11.016949</td>\n",
       "    </tr>\n",
       "    <tr>\n",
       "      <th>7</th>\n",
       "      <th>8</th>\n",
       "      <td>429</td>\n",
       "      <td>25.968523</td>\n",
       "    </tr>\n",
       "    <tr>\n",
       "      <th>8</th>\n",
       "      <th>7</th>\n",
       "      <td>517</td>\n",
       "      <td>31.295400</td>\n",
       "    </tr>\n",
       "    <tr>\n",
       "      <th>9</th>\n",
       "      <th>6</th>\n",
       "      <td>336</td>\n",
       "      <td>20.338983</td>\n",
       "    </tr>\n",
       "    <tr>\n",
       "      <th>10</th>\n",
       "      <th>5</th>\n",
       "      <td>118</td>\n",
       "      <td>7.142857</td>\n",
       "    </tr>\n",
       "    <tr>\n",
       "      <th>11</th>\n",
       "      <th>4</th>\n",
       "      <td>21</td>\n",
       "      <td>1.271186</td>\n",
       "    </tr>\n",
       "    <tr>\n",
       "      <th>12</th>\n",
       "      <th>3</th>\n",
       "      <td>3</td>\n",
       "      <td>0.181598</td>\n",
       "    </tr>\n",
       "  </tbody>\n",
       "</table>\n",
       "</div>"
      ],
      "text/plain": [
       "           impar       perc\n",
       "impar par                  \n",
       "4     11       5   0.302663\n",
       "5     10      41   2.481840\n",
       "6     9      182  11.016949\n",
       "7     8      429  25.968523\n",
       "8     7      517  31.295400\n",
       "9     6      336  20.338983\n",
       "10    5      118   7.142857\n",
       "11    4       21   1.271186\n",
       "12    3        3   0.181598"
      ]
     },
     "execution_count": 233,
     "metadata": {},
     "output_type": "execute_result"
    }
   ],
   "source": [
    "df_v3"
   ]
  },
  {
   "cell_type": "code",
   "execution_count": 47,
   "metadata": {
    "collapsed": true
   },
   "outputs": [],
   "source": [
    "menor = []\n",
    "maior = []\n",
    "menor_maior_list = []\n",
    "menor_maior_dict = {}\n",
    "menor_maior_strg = []"
   ]
  },
  {
   "cell_type": "code",
   "execution_count": 48,
   "metadata": {
    "collapsed": true
   },
   "outputs": [],
   "source": [
    "for x in concursos:\n",
    "    menor.append(x.numeros[0])\n",
    "    maior.append(x.numeros[-1])\n",
    "    menor_maior_list.append([x.numeros[0], x.numeros[-1]])\n",
    "    menor_maior_strg.append(str(x.numeros[0]) + ' - ' + str(x.numeros[-1]))\n",
    "#     menor_maior.update({str(x.numeros[0]) + ' - ' + str(x.numeros[-1]): 1})"
   ]
  },
  {
   "cell_type": "code",
   "execution_count": 49,
   "metadata": {
    "collapsed": true
   },
   "outputs": [],
   "source": [
    "import matplotlib.pyplot as plt"
   ]
  },
  {
   "cell_type": "code",
   "execution_count": 50,
   "metadata": {
    "collapsed": true
   },
   "outputs": [],
   "source": [
    "menor_freq = np.histogram(menor, bins=np.arange(1,11))"
   ]
  },
  {
   "cell_type": "code",
   "execution_count": 51,
   "metadata": {
    "collapsed": true
   },
   "outputs": [],
   "source": [
    "menor_perc = [(x * 100)/len(concursos) for x in menor_freq[0]]"
   ]
  },
  {
   "cell_type": "code",
   "execution_count": 52,
   "metadata": {},
   "outputs": [
    {
     "data": {
      "text/plain": [
       "[60.47215496368039,\n",
       " 24.878934624697337,\n",
       " 10.048426150121065,\n",
       " 2.6634382566585955,\n",
       " 1.694915254237288,\n",
       " 0.24213075060532688,\n",
       " 0.0,\n",
       " 0.0,\n",
       " 0.0]"
      ]
     },
     "execution_count": 52,
     "metadata": {},
     "output_type": "execute_result"
    }
   ],
   "source": [
    "menor_perc"
   ]
  },
  {
   "cell_type": "code",
   "execution_count": 19,
   "metadata": {},
   "outputs": [
    {
     "data": {
      "text/plain": [
       "(array([   0,    0,    0,    1,    2,    7,   20,   44,  170, 1408], dtype=int64),\n",
       " array([15, 16, 17, 18, 19, 20, 21, 22, 23, 24, 25]))"
      ]
     },
     "execution_count": 19,
     "metadata": {},
     "output_type": "execute_result"
    }
   ],
   "source": [
    "np.histogram(maior, bins=np.arange(15,26))"
   ]
  },
  {
   "cell_type": "code",
   "execution_count": 36,
   "metadata": {},
   "outputs": [
    {
     "data": {
      "text/plain": [
       "[[2, 25], [1, 24], [1, 24], [1, 25], [1, 25]]"
      ]
     },
     "execution_count": 36,
     "metadata": {},
     "output_type": "execute_result"
    }
   ],
   "source": [
    "menor_maior_list[:5]"
   ]
  },
  {
   "cell_type": "code",
   "execution_count": 37,
   "metadata": {},
   "outputs": [
    {
     "data": {
      "text/plain": [
       "['2 - 25', '1 - 24', '1 - 24', '1 - 25', '1 - 25']"
      ]
     },
     "execution_count": 37,
     "metadata": {},
     "output_type": "execute_result"
    }
   ],
   "source": [
    "menor_maior_strg[:5]"
   ]
  },
  {
   "cell_type": "code",
   "execution_count": 38,
   "metadata": {
    "collapsed": true
   },
   "outputs": [],
   "source": [
    "df_menor_maior_list = pd.DataFrame(menor_maior_list, columns=['menor', 'maior'])"
   ]
  },
  {
   "cell_type": "code",
   "execution_count": 251,
   "metadata": {},
   "outputs": [
    {
     "data": {
      "text/html": [
       "<div>\n",
       "<style>\n",
       "    .dataframe thead tr:only-child th {\n",
       "        text-align: right;\n",
       "    }\n",
       "\n",
       "    .dataframe thead th {\n",
       "        text-align: left;\n",
       "    }\n",
       "\n",
       "    .dataframe tbody tr th {\n",
       "        vertical-align: top;\n",
       "    }\n",
       "</style>\n",
       "<table border=\"1\" class=\"dataframe\">\n",
       "  <thead>\n",
       "    <tr style=\"text-align: right;\">\n",
       "      <th></th>\n",
       "      <th></th>\n",
       "    </tr>\n",
       "    <tr>\n",
       "      <th>menor</th>\n",
       "      <th>maior</th>\n",
       "    </tr>\n",
       "  </thead>\n",
       "  <tbody>\n",
       "    <tr>\n",
       "      <th>2</th>\n",
       "      <th>25</th>\n",
       "    </tr>\n",
       "    <tr>\n",
       "      <th rowspan=\"7\" valign=\"top\">1</th>\n",
       "      <th>24</th>\n",
       "    </tr>\n",
       "    <tr>\n",
       "      <th>24</th>\n",
       "    </tr>\n",
       "    <tr>\n",
       "      <th>25</th>\n",
       "    </tr>\n",
       "    <tr>\n",
       "      <th>25</th>\n",
       "    </tr>\n",
       "    <tr>\n",
       "      <th>25</th>\n",
       "    </tr>\n",
       "    <tr>\n",
       "      <th>25</th>\n",
       "    </tr>\n",
       "    <tr>\n",
       "      <th>25</th>\n",
       "    </tr>\n",
       "    <tr>\n",
       "      <th>3</th>\n",
       "      <th>25</th>\n",
       "    </tr>\n",
       "    <tr>\n",
       "      <th rowspan=\"2\" valign=\"top\">2</th>\n",
       "      <th>24</th>\n",
       "    </tr>\n",
       "    <tr>\n",
       "      <th>25</th>\n",
       "    </tr>\n",
       "    <tr>\n",
       "      <th>1</th>\n",
       "      <th>25</th>\n",
       "    </tr>\n",
       "    <tr>\n",
       "      <th>3</th>\n",
       "      <th>23</th>\n",
       "    </tr>\n",
       "    <tr>\n",
       "      <th rowspan=\"2\" valign=\"top\">1</th>\n",
       "      <th>25</th>\n",
       "    </tr>\n",
       "    <tr>\n",
       "      <th>25</th>\n",
       "    </tr>\n",
       "    <tr>\n",
       "      <th>2</th>\n",
       "      <th>25</th>\n",
       "    </tr>\n",
       "    <tr>\n",
       "      <th>1</th>\n",
       "      <th>21</th>\n",
       "    </tr>\n",
       "    <tr>\n",
       "      <th rowspan=\"2\" valign=\"top\">2</th>\n",
       "      <th>24</th>\n",
       "    </tr>\n",
       "    <tr>\n",
       "      <th>24</th>\n",
       "    </tr>\n",
       "    <tr>\n",
       "      <th>3</th>\n",
       "      <th>24</th>\n",
       "    </tr>\n",
       "    <tr>\n",
       "      <th rowspan=\"5\" valign=\"top\">1</th>\n",
       "      <th>25</th>\n",
       "    </tr>\n",
       "    <tr>\n",
       "      <th>25</th>\n",
       "    </tr>\n",
       "    <tr>\n",
       "      <th>20</th>\n",
       "    </tr>\n",
       "    <tr>\n",
       "      <th>25</th>\n",
       "    </tr>\n",
       "    <tr>\n",
       "      <th>24</th>\n",
       "    </tr>\n",
       "    <tr>\n",
       "      <th>5</th>\n",
       "      <th>23</th>\n",
       "    </tr>\n",
       "    <tr>\n",
       "      <th>3</th>\n",
       "      <th>25</th>\n",
       "    </tr>\n",
       "    <tr>\n",
       "      <th rowspan=\"6\" valign=\"top\">1</th>\n",
       "      <th>21</th>\n",
       "    </tr>\n",
       "    <tr>\n",
       "      <th>24</th>\n",
       "    </tr>\n",
       "    <tr>\n",
       "      <th>23</th>\n",
       "    </tr>\n",
       "    <tr>\n",
       "      <th>...</th>\n",
       "    </tr>\n",
       "    <tr>\n",
       "      <th>24</th>\n",
       "    </tr>\n",
       "    <tr>\n",
       "      <th>24</th>\n",
       "    </tr>\n",
       "    <tr>\n",
       "      <th>2</th>\n",
       "      <th>24</th>\n",
       "    </tr>\n",
       "    <tr>\n",
       "      <th>1</th>\n",
       "      <th>24</th>\n",
       "    </tr>\n",
       "    <tr>\n",
       "      <th>2</th>\n",
       "      <th>24</th>\n",
       "    </tr>\n",
       "    <tr>\n",
       "      <th rowspan=\"2\" valign=\"top\">1</th>\n",
       "      <th>25</th>\n",
       "    </tr>\n",
       "    <tr>\n",
       "      <th>25</th>\n",
       "    </tr>\n",
       "    <tr>\n",
       "      <th>3</th>\n",
       "      <th>25</th>\n",
       "    </tr>\n",
       "    <tr>\n",
       "      <th>2</th>\n",
       "      <th>25</th>\n",
       "    </tr>\n",
       "    <tr>\n",
       "      <th>4</th>\n",
       "      <th>25</th>\n",
       "    </tr>\n",
       "    <tr>\n",
       "      <th>1</th>\n",
       "      <th>25</th>\n",
       "    </tr>\n",
       "    <tr>\n",
       "      <th>3</th>\n",
       "      <th>25</th>\n",
       "    </tr>\n",
       "    <tr>\n",
       "      <th>1</th>\n",
       "      <th>25</th>\n",
       "    </tr>\n",
       "    <tr>\n",
       "      <th>2</th>\n",
       "      <th>25</th>\n",
       "    </tr>\n",
       "    <tr>\n",
       "      <th>3</th>\n",
       "      <th>24</th>\n",
       "    </tr>\n",
       "    <tr>\n",
       "      <th rowspan=\"3\" valign=\"top\">1</th>\n",
       "      <th>25</th>\n",
       "    </tr>\n",
       "    <tr>\n",
       "      <th>25</th>\n",
       "    </tr>\n",
       "    <tr>\n",
       "      <th>25</th>\n",
       "    </tr>\n",
       "    <tr>\n",
       "      <th>3</th>\n",
       "      <th>25</th>\n",
       "    </tr>\n",
       "    <tr>\n",
       "      <th>2</th>\n",
       "      <th>25</th>\n",
       "    </tr>\n",
       "    <tr>\n",
       "      <th>1</th>\n",
       "      <th>25</th>\n",
       "    </tr>\n",
       "    <tr>\n",
       "      <th rowspan=\"2\" valign=\"top\">2</th>\n",
       "      <th>24</th>\n",
       "    </tr>\n",
       "    <tr>\n",
       "      <th>25</th>\n",
       "    </tr>\n",
       "    <tr>\n",
       "      <th rowspan=\"2\" valign=\"top\">1</th>\n",
       "      <th>25</th>\n",
       "    </tr>\n",
       "    <tr>\n",
       "      <th>25</th>\n",
       "    </tr>\n",
       "    <tr>\n",
       "      <th rowspan=\"2\" valign=\"top\">4</th>\n",
       "      <th>25</th>\n",
       "    </tr>\n",
       "    <tr>\n",
       "      <th>24</th>\n",
       "    </tr>\n",
       "    <tr>\n",
       "      <th>3</th>\n",
       "      <th>25</th>\n",
       "    </tr>\n",
       "    <tr>\n",
       "      <th>1</th>\n",
       "      <th>24</th>\n",
       "    </tr>\n",
       "    <tr>\n",
       "      <th>2</th>\n",
       "      <th>25</th>\n",
       "    </tr>\n",
       "  </tbody>\n",
       "</table>\n",
       "<p>3304 rows × 0 columns</p>\n",
       "</div>"
      ],
      "text/plain": [
       "Empty DataFrame\n",
       "Columns: []\n",
       "Index: [(2, 25), (1, 24), (1, 24), (1, 25), (1, 25), (1, 25), (1, 25), (1, 25), (3, 25), (2, 24), (2, 25), (1, 25), (3, 23), (1, 25), (1, 25), (2, 25), (1, 21), (2, 24), (2, 24), (3, 24), (1, 25), (1, 25), (1, 20), (1, 25), (1, 24), (5, 23), (3, 25), (1, 21), (1, 24), (1, 23), (1, 25), (1, 23), (1, 24), (1, 23), (1, 25), (1, 24), (1, 24), (1, 25), (2, 24), (1, 24), (2, 25), (1, 25), (1, 24), (3, 25), (1, 25), (1, 25), (1, 25), (2, 23), (2, 24), (1, 25), (1, 23), (1, 25), (1, 24), (2, 24), (2, 25), (1, 24), (1, 25), (3, 22), (1, 25), (1, 25), (1, 25), (1, 25), (4, 25), (1, 25), (1, 25), (1, 24), (5, 24), (1, 25), (1, 24), (1, 25), (1, 23), (1, 25), (1, 25), (1, 25), (1, 25), (1, 25), (2, 25), (1, 23), (1, 25), (1, 25), (1, 21), (1, 23), (1, 25), (1, 25), (1, 23), (2, 25), (1, 25), (1, 25), (1, 25), (1, 25), (1, 25), (1, 24), (2, 24), (2, 24), (1, 22), (3, 24), (3, 25), (1, 25), (1, 25), (1, 25), ...]\n",
       "\n",
       "[3304 rows x 0 columns]"
      ]
     },
     "execution_count": 251,
     "metadata": {},
     "output_type": "execute_result"
    }
   ],
   "source": [
    "df_menor_maior_list.set_index(['menor', 'maior'])"
   ]
  },
  {
   "cell_type": "code",
   "execution_count": 266,
   "metadata": {
    "collapsed": true
   },
   "outputs": [],
   "source": [
    "menor_maior_freq = df_menor_maior_list.groupby(['menor', 'maior']).count()"
   ]
  },
  {
   "cell_type": "code",
   "execution_count": 267,
   "metadata": {},
   "outputs": [
    {
     "data": {
      "text/plain": [
       "array([], shape=(29, 0), dtype=float64)"
      ]
     },
     "execution_count": 267,
     "metadata": {},
     "output_type": "execute_result"
    }
   ],
   "source": [
    "menor_maior_freq.values"
   ]
  },
  {
   "cell_type": "code",
   "execution_count": 147,
   "metadata": {
    "collapsed": true
   },
   "outputs": [],
   "source": [
    "menor_maior_perc = [(x*100)/len(concursos) for x in menor_maior_freq.values]"
   ]
  },
  {
   "cell_type": "code",
   "execution_count": 148,
   "metadata": {
    "collapsed": true
   },
   "outputs": [],
   "source": [
    "df = pd.DataFrame(menor_maior_freq)"
   ]
  },
  {
   "cell_type": "code",
   "execution_count": 149,
   "metadata": {
    "collapsed": true
   },
   "outputs": [],
   "source": [
    "df['percentual'] = menor_maior_perc"
   ]
  },
  {
   "cell_type": "code",
   "execution_count": 150,
   "metadata": {},
   "outputs": [
    {
     "data": {
      "text/html": [
       "<div>\n",
       "<style>\n",
       "    .dataframe thead tr:only-child th {\n",
       "        text-align: right;\n",
       "    }\n",
       "\n",
       "    .dataframe thead th {\n",
       "        text-align: left;\n",
       "    }\n",
       "\n",
       "    .dataframe tbody tr th {\n",
       "        vertical-align: top;\n",
       "    }\n",
       "</style>\n",
       "<table border=\"1\" class=\"dataframe\">\n",
       "  <thead>\n",
       "    <tr style=\"text-align: right;\">\n",
       "      <th></th>\n",
       "      <th></th>\n",
       "      <th>menor</th>\n",
       "      <th>percentual</th>\n",
       "    </tr>\n",
       "    <tr>\n",
       "      <th>menor</th>\n",
       "      <th>maior</th>\n",
       "      <th></th>\n",
       "      <th></th>\n",
       "    </tr>\n",
       "  </thead>\n",
       "  <tbody>\n",
       "    <tr>\n",
       "      <th rowspan=\"8\" valign=\"top\">1</th>\n",
       "      <th>18</th>\n",
       "      <td>2</td>\n",
       "      <td>0.121065</td>\n",
       "    </tr>\n",
       "    <tr>\n",
       "      <th>19</th>\n",
       "      <td>4</td>\n",
       "      <td>0.242131</td>\n",
       "    </tr>\n",
       "    <tr>\n",
       "      <th>20</th>\n",
       "      <td>8</td>\n",
       "      <td>0.484262</td>\n",
       "    </tr>\n",
       "    <tr>\n",
       "      <th>21</th>\n",
       "      <td>32</td>\n",
       "      <td>1.937046</td>\n",
       "    </tr>\n",
       "    <tr>\n",
       "      <th>22</th>\n",
       "      <td>60</td>\n",
       "      <td>3.631961</td>\n",
       "    </tr>\n",
       "    <tr>\n",
       "      <th>23</th>\n",
       "      <td>224</td>\n",
       "      <td>13.559322</td>\n",
       "    </tr>\n",
       "    <tr>\n",
       "      <th>24</th>\n",
       "      <td>506</td>\n",
       "      <td>30.629540</td>\n",
       "    </tr>\n",
       "    <tr>\n",
       "      <th>25</th>\n",
       "      <td>1162</td>\n",
       "      <td>70.338983</td>\n",
       "    </tr>\n",
       "    <tr>\n",
       "      <th rowspan=\"6\" valign=\"top\">2</th>\n",
       "      <th>20</th>\n",
       "      <td>4</td>\n",
       "      <td>0.242131</td>\n",
       "    </tr>\n",
       "    <tr>\n",
       "      <th>21</th>\n",
       "      <td>6</td>\n",
       "      <td>0.363196</td>\n",
       "    </tr>\n",
       "    <tr>\n",
       "      <th>22</th>\n",
       "      <td>18</td>\n",
       "      <td>1.089588</td>\n",
       "    </tr>\n",
       "    <tr>\n",
       "      <th>23</th>\n",
       "      <td>78</td>\n",
       "      <td>4.721550</td>\n",
       "    </tr>\n",
       "    <tr>\n",
       "      <th>24</th>\n",
       "      <td>180</td>\n",
       "      <td>10.895884</td>\n",
       "    </tr>\n",
       "    <tr>\n",
       "      <th>25</th>\n",
       "      <td>536</td>\n",
       "      <td>32.445521</td>\n",
       "    </tr>\n",
       "    <tr>\n",
       "      <th rowspan=\"5\" valign=\"top\">3</th>\n",
       "      <th>20</th>\n",
       "      <td>2</td>\n",
       "      <td>0.121065</td>\n",
       "    </tr>\n",
       "    <tr>\n",
       "      <th>22</th>\n",
       "      <td>8</td>\n",
       "      <td>0.484262</td>\n",
       "    </tr>\n",
       "    <tr>\n",
       "      <th>23</th>\n",
       "      <td>28</td>\n",
       "      <td>1.694915</td>\n",
       "    </tr>\n",
       "    <tr>\n",
       "      <th>24</th>\n",
       "      <td>92</td>\n",
       "      <td>5.569007</td>\n",
       "    </tr>\n",
       "    <tr>\n",
       "      <th>25</th>\n",
       "      <td>202</td>\n",
       "      <td>12.227603</td>\n",
       "    </tr>\n",
       "    <tr>\n",
       "      <th rowspan=\"4\" valign=\"top\">4</th>\n",
       "      <th>22</th>\n",
       "      <td>2</td>\n",
       "      <td>0.121065</td>\n",
       "    </tr>\n",
       "    <tr>\n",
       "      <th>23</th>\n",
       "      <td>6</td>\n",
       "      <td>0.363196</td>\n",
       "    </tr>\n",
       "    <tr>\n",
       "      <th>24</th>\n",
       "      <td>22</td>\n",
       "      <td>1.331719</td>\n",
       "    </tr>\n",
       "    <tr>\n",
       "      <th>25</th>\n",
       "      <td>58</td>\n",
       "      <td>3.510896</td>\n",
       "    </tr>\n",
       "    <tr>\n",
       "      <th rowspan=\"4\" valign=\"top\">5</th>\n",
       "      <th>21</th>\n",
       "      <td>2</td>\n",
       "      <td>0.121065</td>\n",
       "    </tr>\n",
       "    <tr>\n",
       "      <th>23</th>\n",
       "      <td>4</td>\n",
       "      <td>0.242131</td>\n",
       "    </tr>\n",
       "    <tr>\n",
       "      <th>24</th>\n",
       "      <td>12</td>\n",
       "      <td>0.726392</td>\n",
       "    </tr>\n",
       "    <tr>\n",
       "      <th>25</th>\n",
       "      <td>38</td>\n",
       "      <td>2.300242</td>\n",
       "    </tr>\n",
       "    <tr>\n",
       "      <th rowspan=\"2\" valign=\"top\">6</th>\n",
       "      <th>24</th>\n",
       "      <td>2</td>\n",
       "      <td>0.121065</td>\n",
       "    </tr>\n",
       "    <tr>\n",
       "      <th>25</th>\n",
       "      <td>6</td>\n",
       "      <td>0.363196</td>\n",
       "    </tr>\n",
       "  </tbody>\n",
       "</table>\n",
       "</div>"
      ],
      "text/plain": [
       "             menor  percentual\n",
       "menor maior                   \n",
       "1     18         2    0.121065\n",
       "      19         4    0.242131\n",
       "      20         8    0.484262\n",
       "      21        32    1.937046\n",
       "      22        60    3.631961\n",
       "      23       224   13.559322\n",
       "      24       506   30.629540\n",
       "      25      1162   70.338983\n",
       "2     20         4    0.242131\n",
       "      21         6    0.363196\n",
       "      22        18    1.089588\n",
       "      23        78    4.721550\n",
       "      24       180   10.895884\n",
       "      25       536   32.445521\n",
       "3     20         2    0.121065\n",
       "      22         8    0.484262\n",
       "      23        28    1.694915\n",
       "      24        92    5.569007\n",
       "      25       202   12.227603\n",
       "4     22         2    0.121065\n",
       "      23         6    0.363196\n",
       "      24        22    1.331719\n",
       "      25        58    3.510896\n",
       "5     21         2    0.121065\n",
       "      23         4    0.242131\n",
       "      24        12    0.726392\n",
       "      25        38    2.300242\n",
       "6     24         2    0.121065\n",
       "      25         6    0.363196"
      ]
     },
     "execution_count": 150,
     "metadata": {},
     "output_type": "execute_result"
    }
   ],
   "source": [
    "df"
   ]
  },
  {
   "cell_type": "code",
   "execution_count": 138,
   "metadata": {
    "collapsed": true
   },
   "outputs": [],
   "source": [
    "df_menor_maior_str = pd.DataFrame(menor_maior_strg, columns=['col'])"
   ]
  },
  {
   "cell_type": "code",
   "execution_count": 139,
   "metadata": {
    "collapsed": true
   },
   "outputs": [],
   "source": [
    "menor_maior_group = df_menor_maior_str.groupby('col')['col'].count()"
   ]
  },
  {
   "cell_type": "code",
   "execution_count": 140,
   "metadata": {
    "collapsed": true
   },
   "outputs": [],
   "source": [
    "df_v1 = pd.DataFrame(menor_maior_group)"
   ]
  },
  {
   "cell_type": "code",
   "execution_count": 141,
   "metadata": {},
   "outputs": [
    {
     "data": {
      "text/html": [
       "<div>\n",
       "<style>\n",
       "    .dataframe thead tr:only-child th {\n",
       "        text-align: right;\n",
       "    }\n",
       "\n",
       "    .dataframe thead th {\n",
       "        text-align: left;\n",
       "    }\n",
       "\n",
       "    .dataframe tbody tr th {\n",
       "        vertical-align: top;\n",
       "    }\n",
       "</style>\n",
       "<table border=\"1\" class=\"dataframe\">\n",
       "  <thead>\n",
       "    <tr style=\"text-align: right;\">\n",
       "      <th></th>\n",
       "      <th>col</th>\n",
       "    </tr>\n",
       "    <tr>\n",
       "      <th>col</th>\n",
       "      <th></th>\n",
       "    </tr>\n",
       "  </thead>\n",
       "  <tbody>\n",
       "    <tr>\n",
       "      <th>1 - 18</th>\n",
       "      <td>2</td>\n",
       "    </tr>\n",
       "    <tr>\n",
       "      <th>1 - 19</th>\n",
       "      <td>4</td>\n",
       "    </tr>\n",
       "    <tr>\n",
       "      <th>1 - 20</th>\n",
       "      <td>8</td>\n",
       "    </tr>\n",
       "    <tr>\n",
       "      <th>1 - 21</th>\n",
       "      <td>32</td>\n",
       "    </tr>\n",
       "    <tr>\n",
       "      <th>1 - 22</th>\n",
       "      <td>60</td>\n",
       "    </tr>\n",
       "    <tr>\n",
       "      <th>1 - 23</th>\n",
       "      <td>224</td>\n",
       "    </tr>\n",
       "    <tr>\n",
       "      <th>1 - 24</th>\n",
       "      <td>506</td>\n",
       "    </tr>\n",
       "    <tr>\n",
       "      <th>1 - 25</th>\n",
       "      <td>1162</td>\n",
       "    </tr>\n",
       "    <tr>\n",
       "      <th>2 - 20</th>\n",
       "      <td>4</td>\n",
       "    </tr>\n",
       "    <tr>\n",
       "      <th>2 - 21</th>\n",
       "      <td>6</td>\n",
       "    </tr>\n",
       "    <tr>\n",
       "      <th>2 - 22</th>\n",
       "      <td>18</td>\n",
       "    </tr>\n",
       "    <tr>\n",
       "      <th>2 - 23</th>\n",
       "      <td>78</td>\n",
       "    </tr>\n",
       "    <tr>\n",
       "      <th>2 - 24</th>\n",
       "      <td>180</td>\n",
       "    </tr>\n",
       "    <tr>\n",
       "      <th>2 - 25</th>\n",
       "      <td>536</td>\n",
       "    </tr>\n",
       "    <tr>\n",
       "      <th>3 - 20</th>\n",
       "      <td>2</td>\n",
       "    </tr>\n",
       "    <tr>\n",
       "      <th>3 - 22</th>\n",
       "      <td>8</td>\n",
       "    </tr>\n",
       "    <tr>\n",
       "      <th>3 - 23</th>\n",
       "      <td>28</td>\n",
       "    </tr>\n",
       "    <tr>\n",
       "      <th>3 - 24</th>\n",
       "      <td>92</td>\n",
       "    </tr>\n",
       "    <tr>\n",
       "      <th>3 - 25</th>\n",
       "      <td>202</td>\n",
       "    </tr>\n",
       "    <tr>\n",
       "      <th>4 - 22</th>\n",
       "      <td>2</td>\n",
       "    </tr>\n",
       "    <tr>\n",
       "      <th>4 - 23</th>\n",
       "      <td>6</td>\n",
       "    </tr>\n",
       "    <tr>\n",
       "      <th>4 - 24</th>\n",
       "      <td>22</td>\n",
       "    </tr>\n",
       "    <tr>\n",
       "      <th>4 - 25</th>\n",
       "      <td>58</td>\n",
       "    </tr>\n",
       "    <tr>\n",
       "      <th>5 - 21</th>\n",
       "      <td>2</td>\n",
       "    </tr>\n",
       "    <tr>\n",
       "      <th>5 - 23</th>\n",
       "      <td>4</td>\n",
       "    </tr>\n",
       "    <tr>\n",
       "      <th>5 - 24</th>\n",
       "      <td>12</td>\n",
       "    </tr>\n",
       "    <tr>\n",
       "      <th>5 - 25</th>\n",
       "      <td>38</td>\n",
       "    </tr>\n",
       "    <tr>\n",
       "      <th>6 - 24</th>\n",
       "      <td>2</td>\n",
       "    </tr>\n",
       "    <tr>\n",
       "      <th>6 - 25</th>\n",
       "      <td>6</td>\n",
       "    </tr>\n",
       "  </tbody>\n",
       "</table>\n",
       "</div>"
      ],
      "text/plain": [
       "         col\n",
       "col         \n",
       "1 - 18     2\n",
       "1 - 19     4\n",
       "1 - 20     8\n",
       "1 - 21    32\n",
       "1 - 22    60\n",
       "1 - 23   224\n",
       "1 - 24   506\n",
       "1 - 25  1162\n",
       "2 - 20     4\n",
       "2 - 21     6\n",
       "2 - 22    18\n",
       "2 - 23    78\n",
       "2 - 24   180\n",
       "2 - 25   536\n",
       "3 - 20     2\n",
       "3 - 22     8\n",
       "3 - 23    28\n",
       "3 - 24    92\n",
       "3 - 25   202\n",
       "4 - 22     2\n",
       "4 - 23     6\n",
       "4 - 24    22\n",
       "4 - 25    58\n",
       "5 - 21     2\n",
       "5 - 23     4\n",
       "5 - 24    12\n",
       "5 - 25    38\n",
       "6 - 24     2\n",
       "6 - 25     6"
      ]
     },
     "execution_count": 141,
     "metadata": {},
     "output_type": "execute_result"
    }
   ],
   "source": [
    "df_v1"
   ]
  },
  {
   "cell_type": "code",
   "execution_count": 53,
   "metadata": {},
   "outputs": [
    {
     "data": {
      "image/png": "[encoded data removed]",
      "text/plain": [
       "<matplotlib.figure.Figure at 0xb3b7d68>"
      ]
     },
     "metadata": {},
     "output_type": "display_data"
    }
   ],
   "source": [
    "plt.hist(df_v1)\n",
    "plt.show()"
   ]
  },
  {
   "cell_type": "code",
   "execution_count": 151,
   "metadata": {},
   "outputs": [
    {
     "ename": "NameError",
     "evalue": "name 'menor_maior' is not defined",
     "output_type": "error",
     "traceback": [
      "\u001b[1;31m---------------------------------------------------------------------------\u001b[0m",
      "\u001b[1;31mNameError\u001b[0m                                 Traceback (most recent call last)",
      "\u001b[1;32m<ipython-input-151-cea1633fd055>\u001b[0m in \u001b[0;36m<module>\u001b[1;34m()\u001b[0m\n\u001b[1;32m----> 1\u001b[1;33m \u001b[0mnp\u001b[0m\u001b[1;33m.\u001b[0m\u001b[0mhistogram\u001b[0m\u001b[1;33m(\u001b[0m\u001b[0mmenor_maior\u001b[0m\u001b[1;33m)\u001b[0m\u001b[1;33m\u001b[0m\u001b[0m\n\u001b[0m",
      "\u001b[1;31mNameError\u001b[0m: name 'menor_maior' is not defined"
     ]
    }
   ],
   "source": [
    "np.histogram(menor_maior)"
   ]
  },
  {
   "cell_type": "code",
   "execution_count": null,
   "metadata": {
    "collapsed": true
   },
   "outputs": [],
   "source": [
    "plt.hist([menor, maior], bins=np.arange(1,26))\n",
    "plt.xlabel('Menor Numero Sorteado')\n",
    "plt.ylabel('Frequencia')\n",
    "plt.grid(True)\n",
    "plt.show()"
   ]
  },
  {
   "cell_type": "code",
   "execution_count": 53,
   "metadata": {},
   "outputs": [
    {
     "name": "stdout",
     "output_type": "stream",
     "text": [
      "1607\n",
      "[1, 2, 3, 6, 7, 8, 9, 11, 12, 13, 14, 15, 17, 18, 24]\n",
      "[1, 2, 3, 6, 7, 8, 9, 11, 12, 13, 14, 15, 17, 18, 24]\n",
      "total jogos ganahdores: 1\n"
     ]
    }
   ],
   "source": [
    "total = 0\n",
    "\n",
    "for a in apostas:\n",
    "    for c in concursos:\n",
    "        if len(set(a.numeros).intersection(c.numeros)) == 15:\n",
    "            print(c.id)\n",
    "            print(a.numeros)\n",
    "            print(c.numeros)\n",
    "            total += 1\n",
    "            \n",
    "print('total jogos ganahdores: %s' % (total))"
   ]
  },
  {
   "cell_type": "code",
   "execution_count": 142,
   "metadata": {
    "collapsed": true
   },
   "outputs": [],
   "source": [
    "numeros_aposta = []\n",
    "qtd_total_apostas = 30000\n",
    "qtd_apostas = 0\n",
    "\n",
    "while (qtd_apostas < qtd_total_apostas):\n",
    "    num_tmp = sorted(list(np.random.choice(np.arange(1, 26), 15, replace= False)))\n",
    "    numeros_aposta.append(num_tmp)\n",
    "    qtd_apostas += 1\n",
    "    \n",
    "\n",
    "# i = 0\n",
    "# while i < len(numeros_aposta[:5]):\n",
    "#     print(numeros_aposta)\n",
    "#     j = 0\n",
    "#     while j < len(numeros_aposta):\n",
    "#         if i != j:\n",
    "#             if len(set(numeros_aposta[i]).intersection(numero_aposta[j])) == 15:\n",
    "#                 del numeros_aposta[j]\n",
    "#         j += 1\n",
    "#     i += 1"
   ]
  },
  {
   "cell_type": "code",
   "execution_count": 143,
   "metadata": {},
   "outputs": [
    {
     "name": "stdout",
     "output_type": "stream",
     "text": [
      "30000\n"
     ]
    }
   ],
   "source": [
    "print(len(numeros_aposta))"
   ]
  },
  {
   "cell_type": "code",
   "execution_count": 144,
   "metadata": {},
   "outputs": [
    {
     "data": {
      "text/plain": [
       "[1, 2, 3, 6, 7, 8, 10, 13, 14, 16, 18, 19, 23, 24, 25]"
      ]
     },
     "execution_count": 144,
     "metadata": {},
     "output_type": "execute_result"
    }
   ],
   "source": [
    "numeros_aposta[0]"
   ]
  },
  {
   "cell_type": "code",
   "execution_count": 55,
   "metadata": {
    "collapsed": true
   },
   "outputs": [],
   "source": [
    "apostas_v1 = filtrar_inicio_fim(apostas, 0, [1, 2])"
   ]
  },
  {
   "cell_type": "code",
   "execution_count": 56,
   "metadata": {},
   "outputs": [
    {
     "data": {
      "text/plain": [
       "892"
      ]
     },
     "execution_count": 56,
     "metadata": {},
     "output_type": "execute_result"
    }
   ],
   "source": [
    "len(apostas_v1)"
   ]
  },
  {
   "cell_type": "code",
   "execution_count": 57,
   "metadata": {
    "collapsed": true
   },
   "outputs": [],
   "source": [
    "apostas_v2 = filtrar_inicio_fim(apostas_v1, -1, [24,25])"
   ]
  },
  {
   "cell_type": "code",
   "execution_count": 58,
   "metadata": {},
   "outputs": [
    {
     "data": {
      "text/plain": [
       "810"
      ]
     },
     "execution_count": 58,
     "metadata": {},
     "output_type": "execute_result"
    }
   ],
   "source": [
    "len(apostas_v2)"
   ]
  },
  {
   "cell_type": "code",
   "execution_count": 60,
   "metadata": {
    "collapsed": true
   },
   "outputs": [],
   "source": [
    "apostas_v3 = filtrar_impar_par(apostas_v2, [7,8,9])"
   ]
  },
  {
   "cell_type": "code",
   "execution_count": 61,
   "metadata": {},
   "outputs": [
    {
     "data": {
      "text/plain": [
       "617"
      ]
     },
     "execution_count": 61,
     "metadata": {},
     "output_type": "execute_result"
    }
   ],
   "source": [
    "len(apostas_v3)"
   ]
  },
  {
   "cell_type": "code",
   "execution_count": 65,
   "metadata": {
    "collapsed": true
   },
   "outputs": [],
   "source": [
    "apostas_v4 = filtrar_jogo_por_numeros(apostas_v3, [9], 1)"
   ]
  },
  {
   "cell_type": "code",
   "execution_count": 66,
   "metadata": {},
   "outputs": [
    {
     "data": {
      "text/plain": [
       "381"
      ]
     },
     "execution_count": 66,
     "metadata": {},
     "output_type": "execute_result"
    }
   ],
   "source": [
    "len(apostas_v4)"
   ]
  },
  {
   "cell_type": "code",
   "execution_count": 67,
   "metadata": {},
   "outputs": [
    {
     "name": "stdout",
     "output_type": "stream",
     "text": [
      "[1, 4, 7, 8, 9, 10, 12, 15, 17, 18, 19, 20, 21, 22, 24] 7 8 1 24\n",
      "[1, 3, 4, 6, 7, 9, 10, 12, 13, 14, 17, 18, 20, 22, 25] 7 8 1 25\n",
      "[1, 2, 4, 7, 8, 9, 11, 12, 14, 16, 19, 20, 21, 23, 25] 8 7 1 25\n",
      "[2, 3, 4, 6, 7, 9, 10, 12, 13, 14, 18, 20, 21, 23, 25] 7 8 2 25\n",
      "[2, 3, 4, 7, 8, 9, 10, 11, 12, 14, 17, 19, 22, 24, 25] 7 8 2 25\n",
      "[1, 2, 6, 7, 9, 10, 13, 15, 16, 17, 18, 19, 20, 24, 25] 8 7 1 25\n",
      "[2, 3, 4, 5, 7, 9, 10, 12, 13, 16, 18, 19, 20, 22, 25] 7 8 2 25\n",
      "[2, 5, 6, 7, 9, 11, 12, 13, 15, 16, 17, 18, 20, 24, 25] 8 7 2 25\n",
      "[1, 2, 3, 6, 7, 8, 9, 11, 14, 16, 19, 21, 22, 24, 25] 8 7 1 25\n",
      "[1, 5, 6, 8, 9, 12, 13, 14, 15, 17, 19, 20, 22, 23, 25] 9 6 1 25\n",
      "[2, 3, 8, 9, 10, 11, 12, 13, 14, 16, 17, 19, 23, 24, 25] 8 7 2 25\n",
      "[2, 6, 8, 9, 10, 12, 13, 15, 16, 17, 19, 21, 23, 24, 25] 8 7 2 25\n",
      "[2, 5, 6, 9, 12, 16, 17, 18, 19, 20, 21, 22, 23, 24, 25] 7 8 2 25\n",
      "[1, 2, 4, 5, 7, 9, 10, 12, 13, 14, 16, 18, 20, 21, 25] 7 8 1 25\n",
      "[1, 4, 7, 9, 13, 15, 16, 17, 18, 19, 20, 22, 23, 24, 25] 9 6 1 25\n",
      "[1, 2, 3, 4, 6, 7, 9, 11, 12, 14, 17, 18, 20, 23, 25] 8 7 1 25\n",
      "[1, 2, 4, 5, 9, 10, 11, 12, 13, 14, 18, 19, 22, 24, 25] 7 8 1 25\n",
      "[1, 2, 5, 6, 8, 9, 11, 13, 14, 15, 18, 19, 20, 22, 25] 8 7 1 25\n",
      "[1, 4, 5, 6, 9, 10, 11, 12, 13, 19, 20, 21, 22, 24, 25] 8 7 1 25\n",
      "[1, 2, 4, 6, 7, 9, 11, 14, 15, 18, 20, 21, 22, 24, 25] 7 8 1 25\n",
      "[1, 3, 8, 9, 10, 11, 12, 13, 14, 15, 19, 20, 21, 23, 24] 9 6 1 24\n",
      "[2, 4, 5, 7, 8, 9, 12, 13, 15, 16, 17, 20, 22, 23, 25] 8 7 2 25\n",
      "[1, 3, 4, 6, 8, 9, 10, 13, 14, 16, 17, 21, 22, 23, 25] 8 7 1 25\n",
      "[1, 2, 3, 4, 6, 7, 9, 11, 14, 15, 16, 17, 20, 23, 24] 8 7 1 24\n",
      "[1, 2, 6, 7, 8, 9, 10, 14, 17, 18, 19, 20, 21, 23, 25] 8 7 1 25\n",
      "[1, 3, 5, 6, 9, 10, 12, 15, 17, 18, 20, 21, 23, 24, 25] 9 6 1 25\n",
      "[1, 2, 3, 6, 9, 11, 14, 16, 18, 19, 20, 21, 22, 23, 25] 8 7 1 25\n",
      "[2, 5, 7, 8, 9, 11, 12, 13, 14, 15, 16, 18, 19, 21, 24] 8 7 2 24\n",
      "[2, 3, 4, 7, 9, 11, 13, 14, 16, 18, 19, 20, 22, 24, 25] 7 8 2 25\n",
      "[1, 4, 5, 6, 9, 13, 14, 15, 16, 17, 18, 19, 20, 23, 25] 9 6 1 25\n",
      "[1, 3, 5, 6, 8, 9, 11, 12, 15, 16, 19, 20, 21, 22, 25] 9 6 1 25\n",
      "[1, 2, 5, 6, 9, 10, 11, 12, 13, 16, 19, 20, 21, 23, 25] 9 6 1 25\n",
      "[1, 4, 5, 6, 7, 8, 9, 11, 12, 13, 14, 15, 18, 23, 24] 8 7 1 24\n",
      "[1, 4, 5, 6, 9, 10, 11, 13, 14, 15, 16, 17, 19, 20, 25] 9 6 1 25\n",
      "[2, 3, 4, 5, 6, 7, 9, 11, 12, 14, 16, 17, 20, 21, 24] 7 8 2 24\n",
      "[1, 2, 3, 5, 7, 9, 10, 11, 12, 14, 15, 18, 19, 20, 24] 8 7 1 24\n",
      "[1, 2, 3, 4, 6, 8, 9, 10, 11, 13, 14, 19, 20, 21, 25] 8 7 1 25\n",
      "[1, 4, 5, 6, 7, 9, 11, 13, 14, 15, 16, 18, 21, 22, 25] 9 6 1 25\n",
      "[1, 2, 3, 7, 8, 9, 11, 12, 14, 16, 18, 21, 22, 24, 25] 7 8 1 25\n",
      "[1, 2, 3, 4, 5, 8, 9, 10, 14, 15, 16, 17, 21, 22, 25] 8 7 1 25\n",
      "[1, 3, 6, 7, 8, 9, 12, 13, 15, 17, 18, 19, 20, 24, 25] 9 6 1 25\n",
      "[2, 3, 4, 6, 7, 8, 9, 10, 14, 15, 16, 17, 19, 21, 25] 8 7 2 25\n",
      "[2, 4, 8, 9, 10, 11, 14, 15, 16, 17, 19, 20, 21, 22, 25] 7 8 2 25\n",
      "[1, 2, 3, 5, 6, 9, 11, 13, 14, 16, 20, 21, 22, 23, 25] 9 6 1 25\n",
      "[1, 2, 4, 6, 7, 9, 10, 13, 15, 17, 18, 19, 20, 24, 25] 8 7 1 25\n",
      "[2, 3, 4, 5, 6, 7, 9, 10, 13, 15, 19, 20, 21, 22, 25] 9 6 2 25\n",
      "[1, 2, 4, 5, 8, 9, 10, 13, 14, 18, 19, 20, 21, 24, 25] 7 8 1 25\n",
      "[1, 2, 4, 6, 7, 9, 12, 13, 14, 16, 17, 18, 19, 23, 24] 7 8 1 24\n",
      "[2, 3, 4, 6, 7, 9, 10, 13, 15, 17, 18, 19, 22, 24, 25] 8 7 2 25\n",
      "[1, 2, 4, 6, 7, 9, 10, 11, 15, 16, 17, 18, 21, 22, 24] 7 8 1 24\n",
      "[1, 2, 4, 6, 7, 8, 9, 10, 13, 15, 16, 20, 21, 23, 24] 7 8 1 24\n",
      "[1, 2, 3, 7, 8, 9, 12, 14, 16, 17, 18, 19, 20, 21, 24] 7 8 1 24\n",
      "[1, 2, 6, 8, 9, 12, 13, 14, 15, 17, 18, 19, 21, 22, 25] 8 7 1 25\n",
      "[2, 3, 4, 5, 9, 10, 11, 12, 15, 16, 17, 18, 22, 23, 24] 7 8 2 24\n",
      "[2, 4, 5, 6, 7, 9, 12, 13, 16, 17, 18, 20, 21, 23, 25] 8 7 2 25\n",
      "[2, 4, 5, 6, 7, 9, 11, 14, 15, 16, 18, 19, 21, 23, 25] 9 6 2 25\n",
      "[1, 4, 5, 6, 7, 9, 10, 12, 13, 17, 19, 21, 22, 24, 25] 9 6 1 25\n",
      "[2, 3, 4, 5, 8, 9, 10, 12, 13, 15, 16, 19, 20, 23, 25] 8 7 2 25\n",
      "[1, 2, 4, 5, 7, 9, 10, 11, 12, 13, 16, 20, 21, 22, 25] 8 7 1 25\n",
      "[2, 5, 6, 7, 8, 9, 12, 14, 15, 18, 19, 20, 23, 24, 25] 7 8 2 25\n",
      "[2, 4, 5, 6, 9, 10, 11, 12, 13, 14, 15, 19, 21, 23, 24] 8 7 2 24\n",
      "[1, 6, 9, 10, 12, 13, 14, 16, 17, 18, 19, 21, 22, 24, 25] 7 8 1 25\n",
      "[1, 2, 3, 4, 5, 8, 9, 10, 13, 17, 18, 19, 20, 21, 24] 8 7 1 24\n",
      "[1, 2, 7, 8, 9, 12, 13, 14, 15, 16, 19, 20, 22, 23, 24] 7 8 1 24\n",
      "[1, 3, 6, 8, 9, 10, 11, 12, 14, 15, 17, 19, 21, 22, 24] 8 7 1 24\n",
      "[1, 3, 4, 7, 9, 12, 14, 16, 18, 19, 20, 21, 22, 24, 25] 7 8 1 25\n",
      "[2, 4, 5, 6, 9, 11, 12, 13, 15, 17, 18, 19, 21, 22, 25] 9 6 2 25\n",
      "[2, 4, 7, 8, 9, 10, 13, 14, 15, 17, 18, 20, 22, 23, 25] 7 8 2 25\n",
      "[2, 3, 5, 6, 8, 9, 10, 11, 12, 15, 17, 18, 20, 22, 25] 7 8 2 25\n",
      "[1, 2, 3, 7, 8, 9, 12, 15, 16, 17, 20, 21, 22, 23, 25] 9 6 1 25\n",
      "[1, 2, 3, 5, 6, 7, 9, 10, 11, 14, 18, 19, 21, 23, 24] 9 6 1 24\n",
      "[1, 2, 6, 7, 9, 10, 12, 13, 15, 16, 19, 20, 22, 23, 24] 7 8 1 24\n",
      "[1, 2, 3, 5, 6, 8, 9, 14, 16, 18, 21, 22, 23, 24, 25] 7 8 1 25\n",
      "[2, 3, 5, 7, 8, 9, 10, 13, 14, 15, 17, 18, 20, 23, 25] 9 6 2 25\n",
      "[1, 2, 3, 5, 7, 8, 9, 11, 12, 13, 14, 19, 20, 22, 24] 8 7 1 24\n",
      "[1, 2, 3, 4, 5, 6, 8, 9, 11, 15, 16, 19, 22, 23, 25] 9 6 1 25\n",
      "[1, 4, 5, 6, 9, 10, 11, 12, 13, 14, 19, 21, 22, 23, 24] 8 7 1 24\n",
      "[2, 4, 6, 7, 9, 10, 11, 13, 16, 17, 18, 19, 21, 23, 24] 8 7 2 24\n",
      "[2, 3, 5, 6, 7, 9, 10, 11, 12, 16, 17, 20, 21, 23, 24] 8 7 2 24\n",
      "[2, 4, 5, 6, 8, 9, 12, 14, 15, 17, 19, 21, 22, 23, 24] 7 8 2 24\n",
      "[1, 2, 3, 4, 7, 8, 9, 11, 14, 16, 17, 18, 19, 21, 25] 9 6 1 25\n",
      "[1, 6, 7, 8, 9, 12, 15, 16, 18, 19, 20, 21, 22, 24, 25] 7 8 1 25\n",
      "[1, 2, 3, 4, 5, 8, 9, 12, 14, 16, 17, 21, 22, 24, 25] 7 8 1 25\n",
      "[2, 3, 4, 6, 9, 11, 12, 15, 16, 19, 20, 21, 22, 23, 24] 7 8 2 24\n",
      "[2, 4, 5, 7, 8, 9, 10, 13, 15, 16, 17, 20, 21, 24, 25] 8 7 2 25\n",
      "[1, 2, 3, 5, 6, 7, 9, 14, 15, 16, 20, 22, 23, 24, 25] 8 7 1 25\n",
      "[1, 2, 4, 7, 9, 12, 13, 14, 15, 16, 18, 19, 21, 23, 25] 9 6 1 25\n",
      "[1, 2, 4, 5, 6, 9, 10, 12, 14, 16, 17, 19, 23, 24, 25] 7 8 1 25\n",
      "[1, 3, 4, 9, 10, 11, 12, 13, 14, 15, 16, 20, 21, 23, 25] 9 6 1 25\n",
      "[1, 2, 4, 5, 9, 10, 14, 15, 16, 17, 18, 19, 21, 24, 25] 8 7 1 25\n",
      "[1, 3, 6, 9, 10, 11, 12, 14, 16, 17, 18, 19, 20, 23, 24] 7 8 1 24\n",
      "[1, 2, 4, 7, 8, 9, 11, 15, 17, 18, 20, 21, 22, 23, 25] 9 6 1 25\n",
      "[1, 2, 5, 6, 7, 9, 10, 12, 13, 15, 16, 18, 21, 23, 24] 8 7 1 24\n",
      "[2, 3, 4, 5, 6, 9, 10, 11, 12, 17, 18, 20, 22, 23, 25] 7 8 2 25\n",
      "[2, 5, 6, 8, 9, 10, 11, 12, 14, 16, 17, 19, 21, 23, 24] 7 8 2 24\n",
      "[1, 3, 4, 5, 6, 8, 9, 11, 12, 14, 18, 19, 23, 24, 25] 8 7 1 25\n",
      "[1, 4, 5, 6, 7, 9, 10, 11, 14, 15, 16, 17, 18, 24, 25] 8 7 1 25\n",
      "[1, 2, 5, 6, 7, 9, 11, 12, 13, 14, 16, 17, 18, 21, 25] 9 6 1 25\n",
      "[1, 5, 7, 9, 10, 11, 12, 13, 14, 16, 17, 18, 20, 24, 25] 8 7 1 25\n",
      "[1, 4, 5, 9, 11, 12, 13, 14, 15, 16, 19, 21, 22, 24, 25] 9 6 1 25\n",
      "[1, 2, 5, 6, 9, 10, 12, 13, 14, 15, 16, 17, 19, 23, 24] 8 7 1 24\n",
      "[2, 3, 4, 5, 7, 8, 9, 12, 13, 14, 16, 17, 20, 21, 24] 7 8 2 24\n",
      "[1, 4, 5, 6, 8, 9, 12, 13, 15, 16, 17, 19, 20, 21, 25] 9 6 1 25\n",
      "[1, 2, 4, 5, 8, 9, 10, 11, 14, 15, 17, 19, 20, 23, 24] 8 7 1 24\n",
      "[1, 4, 5, 6, 9, 10, 11, 12, 13, 14, 16, 21, 22, 23, 24] 7 8 1 24\n",
      "[1, 2, 3, 4, 6, 7, 8, 9, 10, 11, 12, 16, 22, 23, 25] 7 8 1 25\n",
      "[2, 3, 5, 7, 8, 9, 10, 13, 16, 17, 19, 22, 23, 24, 25] 9 6 2 25\n",
      "[1, 3, 4, 5, 8, 9, 13, 14, 18, 19, 20, 21, 23, 24, 25] 9 6 1 25\n",
      "[2, 3, 4, 5, 6, 9, 11, 12, 15, 16, 18, 20, 21, 22, 25] 7 8 2 25\n",
      "[2, 5, 6, 7, 8, 9, 10, 11, 12, 13, 20, 21, 22, 24, 25] 7 8 2 25\n",
      "[1, 2, 3, 4, 6, 8, 9, 10, 12, 14, 15, 17, 20, 23, 25] 7 8 1 25\n",
      "[1, 3, 4, 5, 6, 8, 9, 14, 15, 16, 17, 22, 23, 24, 25] 8 7 1 25\n",
      "[2, 4, 8, 9, 10, 11, 12, 16, 17, 18, 19, 20, 21, 23, 25] 7 8 2 25\n",
      "[1, 5, 6, 7, 9, 10, 11, 14, 16, 18, 19, 20, 22, 24, 25] 7 8 1 25\n",
      "[2, 3, 6, 7, 9, 10, 13, 14, 15, 17, 18, 19, 21, 24, 25] 9 6 2 25\n",
      "[1, 4, 5, 6, 7, 8, 9, 11, 12, 14, 16, 19, 20, 24, 25] 7 8 1 25\n",
      "[2, 3, 4, 7, 8, 9, 10, 13, 15, 17, 19, 20, 21, 23, 24] 9 6 2 24\n",
      "[1, 3, 4, 7, 9, 10, 13, 14, 17, 18, 19, 22, 23, 24, 25] 9 6 1 25\n",
      "[2, 4, 6, 7, 9, 10, 11, 14, 15, 16, 17, 18, 21, 24, 25] 7 8 2 25\n",
      "[2, 5, 6, 8, 9, 10, 11, 12, 13, 15, 16, 17, 19, 20, 25] 8 7 2 25\n",
      "[1, 2, 3, 5, 9, 10, 14, 15, 17, 18, 19, 20, 23, 24, 25] 9 6 1 25\n",
      "[2, 3, 4, 5, 7, 9, 10, 11, 18, 19, 21, 22, 23, 24, 25] 9 6 2 25\n",
      "[1, 2, 3, 6, 8, 9, 12, 13, 14, 17, 18, 20, 21, 24, 25] 7 8 1 25\n",
      "[1, 2, 3, 4, 5, 7, 9, 10, 12, 13, 14, 16, 23, 24, 25] 8 7 1 25\n",
      "[1, 2, 4, 6, 7, 9, 12, 15, 16, 19, 20, 21, 23, 24, 25] 8 7 1 25\n",
      "[1, 2, 3, 4, 9, 11, 12, 13, 14, 16, 19, 20, 21, 22, 24] 7 8 1 24\n",
      "[1, 2, 5, 6, 7, 9, 11, 13, 14, 15, 16, 21, 22, 23, 24] 9 6 1 24\n",
      "[1, 4, 7, 8, 9, 10, 12, 14, 15, 18, 19, 22, 23, 24, 25] 7 8 1 25\n",
      "[1, 3, 4, 6, 9, 12, 13, 14, 15, 17, 18, 22, 23, 24, 25] 8 7 1 25\n",
      "[1, 5, 6, 9, 10, 11, 12, 13, 14, 16, 18, 19, 20, 21, 25] 8 7 1 25\n",
      "[1, 3, 4, 5, 6, 7, 9, 13, 14, 15, 16, 18, 19, 24, 25] 9 6 1 25\n",
      "[1, 2, 4, 5, 6, 8, 9, 11, 12, 15, 16, 17, 18, 23, 25] 8 7 1 25\n",
      "[2, 3, 4, 5, 6, 9, 10, 11, 12, 13, 14, 17, 22, 24, 25] 7 8 2 25\n",
      "[1, 2, 3, 5, 8, 9, 10, 12, 13, 15, 17, 20, 22, 23, 24] 8 7 1 24\n",
      "[1, 2, 3, 4, 5, 6, 8, 9, 11, 12, 13, 15, 17, 18, 25] 9 6 1 25\n",
      "[2, 4, 6, 7, 8, 9, 10, 11, 12, 16, 17, 19, 21, 24, 25] 7 8 2 25\n",
      "[2, 3, 4, 5, 7, 8, 9, 10, 13, 14, 17, 19, 20, 21, 25] 9 6 2 25\n",
      "[1, 2, 3, 5, 6, 7, 8, 9, 10, 12, 13, 14, 17, 21, 24] 8 7 1 24\n",
      "[1, 2, 3, 6, 8, 9, 12, 13, 14, 15, 16, 20, 21, 23, 25] 8 7 1 25\n",
      "[1, 3, 4, 5, 6, 7, 8, 9, 14, 18, 19, 21, 22, 24, 25] 8 7 1 25\n",
      "[2, 4, 6, 7, 8, 9, 11, 13, 14, 15, 19, 21, 22, 24, 25] 8 7 2 25\n",
      "[1, 2, 4, 5, 6, 9, 10, 11, 14, 16, 19, 20, 21, 23, 25] 8 7 1 25\n",
      "[2, 5, 7, 8, 9, 11, 12, 13, 14, 17, 19, 21, 22, 24, 25] 9 6 2 25\n",
      "[1, 4, 5, 6, 9, 10, 11, 13, 14, 15, 16, 17, 19, 21, 24] 9 6 1 24\n",
      "[2, 3, 4, 6, 8, 9, 10, 11, 14, 15, 16, 19, 21, 24, 25] 7 8 2 25\n",
      "[1, 3, 5, 6, 9, 10, 14, 15, 16, 17, 21, 22, 23, 24, 25] 9 6 1 25\n",
      "[1, 6, 7, 8, 9, 10, 11, 12, 13, 14, 15, 22, 23, 24, 25] 8 7 1 25\n",
      "[1, 4, 7, 9, 10, 12, 14, 16, 19, 20, 21, 22, 23, 24, 25] 7 8 1 25\n",
      "[2, 3, 4, 5, 7, 8, 9, 10, 14, 15, 18, 20, 21, 24, 25] 7 8 2 25\n",
      "[1, 2, 3, 4, 5, 9, 10, 11, 13, 14, 15, 16, 18, 21, 24] 8 7 1 24\n",
      "[1, 3, 4, 7, 8, 9, 10, 11, 14, 15, 16, 17, 21, 24, 25] 9 6 1 25\n",
      "[1, 2, 5, 8, 9, 11, 12, 15, 17, 18, 19, 22, 23, 24, 25] 9 6 1 25\n",
      "[1, 2, 3, 4, 7, 9, 11, 12, 16, 17, 18, 21, 23, 24, 25] 9 6 1 25\n",
      "[2, 4, 7, 9, 11, 12, 13, 15, 16, 18, 19, 21, 22, 24, 25] 8 7 2 25\n",
      "[2, 3, 5, 6, 8, 9, 10, 12, 14, 15, 17, 19, 20, 21, 24] 7 8 2 24\n",
      "[2, 4, 5, 6, 9, 11, 12, 13, 14, 15, 16, 18, 21, 22, 25] 7 8 2 25\n",
      "[1, 4, 5, 6, 8, 9, 10, 11, 12, 13, 14, 15, 19, 20, 24] 7 8 1 24\n",
      "[1, 6, 7, 9, 10, 13, 14, 16, 17, 19, 20, 21, 23, 24, 25] 9 6 1 25\n",
      "[1, 2, 3, 4, 5, 6, 7, 8, 9, 12, 15, 16, 18, 20, 25] 7 8 1 25\n",
      "[2, 4, 7, 9, 10, 11, 12, 13, 14, 15, 16, 18, 21, 23, 25] 8 7 2 25\n",
      "[1, 2, 4, 5, 6, 8, 9, 11, 13, 14, 16, 19, 21, 23, 25] 9 6 1 25\n",
      "[1, 2, 3, 6, 7, 8, 9, 11, 12, 13, 14, 15, 17, 18, 24] 8 7 1 24\n",
      "[1, 2, 3, 4, 6, 7, 8, 9, 11, 13, 17, 18, 19, 20, 24] 8 7 1 24\n",
      "[1, 2, 3, 4, 5, 6, 8, 9, 10, 11, 12, 17, 18, 23, 25] 8 7 1 25\n",
      "[1, 2, 5, 9, 11, 12, 13, 14, 15, 16, 18, 20, 21, 22, 25] 8 7 1 25\n",
      "[1, 3, 4, 5, 9, 10, 11, 14, 15, 16, 17, 22, 23, 24, 25] 9 6 1 25\n",
      "[1, 4, 6, 9, 10, 15, 16, 17, 18, 19, 20, 21, 22, 23, 25] 8 7 1 25\n",
      "[2, 3, 4, 7, 9, 11, 12, 14, 16, 17, 18, 21, 22, 24, 25] 7 8 2 25\n",
      "[1, 2, 3, 6, 7, 8, 9, 13, 14, 16, 17, 19, 20, 22, 25] 8 7 1 25\n",
      "[2, 3, 4, 5, 9, 10, 13, 14, 15, 19, 20, 22, 23, 24, 25] 8 7 2 25\n",
      "[1, 4, 5, 9, 10, 11, 13, 16, 17, 19, 20, 21, 22, 24, 25] 9 6 1 25\n",
      "[2, 3, 5, 7, 8, 9, 10, 11, 12, 16, 18, 19, 20, 24, 25] 7 8 2 25\n",
      "[1, 2, 4, 5, 6, 7, 9, 14, 15, 17, 18, 19, 20, 24, 25] 8 7 1 25\n",
      "[1, 2, 7, 8, 9, 10, 11, 14, 15, 16, 19, 21, 23, 24, 25] 9 6 1 25\n",
      "[1, 3, 4, 9, 10, 12, 13, 14, 16, 17, 18, 19, 23, 24, 25] 8 7 1 25\n",
      "[1, 3, 6, 7, 8, 9, 10, 11, 13, 14, 15, 16, 20, 21, 25] 9 6 1 25\n",
      "[1, 2, 3, 4, 8, 9, 10, 11, 16, 18, 19, 20, 21, 23, 25] 8 7 1 25\n",
      "[1, 2, 4, 6, 7, 8, 9, 10, 13, 14, 15, 17, 18, 20, 25] 7 8 1 25\n",
      "[1, 4, 5, 6, 9, 13, 14, 15, 16, 17, 19, 20, 21, 22, 25] 9 6 1 25\n",
      "[1, 2, 3, 5, 6, 7, 9, 11, 12, 18, 20, 21, 22, 23, 24] 8 7 1 24\n",
      "[1, 2, 3, 6, 7, 8, 9, 14, 15, 16, 17, 18, 21, 23, 25] 9 6 1 25\n",
      "[2, 5, 6, 7, 8, 9, 10, 11, 12, 16, 17, 19, 20, 21, 25] 8 7 2 25\n",
      "[1, 4, 6, 7, 8, 9, 10, 11, 12, 13, 15, 19, 21, 24, 25] 9 6 1 25\n",
      "[2, 3, 4, 6, 8, 9, 11, 12, 15, 18, 19, 21, 23, 24, 25] 8 7 2 25\n",
      "[1, 3, 4, 8, 9, 10, 11, 14, 15, 16, 17, 19, 20, 24, 25] 8 7 1 25\n",
      "[1, 2, 4, 5, 8, 9, 10, 12, 14, 15, 16, 19, 22, 23, 25] 7 8 1 25\n",
      "[1, 2, 4, 5, 8, 9, 11, 12, 14, 19, 20, 21, 22, 23, 24] 7 8 1 24\n",
      "[1, 2, 4, 6, 7, 9, 11, 12, 14, 15, 17, 19, 23, 24, 25] 9 6 1 25\n",
      "[1, 2, 3, 4, 6, 7, 8, 9, 10, 13, 15, 17, 18, 22, 25] 8 7 1 25\n",
      "[2, 4, 6, 7, 9, 13, 14, 15, 16, 18, 21, 22, 23, 24, 25] 7 8 2 25\n",
      "[2, 7, 9, 10, 12, 13, 14, 15, 16, 17, 20, 21, 22, 24, 25] 7 8 2 25\n",
      "[2, 5, 6, 7, 9, 14, 15, 16, 17, 18, 19, 20, 21, 24, 25] 8 7 2 25\n",
      "[1, 2, 3, 4, 7, 8, 9, 10, 11, 12, 13, 15, 19, 21, 24] 9 6 1 24\n",
      "[1, 2, 6, 7, 8, 9, 12, 15, 16, 18, 19, 21, 22, 23, 25] 8 7 1 25\n",
      "[1, 2, 4, 5, 6, 7, 8, 9, 11, 13, 15, 16, 20, 24, 25] 8 7 1 25\n",
      "[2, 3, 5, 8, 9, 10, 13, 15, 18, 19, 20, 21, 22, 23, 25] 9 6 2 25\n",
      "[1, 3, 4, 6, 7, 8, 9, 12, 14, 16, 19, 20, 21, 23, 25] 8 7 1 25\n",
      "[1, 2, 3, 4, 5, 6, 8, 9, 15, 16, 17, 19, 21, 24, 25] 9 6 1 25\n",
      "[1, 2, 7, 8, 9, 10, 11, 12, 15, 17, 18, 21, 22, 24, 25] 8 7 1 25\n",
      "[1, 2, 3, 6, 7, 9, 10, 11, 12, 13, 17, 18, 21, 22, 24] 8 7 1 24\n",
      "[1, 3, 5, 6, 8, 9, 10, 13, 14, 15, 16, 17, 21, 24, 25] 9 6 1 25\n",
      "[1, 2, 3, 4, 9, 12, 13, 14, 15, 16, 19, 20, 22, 23, 24] 7 8 1 24\n",
      "[2, 4, 5, 6, 9, 10, 11, 13, 15, 16, 17, 19, 21, 24, 25] 9 6 2 25\n",
      "[1, 2, 4, 5, 6, 7, 8, 9, 11, 12, 13, 15, 17, 22, 25] 9 6 1 25\n",
      "[2, 4, 5, 6, 8, 9, 10, 11, 13, 15, 17, 18, 19, 21, 25] 9 6 2 25\n",
      "[2, 3, 4, 7, 8, 9, 11, 14, 15, 16, 17, 21, 22, 23, 25] 9 6 2 25\n",
      "[2, 3, 5, 6, 8, 9, 10, 14, 15, 16, 17, 18, 19, 21, 24] 7 8 2 24\n",
      "[1, 2, 3, 4, 5, 6, 7, 9, 10, 16, 17, 19, 22, 23, 24] 8 7 1 24\n",
      "[2, 3, 4, 8, 9, 11, 13, 15, 16, 18, 19, 21, 22, 23, 25] 9 6 2 25\n",
      "[1, 2, 5, 8, 9, 11, 12, 14, 15, 16, 20, 21, 22, 23, 25] 8 7 1 25\n",
      "[1, 3, 4, 7, 8, 9, 11, 12, 14, 15, 18, 19, 21, 24, 25] 9 6 1 25\n",
      "[1, 2, 3, 4, 7, 8, 9, 11, 12, 13, 15, 19, 22, 23, 24] 9 6 1 24\n",
      "[1, 3, 8, 9, 10, 11, 12, 13, 16, 17, 18, 21, 23, 24, 25] 9 6 1 25\n",
      "[1, 2, 4, 5, 7, 8, 9, 12, 13, 17, 18, 19, 20, 23, 25] 9 6 1 25\n",
      "[1, 2, 3, 5, 7, 9, 10, 12, 13, 14, 15, 18, 19, 21, 24] 9 6 1 24\n",
      "[2, 3, 4, 6, 7, 8, 9, 10, 11, 13, 16, 18, 20, 23, 25] 7 8 2 25\n",
      "[2, 3, 5, 9, 10, 12, 13, 14, 15, 17, 21, 22, 23, 24, 25] 9 6 2 25\n",
      "[1, 2, 7, 8, 9, 10, 12, 14, 16, 17, 18, 19, 22, 23, 25] 7 8 1 25\n",
      "[1, 2, 3, 4, 5, 6, 9, 11, 14, 16, 17, 19, 20, 24, 25] 8 7 1 25\n",
      "[1, 2, 7, 9, 10, 13, 15, 16, 17, 18, 19, 20, 22, 24, 25] 8 7 1 25\n",
      "[1, 4, 6, 7, 9, 10, 11, 13, 14, 16, 17, 19, 20, 23, 24] 8 7 1 24\n",
      "[1, 3, 4, 5, 7, 9, 10, 14, 15, 17, 18, 20, 22, 23, 24] 8 7 1 24\n",
      "[1, 2, 5, 7, 8, 9, 10, 11, 12, 15, 16, 17, 20, 22, 25] 8 7 1 25\n",
      "[2, 6, 7, 9, 10, 11, 12, 13, 14, 15, 16, 18, 20, 23, 25] 7 8 2 25\n",
      "[1, 5, 6, 7, 9, 11, 12, 13, 17, 18, 19, 20, 22, 23, 24] 9 6 1 24\n",
      "[2, 4, 5, 6, 9, 10, 11, 13, 16, 17, 19, 20, 21, 22, 24] 7 8 2 24\n",
      "[1, 2, 4, 5, 6, 8, 9, 11, 14, 18, 21, 22, 23, 24, 25] 7 8 1 25\n",
      "[1, 2, 3, 6, 8, 9, 10, 13, 14, 17, 19, 20, 21, 24, 25] 8 7 1 25\n",
      "[2, 3, 5, 7, 9, 10, 12, 13, 14, 15, 16, 18, 22, 23, 25] 8 7 2 25\n",
      "[2, 3, 4, 5, 8, 9, 11, 13, 16, 18, 19, 20, 21, 23, 24] 8 7 2 24\n",
      "[2, 3, 4, 5, 8, 9, 10, 14, 16, 17, 19, 21, 23, 24, 25] 8 7 2 25\n",
      "[1, 2, 3, 4, 5, 6, 7, 9, 10, 12, 13, 16, 19, 20, 25] 8 7 1 25\n",
      "[1, 3, 4, 6, 7, 9, 11, 12, 13, 16, 17, 18, 19, 20, 24] 8 7 1 24\n",
      "[2, 4, 6, 8, 9, 11, 13, 14, 15, 17, 18, 19, 20, 21, 24] 7 8 2 24\n",
      "[1, 3, 4, 6, 7, 9, 10, 12, 13, 15, 17, 18, 21, 24, 25] 9 6 1 25\n",
      "[1, 2, 3, 4, 5, 7, 8, 9, 11, 12, 14, 15, 19, 22, 24] 8 7 1 24\n",
      "[1, 2, 3, 7, 8, 9, 10, 13, 16, 18, 19, 20, 22, 24, 25] 7 8 1 25\n",
      "[2, 4, 9, 11, 12, 13, 14, 15, 16, 17, 19, 20, 21, 23, 24] 8 7 2 24\n",
      "[1, 4, 5, 8, 9, 10, 11, 13, 14, 15, 16, 17, 23, 24, 25] 9 6 1 25\n",
      "[1, 4, 7, 8, 9, 11, 13, 14, 15, 17, 20, 22, 23, 24, 25] 9 6 1 25\n",
      "[2, 4, 6, 7, 9, 11, 12, 14, 17, 18, 19, 21, 22, 23, 25] 8 7 2 25\n",
      "[2, 3, 5, 6, 7, 9, 10, 12, 13, 15, 16, 20, 23, 24, 25] 8 7 2 25\n",
      "[2, 3, 4, 5, 6, 7, 8, 9, 14, 16, 19, 20, 23, 24, 25] 7 8 2 25\n",
      "[2, 3, 4, 6, 7, 8, 9, 11, 14, 15, 17, 19, 20, 24, 25] 8 7 2 25\n",
      "[1, 2, 3, 4, 5, 7, 9, 10, 15, 18, 19, 20, 21, 24, 25] 9 6 1 25\n",
      "[1, 3, 6, 7, 9, 10, 11, 12, 16, 18, 19, 21, 22, 23, 25] 9 6 1 25\n",
      "[1, 2, 5, 7, 8, 9, 10, 11, 12, 18, 19, 21, 22, 23, 24] 8 7 1 24\n",
      "[1, 4, 5, 7, 8, 9, 10, 11, 12, 13, 14, 15, 18, 20, 25] 8 7 1 25\n",
      "[1, 3, 4, 6, 7, 9, 10, 11, 13, 14, 16, 18, 19, 23, 25] 9 6 1 25\n",
      "[1, 2, 3, 4, 8, 9, 10, 13, 16, 18, 19, 21, 23, 24, 25] 8 7 1 25\n",
      "[1, 3, 4, 5, 6, 8, 9, 11, 12, 13, 14, 17, 20, 23, 25] 9 6 1 25\n",
      "[1, 2, 3, 4, 5, 7, 8, 9, 10, 12, 18, 19, 21, 23, 25] 9 6 1 25\n",
      "[1, 3, 5, 6, 8, 9, 11, 15, 16, 18, 19, 20, 21, 24, 25] 9 6 1 25\n",
      "[2, 3, 6, 8, 9, 10, 11, 15, 17, 19, 20, 21, 22, 24, 25] 8 7 2 25\n",
      "[1, 3, 4, 5, 6, 8, 9, 11, 13, 14, 17, 21, 22, 24, 25] 9 6 1 25\n",
      "[1, 2, 3, 4, 5, 8, 9, 10, 11, 13, 14, 16, 20, 22, 25] 7 8 1 25\n",
      "[1, 3, 5, 8, 9, 10, 12, 14, 15, 18, 19, 21, 23, 24, 25] 9 6 1 25\n",
      "[1, 2, 4, 5, 6, 7, 8, 9, 10, 15, 17, 18, 19, 24, 25] 8 7 1 25\n",
      "[1, 2, 4, 5, 6, 7, 8, 9, 10, 14, 17, 20, 21, 23, 24] 7 8 1 24\n",
      "[1, 3, 5, 7, 8, 9, 10, 12, 14, 19, 20, 21, 22, 23, 24] 8 7 1 24\n",
      "[1, 3, 5, 6, 7, 8, 9, 10, 14, 16, 21, 22, 23, 24, 25] 8 7 1 25\n",
      "[1, 4, 5, 6, 7, 9, 10, 13, 14, 15, 17, 18, 23, 24, 25] 9 6 1 25\n",
      "[1, 2, 3, 7, 8, 9, 12, 13, 14, 15, 16, 17, 18, 23, 25] 9 6 1 25\n",
      "[1, 3, 4, 5, 6, 7, 9, 11, 12, 13, 15, 16, 22, 23, 24] 9 6 1 24\n",
      "[2, 3, 5, 6, 7, 9, 12, 13, 15, 17, 18, 19, 20, 22, 24] 8 7 2 24\n",
      "[1, 3, 7, 8, 9, 10, 14, 15, 17, 18, 19, 21, 22, 24, 25] 9 6 1 25\n",
      "[1, 2, 4, 7, 8, 9, 11, 13, 14, 15, 17, 18, 23, 24, 25] 9 6 1 25\n",
      "[1, 2, 5, 7, 8, 9, 10, 11, 15, 16, 18, 20, 22, 23, 24] 7 8 1 24\n",
      "[1, 2, 3, 5, 6, 7, 8, 9, 15, 18, 19, 20, 21, 23, 24] 9 6 1 24\n",
      "[2, 4, 5, 7, 8, 9, 11, 13, 18, 20, 21, 22, 23, 24, 25] 8 7 2 25\n",
      "[2, 5, 7, 8, 9, 11, 14, 16, 17, 18, 20, 21, 22, 23, 25] 8 7 2 25\n",
      "[1, 2, 3, 6, 7, 8, 9, 12, 13, 14, 15, 18, 20, 24, 25] 7 8 1 25\n",
      "[1, 3, 4, 6, 8, 9, 10, 13, 15, 17, 18, 19, 20, 21, 24] 8 7 1 24\n",
      "[2, 5, 6, 9, 10, 11, 12, 14, 16, 17, 18, 19, 23, 24, 25] 7 8 2 25\n",
      "[2, 4, 5, 6, 7, 9, 10, 14, 17, 19, 20, 21, 22, 23, 25] 8 7 2 25\n",
      "[1, 4, 7, 8, 9, 10, 12, 14, 15, 18, 19, 20, 21, 23, 25] 8 7 1 25\n",
      "[1, 5, 6, 7, 8, 9, 12, 13, 15, 18, 19, 20, 22, 23, 25] 9 6 1 25\n",
      "[1, 2, 3, 5, 6, 7, 8, 9, 10, 15, 16, 18, 22, 23, 24] 7 8 1 24\n",
      "[2, 5, 6, 7, 8, 9, 10, 11, 13, 15, 18, 19, 20, 22, 24] 7 8 2 24\n",
      "[2, 3, 7, 9, 10, 14, 15, 16, 17, 18, 19, 21, 22, 23, 24] 8 7 2 24\n",
      "[1, 3, 4, 5, 6, 9, 10, 12, 15, 17, 18, 19, 22, 23, 24] 8 7 1 24\n",
      "[2, 3, 5, 8, 9, 11, 12, 14, 15, 17, 18, 19, 22, 23, 24] 8 7 2 24\n",
      "[1, 4, 6, 7, 9, 10, 11, 12, 15, 17, 18, 21, 22, 23, 24] 8 7 1 24\n",
      "[1, 4, 5, 6, 8, 9, 10, 14, 16, 17, 18, 19, 20, 23, 25] 7 8 1 25\n",
      "[2, 5, 6, 7, 8, 9, 13, 16, 17, 18, 19, 20, 21, 23, 24] 8 7 2 24\n",
      "[1, 2, 4, 5, 7, 9, 10, 11, 12, 13, 14, 16, 19, 21, 25] 9 6 1 25\n",
      "[2, 3, 4, 5, 7, 8, 9, 11, 13, 16, 19, 20, 21, 22, 24] 8 7 2 24\n",
      "[1, 3, 4, 5, 6, 8, 9, 14, 15, 18, 19, 20, 22, 23, 24] 7 8 1 24\n",
      "[1, 2, 5, 8, 9, 10, 11, 15, 16, 18, 19, 20, 21, 22, 24] 7 8 1 24\n",
      "[2, 3, 4, 5, 7, 9, 10, 11, 13, 17, 18, 19, 20, 23, 24] 9 6 2 24\n",
      "[2, 5, 7, 9, 10, 11, 13, 16, 17, 18, 19, 20, 22, 23, 24] 8 7 2 24\n",
      "[1, 3, 4, 5, 9, 10, 12, 15, 16, 17, 18, 19, 22, 23, 24] 8 7 1 24\n",
      "[1, 2, 4, 7, 9, 10, 11, 12, 13, 14, 15, 16, 19, 21, 24] 8 7 1 24\n",
      "[1, 2, 3, 7, 9, 11, 14, 15, 16, 18, 20, 22, 23, 24, 25] 8 7 1 25\n",
      "[1, 2, 3, 5, 6, 7, 9, 10, 11, 12, 13, 14, 18, 21, 25] 9 6 1 25\n",
      "[1, 2, 5, 7, 8, 9, 14, 15, 16, 17, 19, 20, 21, 22, 24] 8 7 1 24\n",
      "[1, 3, 4, 6, 8, 9, 11, 12, 13, 20, 21, 22, 23, 24, 25] 8 7 1 25\n",
      "[1, 3, 5, 6, 7, 9, 11, 12, 13, 15, 18, 20, 22, 24, 25] 9 6 1 25\n",
      "[1, 2, 3, 4, 5, 8, 9, 10, 12, 13, 15, 20, 22, 23, 24] 7 8 1 24\n",
      "[1, 2, 3, 5, 7, 8, 9, 10, 14, 16, 18, 20, 22, 23, 25] 7 8 1 25\n",
      "[1, 2, 5, 7, 8, 9, 11, 13, 14, 15, 16, 18, 21, 22, 24] 8 7 1 24\n",
      "[2, 3, 4, 5, 9, 10, 12, 14, 18, 19, 20, 21, 22, 23, 25] 7 8 2 25\n",
      "[1, 2, 4, 5, 8, 9, 10, 12, 13, 16, 17, 20, 23, 24, 25] 7 8 1 25\n",
      "[1, 3, 4, 5, 6, 7, 8, 9, 11, 13, 15, 18, 20, 22, 24] 8 7 1 24\n",
      "[2, 5, 6, 8, 9, 11, 12, 13, 14, 15, 18, 22, 23, 24, 25] 7 8 2 25\n",
      "[1, 3, 4, 6, 7, 9, 11, 13, 14, 15, 17, 18, 19, 20, 24] 9 6 1 24\n",
      "[2, 3, 6, 8, 9, 12, 14, 17, 19, 20, 21, 22, 23, 24, 25] 7 8 2 25\n",
      "[1, 3, 4, 5, 6, 7, 8, 9, 10, 13, 16, 18, 20, 23, 25] 8 7 1 25\n",
      "[1, 2, 3, 6, 8, 9, 10, 11, 14, 15, 18, 19, 21, 23, 24] 8 7 1 24\n",
      "[2, 3, 4, 6, 7, 8, 9, 14, 16, 17, 19, 22, 23, 24, 25] 7 8 2 25\n",
      "[1, 2, 4, 7, 8, 9, 10, 12, 14, 17, 19, 22, 23, 24, 25] 7 8 1 25\n",
      "[1, 2, 4, 8, 9, 10, 12, 13, 15, 16, 18, 19, 21, 24, 25] 7 8 1 25\n",
      "[2, 3, 7, 8, 9, 13, 14, 15, 17, 19, 20, 21, 22, 24, 25] 9 6 2 25\n",
      "[2, 5, 6, 8, 9, 10, 11, 12, 15, 16, 17, 18, 21, 24, 25] 7 8 2 25\n",
      "[1, 3, 4, 6, 7, 8, 9, 11, 13, 18, 19, 20, 21, 24, 25] 9 6 1 25\n",
      "[2, 3, 4, 5, 6, 7, 9, 11, 14, 17, 18, 20, 21, 22, 24] 7 8 2 24\n",
      "[1, 2, 3, 7, 8, 9, 10, 13, 15, 18, 21, 22, 23, 24, 25] 9 6 1 25\n",
      "[1, 4, 5, 6, 7, 8, 9, 10, 13, 16, 18, 19, 22, 23, 24] 7 8 1 24\n",
      "[2, 3, 4, 5, 6, 7, 9, 11, 13, 17, 18, 22, 23, 24, 25] 9 6 2 25\n",
      "[2, 3, 4, 6, 7, 8, 9, 10, 15, 18, 19, 21, 22, 23, 25] 8 7 2 25\n",
      "[1, 3, 4, 5, 8, 9, 10, 11, 14, 15, 18, 19, 20, 23, 25] 9 6 1 25\n",
      "[1, 3, 4, 5, 6, 8, 9, 10, 11, 12, 13, 15, 17, 22, 24] 8 7 1 24\n",
      "[1, 3, 4, 8, 9, 11, 13, 14, 18, 19, 20, 21, 22, 24, 25] 8 7 1 25\n",
      "[1, 2, 3, 4, 5, 7, 8, 9, 10, 13, 14, 16, 18, 24, 25] 7 8 1 25\n",
      "[1, 2, 3, 6, 7, 8, 9, 11, 12, 13, 14, 20, 21, 22, 25] 8 7 1 25\n",
      "[1, 2, 3, 6, 7, 8, 9, 15, 17, 18, 19, 20, 21, 23, 24] 9 6 1 24\n",
      "[1, 3, 4, 5, 6, 7, 9, 11, 13, 14, 15, 16, 20, 23, 24] 9 6 1 24\n",
      "[1, 2, 7, 9, 10, 11, 12, 13, 14, 16, 17, 19, 20, 22, 25] 8 7 1 25\n",
      "[1, 2, 3, 4, 5, 6, 8, 9, 10, 11, 14, 17, 20, 22, 25] 7 8 1 25\n",
      "[1, 5, 6, 7, 8, 9, 11, 14, 15, 16, 18, 20, 22, 23, 25] 8 7 1 25\n",
      "[2, 3, 6, 7, 9, 10, 11, 13, 14, 17, 20, 21, 22, 24, 25] 8 7 2 25\n",
      "[1, 3, 6, 7, 9, 10, 11, 13, 16, 17, 18, 20, 22, 24, 25] 8 7 1 25\n",
      "[1, 6, 7, 8, 9, 12, 14, 17, 19, 20, 21, 22, 23, 24, 25] 8 7 1 25\n",
      "[1, 3, 5, 6, 7, 8, 9, 10, 13, 14, 16, 21, 22, 23, 24] 8 7 1 24\n",
      "[1, 3, 6, 7, 9, 10, 12, 13, 14, 16, 17, 19, 23, 24, 25] 9 6 1 25\n",
      "[1, 2, 5, 6, 7, 9, 11, 12, 13, 14, 15, 16, 19, 20, 24] 8 7 1 24\n",
      "[1, 2, 4, 5, 9, 11, 14, 15, 16, 17, 18, 19, 20, 24, 25] 8 7 1 25\n",
      "[1, 2, 3, 4, 5, 6, 9, 11, 13, 14, 15, 18, 19, 22, 25] 9 6 1 25\n",
      "[1, 2, 3, 4, 5, 6, 9, 11, 13, 14, 16, 17, 18, 20, 24] 7 8 1 24\n",
      "[1, 2, 3, 6, 7, 8, 9, 10, 11, 12, 13, 16, 17, 18, 25] 8 7 1 25\n",
      "[1, 2, 3, 5, 9, 10, 11, 12, 15, 19, 20, 22, 23, 24, 25] 9 6 1 25\n",
      "[2, 3, 5, 6, 7, 8, 9, 12, 13, 14, 16, 17, 19, 22, 24] 7 8 2 24\n",
      "[1, 3, 5, 6, 8, 9, 12, 15, 18, 19, 20, 21, 22, 23, 25] 9 6 1 25\n",
      "[1, 3, 5, 6, 7, 8, 9, 11, 12, 14, 15, 17, 18, 24, 25] 9 6 1 25\n",
      "[1, 2, 3, 4, 6, 9, 10, 12, 13, 17, 18, 19, 21, 23, 24] 8 7 1 24\n",
      "[2, 3, 4, 7, 9, 11, 14, 15, 16, 17, 18, 19, 20, 22, 24] 7 8 2 24\n",
      "[1, 2, 4, 5, 7, 9, 10, 12, 13, 18, 19, 20, 22, 23, 24] 7 8 1 24\n",
      "[1, 3, 4, 5, 6, 7, 9, 11, 12, 16, 17, 18, 20, 24, 25] 8 7 1 25\n",
      "[1, 5, 6, 7, 8, 9, 12, 13, 14, 16, 17, 19, 20, 21, 25] 9 6 1 25\n",
      "[1, 2, 4, 7, 8, 9, 10, 11, 12, 13, 16, 17, 20, 21, 25] 8 7 1 25\n",
      "[1, 2, 3, 4, 8, 9, 10, 12, 15, 16, 19, 20, 23, 24, 25] 7 8 1 25\n",
      "[1, 2, 3, 4, 6, 7, 9, 10, 11, 12, 14, 15, 19, 23, 24] 8 7 1 24\n",
      "[2, 6, 7, 9, 10, 11, 13, 14, 16, 18, 19, 20, 22, 23, 25] 7 8 2 25\n",
      "[1, 2, 3, 4, 7, 9, 10, 13, 14, 15, 17, 18, 21, 24, 25] 9 6 1 25\n",
      "[1, 2, 4, 6, 7, 8, 9, 12, 13, 15, 16, 17, 20, 23, 24] 7 8 1 24\n",
      "[1, 2, 6, 8, 9, 12, 13, 14, 15, 16, 18, 19, 20, 21, 25] 7 8 1 25\n",
      "[1, 2, 7, 8, 9, 10, 11, 14, 15, 17, 19, 20, 22, 23, 24] 8 7 1 24\n",
      "[1, 2, 3, 5, 8, 9, 10, 11, 12, 15, 16, 18, 22, 23, 25] 8 7 1 25\n",
      "[1, 2, 5, 6, 8, 9, 11, 16, 17, 18, 19, 20, 22, 23, 24] 7 8 1 24\n",
      "[2, 3, 4, 5, 7, 9, 10, 11, 14, 16, 18, 21, 22, 24, 25] 7 8 2 25\n",
      "[1, 2, 4, 5, 6, 7, 8, 9, 16, 17, 18, 19, 22, 24, 25] 7 8 1 25\n",
      "[1, 2, 3, 4, 6, 9, 11, 12, 13, 15, 18, 19, 20, 24, 25] 8 7 1 25\n",
      "[2, 3, 4, 7, 9, 11, 12, 13, 14, 15, 17, 18, 19, 20, 25] 9 6 2 25\n",
      "[2, 3, 5, 6, 8, 9, 10, 11, 13, 15, 16, 20, 21, 23, 24] 8 7 2 24\n",
      "[1, 2, 3, 4, 8, 9, 10, 13, 14, 15, 16, 19, 22, 23, 24] 7 8 1 24\n",
      "[1, 4, 5, 6, 7, 9, 10, 13, 16, 17, 18, 19, 21, 22, 24] 8 7 1 24\n",
      "[1, 2, 3, 5, 6, 7, 8, 9, 10, 13, 15, 21, 22, 24, 25] 9 6 1 25\n",
      "[1, 2, 3, 5, 6, 7, 8, 9, 10, 14, 15, 17, 18, 23, 25] 9 6 1 25\n",
      "[1, 7, 8, 9, 10, 11, 12, 13, 15, 16, 19, 20, 23, 24, 25] 9 6 1 25\n",
      "[2, 3, 4, 7, 9, 11, 14, 15, 16, 17, 18, 20, 22, 24, 25] 7 8 2 25\n",
      "[1, 2, 3, 4, 6, 9, 12, 13, 14, 16, 17, 20, 23, 24, 25] 7 8 1 25\n",
      "[2, 9, 10, 11, 12, 14, 15, 16, 17, 18, 19, 21, 22, 23, 24] 7 8 2 24\n",
      "[2, 5, 6, 7, 8, 9, 10, 12, 13, 14, 15, 21, 22, 23, 25] 8 7 2 25\n",
      "[1, 2, 4, 5, 8, 9, 10, 14, 15, 19, 21, 22, 23, 24, 25] 8 7 1 25\n",
      "[1, 5, 6, 8, 9, 10, 11, 14, 15, 17, 20, 22, 23, 24, 25] 8 7 1 25\n",
      "[1, 3, 4, 5, 9, 10, 11, 14, 16, 17, 20, 21, 23, 24, 25] 9 6 1 25\n",
      "[2, 4, 5, 7, 8, 9, 11, 12, 13, 16, 17, 22, 23, 24, 25] 8 7 2 25\n",
      "[1, 3, 4, 5, 6, 7, 8, 9, 10, 11, 12, 15, 17, 21, 24] 9 6 1 24\n",
      "[1, 2, 5, 6, 7, 9, 10, 11, 16, 18, 20, 21, 23, 24, 25] 8 7 1 25\n",
      "[1, 2, 3, 4, 5, 8, 9, 10, 11, 12, 13, 19, 20, 22, 24] 7 8 1 24\n",
      "[1, 3, 4, 6, 7, 8, 9, 12, 13, 18, 19, 20, 21, 23, 25] 9 6 1 25\n"
     ]
    }
   ],
   "source": [
    "for a in apostas_v4:\n",
    "    print(a.numeros, a.impar, a.par, a.numeros[0], a.numeros[-1])"
   ]
  },
  {
   "cell_type": "code",
   "execution_count": 68,
   "metadata": {
    "collapsed": true
   },
   "outputs": [],
   "source": [
    "import random"
   ]
  },
  {
   "cell_type": "code",
   "execution_count": 69,
   "metadata": {
    "collapsed": true
   },
   "outputs": [],
   "source": [
    "apostas_v5 = random.sample(apostas_v4, 50)"
   ]
  },
  {
   "cell_type": "code",
   "execution_count": 70,
   "metadata": {},
   "outputs": [
    {
     "name": "stdout",
     "output_type": "stream",
     "text": [
      "[2, 3, 4, 6, 7, 8, 9, 10, 11, 13, 16, 18, 20, 23, 25] 7 8 2 25\n",
      "[2, 4, 5, 6, 9, 10, 11, 12, 13, 14, 15, 19, 21, 23, 24] 8 7 2 24\n",
      "[2, 3, 4, 6, 9, 11, 12, 15, 16, 19, 20, 21, 22, 23, 24] 7 8 2 24\n",
      "[1, 2, 7, 8, 9, 10, 11, 14, 15, 16, 19, 21, 23, 24, 25] 9 6 1 25\n",
      "[1, 2, 3, 5, 9, 10, 11, 12, 15, 19, 20, 22, 23, 24, 25] 9 6 1 25\n",
      "[1, 3, 6, 7, 8, 9, 12, 13, 15, 17, 18, 19, 20, 24, 25] 9 6 1 25\n",
      "[2, 3, 6, 8, 9, 10, 11, 15, 17, 19, 20, 21, 22, 24, 25] 8 7 2 25\n",
      "[1, 3, 5, 8, 9, 10, 12, 14, 15, 18, 19, 21, 23, 24, 25] 9 6 1 25\n",
      "[1, 2, 3, 6, 8, 9, 10, 13, 14, 17, 19, 20, 21, 24, 25] 8 7 1 25\n",
      "[1, 3, 4, 7, 9, 10, 13, 14, 17, 18, 19, 22, 23, 24, 25] 9 6 1 25\n",
      "[2, 3, 4, 6, 7, 8, 9, 10, 15, 18, 19, 21, 22, 23, 25] 8 7 2 25\n",
      "[2, 3, 4, 5, 7, 8, 9, 10, 13, 14, 17, 19, 20, 21, 25] 9 6 2 25\n",
      "[1, 2, 3, 4, 6, 7, 8, 9, 10, 11, 12, 16, 22, 23, 25] 7 8 1 25\n",
      "[2, 4, 6, 7, 9, 10, 11, 13, 16, 17, 18, 19, 21, 23, 24] 8 7 2 24\n",
      "[1, 3, 4, 9, 10, 12, 13, 14, 16, 17, 18, 19, 23, 24, 25] 8 7 1 25\n",
      "[2, 3, 4, 5, 7, 8, 9, 10, 14, 15, 18, 20, 21, 24, 25] 7 8 2 25\n",
      "[1, 2, 3, 5, 7, 9, 10, 12, 13, 14, 15, 18, 19, 21, 24] 9 6 1 24\n",
      "[1, 2, 3, 5, 8, 9, 10, 11, 12, 15, 16, 18, 22, 23, 25] 8 7 1 25\n",
      "[1, 5, 6, 7, 8, 9, 12, 13, 15, 18, 19, 20, 22, 23, 25] 9 6 1 25\n",
      "[2, 3, 7, 9, 10, 14, 15, 16, 17, 18, 19, 21, 22, 23, 24] 8 7 2 24\n",
      "[2, 4, 5, 6, 9, 11, 12, 13, 15, 17, 18, 19, 21, 22, 25] 9 6 2 25\n",
      "[1, 2, 6, 7, 9, 10, 12, 13, 15, 16, 19, 20, 22, 23, 24] 7 8 1 24\n",
      "[2, 5, 6, 7, 8, 9, 10, 11, 13, 15, 18, 19, 20, 22, 24] 7 8 2 24\n",
      "[1, 5, 6, 8, 9, 12, 13, 14, 15, 17, 19, 20, 22, 23, 25] 9 6 1 25\n",
      "[2, 3, 4, 7, 9, 11, 14, 15, 16, 17, 18, 20, 22, 24, 25] 7 8 2 25\n",
      "[1, 3, 4, 5, 6, 7, 8, 9, 10, 13, 16, 18, 20, 23, 25] 8 7 1 25\n",
      "[1, 3, 4, 5, 9, 10, 12, 15, 16, 17, 18, 19, 22, 23, 24] 8 7 1 24\n",
      "[1, 2, 3, 4, 6, 7, 9, 11, 12, 14, 17, 18, 20, 23, 25] 8 7 1 25\n",
      "[1, 4, 5, 6, 9, 10, 11, 12, 13, 14, 19, 21, 22, 23, 24] 8 7 1 24\n",
      "[2, 5, 6, 7, 8, 9, 12, 14, 15, 18, 19, 20, 23, 24, 25] 7 8 2 25\n",
      "[1, 3, 5, 6, 8, 9, 10, 13, 14, 15, 16, 17, 21, 24, 25] 9 6 1 25\n",
      "[2, 5, 6, 9, 12, 16, 17, 18, 19, 20, 21, 22, 23, 24, 25] 7 8 2 25\n",
      "[1, 2, 3, 4, 5, 6, 7, 9, 10, 16, 17, 19, 22, 23, 24] 8 7 1 24\n",
      "[1, 2, 3, 7, 8, 9, 12, 14, 16, 17, 18, 19, 20, 21, 24] 7 8 1 24\n",
      "[1, 3, 5, 7, 8, 9, 10, 12, 14, 19, 20, 21, 22, 23, 24] 8 7 1 24\n",
      "[1, 2, 4, 7, 9, 12, 13, 14, 15, 16, 18, 19, 21, 23, 25] 9 6 1 25\n",
      "[2, 3, 6, 8, 9, 12, 14, 17, 19, 20, 21, 22, 23, 24, 25] 7 8 2 25\n",
      "[1, 3, 4, 6, 7, 8, 9, 12, 14, 16, 19, 20, 21, 23, 25] 8 7 1 25\n",
      "[1, 2, 5, 8, 9, 11, 12, 14, 15, 16, 20, 21, 22, 23, 25] 8 7 1 25\n",
      "[2, 5, 7, 8, 9, 11, 14, 16, 17, 18, 20, 21, 22, 23, 25] 8 7 2 25\n",
      "[1, 3, 8, 9, 10, 11, 12, 13, 16, 17, 18, 21, 23, 24, 25] 9 6 1 25\n",
      "[1, 6, 7, 8, 9, 10, 11, 12, 13, 14, 15, 22, 23, 24, 25] 8 7 1 25\n",
      "[2, 3, 5, 6, 7, 9, 10, 12, 13, 15, 16, 20, 23, 24, 25] 8 7 2 25\n",
      "[1, 2, 6, 8, 9, 12, 13, 14, 15, 16, 18, 19, 20, 21, 25] 7 8 1 25\n",
      "[1, 2, 7, 8, 9, 10, 12, 14, 16, 17, 18, 19, 22, 23, 25] 7 8 1 25\n",
      "[1, 2, 5, 9, 11, 12, 13, 14, 15, 16, 18, 20, 21, 22, 25] 8 7 1 25\n",
      "[1, 3, 6, 7, 8, 9, 10, 11, 13, 14, 15, 16, 20, 21, 25] 9 6 1 25\n",
      "[1, 2, 4, 6, 7, 9, 12, 15, 16, 19, 20, 21, 23, 24, 25] 8 7 1 25\n",
      "[2, 3, 5, 6, 7, 9, 12, 13, 15, 17, 18, 19, 20, 22, 24] 8 7 2 24\n",
      "[1, 4, 5, 6, 7, 9, 10, 13, 14, 15, 17, 18, 23, 24, 25] 9 6 1 25\n",
      "Percentual jogos com 1:  0.32\n",
      "Percentual jogos com 2:  0.18\n",
      "Percentual jogos impar 7:  0.13\n",
      "Percentual jogos impar 8:  0.22\n",
      "Percentual jogos impar 9:  0.15\n"
     ]
    }
   ],
   "source": [
    "menor_1 = 0\n",
    "menor_2 = 0\n",
    "impar_par_7 = 0\n",
    "impar_par_8 = 0\n",
    "impar_par_9 = 0\n",
    "\n",
    "for a in apostas_v5:\n",
    "    print(a.numeros, a.impar, a.par, a.numeros[0], a.numeros[-1])\n",
    "    if a.numeros[0] == 1:\n",
    "        menor_1 += 1\n",
    "    elif a.numeros[0] == 2:\n",
    "        menor_2 += 1\n",
    "        \n",
    "    if a.impar == 7:\n",
    "        impar_par_7 += 1\n",
    "    elif a.impar == 8:\n",
    "        impar_par_8 += 1\n",
    "    elif a.impar == 9:\n",
    "        impar_par_9 += 1\n",
    "        \n",
    "print('Percentual jogos com 1: ', menor_1/100)\n",
    "print('Percentual jogos com 2: ', menor_2/100)\n",
    "print('Percentual jogos impar 7: ', impar_par_7/100)\n",
    "print('Percentual jogos impar 8: ', impar_par_8/100)\n",
    "print('Percentual jogos impar 9: ', impar_par_9/100)\n",
    "        "
   ]
  },
  {
   "cell_type": "code",
   "execution_count": 17,
   "metadata": {
    "collapsed": true
   },
   "outputs": [],
   "source": [
    "def conexao_mysql():\n",
    "    return mysql.connector.connect(user='root', database='lotofacil', host='192.168.56.100', password='Zaq1@wsX')"
   ]
  },
  {
   "cell_type": "code",
   "execution_count": 18,
   "metadata": {
    "collapsed": true
   },
   "outputs": [],
   "source": [
    "def get_numeros_jogo(id_jogo):\n",
    "    numeros = []\n",
    "    \n",
    "    try:\n",
    "#         dbconfig = read_db_config()\n",
    "#         conn = MySQLConnection(**dbconfig)\n",
    "\n",
    "        cnx = conexao_mysql()\n",
    "        cursor = cnx.cursor()\n",
    "\n",
    "        query = (\"SELECT numero FROM numero_jogo \"\n",
    "                 \"WHERE jogo_id = %(jogo_id)s \"\n",
    "                 \"ORDER BY numero\")\n",
    "        \n",
    "        param_query = {\n",
    "            'jogo_id' : id_jogo,\n",
    "        }\n",
    " \n",
    "        cursor.execute(query, param_query)\n",
    "    \n",
    "#         print(cursor.fetchall())\n",
    "             \n",
    "        for numero in cursor:\n",
    "            numeros.append(numero[0])\n",
    "\n",
    "    except Exception as ex:\n",
    "        print(ex)\n",
    " \n",
    "    except ConnectionError as e:\n",
    "        print(e)\n",
    " \n",
    "    finally:\n",
    "        cursor.close()\n",
    "        cnx.close()\n",
    "\n",
    "    return numeros"
   ]
  },
  {
   "cell_type": "code",
   "execution_count": 32,
   "metadata": {
    "collapsed": true
   },
   "outputs": [],
   "source": [
    "def get_all_jogo():\n",
    "    jogos = []\n",
    "    \n",
    "    try:\n",
    "        cnx = conexao_mysql()\n",
    "        cursor = cnx.cursor()\n",
    "\n",
    "#         query = (\"SELECT jogo_id, data_cadastro FROM jogo order by jogo_id\")\n",
    "        query = (\"SELECT jogo_id, data_cadastro \"\n",
    "                 \"FROM jogo \"\n",
    "                 \"WHERE jogo_id <= 10000 \"\n",
    "                 \"order by jogo_id\")\n",
    "        \n",
    "        cursor.execute(query)\n",
    "        \n",
    "        rows = cursor.fetchall()\n",
    "        \n",
    "        for row in rows:\n",
    "            jogo = Jogo()\n",
    "            jogo.id = row[0]\n",
    "            jogo.data_cadastro = row[1]\n",
    "            jogo.numeros = get_numeros_jogo(row[0])\n",
    "            jogo.setParImpar()\n",
    "            jogo.setQuantidade()\n",
    "            jogos.append(jogo)\n",
    "    #         print(jogo_id, data_cadastro)\n",
    "\n",
    "    except Exception as ex:\n",
    "        print(ex)\n",
    "        \n",
    "    except ConnectionError as e:\n",
    "        print(e)\n",
    "        \n",
    "    finally:\n",
    "        cursor.close()\n",
    "        cnx.close()\n",
    "    \n",
    "    return jogos"
   ]
  },
  {
   "cell_type": "code",
   "execution_count": 21,
   "metadata": {
    "collapsed": true
   },
   "outputs": [],
   "source": [
    "def gravar_jogo(jogos):\n",
    "    try:\n",
    "        cnx = conexao_mysql()\n",
    "        cursor = cnx.cursor()\n",
    "\n",
    "    #     apostas_db = get_all_aposta()\n",
    "        add_jogo = (\"INSERT INTO jogo \"\n",
    "                     \"(data_cadastro) \"\n",
    "                     \"VALUES (%(data_cadastro)s)\")\n",
    "        add_numero_jogo = (\"INSERT INTO numero_jogo \"\n",
    "                            \"(jogo_id, numero) \"\n",
    "                            \"VALUES (%(jogo_id)s, %(numero)s)\")\n",
    "\n",
    "        data_jogo = {\n",
    "            'data_cadastro' : datetime.now().date(),\n",
    "        }\n",
    "\n",
    "        for j in jogos:\n",
    "    #         for b in apostas_db:\n",
    "    #             if (len(a.numeros) == len(b.numeros))\n",
    "    #             if (len(set(a.numeros).intersection(b.numeros)))\n",
    "            cursor.execute(add_jogo, data_jogo)\n",
    "            jogo_id = cursor.lastrowid\n",
    "\n",
    "            for n in j.numeros:\n",
    "                data_numero_jogo = {\n",
    "                  'jogo_id': jogo_id,\n",
    "                  'numero': int(n),\n",
    "                }\n",
    "\n",
    "                cursor.execute(add_numero_jogo, data_numero_jogo)\n",
    "        \n",
    "    except Exception as ex:\n",
    "        print(ex)\n",
    "        \n",
    "    finally:\n",
    "        cnx.commit()\n",
    "        cursor.close()\n",
    "        cnx.close()"
   ]
  },
  {
   "cell_type": "code",
   "execution_count": null,
   "metadata": {
    "scrolled": false
   },
   "outputs": [],
   "source": [
    "jogos_t1 = get_all_jogo()\n",
    "# imprimir_jogo(jogos_t1[10])"
   ]
  },
  {
   "cell_type": "code",
   "execution_count": null,
   "metadata": {
    "collapsed": true
   },
   "outputs": [],
   "source": [
    "len(jogos_t1)"
   ]
  },
  {
   "cell_type": "code",
   "execution_count": 167,
   "metadata": {},
   "outputs": [
    {
     "name": "stdout",
     "output_type": "stream",
     "text": [
      "[1, 2, 5, 6, 7, 9, 11, 12, 15, 17, 20, 21, 22, 24, 25]\n"
     ]
    }
   ],
   "source": [
    "# num_t1 = get_numeros_jogo(100)\n",
    "# print(num_t1)"
   ]
  },
  {
   "cell_type": "code",
   "execution_count": 52,
   "metadata": {},
   "outputs": [
    {
     "name": "stdout",
     "output_type": "stream",
     "text": [
      "apostas geradas: 1 - tentativas: 0\n",
      "Total apostas: 1 \n",
      "\n",
      "Impares: 8 - Pares: 7\n",
      "[1, 2, 3, 8, 10, 11, 12, 14, 15, 17, 18, 19, 20, 21, 23]\n",
      "\n",
      "\n"
     ]
    }
   ],
   "source": [
    "jogo_v1 = gerar_jogo(1)\n",
    "imprimir_aposta(jogo_v1)"
   ]
  },
  {
   "cell_type": "code",
   "execution_count": 157,
   "metadata": {
    "collapsed": true
   },
   "outputs": [],
   "source": [
    "gravar_jogo(apostas)"
   ]
  },
  {
   "cell_type": "code",
   "execution_count": null,
   "metadata": {
    "collapsed": true
   },
   "outputs": [],
   "source": [
    "# from __future__ import print_function\n",
    " \n",
    "# import MySQLdb as my\n",
    " \n",
    "# try:\n",
    " \n",
    "#     db = my.connect(host=\"127.0.0.1\",\n",
    "#                     user=\"root\",\n",
    "#                     passwd=\"\",\n",
    "#                     db=\"world\"\n",
    "#                     )\n",
    " \n",
    "#     cursor = db.cursor()\n",
    " \n",
    "#     sql = \"select * from city where id < 10\"\n",
    "#     number_of_rows = cursor.execute(sql)\n",
    " \n",
    "#     print(cursor.fetchone())  # fetch the first row only\n",
    " \n",
    "#     db.close()\n",
    " \n",
    "# except my.DataError as e:\n",
    "#     print(\"DataError\")\n",
    "#     print(e)\n",
    " \n",
    "# except my.InternalError as e:\n",
    "#     print(\"InternalError\")\n",
    "#     print(e)\n",
    " \n",
    "# except my.IntegrityError as e:\n",
    "#     print(\"IntegrityError\")\n",
    "#     print(e)\n",
    " \n",
    "# except my.OperationalError as e:\n",
    "#     print(\"OperationalError\")\n",
    "#     print(e)\n",
    " \n",
    "# except my.NotSupportedError as e:\n",
    "#     print(\"NotSupportedError\")\n",
    "#     print(e)\n",
    " \n",
    "# except my.ProgrammingError as e:\n",
    "#     print(\"ProgrammingError\")\n",
    "#     print(e)\n",
    " \n",
    "# except :\n",
    "#     print(\"Unknown error occurred\")"
   ]
  }
 ],
 "metadata": {
  "kernelspec": {
   "display_name": "Python 3",
   "language": "python",
   "name": "python3"
  },
  "language_info": {
   "codemirror_mode": {
    "name": "ipython",
    "version": 3
   },
   "file_extension": ".py",
   "mimetype": "text/x-python",
   "name": "python",
   "nbconvert_exporter": "python",
   "pygments_lexer": "ipython3",
   "version": "3.6.3"
  }
 },
 "nbformat": 4,
 "nbformat_minor": 2
}
