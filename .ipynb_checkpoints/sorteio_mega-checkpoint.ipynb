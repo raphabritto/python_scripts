{
 "cells": [
  {
   "cell_type": "code",
   "execution_count": 1,
   "metadata": {
    "collapsed": true
   },
   "outputs": [],
   "source": [
    "import numpy as np"
   ]
  },
  {
   "cell_type": "code",
   "execution_count": 2,
   "metadata": {
    "collapsed": false
   },
   "outputs": [],
   "source": [
    "apostas = []\n",
    "min_numeros_aposta = 6\n",
    "max_numeros_aposta = 15"
   ]
  },
  {
   "cell_type": "code",
   "execution_count": 3,
   "metadata": {
    "collapsed": false
   },
   "outputs": [
    {
     "name": "stdout",
     "output_type": "stream",
     "text": [
      "Quantidade de números por aposta: 5\n",
      "Erro desconhecido!\n",
      "Quantidade de números por aposta: 6\n"
     ]
    }
   ],
   "source": [
    "while True:\n",
    "    try:\n",
    "        numerosAposta = int(input('Quantidade de números por aposta: '))\n",
    "        if numerosAposta < min_numeros_aposta or numerosAposta > max_numeros_aposta:\n",
    "            raise ValueError('Digite um valor entre ' + min_numeros_aposta + ' e ' + max_numeros_aposta + '!')\n",
    "    except ValueError as e:\n",
    "        print(e)\n",
    "        continue\n",
    "    except:\n",
    "        print('Erro desconhecido!')\n",
    "        continue\n",
    "    else:\n",
    "        break"
   ]
  },
  {
   "cell_type": "code",
   "execution_count": 4,
   "metadata": {
    "collapsed": false
   },
   "outputs": [],
   "source": [
    "class Megasena:\n",
    "    numeros = []\n",
    "    quantidade = 0\n",
    "    \n",
    "    def __init__(self):\n",
    "        self.quantidade = 0\n",
    "        \n",
    "    def sorteio(self, qtdNumeros):\n",
    "        self.numeros = sorted(list(np.random.choice(np.arange(1, 61), qtdNumeros, replace= False)))\n",
    "        self.quantidadeNum = len(self.numeros)\n",
    "        "
   ]
  },
  {
   "cell_type": "code",
   "execution_count": 6,
   "metadata": {
    "collapsed": false
   },
   "outputs": [],
   "source": [
    "for i in range(1,100):\n",
    "    aposta = Megasena()\n",
    "# aposta.numeros = sorted(list(np.random.choice(np.arange(1, 26), numerosAposta, replace= False)))\n",
    "    aposta.sorteio(numerosAposta)\n",
    "    apostas.append(aposta)"
   ]
  },
  {
   "cell_type": "code",
   "execution_count": 7,
   "metadata": {
    "collapsed": false
   },
   "outputs": [
    {
     "data": {
      "text/plain": [
       "99"
      ]
     },
     "execution_count": 7,
     "metadata": {},
     "output_type": "execute_result"
    }
   ],
   "source": [
    "len(apostas)"
   ]
  },
  {
   "cell_type": "code",
   "execution_count": 12,
   "metadata": {
    "collapsed": false
   },
   "outputs": [
    {
     "name": "stdout",
     "output_type": "stream",
     "text": [
      "[7, 10, 23, 26, 37, 49]\n",
      "[17, 30, 50, 53, 57, 59]\n",
      "[28, 29, 30, 31, 41, 48]\n",
      "[11, 13, 28, 30, 33, 41]\n",
      "[19, 30, 31, 56, 58, 59]\n",
      "[1, 25, 29, 34, 44, 55]\n",
      "[1, 18, 34, 44, 53, 59]\n",
      "[5, 9, 18, 22, 45, 55]\n",
      "[3, 20, 30, 38, 43, 46]\n",
      "[4, 8, 10, 22, 40, 47]\n",
      "[8, 33, 43, 48, 57, 59]\n",
      "[2, 3, 22, 25, 35, 53]\n",
      "[3, 16, 18, 21, 33, 52]\n",
      "[15, 31, 34, 36, 47, 48]\n",
      "[6, 7, 16, 36, 41, 45]\n",
      "[19, 20, 33, 37, 42, 53]\n",
      "[3, 17, 21, 37, 40, 58]\n",
      "[6, 7, 12, 13, 41, 56]\n",
      "[3, 18, 27, 33, 34, 44]\n",
      "[7, 12, 15, 19, 26, 56]\n",
      "[3, 16, 18, 29, 35, 48]\n",
      "[2, 8, 15, 19, 36, 45]\n",
      "[5, 23, 24, 34, 44, 56]\n",
      "[3, 20, 26, 32, 44, 57]\n",
      "[10, 12, 26, 33, 52, 58]\n",
      "[7, 24, 37, 47, 52, 54]\n",
      "[2, 7, 15, 28, 37, 57]\n",
      "[6, 8, 20, 23, 32, 40]\n",
      "[9, 10, 14, 27, 42, 59]\n",
      "[3, 4, 23, 29, 38, 52]\n",
      "[8, 10, 25, 34, 54, 57]\n",
      "[10, 20, 45, 46, 47, 57]\n",
      "[7, 9, 18, 30, 35, 51]\n",
      "[23, 25, 39, 45, 49, 56]\n",
      "[28, 32, 36, 39, 41, 55]\n",
      "[16, 23, 29, 30, 39, 50]\n",
      "[4, 9, 12, 17, 41, 52]\n",
      "[10, 30, 34, 40, 49, 50]\n",
      "[14, 16, 18, 21, 46, 59]\n",
      "[25, 30, 35, 49, 50, 57]\n",
      "[6, 8, 33, 42, 51, 54]\n",
      "[6, 8, 11, 14, 36, 50]\n",
      "[8, 20, 33, 36, 53, 57]\n",
      "[7, 23, 39, 49, 50, 53]\n",
      "[5, 10, 16, 26, 50, 56]\n",
      "[12, 29, 43, 44, 49, 54]\n",
      "[1, 5, 7, 37, 44, 57]\n",
      "[12, 13, 14, 20, 39, 48]\n",
      "[5, 6, 12, 35, 50, 55]\n",
      "[9, 22, 23, 47, 48, 57]\n",
      "[15, 16, 18, 19, 39, 48]\n",
      "[2, 8, 10, 13, 27, 57]\n",
      "[15, 24, 40, 46, 56, 58]\n",
      "[3, 5, 21, 28, 29, 57]\n",
      "[8, 10, 20, 49, 52, 60]\n",
      "[10, 27, 45, 46, 49, 56]\n",
      "[18, 22, 38, 46, 54, 57]\n",
      "[16, 28, 29, 34, 54, 55]\n",
      "[1, 5, 13, 26, 31, 39]\n",
      "[7, 10, 35, 41, 48, 52]\n",
      "[15, 21, 24, 25, 28, 37]\n",
      "[1, 2, 22, 39, 48, 57]\n",
      "[6, 45, 49, 50, 56, 57]\n",
      "[12, 16, 28, 32, 39, 53]\n",
      "[15, 24, 33, 37, 38, 60]\n",
      "[11, 14, 15, 26, 33, 35]\n",
      "[3, 18, 25, 27, 37, 55]\n",
      "[9, 12, 23, 33, 45, 56]\n",
      "[9, 23, 28, 43, 46, 52]\n",
      "[16, 18, 31, 33, 47, 50]\n",
      "[2, 18, 29, 36, 49, 58]\n",
      "[3, 11, 15, 27, 33, 35]\n",
      "[13, 15, 18, 33, 43, 53]\n",
      "[21, 35, 40, 48, 51, 59]\n",
      "[20, 27, 37, 40, 44, 53]\n",
      "[1, 2, 6, 27, 34, 48]\n",
      "[11, 13, 33, 36, 49, 55]\n",
      "[4, 11, 34, 47, 52, 53]\n",
      "[5, 6, 33, 48, 52, 57]\n",
      "[3, 14, 17, 19, 44, 58]\n",
      "[7, 17, 24, 36, 45, 57]\n",
      "[8, 20, 21, 27, 41, 43]\n",
      "[6, 33, 37, 42, 51, 58]\n",
      "[8, 16, 18, 30, 55, 59]\n",
      "[11, 47, 48, 53, 58, 60]\n",
      "[5, 7, 10, 29, 49, 52]\n",
      "[3, 19, 20, 25, 38, 51]\n",
      "[4, 7, 8, 19, 56, 59]\n",
      "[1, 10, 11, 19, 33, 37]\n",
      "[2, 10, 25, 35, 46, 58]\n",
      "[8, 12, 18, 38, 44, 60]\n",
      "[4, 25, 28, 33, 52, 58]\n",
      "[2, 5, 25, 34, 35, 46]\n",
      "[2, 14, 20, 25, 42, 44]\n",
      "[1, 12, 14, 16, 22, 32]\n",
      "[6, 22, 24, 54, 56, 57]\n",
      "[3, 4, 7, 24, 47, 53]\n"
     ]
    }
   ],
   "source": [
    "for i in apostas:\n",
    "    print(i.numeros)"
   ]
  },
  {
   "cell_type": "code",
   "execution_count": 10,
   "metadata": {
    "collapsed": false
   },
   "outputs": [],
   "source": [
    "i = 0\n",
    "ultimoSorteio = [4,6,39,44,52,60]\n",
    "while i < len(apostas):\n",
    "    if len(set(apostas[i].numeros).intersection(ultimoSorteio)) > 2:\n",
    "        del apostas[i]\n",
    "    i += 1"
   ]
  },
  {
   "cell_type": "code",
   "execution_count": 11,
   "metadata": {
    "collapsed": false
   },
   "outputs": [
    {
     "data": {
      "text/plain": [
       "97"
      ]
     },
     "execution_count": 11,
     "metadata": {},
     "output_type": "execute_result"
    }
   ],
   "source": [
    "len(apostas)"
   ]
  },
  {
   "cell_type": "code",
   "execution_count": null,
   "metadata": {
    "collapsed": true
   },
   "outputs": [],
   "source": []
  }
 ],
 "metadata": {
  "kernelspec": {
   "display_name": "Python 3",
   "language": "python",
   "name": "python3"
  },
  "language_info": {
   "codemirror_mode": {
    "name": "ipython",
    "version": 3
   },
   "file_extension": ".py",
   "mimetype": "text/x-python",
   "name": "python",
   "nbconvert_exporter": "python",
   "pygments_lexer": "ipython3",
   "version": "3.6.0"
  }
 },
 "nbformat": 4,
 "nbformat_minor": 2
}
