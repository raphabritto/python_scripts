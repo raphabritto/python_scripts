{
 "cells": [
  {
   "cell_type": "code",
   "execution_count": 1,
   "metadata": {
    "collapsed": true
   },
   "outputs": [],
   "source": [
    "import numpy as np"
   ]
  },
  {
   "cell_type": "code",
   "execution_count": 2,
   "metadata": {
    "collapsed": true
   },
   "outputs": [],
   "source": [
    "apostas = []\n",
    "min_numeros_aposta = 15\n",
    "max_numeros_aposta = 18"
   ]
  },
  {
   "cell_type": "code",
   "execution_count": 3,
   "metadata": {
    "collapsed": false
   },
   "outputs": [
    {
     "name": "stdout",
     "output_type": "stream",
     "text": [
      "Quantidade de números por aposta: 15\n"
     ]
    }
   ],
   "source": [
    "while True:\n",
    "    try:\n",
    "        numerosAposta = int(input('Quantidade de números por aposta: '))\n",
    "        if numerosAposta < 15 or numerosAposta > 18:\n",
    "            raise ValueError('Digite um valor entre 15 e 18!')\n",
    "    except ValueError as e:\n",
    "        print(e)\n",
    "        continue\n",
    "    except:\n",
    "        print('Erro desconhecido!')\n",
    "        continue\n",
    "    else:\n",
    "        break"
   ]
  },
  {
   "cell_type": "code",
   "execution_count": 4,
   "metadata": {
    "collapsed": false
   },
   "outputs": [],
   "source": [
    "class Aposta():\n",
    "    numeros = []\n",
    "    \n",
    "    def __init__(self):\n",
    "        self.numeros.append(10)"
   ]
  },
  {
   "cell_type": "code",
   "execution_count": 14,
   "metadata": {
    "collapsed": false
   },
   "outputs": [],
   "source": [
    "aposta = Aposta\n",
    "aposta.numeros = list(np.random.choice(np.arange(1, 26), numerosAposta, replace= False))"
   ]
  },
  {
   "cell_type": "code",
   "execution_count": 15,
   "metadata": {
    "collapsed": false
   },
   "outputs": [],
   "source": [
    "aposta.numeros"
   ]
  },
  {
   "cell_type": "code",
   "execution_count": null,
   "metadata": {
    "collapsed": false
   },
   "outputs": [],
   "source": [
    "for i in np.arange(1, 100):\n",
    "    aposta = list(np.random.choice(np.arange(1, 26), numerosAposta, replace= False))\n",
    "    aposta.sort()\n",
    "    apostas.append(aposta)"
   ]
  },
  {
   "cell_type": "code",
   "execution_count": null,
   "metadata": {
    "collapsed": false
   },
   "outputs": [],
   "source": [
    "# for i in range(0, len(apostas)):\n",
    "i = 0\n",
    "while i < len(apostas):\n",
    "#     print(apostas[i][0])\n",
    "    if min(apostas[i]) > 3:\n",
    "#         print(apostas[i][0])\n",
    "        del apostas[i]\n",
    "    i += 1"
   ]
  },
  {
   "cell_type": "code",
   "execution_count": null,
   "metadata": {
    "collapsed": false
   },
   "outputs": [],
   "source": [
    "len(apostas)"
   ]
  },
  {
   "cell_type": "code",
   "execution_count": null,
   "metadata": {
    "collapsed": false
   },
   "outputs": [],
   "source": [
    "i = 0\n",
    "while i < len(apostas):\n",
    "    j = 0\n",
    "    while j < len(apostas):\n",
    "        if i != j:\n",
    "            if len(set(a).intersection(apostas[i])) == 15:\n",
    "                del apostas[j]\n",
    "        j += 1\n",
    "#     print(len(set(a).intersection(apostas[i])))\n",
    "    i += 1"
   ]
  },
  {
   "cell_type": "code",
   "execution_count": null,
   "metadata": {
    "collapsed": false
   },
   "outputs": [],
   "source": [
    "apostas"
   ]
  },
  {
   "cell_type": "code",
   "execution_count": null,
   "metadata": {
    "collapsed": true
   },
   "outputs": [],
   "source": []
  }
 ],
 "metadata": {
  "kernelspec": {
   "display_name": "Python 3",
   "language": "python",
   "name": "python3"
  },
  "language_info": {
   "codemirror_mode": {
    "name": "ipython",
    "version": 3
   },
   "file_extension": ".py",
   "mimetype": "text/x-python",
   "name": "python",
   "nbconvert_exporter": "python",
   "pygments_lexer": "ipython3",
   "version": "3.6.0"
  }
 },
 "nbformat": 4,
 "nbformat_minor": 2
}
