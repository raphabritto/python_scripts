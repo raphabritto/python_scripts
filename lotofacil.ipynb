{
 "cells": [
  {
   "cell_type": "code",
   "execution_count": 1,
   "metadata": {},
   "outputs": [],
   "source": [
    "import numpy as np\n",
    "import pandas as pd\n",
    "import csv\n",
    "import random\n",
    "import time\n",
    "import matplotlib.pyplot as plt\n",
    "import requests, zipfile\n",
    "import codecs\n",
    "from datetime import date, datetime\n",
    "from io import BytesIO\n",
    "from bs4 import BeautifulSoup\n",
    "from unidecode import unidecode\n",
    "\n",
    "%matplotlib inline"
   ]
  },
  {
   "cell_type": "code",
   "execution_count": 2,
   "metadata": {},
   "outputs": [],
   "source": [
    "pd.set_option('display.max_columns', None)\n",
    "# pd.set_option('display.max_rows', None)"
   ]
  },
  {
   "cell_type": "code",
   "execution_count": 3,
   "metadata": {},
   "outputs": [],
   "source": [
    "url_file = \"http://www1.caixa.gov.br/loterias/_arquivos/loterias/D_lotfac.zip\"\n",
    "req = requests.get(url_file, stream=True)\n",
    "\n",
    "with zipfile.ZipFile(BytesIO(req.content), \"r\") as zip_file:\n",
    "    zip_file.extractall()"
   ]
  },
  {
   "cell_type": "code",
   "execution_count": 4,
   "metadata": {},
   "outputs": [],
   "source": [
    "with open(\"d_lotfac.htm\", \"r\", encoding = \"ISO-8859-1\") as html_file:\n",
    "    soup = BeautifulSoup(html_file, \"lxml\", from_encoding=\"utf-8\")"
   ]
  },
  {
   "cell_type": "code",
   "execution_count": 5,
   "metadata": {},
   "outputs": [],
   "source": [
    "# page = codecs.open(\"d_lotfac.htm\", \"r\", encoding = \"ISO-8859-1\")\n",
    "# soup = BeautifulSoup(page.read(), \"lxml\")\n",
    "table = soup.find_all(\"table\")[0]\n",
    "# table\n",
    "rows = table.find_all('tr')"
   ]
  },
  {
   "cell_type": "code",
   "execution_count": 6,
   "metadata": {},
   "outputs": [],
   "source": [
    "data = []\n",
    "\n",
    "for row in rows[1:]:\n",
    "    cols = row.find_all('td')\n",
    "    cols = [x.text.strip() for x in cols]\n",
    "    data.append([x for x in cols if x])\n",
    "    \n",
    "# data\n",
    "\n",
    "# for row in rows[:1]:\n",
    "#     col_names = row.find_all('th')\n",
    "#     col_names = [unidecode(name.text.strip().lower()) for name in col_names]\n",
    "\n",
    "# col_names.remove('cidade')\n",
    "# col_names"
   ]
  },
  {
   "cell_type": "code",
   "execution_count": 7,
   "metadata": {},
   "outputs": [],
   "source": [
    "data_clean = []\n",
    "\n",
    "for d in data:\n",
    "    if len(d) == 32:\n",
    "        data_clean.append(d)\n",
    "    elif len(d) == 33:\n",
    "        del d[19]\n",
    "        data_clean.append(d)\n",
    "\n",
    "# data_clean"
   ]
  },
  {
   "cell_type": "code",
   "execution_count": 8,
   "metadata": {
    "scrolled": false
   },
   "outputs": [],
   "source": [
    "lotofacil_df = pd.DataFrame(data_clean)\n",
    "lotofacil_df = lotofacil_df.drop([17, 19, 29, 30, 31], axis=1)"
   ]
  },
  {
   "cell_type": "code",
   "execution_count": 9,
   "metadata": {},
   "outputs": [],
   "source": [
    "col_names = ['concurso', 'data_sorteio', 'bola_1', 'bola_2', 'bola_3', 'bola_4', 'bola_5', 'bola_6', 'bola_7', 'bola_8', 'bola_9', 'bola_10', 'bola_11', 'bola_12', 'bola_13', 'bola_14', 'bola_15', 'ganhadores_15', 'ganhadores_14', 'ganhadores_13', 'ganhadores_12', 'ganhadores_11', 'valor_15', 'valor_14', 'valor_13', 'valor_12', 'valor_11']\n",
    "lotofacil_df.columns = col_names\n",
    "# df"
   ]
  },
  {
   "cell_type": "code",
   "execution_count": 10,
   "metadata": {},
   "outputs": [],
   "source": [
    "lotofacil_df['data_sorteio'] = pd.to_datetime(lotofacil_df['data_sorteio'], format=\"%d/%m/%Y\")\n",
    "# df.head()"
   ]
  },
  {
   "cell_type": "code",
   "execution_count": 11,
   "metadata": {},
   "outputs": [],
   "source": [
    "lotofacil_df[['valor_15', 'valor_14', 'valor_13', 'valor_12', 'valor_11']] = lotofacil_df[['valor_15', 'valor_14', 'valor_13', 'valor_12', 'valor_11']].apply(lambda x: x.str.replace('.','').str.replace(',', '.'))\n",
    "# df.head()"
   ]
  },
  {
   "cell_type": "code",
   "execution_count": 12,
   "metadata": {},
   "outputs": [],
   "source": [
    "lotofacil_df[['bola_1', 'bola_2', 'bola_3', 'bola_4', 'bola_5', 'bola_6', 'bola_7', 'bola_8', 'bola_9', 'bola_10', 'bola_11', 'bola_12', 'bola_13', 'bola_14', 'bola_15', 'ganhadores_15', 'ganhadores_14', 'ganhadores_13', 'ganhadores_12', 'ganhadores_11']] = lotofacil_df[['bola_1', 'bola_2', 'bola_3', 'bola_4', 'bola_5', 'bola_6', 'bola_7', 'bola_8', 'bola_9', 'bola_10', 'bola_11', 'bola_12', 'bola_13', 'bola_14', 'bola_15', 'ganhadores_15', 'ganhadores_14', 'ganhadores_13', 'ganhadores_12', 'ganhadores_11']].astype(int)\n",
    "\n",
    "lotofacil_df[['valor_15', 'valor_14', 'valor_13', 'valor_12', 'valor_11']] = lotofacil_df[['valor_15', 'valor_14', 'valor_13', 'valor_12', 'valor_11']].astype(float)"
   ]
  },
  {
   "cell_type": "code",
   "execution_count": 13,
   "metadata": {},
   "outputs": [
    {
     "data": {
      "text/html": [
       "<div>\n",
       "<style scoped>\n",
       "    .dataframe tbody tr th:only-of-type {\n",
       "        vertical-align: middle;\n",
       "    }\n",
       "\n",
       "    .dataframe tbody tr th {\n",
       "        vertical-align: top;\n",
       "    }\n",
       "\n",
       "    .dataframe thead th {\n",
       "        text-align: right;\n",
       "    }\n",
       "</style>\n",
       "<table border=\"1\" class=\"dataframe\">\n",
       "  <thead>\n",
       "    <tr style=\"text-align: right;\">\n",
       "      <th></th>\n",
       "      <th>concurso</th>\n",
       "      <th>data_sorteio</th>\n",
       "      <th>bola_1</th>\n",
       "      <th>bola_2</th>\n",
       "      <th>bola_3</th>\n",
       "      <th>bola_4</th>\n",
       "      <th>bola_5</th>\n",
       "      <th>bola_6</th>\n",
       "      <th>bola_7</th>\n",
       "      <th>bola_8</th>\n",
       "      <th>bola_9</th>\n",
       "      <th>bola_10</th>\n",
       "      <th>bola_11</th>\n",
       "      <th>bola_12</th>\n",
       "      <th>bola_13</th>\n",
       "      <th>bola_14</th>\n",
       "      <th>bola_15</th>\n",
       "      <th>ganhadores_15</th>\n",
       "      <th>ganhadores_14</th>\n",
       "      <th>ganhadores_13</th>\n",
       "      <th>ganhadores_12</th>\n",
       "      <th>ganhadores_11</th>\n",
       "      <th>valor_15</th>\n",
       "      <th>valor_14</th>\n",
       "      <th>valor_13</th>\n",
       "      <th>valor_12</th>\n",
       "      <th>valor_11</th>\n",
       "    </tr>\n",
       "  </thead>\n",
       "  <tbody>\n",
       "    <tr>\n",
       "      <th>0</th>\n",
       "      <td>1</td>\n",
       "      <td>2003-09-29</td>\n",
       "      <td>18</td>\n",
       "      <td>20</td>\n",
       "      <td>25</td>\n",
       "      <td>23</td>\n",
       "      <td>10</td>\n",
       "      <td>11</td>\n",
       "      <td>24</td>\n",
       "      <td>14</td>\n",
       "      <td>6</td>\n",
       "      <td>2</td>\n",
       "      <td>13</td>\n",
       "      <td>9</td>\n",
       "      <td>5</td>\n",
       "      <td>16</td>\n",
       "      <td>3</td>\n",
       "      <td>5</td>\n",
       "      <td>154</td>\n",
       "      <td>4645</td>\n",
       "      <td>48807</td>\n",
       "      <td>257593</td>\n",
       "      <td>49765.82</td>\n",
       "      <td>689.84</td>\n",
       "      <td>10.0</td>\n",
       "      <td>4.0</td>\n",
       "      <td>2.0</td>\n",
       "    </tr>\n",
       "    <tr>\n",
       "      <th>1</th>\n",
       "      <td>2</td>\n",
       "      <td>2003-10-06</td>\n",
       "      <td>23</td>\n",
       "      <td>15</td>\n",
       "      <td>5</td>\n",
       "      <td>4</td>\n",
       "      <td>12</td>\n",
       "      <td>16</td>\n",
       "      <td>20</td>\n",
       "      <td>6</td>\n",
       "      <td>11</td>\n",
       "      <td>19</td>\n",
       "      <td>24</td>\n",
       "      <td>1</td>\n",
       "      <td>9</td>\n",
       "      <td>13</td>\n",
       "      <td>7</td>\n",
       "      <td>1</td>\n",
       "      <td>184</td>\n",
       "      <td>6232</td>\n",
       "      <td>81252</td>\n",
       "      <td>478188</td>\n",
       "      <td>596323.70</td>\n",
       "      <td>1388.95</td>\n",
       "      <td>10.0</td>\n",
       "      <td>4.0</td>\n",
       "      <td>2.0</td>\n",
       "    </tr>\n",
       "    <tr>\n",
       "      <th>2</th>\n",
       "      <td>3</td>\n",
       "      <td>2003-10-13</td>\n",
       "      <td>20</td>\n",
       "      <td>23</td>\n",
       "      <td>12</td>\n",
       "      <td>8</td>\n",
       "      <td>6</td>\n",
       "      <td>1</td>\n",
       "      <td>7</td>\n",
       "      <td>11</td>\n",
       "      <td>14</td>\n",
       "      <td>4</td>\n",
       "      <td>16</td>\n",
       "      <td>10</td>\n",
       "      <td>9</td>\n",
       "      <td>17</td>\n",
       "      <td>24</td>\n",
       "      <td>2</td>\n",
       "      <td>158</td>\n",
       "      <td>6897</td>\n",
       "      <td>96244</td>\n",
       "      <td>608211</td>\n",
       "      <td>400623.70</td>\n",
       "      <td>2173.36</td>\n",
       "      <td>10.0</td>\n",
       "      <td>4.0</td>\n",
       "      <td>2.0</td>\n",
       "    </tr>\n",
       "    <tr>\n",
       "      <th>3</th>\n",
       "      <td>4</td>\n",
       "      <td>2003-10-20</td>\n",
       "      <td>16</td>\n",
       "      <td>5</td>\n",
       "      <td>25</td>\n",
       "      <td>24</td>\n",
       "      <td>23</td>\n",
       "      <td>8</td>\n",
       "      <td>12</td>\n",
       "      <td>2</td>\n",
       "      <td>17</td>\n",
       "      <td>18</td>\n",
       "      <td>1</td>\n",
       "      <td>10</td>\n",
       "      <td>4</td>\n",
       "      <td>19</td>\n",
       "      <td>13</td>\n",
       "      <td>1</td>\n",
       "      <td>258</td>\n",
       "      <td>9569</td>\n",
       "      <td>123912</td>\n",
       "      <td>706657</td>\n",
       "      <td>902226.02</td>\n",
       "      <td>1498.72</td>\n",
       "      <td>10.0</td>\n",
       "      <td>4.0</td>\n",
       "      <td>2.0</td>\n",
       "    </tr>\n",
       "    <tr>\n",
       "      <th>4</th>\n",
       "      <td>5</td>\n",
       "      <td>2003-10-27</td>\n",
       "      <td>15</td>\n",
       "      <td>13</td>\n",
       "      <td>20</td>\n",
       "      <td>2</td>\n",
       "      <td>11</td>\n",
       "      <td>24</td>\n",
       "      <td>9</td>\n",
       "      <td>16</td>\n",
       "      <td>4</td>\n",
       "      <td>23</td>\n",
       "      <td>25</td>\n",
       "      <td>12</td>\n",
       "      <td>8</td>\n",
       "      <td>19</td>\n",
       "      <td>1</td>\n",
       "      <td>2</td>\n",
       "      <td>472</td>\n",
       "      <td>14736</td>\n",
       "      <td>195636</td>\n",
       "      <td>860992</td>\n",
       "      <td>380017.55</td>\n",
       "      <td>687.49</td>\n",
       "      <td>10.0</td>\n",
       "      <td>4.0</td>\n",
       "      <td>2.0</td>\n",
       "    </tr>\n",
       "  </tbody>\n",
       "</table>\n",
       "</div>"
      ],
      "text/plain": [
       "  concurso data_sorteio  bola_1  bola_2  bola_3  bola_4  bola_5  bola_6  \\\n",
       "0        1   2003-09-29      18      20      25      23      10      11   \n",
       "1        2   2003-10-06      23      15       5       4      12      16   \n",
       "2        3   2003-10-13      20      23      12       8       6       1   \n",
       "3        4   2003-10-20      16       5      25      24      23       8   \n",
       "4        5   2003-10-27      15      13      20       2      11      24   \n",
       "\n",
       "   bola_7  bola_8  bola_9  bola_10  bola_11  bola_12  bola_13  bola_14  \\\n",
       "0      24      14       6        2       13        9        5       16   \n",
       "1      20       6      11       19       24        1        9       13   \n",
       "2       7      11      14        4       16       10        9       17   \n",
       "3      12       2      17       18        1       10        4       19   \n",
       "4       9      16       4       23       25       12        8       19   \n",
       "\n",
       "   bola_15  ganhadores_15  ganhadores_14  ganhadores_13  ganhadores_12  \\\n",
       "0        3              5            154           4645          48807   \n",
       "1        7              1            184           6232          81252   \n",
       "2       24              2            158           6897          96244   \n",
       "3       13              1            258           9569         123912   \n",
       "4        1              2            472          14736         195636   \n",
       "\n",
       "   ganhadores_11   valor_15  valor_14  valor_13  valor_12  valor_11  \n",
       "0         257593   49765.82    689.84      10.0       4.0       2.0  \n",
       "1         478188  596323.70   1388.95      10.0       4.0       2.0  \n",
       "2         608211  400623.70   2173.36      10.0       4.0       2.0  \n",
       "3         706657  902226.02   1498.72      10.0       4.0       2.0  \n",
       "4         860992  380017.55    687.49      10.0       4.0       2.0  "
      ]
     },
     "execution_count": 13,
     "metadata": {},
     "output_type": "execute_result"
    }
   ],
   "source": [
    "lotofacil_df.head()"
   ]
  },
  {
   "cell_type": "markdown",
   "metadata": {},
   "source": [
    "# K-Means"
   ]
  },
  {
   "cell_type": "code",
   "execution_count": 14,
   "metadata": {},
   "outputs": [],
   "source": [
    "from matplotlib import pylab\n",
    "from sklearn.cluster import KMeans\n",
    "from sklearn.decomposition import PCA\n",
    "from sklearn.model_selection import train_test_split\n",
    "from scipy.spatial.distance import cdist, pdist\n",
    "from sklearn.metrics import silhouette_score\n",
    "from sklearn.metrics import homogeneity_completeness_v_measure"
   ]
  },
  {
   "cell_type": "code",
   "execution_count": 15,
   "metadata": {},
   "outputs": [],
   "source": [
    "numeros = [sorted(x) for x in lotofacil_df.iloc[:, 2:17].values]\n",
    "num_array = np.asarray(numeros)\n",
    "# numeros_df = pd.DataFrame(numeros)"
   ]
  },
  {
   "cell_type": "code",
   "execution_count": 16,
   "metadata": {},
   "outputs": [],
   "source": [
    "hpc = PCA(n_components = 2).fit_transform(num_array)"
   ]
  },
  {
   "cell_type": "code",
   "execution_count": 36,
   "metadata": {},
   "outputs": [],
   "source": [
    "# Determinando um range de K\n",
    "k_range = range(1,15)"
   ]
  },
  {
   "cell_type": "code",
   "execution_count": 37,
   "metadata": {},
   "outputs": [],
   "source": [
    "# Aplicando o modelo K-Means a cada valor de K\n",
    "k_means_var = [KMeans(n_clusters = k).fit(hpc) for k in k_range]"
   ]
  },
  {
   "cell_type": "code",
   "execution_count": 28,
   "metadata": {},
   "outputs": [],
   "source": [
    "# Ajustando o centróide do cluster para cada modelo\n",
    "centroids = [X.cluster_centers_ for X in k_means_var]"
   ]
  },
  {
   "cell_type": "code",
   "execution_count": 29,
   "metadata": {},
   "outputs": [],
   "source": [
    "# Calculando a distância euclidiana de cada ponto de dado para o centróide\n",
    "k_euclid = [cdist(hpc, cent, 'euclidean') for cent in centroids]\n",
    "dist = [np.min(ke,axis=1) for ke in k_euclid]"
   ]
  },
  {
   "cell_type": "code",
   "execution_count": 71,
   "metadata": {},
   "outputs": [
    {
     "name": "stdout",
     "output_type": "stream",
     "text": [
      "[71464.51242407506, 43124.3178427599, 35260.81949702026, 31307.435607206087, 28266.109932365784, 26357.49717759485, 24766.483555460312, 23774.949383127485, 22819.036697213225, 22112.531058210814, 21431.61131735806, 20871.55917964248, 20375.309844589025, 19962.89193748911]\n"
     ]
    }
   ],
   "source": [
    "# Soma dos quadrados das distâncias dentro do cluster\n",
    "wcss = [sum(d**2) for d in dist]\n",
    "print(wcss)"
   ]
  },
  {
   "cell_type": "code",
   "execution_count": 72,
   "metadata": {},
   "outputs": [
    {
     "name": "stdout",
     "output_type": "stream",
     "text": [
      "54620.590168388684\n"
     ]
    }
   ],
   "source": [
    "# Soma total dos quadrados\n",
    "tss = sum(pdist(hpc)**2)/hpc.shape[0]\n",
    "print(tss)"
   ]
  },
  {
   "cell_type": "code",
   "execution_count": 73,
   "metadata": {},
   "outputs": [
    {
     "name": "stdout",
     "output_type": "stream",
     "text": [
      "[-16843.92225569  11496.27232563  19359.77067137  23313.15456118\n",
      "  26354.48023602  28263.09299079  29854.10661293  30845.64078526\n",
      "  31801.55347118  32508.05911018  33188.97885103  33749.03098875\n",
      "  34245.2803238   34657.6982309 ]\n"
     ]
    }
   ],
   "source": [
    "# Soma dos quadrados entre clusters\n",
    "bss = tss - wcss\n",
    "print(bss)"
   ]
  },
  {
   "cell_type": "code",
   "execution_count": 33,
   "metadata": {},
   "outputs": [
    {
     "data": {
      "text/plain": [
       "Text(0.5,1,'Variância Explicada x Valor de K')"
      ]
     },
     "execution_count": 33,
     "metadata": {},
     "output_type": "execute_result"
    },
    {
     "data": {
      "image/png": "[encoded data removed]",
      "text/plain": [
       "<Figure size 432x288 with 1 Axes>"
      ]
     },
     "metadata": {
      "needs_background": "light"
     },
     "output_type": "display_data"
    }
   ],
   "source": [
    "# Curva de Elbow\n",
    "fig = plt.figure()\n",
    "ax = fig.add_subplot(111)\n",
    "ax.plot(k_range, bss/tss*100, 'b*-')\n",
    "ax.set_ylim((0,100))\n",
    "plt.grid(True)\n",
    "plt.xlabel('Número de Clusters')\n",
    "plt.ylabel('Percentual de Variância Explicada')\n",
    "plt.title('Variância Explicada x Valor de K')"
   ]
  },
  {
   "cell_type": "code",
   "execution_count": 55,
   "metadata": {},
   "outputs": [
    {
     "data": {
      "text/plain": [
       "KMeans(algorithm='auto', copy_x=True, init='k-means++', max_iter=300,\n",
       "    n_clusters=4, n_init=10, n_jobs=1, precompute_distances='auto',\n",
       "    random_state=None, tol=0.0001, verbose=0)"
      ]
     },
     "execution_count": 55,
     "metadata": {},
     "output_type": "execute_result"
    }
   ],
   "source": [
    "km = KMeans(n_clusters = 4)\n",
    "km.fit(hpc)"
   ]
  },
  {
   "cell_type": "code",
   "execution_count": 56,
   "metadata": {},
   "outputs": [],
   "source": [
    "# Obtém os valores mínimos e máximos e organiza o shape\n",
    "x_min, x_max = hpc[:, 0].min(), hpc[:, 0].max()\n",
    "y_min, y_max = hpc[:, 1].min(), hpc[:, 1].max()\n",
    "xx, yy = np.meshgrid(np.arange(x_min, x_max, .02), np.arange(y_min, y_max, .02))\n",
    "Z = km.predict(np.c_[xx.ravel(), yy.ravel()])\n",
    "Z = Z.reshape(xx.shape)"
   ]
  },
  {
   "cell_type": "code",
   "execution_count": 57,
   "metadata": {},
   "outputs": [
    {
     "data": {
      "text/plain": [
       "<matplotlib.image.AxesImage at 0x1a2bc0b7f0>"
      ]
     },
     "execution_count": 57,
     "metadata": {},
     "output_type": "execute_result"
    },
    {
     "data": {
      "image/png": "[encoded data removed]",
      "text/plain": [
       "<Figure size 432x288 with 1 Axes>"
      ]
     },
     "metadata": {
      "needs_background": "light"
     },
     "output_type": "display_data"
    }
   ],
   "source": [
    "# Plot das áreas dos clusters\n",
    "plt.figure(1)\n",
    "plt.clf()\n",
    "plt.imshow(Z, \n",
    "           interpolation = 'nearest', \n",
    "           extent = (xx.min(), xx.max(), yy.min(), yy.max()), \n",
    "           cmap = plt.cm.Paired, \n",
    "           aspect = 'auto', \n",
    "           origin = 'lower')"
   ]
  },
  {
   "cell_type": "code",
   "execution_count": 58,
   "metadata": {},
   "outputs": [
    {
     "data": {
      "image/png": "[encoded data removed]",
      "text/plain": [
       "<Figure size 432x288 with 1 Axes>"
      ]
     },
     "metadata": {},
     "output_type": "display_data"
    }
   ],
   "source": [
    "# Plot dos centróides de cada cluster\n",
    "plt.plot(hpc[:, 0], hpc[:, 1], 'k.', markersize = 4)\n",
    "centroids = km.cluster_centers_\n",
    "inert = km.inertia_\n",
    "plt.scatter(centroids[:, 0], centroids[:, 1], marker = 'x', s = 169, linewidths = 3, color = 'r', zorder = 8)\n",
    "plt.xlim(x_min, x_max)\n",
    "plt.ylim(y_min, y_max)\n",
    "plt.xticks(())\n",
    "plt.yticks(())\n",
    "plt.show()"
   ]
  },
  {
   "cell_type": "code",
   "execution_count": null,
   "metadata": {},
   "outputs": [],
   "source": [
    "# Determinando um range de K\n",
    "k_range = range(1,15)"
   ]
  },
  {
   "cell_type": "code",
   "execution_count": 43,
   "metadata": {},
   "outputs": [],
   "source": [
    "# Aplicando o modelo K-Means a cada valor de K\n",
    "k_means_var = [KMeans(n_clusters = k).fit(num_array) for k in k_range]"
   ]
  },
  {
   "cell_type": "code",
   "execution_count": 44,
   "metadata": {},
   "outputs": [],
   "source": [
    "# Ajustando o centróide do cluster para cada modelo\n",
    "centroids = [X.cluster_centers_ for X in k_means_var]"
   ]
  },
  {
   "cell_type": "code",
   "execution_count": 46,
   "metadata": {},
   "outputs": [],
   "source": [
    "# Calculando a distância euclidiana de cada ponto de dado para o centróide\n",
    "k_euclid = [cdist(num_array, cent, 'euclidean') for cent in centroids]\n",
    "dist = [np.min(ke,axis=1) for ke in k_euclid]"
   ]
  },
  {
   "cell_type": "code",
   "execution_count": 47,
   "metadata": {},
   "outputs": [],
   "source": [
    "# Soma dos quadrados das distâncias dentro do cluster\n",
    "wcss = [sum(d**2) for d in dist]"
   ]
  },
  {
   "cell_type": "code",
   "execution_count": 49,
   "metadata": {},
   "outputs": [],
   "source": [
    "# Soma total dos quadrados\n",
    "tss = sum(pdist(num_array)**2)/num_array.shape[0]"
   ]
  },
  {
   "cell_type": "code",
   "execution_count": 50,
   "metadata": {},
   "outputs": [],
   "source": [
    "# Soma dos quadrados entre clusters\n",
    "bss = tss - wcss"
   ]
  },
  {
   "cell_type": "code",
   "execution_count": 51,
   "metadata": {},
   "outputs": [
    {
     "data": {
      "text/plain": [
       "Text(0.5,1,'Variância Explicada x Valor de K')"
      ]
     },
     "execution_count": 51,
     "metadata": {},
     "output_type": "execute_result"
    },
    {
     "data": {
      "image/png": "[encoded data removed]",
      "text/plain": [
       "<Figure size 432x288 with 1 Axes>"
      ]
     },
     "metadata": {
      "needs_background": "light"
     },
     "output_type": "display_data"
    }
   ],
   "source": [
    "# Curva de Elbow\n",
    "fig = plt.figure()\n",
    "ax = fig.add_subplot(111)\n",
    "ax.plot(k_range, bss/tss*100, 'b*-')\n",
    "ax.set_ylim((0,100))\n",
    "plt.grid(True)\n",
    "plt.xlabel('Número de Clusters')\n",
    "plt.ylabel('Percentual de Variância Explicada')\n",
    "plt.title('Variância Explicada x Valor de K')"
   ]
  },
  {
   "cell_type": "code",
   "execution_count": 59,
   "metadata": {},
   "outputs": [
    {
     "data": {
      "text/plain": [
       "KMeans(algorithm='auto', copy_x=True, init='k-means++', max_iter=300,\n",
       "    n_clusters=3, n_init=10, n_jobs=1, precompute_distances='auto',\n",
       "    random_state=None, tol=0.0001, verbose=0)"
      ]
     },
     "execution_count": 59,
     "metadata": {},
     "output_type": "execute_result"
    }
   ],
   "source": [
    "km = KMeans(n_clusters = 3)\n",
    "km.fit(num_array)"
   ]
  },
  {
   "cell_type": "code",
   "execution_count": 65,
   "metadata": {},
   "outputs": [
    {
     "ename": "ValueError",
     "evalue": "Incorrect number of features. Got 2 features, expected 15",
     "output_type": "error",
     "traceback": [
      "\u001b[0;31m---------------------------------------------------------------------------\u001b[0m",
      "\u001b[0;31mValueError\u001b[0m                                Traceback (most recent call last)",
      "\u001b[0;32m<ipython-input-65-4538b5a8be0e>\u001b[0m in \u001b[0;36m<module>\u001b[0;34m()\u001b[0m\n\u001b[1;32m      3\u001b[0m \u001b[0my_min\u001b[0m\u001b[0;34m,\u001b[0m \u001b[0my_max\u001b[0m \u001b[0;34m=\u001b[0m \u001b[0mnum_array\u001b[0m\u001b[0;34m[\u001b[0m\u001b[0;34m:\u001b[0m\u001b[0;34m,\u001b[0m \u001b[0;36m1\u001b[0m\u001b[0;34m]\u001b[0m\u001b[0;34m.\u001b[0m\u001b[0mmin\u001b[0m\u001b[0;34m(\u001b[0m\u001b[0;34m)\u001b[0m\u001b[0;34m,\u001b[0m \u001b[0mnum_array\u001b[0m\u001b[0;34m[\u001b[0m\u001b[0;34m:\u001b[0m\u001b[0;34m,\u001b[0m \u001b[0;36m1\u001b[0m\u001b[0;34m]\u001b[0m\u001b[0;34m.\u001b[0m\u001b[0mmax\u001b[0m\u001b[0;34m(\u001b[0m\u001b[0;34m)\u001b[0m\u001b[0;34m\u001b[0m\u001b[0m\n\u001b[1;32m      4\u001b[0m \u001b[0mxx\u001b[0m\u001b[0;34m,\u001b[0m \u001b[0myy\u001b[0m \u001b[0;34m=\u001b[0m \u001b[0mnp\u001b[0m\u001b[0;34m.\u001b[0m\u001b[0mmeshgrid\u001b[0m\u001b[0;34m(\u001b[0m\u001b[0mnp\u001b[0m\u001b[0;34m.\u001b[0m\u001b[0marange\u001b[0m\u001b[0;34m(\u001b[0m\u001b[0mx_min\u001b[0m\u001b[0;34m,\u001b[0m \u001b[0mx_max\u001b[0m\u001b[0;34m,\u001b[0m \u001b[0;36m.02\u001b[0m\u001b[0;34m)\u001b[0m\u001b[0;34m,\u001b[0m \u001b[0mnp\u001b[0m\u001b[0;34m.\u001b[0m\u001b[0marange\u001b[0m\u001b[0;34m(\u001b[0m\u001b[0my_min\u001b[0m\u001b[0;34m,\u001b[0m \u001b[0my_max\u001b[0m\u001b[0;34m,\u001b[0m \u001b[0;36m.02\u001b[0m\u001b[0;34m)\u001b[0m\u001b[0;34m)\u001b[0m\u001b[0;34m\u001b[0m\u001b[0m\n\u001b[0;32m----> 5\u001b[0;31m \u001b[0mZ\u001b[0m \u001b[0;34m=\u001b[0m \u001b[0mkm\u001b[0m\u001b[0;34m.\u001b[0m\u001b[0mpredict\u001b[0m\u001b[0;34m(\u001b[0m\u001b[0mnp\u001b[0m\u001b[0;34m.\u001b[0m\u001b[0mc_\u001b[0m\u001b[0;34m[\u001b[0m\u001b[0mxx\u001b[0m\u001b[0;34m.\u001b[0m\u001b[0mravel\u001b[0m\u001b[0;34m(\u001b[0m\u001b[0;34m)\u001b[0m\u001b[0;34m,\u001b[0m \u001b[0myy\u001b[0m\u001b[0;34m.\u001b[0m\u001b[0mravel\u001b[0m\u001b[0;34m(\u001b[0m\u001b[0;34m)\u001b[0m\u001b[0;34m]\u001b[0m\u001b[0;34m)\u001b[0m\u001b[0;34m\u001b[0m\u001b[0m\n\u001b[0m\u001b[1;32m      6\u001b[0m \u001b[0;31m# Z = Z.reshape(xx.shape)\u001b[0m\u001b[0;34m\u001b[0m\u001b[0;34m\u001b[0m\u001b[0m\n",
      "\u001b[0;32m/anaconda3/lib/python3.7/site-packages/sklearn/cluster/k_means_.py\u001b[0m in \u001b[0;36mpredict\u001b[0;34m(self, X)\u001b[0m\n\u001b[1;32m    986\u001b[0m         \u001b[0mcheck_is_fitted\u001b[0m\u001b[0;34m(\u001b[0m\u001b[0mself\u001b[0m\u001b[0;34m,\u001b[0m \u001b[0;34m'cluster_centers_'\u001b[0m\u001b[0;34m)\u001b[0m\u001b[0;34m\u001b[0m\u001b[0m\n\u001b[1;32m    987\u001b[0m \u001b[0;34m\u001b[0m\u001b[0m\n\u001b[0;32m--> 988\u001b[0;31m         \u001b[0mX\u001b[0m \u001b[0;34m=\u001b[0m \u001b[0mself\u001b[0m\u001b[0;34m.\u001b[0m\u001b[0m_check_test_data\u001b[0m\u001b[0;34m(\u001b[0m\u001b[0mX\u001b[0m\u001b[0;34m)\u001b[0m\u001b[0;34m\u001b[0m\u001b[0m\n\u001b[0m\u001b[1;32m    989\u001b[0m         \u001b[0mx_squared_norms\u001b[0m \u001b[0;34m=\u001b[0m \u001b[0mrow_norms\u001b[0m\u001b[0;34m(\u001b[0m\u001b[0mX\u001b[0m\u001b[0;34m,\u001b[0m \u001b[0msquared\u001b[0m\u001b[0;34m=\u001b[0m\u001b[0;32mTrue\u001b[0m\u001b[0;34m)\u001b[0m\u001b[0;34m\u001b[0m\u001b[0m\n\u001b[1;32m    990\u001b[0m         \u001b[0;32mreturn\u001b[0m \u001b[0m_labels_inertia\u001b[0m\u001b[0;34m(\u001b[0m\u001b[0mX\u001b[0m\u001b[0;34m,\u001b[0m \u001b[0mx_squared_norms\u001b[0m\u001b[0;34m,\u001b[0m \u001b[0mself\u001b[0m\u001b[0;34m.\u001b[0m\u001b[0mcluster_centers_\u001b[0m\u001b[0;34m)\u001b[0m\u001b[0;34m[\u001b[0m\u001b[0;36m0\u001b[0m\u001b[0;34m]\u001b[0m\u001b[0;34m\u001b[0m\u001b[0m\n",
      "\u001b[0;32m/anaconda3/lib/python3.7/site-packages/sklearn/cluster/k_means_.py\u001b[0m in \u001b[0;36m_check_test_data\u001b[0;34m(self, X)\u001b[0m\n\u001b[1;32m    869\u001b[0m             raise ValueError(\"Incorrect number of features. \"\n\u001b[1;32m    870\u001b[0m                              \"Got %d features, expected %d\" % (\n\u001b[0;32m--> 871\u001b[0;31m                                  n_features, expected_n_features))\n\u001b[0m\u001b[1;32m    872\u001b[0m \u001b[0;34m\u001b[0m\u001b[0m\n\u001b[1;32m    873\u001b[0m         \u001b[0;32mreturn\u001b[0m \u001b[0mX\u001b[0m\u001b[0;34m\u001b[0m\u001b[0m\n",
      "\u001b[0;31mValueError\u001b[0m: Incorrect number of features. Got 2 features, expected 15"
     ]
    }
   ],
   "source": [
    "# Obtém os valores mínimos e máximos e organiza o shape\n",
    "x_min, x_max = num_array[:, 0].min(), num_array[:, 0].max()\n",
    "y_min, y_max = num_array[:, 1].min(), num_array[:, 1].max()\n",
    "xx, yy = np.meshgrid(np.arange(x_min, x_max, .02), np.arange(y_min, y_max, .02))\n",
    "Z = km.predict(np.c_[xx.ravel(), yy.ravel()])\n",
    "Z = Z.reshape(xx.shape)"
   ]
  },
  {
   "cell_type": "code",
   "execution_count": null,
   "metadata": {},
   "outputs": [],
   "source": [
    "# Plot das áreas dos clusters\n",
    "plt.figure(1)\n",
    "plt.clf()\n",
    "plt.imshow(Z, \n",
    "           interpolation = 'nearest', \n",
    "           extent = (xx.min(), xx.max(), yy.min(), yy.max()), \n",
    "           cmap = plt.cm.Paired, \n",
    "           aspect = 'auto', \n",
    "           origin = 'lower')"
   ]
  },
  {
   "cell_type": "code",
   "execution_count": null,
   "metadata": {},
   "outputs": [],
   "source": [
    "# Plot dos centróides de cada cluster\n",
    "plt.plot(hpc[:, 0], hpc[:, 1], 'k.', markersize = 4)\n",
    "centroids = km.cluster_centers_\n",
    "inert = km.inertia_\n",
    "plt.scatter(centroids[:, 0], centroids[:, 1], marker = 'x', s = 169, linewidths = 3, color = 'r', zorder = 8)\n",
    "plt.xlim(x_min, x_max)\n",
    "plt.ylim(y_min, y_max)\n",
    "plt.xticks(())\n",
    "plt.yticks(())\n",
    "plt.show()"
   ]
  },
  {
   "cell_type": "markdown",
   "metadata": {},
   "source": [
    "## diferenca cluster de acordo com K"
   ]
  },
  {
   "cell_type": "code",
   "execution_count": 66,
   "metadata": {},
   "outputs": [],
   "source": [
    "import matplotlib.pyplot as plt\n",
    "import seaborn as sns\n",
    "\n",
    "from sklearn.cluster import KMeans\n",
    "from sklearn.preprocessing import LabelEncoder\n",
    "\n",
    "from src.metricas import calculate_wcss, optimal_number_of_clusters"
   ]
  },
  {
   "cell_type": "code",
   "execution_count": null,
   "metadata": {},
   "outputs": [],
   "source": [
    "# preparando nossos dados\n",
    "# iris = sns.load_dataset('iris')\n",
    "# df = iris.drop('species', axis=1)"
   ]
  },
  {
   "cell_type": "code",
   "execution_count": 74,
   "metadata": {},
   "outputs": [
    {
     "name": "stdout",
     "output_type": "stream",
     "text": [
      "2\n"
     ]
    }
   ],
   "source": [
    "# calculando a soma dos quadrados para as 19 quantidade de clusters\n",
    "sum_of_squares = calculate_wcss(hpc)\n",
    "\n",
    "# calculando a quantidade ótima de clusters\n",
    "n = optimal_number_of_clusters(sum_of_squares)\n",
    "\n",
    "# inicializando o kmeans para nossa quantidade ótima de clusters\n",
    "kmeans = KMeans(n_clusters=n)\n",
    "\n",
    "# predizendo nossos clusters\n",
    "lotofacil_df['clusters'] = kmeans.fit_predict(num_array)\n",
    "\n",
    "# transformando as especies de iris em numeros para colorir o gráfico\n",
    "# iris['species_encoded'] = LabelEncoder().fit_transform(iris['species'])"
   ]
  },
  {
   "cell_type": "code",
   "execution_count": 77,
   "metadata": {},
   "outputs": [
    {
     "data": {
      "text/html": [
       "<div>\n",
       "<style scoped>\n",
       "    .dataframe tbody tr th:only-of-type {\n",
       "        vertical-align: middle;\n",
       "    }\n",
       "\n",
       "    .dataframe tbody tr th {\n",
       "        vertical-align: top;\n",
       "    }\n",
       "\n",
       "    .dataframe thead th {\n",
       "        text-align: right;\n",
       "    }\n",
       "</style>\n",
       "<table border=\"1\" class=\"dataframe\">\n",
       "  <thead>\n",
       "    <tr style=\"text-align: right;\">\n",
       "      <th></th>\n",
       "      <th>concurso</th>\n",
       "      <th>data_sorteio</th>\n",
       "      <th>bola_1</th>\n",
       "      <th>bola_2</th>\n",
       "      <th>bola_3</th>\n",
       "      <th>bola_4</th>\n",
       "      <th>bola_5</th>\n",
       "      <th>bola_6</th>\n",
       "      <th>bola_7</th>\n",
       "      <th>bola_8</th>\n",
       "      <th>bola_9</th>\n",
       "      <th>bola_10</th>\n",
       "      <th>bola_11</th>\n",
       "      <th>bola_12</th>\n",
       "      <th>bola_13</th>\n",
       "      <th>bola_14</th>\n",
       "      <th>bola_15</th>\n",
       "      <th>ganhadores_15</th>\n",
       "      <th>ganhadores_14</th>\n",
       "      <th>ganhadores_13</th>\n",
       "      <th>ganhadores_12</th>\n",
       "      <th>ganhadores_11</th>\n",
       "      <th>valor_15</th>\n",
       "      <th>valor_14</th>\n",
       "      <th>valor_13</th>\n",
       "      <th>valor_12</th>\n",
       "      <th>valor_11</th>\n",
       "      <th>clusters</th>\n",
       "    </tr>\n",
       "  </thead>\n",
       "  <tbody>\n",
       "    <tr>\n",
       "      <th>0</th>\n",
       "      <td>1</td>\n",
       "      <td>2003-09-29</td>\n",
       "      <td>18</td>\n",
       "      <td>20</td>\n",
       "      <td>25</td>\n",
       "      <td>23</td>\n",
       "      <td>10</td>\n",
       "      <td>11</td>\n",
       "      <td>24</td>\n",
       "      <td>14</td>\n",
       "      <td>6</td>\n",
       "      <td>2</td>\n",
       "      <td>13</td>\n",
       "      <td>9</td>\n",
       "      <td>5</td>\n",
       "      <td>16</td>\n",
       "      <td>3</td>\n",
       "      <td>5</td>\n",
       "      <td>154</td>\n",
       "      <td>4645</td>\n",
       "      <td>48807</td>\n",
       "      <td>257593</td>\n",
       "      <td>49765.82</td>\n",
       "      <td>689.84</td>\n",
       "      <td>10.0</td>\n",
       "      <td>4.0</td>\n",
       "      <td>2.0</td>\n",
       "      <td>1</td>\n",
       "    </tr>\n",
       "    <tr>\n",
       "      <th>1</th>\n",
       "      <td>2</td>\n",
       "      <td>2003-10-06</td>\n",
       "      <td>23</td>\n",
       "      <td>15</td>\n",
       "      <td>5</td>\n",
       "      <td>4</td>\n",
       "      <td>12</td>\n",
       "      <td>16</td>\n",
       "      <td>20</td>\n",
       "      <td>6</td>\n",
       "      <td>11</td>\n",
       "      <td>19</td>\n",
       "      <td>24</td>\n",
       "      <td>1</td>\n",
       "      <td>9</td>\n",
       "      <td>13</td>\n",
       "      <td>7</td>\n",
       "      <td>1</td>\n",
       "      <td>184</td>\n",
       "      <td>6232</td>\n",
       "      <td>81252</td>\n",
       "      <td>478188</td>\n",
       "      <td>596323.70</td>\n",
       "      <td>1388.95</td>\n",
       "      <td>10.0</td>\n",
       "      <td>4.0</td>\n",
       "      <td>2.0</td>\n",
       "      <td>0</td>\n",
       "    </tr>\n",
       "    <tr>\n",
       "      <th>2</th>\n",
       "      <td>3</td>\n",
       "      <td>2003-10-13</td>\n",
       "      <td>20</td>\n",
       "      <td>23</td>\n",
       "      <td>12</td>\n",
       "      <td>8</td>\n",
       "      <td>6</td>\n",
       "      <td>1</td>\n",
       "      <td>7</td>\n",
       "      <td>11</td>\n",
       "      <td>14</td>\n",
       "      <td>4</td>\n",
       "      <td>16</td>\n",
       "      <td>10</td>\n",
       "      <td>9</td>\n",
       "      <td>17</td>\n",
       "      <td>24</td>\n",
       "      <td>2</td>\n",
       "      <td>158</td>\n",
       "      <td>6897</td>\n",
       "      <td>96244</td>\n",
       "      <td>608211</td>\n",
       "      <td>400623.70</td>\n",
       "      <td>2173.36</td>\n",
       "      <td>10.0</td>\n",
       "      <td>4.0</td>\n",
       "      <td>2.0</td>\n",
       "      <td>0</td>\n",
       "    </tr>\n",
       "    <tr>\n",
       "      <th>3</th>\n",
       "      <td>4</td>\n",
       "      <td>2003-10-20</td>\n",
       "      <td>16</td>\n",
       "      <td>5</td>\n",
       "      <td>25</td>\n",
       "      <td>24</td>\n",
       "      <td>23</td>\n",
       "      <td>8</td>\n",
       "      <td>12</td>\n",
       "      <td>2</td>\n",
       "      <td>17</td>\n",
       "      <td>18</td>\n",
       "      <td>1</td>\n",
       "      <td>10</td>\n",
       "      <td>4</td>\n",
       "      <td>19</td>\n",
       "      <td>13</td>\n",
       "      <td>1</td>\n",
       "      <td>258</td>\n",
       "      <td>9569</td>\n",
       "      <td>123912</td>\n",
       "      <td>706657</td>\n",
       "      <td>902226.02</td>\n",
       "      <td>1498.72</td>\n",
       "      <td>10.0</td>\n",
       "      <td>4.0</td>\n",
       "      <td>2.0</td>\n",
       "      <td>1</td>\n",
       "    </tr>\n",
       "    <tr>\n",
       "      <th>4</th>\n",
       "      <td>5</td>\n",
       "      <td>2003-10-27</td>\n",
       "      <td>15</td>\n",
       "      <td>13</td>\n",
       "      <td>20</td>\n",
       "      <td>2</td>\n",
       "      <td>11</td>\n",
       "      <td>24</td>\n",
       "      <td>9</td>\n",
       "      <td>16</td>\n",
       "      <td>4</td>\n",
       "      <td>23</td>\n",
       "      <td>25</td>\n",
       "      <td>12</td>\n",
       "      <td>8</td>\n",
       "      <td>19</td>\n",
       "      <td>1</td>\n",
       "      <td>2</td>\n",
       "      <td>472</td>\n",
       "      <td>14736</td>\n",
       "      <td>195636</td>\n",
       "      <td>860992</td>\n",
       "      <td>380017.55</td>\n",
       "      <td>687.49</td>\n",
       "      <td>10.0</td>\n",
       "      <td>4.0</td>\n",
       "      <td>2.0</td>\n",
       "      <td>1</td>\n",
       "    </tr>\n",
       "  </tbody>\n",
       "</table>\n",
       "</div>"
      ],
      "text/plain": [
       "  concurso data_sorteio  bola_1  bola_2  bola_3  bola_4  bola_5  bola_6  \\\n",
       "0        1   2003-09-29      18      20      25      23      10      11   \n",
       "1        2   2003-10-06      23      15       5       4      12      16   \n",
       "2        3   2003-10-13      20      23      12       8       6       1   \n",
       "3        4   2003-10-20      16       5      25      24      23       8   \n",
       "4        5   2003-10-27      15      13      20       2      11      24   \n",
       "\n",
       "   bola_7  bola_8  bola_9  bola_10  bola_11  bola_12  bola_13  bola_14  \\\n",
       "0      24      14       6        2       13        9        5       16   \n",
       "1      20       6      11       19       24        1        9       13   \n",
       "2       7      11      14        4       16       10        9       17   \n",
       "3      12       2      17       18        1       10        4       19   \n",
       "4       9      16       4       23       25       12        8       19   \n",
       "\n",
       "   bola_15  ganhadores_15  ganhadores_14  ganhadores_13  ganhadores_12  \\\n",
       "0        3              5            154           4645          48807   \n",
       "1        7              1            184           6232          81252   \n",
       "2       24              2            158           6897          96244   \n",
       "3       13              1            258           9569         123912   \n",
       "4        1              2            472          14736         195636   \n",
       "\n",
       "   ganhadores_11   valor_15  valor_14  valor_13  valor_12  valor_11  clusters  \n",
       "0         257593   49765.82    689.84      10.0       4.0       2.0         1  \n",
       "1         478188  596323.70   1388.95      10.0       4.0       2.0         0  \n",
       "2         608211  400623.70   2173.36      10.0       4.0       2.0         0  \n",
       "3         706657  902226.02   1498.72      10.0       4.0       2.0         1  \n",
       "4         860992  380017.55    687.49      10.0       4.0       2.0         1  "
      ]
     },
     "execution_count": 77,
     "metadata": {},
     "output_type": "execute_result"
    }
   ],
   "source": [
    "lotofacil_df.head()"
   ]
  },
  {
   "cell_type": "code",
   "execution_count": null,
   "metadata": {},
   "outputs": [],
   "source": [
    "df.head()"
   ]
  },
  {
   "cell_type": "code",
   "execution_count": null,
   "metadata": {},
   "outputs": [],
   "source": [
    "import pandas as pd\n",
    "import pandas_profiling as pp\n",
    "import numpy as np"
   ]
  },
  {
   "cell_type": "code",
   "execution_count": null,
   "metadata": {},
   "outputs": [],
   "source": [
    "pp.ProfileReport(numeros_df)"
   ]
  },
  {
   "cell_type": "code",
   "execution_count": null,
   "metadata": {},
   "outputs": [],
   "source": [
    "class Lotofacil:\n",
    "    def __init__(self):\n",
    "        self.id = 0\n",
    "        self.data_sorteio = None\n",
    "        self.ganhadores_15_numeros = 0\n",
    "        self.valor_rateio_15_numeros = 0\n",
    "        self.valor_rateio_14_numeros = 0\n",
    "        self.valor_rateio_13_numeros = 0\n",
    "        self.valor_rateio_12_numeros = 0\n",
    "        self.valor_rateio_11_numeros = 0\n",
    "        self.numeros = ()\n",
    "        self.par = 0\n",
    "        self.impar = 0\n",
    "        self.sequencia = ()\n",
    "        self.vertical = ()\n",
    "        self.horizontal = ()\n",
    "        \n",
    "    def set_numeros(self, numeros):\n",
    "        self.numeros = tuple(numeros)\n",
    "        self.setParImpar()\n",
    "        self.set_sequencia()\n",
    "        self.set_horizontal()\n",
    "        self.set_vertical()\n",
    "        \n",
    "    def set_sequencia(self):\n",
    "        sequencia = []\n",
    "        count = []\n",
    "\n",
    "        sequencia.append(self.numeros[0])\n",
    "        \n",
    "        for i in np.arange(1, len(self.numeros)):\n",
    "            if (self.numeros[i] - self.numeros[i-1] == 1):\n",
    "                sequencia.append(self.numeros[i])\n",
    "                \n",
    "                if (i < len(self.numeros) - 1):\n",
    "                    continue\n",
    "                \n",
    "            if (len(sequencia) > 1):\n",
    "                count.append(len(sequencia))\n",
    "\n",
    "            sequencia = []\n",
    "            sequencia.append(self.numeros[i])\n",
    "            \n",
    "        self.sequencia = tuple(count)\n",
    "        \n",
    "    def setParImpar(self):\n",
    "        self.par = sum([1 if x % 2 == 0 else 0 for x in self.numeros])\n",
    "        self.impar = len(self.numeros) - self.par\n",
    "        \n",
    "    def set_horizontal(self):\n",
    "        quantidade = []\n",
    "        horizontal = np.arange(1,26)\n",
    "        horizontal = np.reshape(horizontal, (5,5))\n",
    "        \n",
    "        for h in horizontal:\n",
    "            quantidade.append(len(set(h).intersection(self.numeros)))\n",
    "            \n",
    "        self.horizontal = tuple(quantidade)\n",
    "        \n",
    "    def set_vertical(self):\n",
    "        quantidade = []\n",
    "        vertical = np.arange(1,26)\n",
    "        vertical = np.reshape(vertical, (5,5)).transpose()\n",
    "        \n",
    "        for v in vertical:\n",
    "            quantidade.append(len(set(v).intersection(self.numeros)))\n",
    "            \n",
    "        self.vertical = tuple(quantidade)\n",
    "        "
   ]
  },
  {
   "cell_type": "code",
   "execution_count": null,
   "metadata": {},
   "outputs": [],
   "source": [
    "class Jogo:\n",
    "    def __init__(self):\n",
    "        self.id = None\n",
    "        self.data_cadastro = None\n",
    "        self.quantidade = 0\n",
    "        self.numeros = ()\n",
    "        self.par = 0\n",
    "        self.impar = 0\n",
    "        self.sequencia = ()\n",
    "        self.vertical = ()\n",
    "        self.horizontal = ()\n",
    "        \n",
    "#     def sorteio(self, qtdNumeros = 15):\n",
    "#         self.numeros = sorted(tuple(np.random.choice(np.arange(1, 26), qtdNumeros, replace= False)))\n",
    "#         self.setQuantidade()\n",
    "#         self.setParImpar()\n",
    "        \n",
    "#     def setQuantidade(self):\n",
    "#         self.quantidade = len(self.numeros)\n",
    "\n",
    "    def set_numeros(self, numeros):\n",
    "        self.numeros = tuple(numeros)\n",
    "        self.setParImpar()\n",
    "        self.set_sequencia()\n",
    "        self.set_horizontal()\n",
    "        self.set_vertical()\n",
    "        \n",
    "    def setParImpar(self):\n",
    "        self.par = sum([1 if x % 2 == 0 else 0 for x in self.numeros])\n",
    "        self.impar = len(self.numeros) - self.par\n",
    "        \n",
    "    def set_sequencia(self):\n",
    "        sequencia = []\n",
    "        count = []\n",
    "\n",
    "        sequencia.append(self.numeros[0])\n",
    "        \n",
    "        for i in np.arange(1, len(self.numeros)):\n",
    "            if (self.numeros[i] - self.numeros[i-1] == 1):\n",
    "                sequencia.append(self.numeros[i])\n",
    "                \n",
    "                if (i < len(self.numeros) - 1):\n",
    "                    continue\n",
    "                \n",
    "            if (len(sequencia) > 1):\n",
    "                count.append(len(sequencia))\n",
    "\n",
    "            sequencia = []\n",
    "            sequencia.append(self.numeros[i])\n",
    "            \n",
    "        self.sequencia = tuple(count)\n",
    "        \n",
    "    def set_horizontal(self):\n",
    "        quantidade = []\n",
    "        horizontal = np.arange(1,26)\n",
    "        horizontal = np.reshape(horizontal, (5,5))\n",
    "        \n",
    "        for h in horizontal:\n",
    "            quantidade.append(len(set(h).intersection(self.numeros)))\n",
    "            \n",
    "        self.horizontal = tuple(quantidade)\n",
    "        \n",
    "    def set_vertical(self):\n",
    "        quantidade = []\n",
    "        vertical = np.arange(1,26)\n",
    "        vertical = np.reshape(vertical, (5,5)).transpose()\n",
    "        \n",
    "        for v in vertical:\n",
    "            quantidade.append(len(set(v).intersection(self.numeros)))\n",
    "            \n",
    "        self.vertical = tuple(quantidade)"
   ]
  },
  {
   "cell_type": "code",
   "execution_count": null,
   "metadata": {},
   "outputs": [],
   "source": [
    "def get_concursos_lotofacil_csv(arquivo):\n",
    "    concursos = []\n",
    "    \n",
    "    with open(arquivo) as file:\n",
    "        lotofacil = csv.reader(file, delimiter=';')\n",
    "        data = list(lotofacil)\n",
    "    \n",
    "    for x in data[1:]:\n",
    "        concurso = Lotofacil()\n",
    "        concurso.id = int(x[0])\n",
    "        concurso.data_sorteio = x[1]\n",
    "        concurso.set_numeros(sorted(tuple(map(int, x[2:17]))))\n",
    "#         concurso.numeros = sorted(tuple(map(int, x[2:17])))\n",
    "        concurso.ganhadores_15_numeros = int(x[17])\n",
    "        concurso.valor_rateio_15_numeros = float(x[22].replace('.', '').replace(',', '.'))\n",
    "        concurso.valor_rateio_14_numeros = float(x[23].replace('.', '').replace(',', '.'))\n",
    "        concurso.valor_rateio_13_numeros = float(x[24].replace('.', '').replace(',', '.'))\n",
    "        concurso.valor_rateio_12_numeros = float(x[25].replace('.', '').replace(',', '.'))\n",
    "        concurso.valor_rateio_11_numeros = float(x[26].replace('.', '').replace(',', '.'))\n",
    "#         concurso.setParImpar()\n",
    "        concursos.append(concurso)\n",
    "    \n",
    "    return tuple(concursos)"
   ]
  },
  {
   "cell_type": "code",
   "execution_count": null,
   "metadata": {},
   "outputs": [],
   "source": [
    "def gerar_jogos(numero_jogos = 1000, numeros_por_jogo = 15, menor_numero = (), maior_numero = ()):\n",
    "    count = 0\n",
    "    jogos = []\n",
    "    tentativas = 0\n",
    "    \n",
    "    try:\n",
    "    \n",
    "        while (len(jogos) < numero_jogos and tentativas < 100):\n",
    "            add = False\n",
    "            jogo = Jogo()\n",
    "            jogo.sorteio(numeros_por_jogo)\n",
    "\n",
    "            if (jogo.numeros[0] not in menor_numero or jogo.numeros[-1] not in maior_numero):\n",
    "                tentativas += 1\n",
    "                continue\n",
    "\n",
    "            for i in jogos:\n",
    "                if (len(i.numeros) == len(jogo.numeros)):\n",
    "                    if (len(set(i.numeros).intersection(jogo.numeros)) == len(jogo.numeros)):\n",
    "                        tentativas += 1\n",
    "                        break\n",
    "\n",
    "            jogos.append(jogo)\n",
    "            count += 1\n",
    "            tentativas = 0\n",
    "            \n",
    "        return tuple(jogos)\n",
    "            \n",
    "    except Exception as ex:\n",
    "        return ex"
   ]
  },
  {
   "cell_type": "code",
   "execution_count": null,
   "metadata": {},
   "outputs": [],
   "source": [
    "def filtrar_concursos_range(concursos, inicial, final):\n",
    "    concursos_filtrados = []\n",
    "    \n",
    "    for c in concursos:\n",
    "        if (c.id >= inicial and c.id <= final):\n",
    "            concursos_filtrados.append(c)\n",
    "    \n",
    "    return concursos_filtrados"
   ]
  },
  {
   "cell_type": "code",
   "execution_count": null,
   "metadata": {},
   "outputs": [],
   "source": [
    "# def filtrar_ultimos_concursos(concursos, ultimos):\n",
    "#     concursos_filtrados = []\n",
    "    \n",
    "#     if (ultimos is not None):\n",
    "#         concursos_filtrados = concursos[len(concursos)-ultimos:]\n",
    "        \n",
    "#     return concursos_filtrados"
   ]
  },
  {
   "cell_type": "code",
   "execution_count": null,
   "metadata": {},
   "outputs": [],
   "source": [
    "def filtrar_concurso_por_numeros(concursos, numeros):\n",
    "    concursos_filtrados = []\n",
    "    \n",
    "    for c in concursos:\n",
    "        if (len(set(c.numeros).intersection(numeros)) == len(numeros)):\n",
    "            concursos_filtrados.append(c)\n",
    "#         if len(set(apostas[i].numeros).intersection(notin[j])) == len(notin[j]):\n",
    "    \n",
    "    return concursos_filtrados"
   ]
  },
  {
   "cell_type": "code",
   "execution_count": null,
   "metadata": {},
   "outputs": [],
   "source": [
    "def imprimir_concursos(concursos):\n",
    "    print(\"Total concursos: %s \\n\" % (len(concursos)))\n",
    "    for c in concursos:\n",
    "        print(\"Concurso: \", c.id)\n",
    "        print(\"Data Sorteio: \", c.data_sorteio)\n",
    "        print(\"Ganhadores 15 pontos: %s \" % (c.ganhadores_15_numeros))\n",
    "        print(\"Impares/Pares: %s/%s\" % (c.impar, c.par))\n",
    "#         print(\"Pares: %s\" % (c.par))\n",
    "        print(\"Sequencia: \", c.sequencia)\n",
    "        print(\"Horizontal: \", c.horizontal)\n",
    "        print(\"Vertical: \", c.vertical)\n",
    "        print(c.numeros)\n",
    "        print(\"\\n\")"
   ]
  },
  {
   "cell_type": "code",
   "execution_count": null,
   "metadata": {},
   "outputs": [],
   "source": [
    "def imprimir_aposta(apostas):\n",
    "    print(\"Total apostas: %s \\n\" % (len(apostas)))\n",
    "    for a in apostas:\n",
    "#         print(\"ID: \", a.id)\n",
    "#         print(\"Data: \", a.data_sorteio)\n",
    "        print(\"Impares: %s - Pares: %s\" % (a.impar, a.par))\n",
    "        print(a.numeros)\n",
    "        print(\"\\n\")"
   ]
  },
  {
   "cell_type": "code",
   "execution_count": null,
   "metadata": {},
   "outputs": [],
   "source": [
    "def imprimir_jogo(jogos):\n",
    "    print(\"Total jogos: %s \\n\" % (len(jogos)))\n",
    "    for a in jogos:\n",
    "        print(\"ID: \", a.id)\n",
    "#         print(\"Data Cadastro: \", a.data_cadastro)\n",
    "        print(\"Tamanho: %s | Imapres/Pares: %s/%s | Max Sequencia: %s\" % (len(a.numeros), a.impar, a.par, max(a.sequencia)))\n",
    "        print(a.numeros)\n",
    "        print(\"\\n\")"
   ]
  },
  {
   "cell_type": "code",
   "execution_count": null,
   "metadata": {},
   "outputs": [],
   "source": [
    "def filtrar_jogo_menor_maior(jogos, menor = (), maior = ()):\n",
    "    apostas_filtradas = []\n",
    "    \n",
    "    if (type(menor) != tuple):\n",
    "        menor = tuple(menor)\n",
    "\n",
    "    for jogo in jogos:\n",
    "        if (jogo.numeros[0] in menor and jogo.numeros[-1] in maior):\n",
    "            apostas_filtradas.append(jogo)\n",
    "        \n",
    "    return tuple(apostas_filtradas)"
   ]
  },
  {
   "cell_type": "code",
   "execution_count": null,
   "metadata": {},
   "outputs": [],
   "source": [
    "def filtrar_jogo_impar_par(jogos, impar = ()):\n",
    "    apostas_filtradas = []\n",
    "    \n",
    "    for jogo in jogos:\n",
    "        for i in impar:\n",
    "            if (jogo.impar == i):\n",
    "                apostas_filtradas.append(jogo)\n",
    "        \n",
    "    return tuple(apostas_filtradas)"
   ]
  },
  {
   "cell_type": "code",
   "execution_count": null,
   "metadata": {},
   "outputs": [],
   "source": [
    "def filtrar_jogo_por_numeros(jogos, numeros, match):\n",
    "    apostas_filtradas = []\n",
    "    \n",
    "    for j in jogos:\n",
    "        if (len(set(j.numeros).intersection(numeros)) >= match):\n",
    "            apostas_filtradas.append(j)\n",
    "        \n",
    "    return apostas_filtradas"
   ]
  },
  {
   "cell_type": "code",
   "execution_count": null,
   "metadata": {},
   "outputs": [],
   "source": [
    "# def filtrar_jogo_sequencia(jogos, sequencia = ()):\n",
    "#     apostas_filtradas = []\n",
    "#     add = True\n",
    "    \n",
    "#     for jogo in jogos:\n",
    "#         for s in sequencia:\n",
    "#             if (len(set(jogo.numeros).intersection(s)) == len(s)):\n",
    "#                 add = False\n",
    "#                 break\n",
    "                \n",
    "#         if (add):\n",
    "#             apostas_filtradas.append(jogo)\n",
    "        \n",
    "#     return tuple(apostas_filtradas)"
   ]
  },
  {
   "cell_type": "code",
   "execution_count": null,
   "metadata": {},
   "outputs": [],
   "source": [
    "def filtrar_jogo_sequencia(jogos, sequencia = ()):\n",
    "    apostas_filtradas = []\n",
    "    \n",
    "    for jogo in jogos:\n",
    "        if (len(set(jogo.numeros).intersection(sequencia)) == len(s)):\n",
    "            apostas_filtradas.append(jogo)\n",
    "        \n",
    "    return tuple(apostas_filtradas)"
   ]
  },
  {
   "cell_type": "code",
   "execution_count": null,
   "metadata": {},
   "outputs": [],
   "source": [
    "def filtrar_jogo_notin(jogos, numeros):\n",
    "    apostas_filtradas = []\n",
    "    \n",
    "    for j in jogos:\n",
    "        if (len(set(j.numeros).intersection(numeros)) == 0):\n",
    "            apostas_filtradas.append(j)\n",
    "        \n",
    "    return apostas_filtradas"
   ]
  },
  {
   "cell_type": "code",
   "execution_count": null,
   "metadata": {},
   "outputs": [],
   "source": [
    "def selecionar_jogos_aposta(jogos, quantidade):\n",
    "    jogos_sample = random.sample(jogos, quantidade)\n",
    "    menor_1 = 0\n",
    "    menor_2 = 0\n",
    "    menor_3 = 0\n",
    "    impar_7 = 0\n",
    "    impar_8 = 0\n",
    "    impar_9 = 0\n",
    "    seq_3 = 0\n",
    "    seq_4 = 0\n",
    "    seq_5 = 0\n",
    "    seq_6 = 0\n",
    "    seq_7 = 0\n",
    "\n",
    "    for a in jogos_sample:\n",
    "#         print(a.numeros, a.impar, a.par, a.numeros[0], a.numeros[-1])\n",
    "        if a.numeros[0] == 1:\n",
    "            menor_1 += 1\n",
    "        elif a.numeros[0] == 2:\n",
    "            menor_2 += 1\n",
    "        elif a.numeros[0] == 3:\n",
    "            menor_3 += 1\n",
    "\n",
    "        if a.impar == 7:\n",
    "            impar_7 += 1\n",
    "        elif a.impar == 8:\n",
    "            impar_8 += 1\n",
    "        elif a.impar == 9:\n",
    "            impar_9 += 1\n",
    "            \n",
    "        if max(a.sequencia) == 3:\n",
    "            seq_3 += 1\n",
    "        elif max(a.sequencia) == 4:\n",
    "            seq_4 += 1\n",
    "        elif max(a.sequencia) == 5:\n",
    "            seq_5 += 1\n",
    "        elif max(a.sequencia) == 6:\n",
    "            seq_6 += 1\n",
    "        elif max(a.sequencia) == 7:\n",
    "            seq_7 += 1\n",
    "\n",
    "    print('Percentual jogos com 1: ', (menor_1/len(jogos_sample))*100)\n",
    "    print('Percentual jogos com 2: ', (menor_2/len(jogos_sample))*100)\n",
    "    print('Percentual jogos com 3: ', (menor_3/len(jogos_sample))*100)\n",
    "    print('Percentual jogos impar 7: ', (impar_7/len(jogos_sample))*100)\n",
    "    print('Percentual jogos impar 8: ', (impar_8/len(jogos_sample))*100)\n",
    "    print('Percentual jogos impar 9: ', (impar_9/len(jogos_sample))*100)\n",
    "    print('Sequencia 3: ', (seq_3/len(jogos_sample))*100)\n",
    "    print('Sequencia 4: ', (seq_4/len(jogos_sample))*100)\n",
    "    print('Sequencia 5: ', (seq_5/len(jogos_sample))*100)\n",
    "    print('Sequencia 6: ', (seq_6/len(jogos_sample))*100)\n",
    "    print('Sequencia 7: ', (seq_7/len(jogos_sample))*100)\n",
    "\n",
    "    return jogos_sample"
   ]
  },
  {
   "cell_type": "code",
   "execution_count": null,
   "metadata": {},
   "outputs": [],
   "source": [
    "def conexao_mysql():\n",
    "    return mysql.connector.connect(user='root', database='lotofacil', host='192.168.56.100', password='Zaq1@wsX')"
   ]
  },
  {
   "cell_type": "code",
   "execution_count": null,
   "metadata": {},
   "outputs": [],
   "source": [
    "def get_numeros_jogo(jogo_id):\n",
    "    numeros = []\n",
    "    \n",
    "    try:\n",
    "        cnx = conexao_mysql()\n",
    "        cursor = cnx.cursor()\n",
    "\n",
    "        query = (\"SELECT numero FROM numero_jogo \"\n",
    "                 \"WHERE jogo_id = %(jogo_id)s \"\n",
    "                 \"ORDER BY numero\")\n",
    "        \n",
    "        param_query = {\n",
    "            'jogo_id' : jogo_id,\n",
    "        }\n",
    " \n",
    "        cursor.execute(query, param_query)\n",
    "\n",
    "        rows = cursor.fetchall()\n",
    "        \n",
    "        for row in rows:\n",
    "            numeros.append(row[0])\n",
    "\n",
    "    except Exception as ex:\n",
    "        print(ex)\n",
    " \n",
    "    except ConnectionError as e:\n",
    "        print(e)\n",
    " \n",
    "    finally:\n",
    "        cursor.close()\n",
    "        cnx.close()\n",
    "\n",
    "    return tuple(numeros)"
   ]
  },
  {
   "cell_type": "code",
   "execution_count": null,
   "metadata": {},
   "outputs": [],
   "source": [
    "# def get_numeros_jogo(jogo_id, numeros =()):\n",
    "#     numeros = []\n",
    "    \n",
    "#     try:\n",
    "#         cnx = conexao_mysql()\n",
    "#         cursor = cnx.cursor()\n",
    "\n",
    "#         query = (\"SELECT numero FROM numero_jogo \"\n",
    "#                  \"WHERE jogo_id = %(jogo_id)s \"\n",
    "#                  \"AND numero in %(numeros)s \"\n",
    "#                  \"ORDER BY numero\")\n",
    "        \n",
    "#         param_query = {\n",
    "#             'jogo_id' : jogo_id,\n",
    "#         }\n",
    " \n",
    "#         cursor.execute(query, param_query)\n",
    "\n",
    "#         rows = cursor.fetchall()\n",
    "        \n",
    "#         for row in rows:\n",
    "#             numeros.append(row[0])\n",
    "\n",
    "#     except Exception as ex:\n",
    "#         print(ex)\n",
    " \n",
    "#     except ConnectionError as e:\n",
    "#         print(e)\n",
    " \n",
    "#     finally:\n",
    "#         cursor.close()\n",
    "#         cnx.close()\n",
    "\n",
    "#     return tuple(numeros)"
   ]
  },
  {
   "cell_type": "code",
   "execution_count": null,
   "metadata": {},
   "outputs": [],
   "source": [
    "def get_all_jogos():\n",
    "    jogos = []\n",
    "    cursor = None\n",
    "    cnx = None\n",
    "    \n",
    "    try:\n",
    "        cnx = conexao_mysql()\n",
    "        cursor = cnx.cursor()\n",
    "\n",
    "        query = (\"SELECT jogo_id, data_cadastro \"\n",
    "                 \"FROM jogo \"\n",
    "#                  \"WHERE jogo_id < 10001 \"\n",
    "                 \"ORDER BY jogo_id\")\n",
    "        \n",
    "        cursor.execute(query)\n",
    "        \n",
    "        rows = cursor.fetchall()\n",
    "        \n",
    "        for row in rows:\n",
    "            jogo = Jogo()\n",
    "            jogo.id = row[0]\n",
    "            jogo.data_cadastro = row[1]\n",
    "            jogo.numeros = get_numeros_jogo(row[0])\n",
    "            jogo.setParImpar()\n",
    "            jogo.setQuantidade()\n",
    "            jogos.append(jogo)\n",
    "    #         print(jogo_id, data_cadastro)\n",
    "\n",
    "    except Exception as ex:\n",
    "        print(ex)\n",
    "        \n",
    "    except ConnectionError as e:\n",
    "        print(e)\n",
    "        \n",
    "    finally:\n",
    "        cursor.close()\n",
    "        cnx.close()\n",
    "    \n",
    "    return jogos"
   ]
  },
  {
   "cell_type": "code",
   "execution_count": null,
   "metadata": {},
   "outputs": [],
   "source": [
    "# def get_jogos(numeros = ()):\n",
    "#     jogos = []\n",
    "#     cursor = None\n",
    "#     cnx = None\n",
    "    \n",
    "#     try:\n",
    "#         cnx = conexao_mysql()\n",
    "#         cursor = cnx.cursor()\n",
    "\n",
    "#         query = (\"SELECT jogo_id, data_cadastro \"\n",
    "#                  \"FROM jogo \"\n",
    "# #                  \"WHERE jogo_id < 10001 \"\n",
    "#                  \"ORDER BY jogo_id\")\n",
    "        \n",
    "#         cursor.execute(query)\n",
    "        \n",
    "#         rows = cursor.fetchall()\n",
    "        \n",
    "#         for row in rows:\n",
    "#             jogo = Jogo()\n",
    "#             jogo.id = row[0]\n",
    "#             jogo.data_cadastro = row[1]\n",
    "#             jogo.numeros = get_numeros_jogo(row[0])\n",
    "#             jogo.setParImpar()\n",
    "#             jogo.setQuantidade()\n",
    "#             jogos.append(jogo)\n",
    "#     #         print(jogo_id, data_cadastro)\n",
    "\n",
    "#     except Exception as ex:\n",
    "#         print(ex)\n",
    "        \n",
    "#     except ConnectionError as e:\n",
    "#         print(e)\n",
    "        \n",
    "#     finally:\n",
    "#         cursor.close()\n",
    "#         cnx.close()\n",
    "    \n",
    "#     return jogos"
   ]
  },
  {
   "cell_type": "code",
   "execution_count": null,
   "metadata": {},
   "outputs": [],
   "source": [
    "def insert_jogo(jogo):\n",
    "    try:\n",
    "        cnx = conexao_mysql()\n",
    "        cursor = cnx.cursor()\n",
    "       \n",
    "        add_jogo = (\"INSERT INTO jogo \"\n",
    "                     \"(data_cadastro) \"\n",
    "                     \"VALUES (%(data_cadastro)s)\")\n",
    "        add_numero_jogo = (\"INSERT INTO numero_jogo \"\n",
    "                            \"(jogo_id, numero) \"\n",
    "                            \"VALUES (%(jogo_id)s, %(numero)s)\")\n",
    "\n",
    "        data_jogo = {\n",
    "            'data_cadastro' : datetime.now().date(),\n",
    "        }\n",
    "\n",
    "        cursor.execute(add_jogo, data_jogo)\n",
    "        jogo_id = cursor.lastrowid\n",
    "        \n",
    "#         numeros = [(jogo_id, numero) for numero in j.numeros]\n",
    "\n",
    "        for numero in jogo.numeros:\n",
    "            data_numero_jogo = {\n",
    "              'jogo_id': jogo_id,\n",
    "              'numero': int(numero),\n",
    "            }\n",
    "            \n",
    "            cursor.execute(add_numero_jogo, data_numero_jogo)\n",
    "\n",
    "#         data_numero_jogo = {\n",
    "#           'jogo_id': jogo_id,\n",
    "#           'numero': jogo.numeros,\n",
    "#         }\n",
    "\n",
    "#         cursor.execute(add_numero_jogo, data_numero_jogo)\n",
    "        \n",
    "        cnx.commit()\n",
    "        \n",
    "    except Exception as ex:\n",
    "        cnx.rollback()\n",
    "        return ex\n",
    "        \n",
    "    finally:\n",
    "        cursor.close()\n",
    "        cnx.close()"
   ]
  },
  {
   "cell_type": "code",
   "execution_count": null,
   "metadata": {},
   "outputs": [],
   "source": [
    "def salvar_jogos(jogos):\n",
    "    total_salvos = 0\n",
    "    \n",
    "    try:\n",
    "        jogos_db = get_all_jogos()\n",
    "        \n",
    "        for jogo in jogos:\n",
    "            add = True\n",
    "            \n",
    "            for jogo_db in jogos_db:\n",
    "                if (len(jogo.numeros) == len(jogo_db.numeros)):\n",
    "                    if (len(set(jogo.numeros).intersection(jogo_db.numeros)) == len(jogo.numeros)):\n",
    "                        add = False\n",
    "                        break\n",
    "\n",
    "            if (add):\n",
    "                insert_jogo(jogo)\n",
    "                total_salvos += 1\n",
    "                \n",
    "    except Exception as ex:\n",
    "        print(ex)\n",
    "        \n",
    "    finally:\n",
    "        print(\"%s jogos gravados.\" % (total_salvos))\n",
    "        print(\"%s jogos repetidos.\" % (len(jogos) - total_salvos))"
   ]
  },
  {
   "cell_type": "code",
   "execution_count": null,
   "metadata": {},
   "outputs": [],
   "source": [
    "def frequencia_concursos(concursos):\n",
    "    frequencia = dict.fromkeys(range(1, 26), 0)\n",
    "\n",
    "    for c in concursos:\n",
    "        for n in c.numeros:\n",
    "            frequencia[n] += 1\n",
    "\n",
    "    return frequencia"
   ]
  },
  {
   "cell_type": "code",
   "execution_count": null,
   "metadata": {},
   "outputs": [],
   "source": [
    "def atraso_concursos(concursos):\n",
    "    atraso = dict.fromkeys(range(1, 26), 0)\n",
    "\n",
    "    for c in concursos:\n",
    "        for n in atraso.keys():\n",
    "            if (n in c.numeros):\n",
    "                atraso[n] = 0\n",
    "            else:\n",
    "                atraso[n] += 1\n",
    "\n",
    "    return atraso"
   ]
  },
  {
   "cell_type": "code",
   "execution_count": null,
   "metadata": {},
   "outputs": [],
   "source": [
    "def filtrar_cinco_primeiros(jogos, primeiros):\n",
    "    var = []\n",
    "\n",
    "    for j in jogos:\n",
    "        if (j.numeros[0:5] in primeiros):\n",
    "            var.append(j)\n",
    "    \n",
    "    return var"
   ]
  },
  {
   "cell_type": "code",
   "execution_count": null,
   "metadata": {},
   "outputs": [],
   "source": [
    "def filtrar_cinco_centrais(jogos, centrais):\n",
    "    var = []\n",
    "\n",
    "    for j in jogos:\n",
    "        if (j.numeros[5:10] in centrais):\n",
    "            var.append(j)\n",
    "    \n",
    "    return var"
   ]
  },
  {
   "cell_type": "code",
   "execution_count": null,
   "metadata": {},
   "outputs": [],
   "source": [
    "def filtrar_cinco_ultimos(jogos, ultimos):\n",
    "    var = []\n",
    "\n",
    "    for j in jogos:\n",
    "        if (j.numeros[10:15] in ultimos):\n",
    "            var.append(j)\n",
    "    \n",
    "    return var"
   ]
  },
  {
   "cell_type": "code",
   "execution_count": null,
   "metadata": {},
   "outputs": [],
   "source": [
    "def cinco_primeiros(concursos):\n",
    "    var1 = []\n",
    "\n",
    "    for c in concursos:\n",
    "        var1.append(c.numeros[0:5])\n",
    "        \n",
    "    var2 = set()\n",
    "    [x for x in var1 if x not in var2 and not var2.add(x)]\n",
    "    \n",
    "    return var2"
   ]
  },
  {
   "cell_type": "code",
   "execution_count": null,
   "metadata": {},
   "outputs": [],
   "source": [
    "def cinco_centrais(concursos):\n",
    "    var1 = []\n",
    "\n",
    "    for c in concursos:\n",
    "        var1.append(c.numeros[5:10])\n",
    "\n",
    "    var2 = set()\n",
    "    [y for y in var1 if y not in var2 and not var2.add(y)]\n",
    "    \n",
    "    return var2"
   ]
  },
  {
   "cell_type": "code",
   "execution_count": null,
   "metadata": {},
   "outputs": [],
   "source": [
    "def cinco_ultimos(concursos):\n",
    "    var1 = []\n",
    "\n",
    "    for c in concursos:\n",
    "        var1.append(c.numeros[10:16])\n",
    "\n",
    "    var2 = set()\n",
    "    [y for y in var1 if y not in var2 and not var2.add(y)]\n",
    "    \n",
    "    return var2"
   ]
  },
  {
   "cell_type": "code",
   "execution_count": null,
   "metadata": {},
   "outputs": [],
   "source": [
    "# variaveis globais\n",
    "# min_numeros_aposta = 15\n",
    "# max_numeros_aposta = 18"
   ]
  },
  {
   "cell_type": "code",
   "execution_count": null,
   "metadata": {},
   "outputs": [],
   "source": [
    "# while True:\n",
    "#     try:\n",
    "#         numerosAposta = int(input('Quantidade de números por aposta: '))\n",
    "#         if numerosAposta < 15 or numerosAposta > 18:\n",
    "#             raise ValueError('Digite um valor entre 15 e 18!')\n",
    "#     except ValueError as e:\n",
    "#         print(e)\n",
    "#         continue\n",
    "#     except:\n",
    "#         print('Erro desconhecido!')\n",
    "#         continue\n",
    "#     else:\n",
    "#         break"
   ]
  },
  {
   "cell_type": "markdown",
   "metadata": {},
   "source": [
    "# Concursos"
   ]
  },
  {
   "cell_type": "code",
   "execution_count": null,
   "metadata": {},
   "outputs": [],
   "source": [
    "concursos = get_concursos_lotofacil_csv('lotofacil_data/lotofacil.csv')"
   ]
  },
  {
   "cell_type": "code",
   "execution_count": null,
   "metadata": {},
   "outputs": [],
   "source": [
    "# imprimir_concursos(concursos)"
   ]
  },
  {
   "cell_type": "code",
   "execution_count": null,
   "metadata": {
    "scrolled": true
   },
   "outputs": [],
   "source": [
    "concursos_50_ultimos = concursos[len(concursos) - 50:]"
   ]
  },
  {
   "cell_type": "code",
   "execution_count": null,
   "metadata": {
    "scrolled": true
   },
   "outputs": [],
   "source": [
    "imprimir_concursos(concursos_50_ultimos[::-1])"
   ]
  },
  {
   "cell_type": "code",
   "execution_count": null,
   "metadata": {},
   "outputs": [],
   "source": [
    "# concursos_v2 = filtrar_concurso_por_numeros(concursos, [20,21,22,23,24,25])\n",
    "# imprimir_concursos(concursos_v2)"
   ]
  },
  {
   "cell_type": "code",
   "execution_count": null,
   "metadata": {},
   "outputs": [],
   "source": [
    "frequencia_50_ultimos = frequencia_concursos(concursos_50_ultimos)\n",
    "print(frequencia_50_ultimos)"
   ]
  },
  {
   "cell_type": "code",
   "execution_count": null,
   "metadata": {},
   "outputs": [],
   "source": [
    "plt.figure(figsize=(20, 3))\n",
    "plt.bar(frequencia_50_ultimos.keys(), frequencia_50_ultimos.values())\n",
    "# plt.grid(True)\n",
    "plt.xticks(range(1, len(frequencia_50_ultimos) + 1), frequencia_50_ultimos.keys())\n",
    "plt.show()"
   ]
  },
  {
   "cell_type": "code",
   "execution_count": null,
   "metadata": {},
   "outputs": [],
   "source": [
    "concursos_10_ultimos = concursos[len(concursos) - 10:]\n",
    "# imprimir_concursos(concursos_10_ultimos)"
   ]
  },
  {
   "cell_type": "code",
   "execution_count": null,
   "metadata": {},
   "outputs": [],
   "source": [
    "frequencia_10_ultimos = frequencia_concursos(concursos_10_ultimos)\n",
    "print(frequencia_10_ultimos)"
   ]
  },
  {
   "cell_type": "code",
   "execution_count": null,
   "metadata": {},
   "outputs": [],
   "source": [
    "plt.figure(figsize=(20, 3))\n",
    "plt.bar(frequencia_10_ultimos.keys(), frequencia_10_ultimos.values())\n",
    "# plt.grid(True)\n",
    "plt.xticks(range(1, len(frequencia_10_ultimos) + 1), frequencia_10_ultimos.keys())\n",
    "plt.show()"
   ]
  },
  {
   "cell_type": "code",
   "execution_count": null,
   "metadata": {},
   "outputs": [],
   "source": [
    "atraso = atraso_concursos(concursos_50_ultimos)\n",
    "print(atraso)"
   ]
  },
  {
   "cell_type": "code",
   "execution_count": null,
   "metadata": {},
   "outputs": [],
   "source": [
    "plt.figure(figsize=(20, 3))\n",
    "plt.bar(atraso.keys(), atraso.values())\n",
    "# plt.grid(True)\n",
    "plt.xticks(range(1, len(atraso) + 1), atraso.keys())\n",
    "plt.show()"
   ]
  },
  {
   "cell_type": "code",
   "execution_count": null,
   "metadata": {},
   "outputs": [],
   "source": [
    "def frequencia_impar_par(concursos):\n",
    "    impar_par = []\n",
    "\n",
    "    for c in concursos:\n",
    "        if ([c.impar, c.par] not in impar_par):\n",
    "            impar_par.append([c.impar, c.par])\n",
    "\n",
    "    impar_par = sorted(impar_par)\n",
    "\n",
    "    frequencia = [0] * len(impar_par)\n",
    "\n",
    "    for c in concursos:\n",
    "        for i in range(len(impar_par)):\n",
    "            if (c.impar == impar_par[i][0] and c.par == impar_par[i][1]):\n",
    "                frequencia[i] += 1\n",
    "    \n",
    "    impar_par_lst = []\n",
    "\n",
    "    for i in impar_par:\n",
    "        impar_par_lst.append(' - '.join([str(x) for x in i]))\n",
    "\n",
    "    d = {k:v for k, v in zip(impar_par_lst, frequencia)}\n",
    "    \n",
    "    return d"
   ]
  },
  {
   "cell_type": "code",
   "execution_count": null,
   "metadata": {},
   "outputs": [],
   "source": [
    "freq_impar_par = frequencia_impar_par(concursos_50_ultimos)\n",
    "print(freq_impar_par)"
   ]
  },
  {
   "cell_type": "code",
   "execution_count": null,
   "metadata": {},
   "outputs": [],
   "source": [
    "plt.figure(figsize=(20, 3))\n",
    "plt.bar(freq_impar_par.keys(), freq_impar_par.values(), facecolor='#AA0000')\n",
    "# plt.grid(True)\n",
    "# plt.xticks(range(1, len(d) + 1), d.keys())\n",
    "plt.show()"
   ]
  },
  {
   "cell_type": "code",
   "execution_count": null,
   "metadata": {},
   "outputs": [],
   "source": [
    "menor_sorteado = dict.fromkeys(np.arange(1,12), 0)\n",
    "\n",
    "for c in concursos:\n",
    "#     if (min(c.numeros) not in menor_sorteado):\n",
    "#         menor_sorteado.append(min(c.numeros))\n",
    "    menor_sorteado[min(c.numeros)] += 1\n",
    "        \n",
    "menor_sorteado"
   ]
  },
  {
   "cell_type": "code",
   "execution_count": null,
   "metadata": {},
   "outputs": [],
   "source": [
    "maior_sorteado = dict.fromkeys(np.arange(15,26), 0)\n",
    "\n",
    "for c in concursos:\n",
    "#     if (min(c.numeros) not in menor_sorteado):\n",
    "#         menor_sorteado.append(min(c.numeros))\n",
    "    maior_sorteado[max(c.numeros)] += 1\n",
    "        \n",
    "maior_sorteado"
   ]
  },
  {
   "cell_type": "code",
   "execution_count": null,
   "metadata": {},
   "outputs": [],
   "source": [
    "def frequencia_menor_maior(concursos):\n",
    "    menor_maior_sorteado_lst = []\n",
    "    # dict.fromkeys(np.arange(15,26), 0)\n",
    "\n",
    "    for c in concursos:\n",
    "        if ([min(c.numeros), max(c.numeros)] not in menor_maior_sorteado_lst):\n",
    "            menor_maior_sorteado_lst.append([min(c.numeros), max(c.numeros)])\n",
    "\n",
    "    menor_maior_sorteado_lst = sorted(menor_maior_sorteado_lst)\n",
    "    \n",
    "    menor_maior_sorteado = [0] * len(menor_maior_sorteado_lst)\n",
    "\n",
    "    for c in concursos:\n",
    "        idx = menor_maior_sorteado_lst.index([min(c.numeros), max(c.numeros)])\n",
    "        menor_maior_sorteado[idx] += 1\n",
    "\n",
    "    menor_maior_sorteado_p = [0] * len(menor_maior_sorteado_lst)\n",
    "\n",
    "    for i in np.arange(0, len(menor_maior_sorteado)):\n",
    "        menor_maior_sorteado_p[i] = round((menor_maior_sorteado[i] * 100) / len(concursos),2)\n",
    "\n",
    "    for (a, b, c) in zip(menor_maior_sorteado_lst, menor_maior_sorteado, menor_maior_sorteado_p):\n",
    "        print(a, b, c)"
   ]
  },
  {
   "cell_type": "code",
   "execution_count": null,
   "metadata": {},
   "outputs": [],
   "source": [
    "frequencia_menor_maior(concursos_50_ultimos)"
   ]
  },
  {
   "cell_type": "code",
   "execution_count": null,
   "metadata": {},
   "outputs": [],
   "source": [
    "# f, ax = plt.subplots()\n",
    "\n",
    "# index = np.arange(n_groups)\n",
    "# bar_width = 0.35\n",
    "\n",
    "# ax = plt.bar(d.keys(), d.values(), color='coral', alpha= 0.8)\n",
    "\n",
    "# plt.xlabel('Impares - Pares')\n",
    "# plt.ylabel('Frequencia')\n",
    "# plt.title('Frequencia Impares - Pares', fontsize = 16)\n",
    "# # plt.xticks(len(d.keys()) + bar_width, d.keys())\n",
    "# # plt.legend()\n",
    "\n",
    "# for i in ax.patches:\n",
    "#     ax.text(i.get_x() - .03, i.get_height() + 0.5,\n",
    "#             str(round(100 * i.get_height() / sum(d.values()), 2)) + '%')\n",
    "\n",
    "# # plt.tight_layout()\n",
    "# plt.show()"
   ]
  },
  {
   "cell_type": "code",
   "execution_count": null,
   "metadata": {},
   "outputs": [],
   "source": [
    "padrao_seq = []\n",
    "\n",
    "for c in concursos_50_ultimos:\n",
    "    if (c.sequencia not in padrao_seq):\n",
    "        padrao_seq.append(c.sequencia)"
   ]
  },
  {
   "cell_type": "code",
   "execution_count": null,
   "metadata": {},
   "outputs": [],
   "source": [
    "padrao_seq"
   ]
  },
  {
   "cell_type": "code",
   "execution_count": null,
   "metadata": {},
   "outputs": [],
   "source": [
    "def frequencia_max_sequencia(concursos):\n",
    "    dic = dict.fromkeys(np.arange(2,16), 0)\n",
    "\n",
    "    for c in concursos:\n",
    "        dic[max(c.sequencia)] += 1\n",
    "\n",
    "    return dic"
   ]
  },
  {
   "cell_type": "code",
   "execution_count": null,
   "metadata": {},
   "outputs": [],
   "source": [
    "dic_seq = frequencia_max_sequencia(concursos_50_ultimos)\n",
    "dic_seq"
   ]
  },
  {
   "cell_type": "code",
   "execution_count": null,
   "metadata": {},
   "outputs": [],
   "source": [
    "padrao_horizontal = []\n",
    "\n",
    "for c in concursos:\n",
    "    if(c.horizontal not in padrao_horizontal):\n",
    "        padrao_horizontal.append(c.horizontal)\n",
    "        \n",
    "padrao_horizontal"
   ]
  },
  {
   "cell_type": "code",
   "execution_count": null,
   "metadata": {},
   "outputs": [],
   "source": [
    "padrao_horizontal = []\n",
    "\n",
    "for c in concursos_50_ultimos:\n",
    "    if(c.horizontal not in padrao_horizontal):\n",
    "        padrao_horizontal.append(c.horizontal)\n",
    "        \n",
    "sorted(padrao_horizontal)"
   ]
  },
  {
   "cell_type": "code",
   "execution_count": null,
   "metadata": {},
   "outputs": [],
   "source": [
    "cinco_primeiros = cinco_primeiros(concursos_50_ultimos)\n",
    "print(cinco_primeiros)"
   ]
  },
  {
   "cell_type": "code",
   "execution_count": null,
   "metadata": {},
   "outputs": [],
   "source": [
    "cinco_ultimos = cinco_ultimos(concursos_50_ultimos)\n",
    "print(cinco_ultimos)"
   ]
  },
  {
   "cell_type": "code",
   "execution_count": null,
   "metadata": {},
   "outputs": [],
   "source": [
    "cinco_centrais = cinco_centrais(concursos_50_ultimos)\n",
    "print(cinco_centrais)"
   ]
  },
  {
   "cell_type": "code",
   "execution_count": null,
   "metadata": {},
   "outputs": [],
   "source": [
    "# cinco_primeiros_v1 = []\n",
    "# cinco_finais_v1 = []\n",
    "\n",
    "# for c in concursos_50_ultimos:\n",
    "#     cinco_primeiros_v1.append(c.numeros[0:6])\n",
    "#     cinco_finais_v1.append(c.numeros[10:16])\n",
    "        \n",
    "# cinco_primeiros_v2 = set()\n",
    "# [x for x in cinco_primeiros_v1 if x not in cinco_primeiros_v2 and not cinco_primeiros_v2.add(x)]\n",
    "\n",
    "# cinco_finais_v2 = set()\n",
    "# [y for y in cinco_finais_v1 if y not in cinco_finais_v2 and not cinco_finais_v2.add(y)]"
   ]
  },
  {
   "cell_type": "markdown",
   "metadata": {},
   "source": [
    "# Gerar jogos"
   ]
  },
  {
   "cell_type": "code",
   "execution_count": null,
   "metadata": {},
   "outputs": [],
   "source": [
    "jogos = []\n",
    "\n",
    "max_menor_numero = 4\n",
    "jogo_id = 1\n",
    "    \n",
    "for a in np.arange(1, 26 - 14):\n",
    "    if (a > max_menor_numero):\n",
    "        break\n",
    "        \n",
    "    for b in np.arange(a + 1, 26 - 13):\n",
    "        for c in np.arange(b + 1, 26 - 12):\n",
    "            for d in np.arange(c+1, 26 - 11):\n",
    "                for e in np.arange(d+1, 26 - 10):\n",
    "                    for f in np.arange(e+1, 26 - 9):\n",
    "                        for g in np.arange(f+1, 26 - 8):\n",
    "                            for h in np.arange(g+1, 26 - 7):\n",
    "                                for i in np.arange(h+1, 26 - 6):\n",
    "                                    for j in np.arange(i+1, 26 - 5):\n",
    "                                        for k in np.arange(j+1, 26 - 4):\n",
    "                                            for l in np.arange(k+1, 26 - 3):\n",
    "                                                for m in np.arange(l+1, 26 - 2):\n",
    "                                                    for n in np.arange(m+1, 26 - 1):\n",
    "                                                        for o in np.arange(n+1, 26 - 0):\n",
    "                                                            jogo = Jogo()\n",
    "                                                            num = (a, b, c, d, e, f, g, h, i, j, k, l, m, n, o)\n",
    "                                                            jogo.id = jogo_id\n",
    "                                                            jogo.set_numeros(num)\n",
    "                                                            jogos.append(jogo)\n",
    "                                                            jogo_id += 1"
   ]
  },
  {
   "cell_type": "code",
   "execution_count": null,
   "metadata": {},
   "outputs": [],
   "source": [
    "print(len(jogos))"
   ]
  },
  {
   "cell_type": "code",
   "execution_count": null,
   "metadata": {},
   "outputs": [],
   "source": [
    "imprimir_jogo(jogos[:20])\n",
    "    "
   ]
  },
  {
   "cell_type": "code",
   "execution_count": null,
   "metadata": {},
   "outputs": [],
   "source": [
    "# jogos_nao_salvos = gerar_jogos(100000, menor_numero=(1,2,3,4), maior_numero=(23,24,25))\n",
    "# len(jogos_nao_salvos)"
   ]
  },
  {
   "cell_type": "code",
   "execution_count": null,
   "metadata": {},
   "outputs": [],
   "source": [
    "# a = 0\n",
    "\n",
    "# while a < 20:\n",
    "#     jogos_nao_salvos = gerar_jogos(10000, menor_numero=(1,2,3,4), maior_numero=(23,24,25))\n",
    "#     salvar_jogos(jogos_nao_salvos)\n",
    "#     a += 1\n"
   ]
  },
  {
   "cell_type": "code",
   "execution_count": null,
   "metadata": {},
   "outputs": [],
   "source": [
    "# imprimir_jogo(jogos_nao_salvos)"
   ]
  },
  {
   "cell_type": "code",
   "execution_count": null,
   "metadata": {},
   "outputs": [],
   "source": [
    "# start = time.time()\n",
    "# salvar_jogos(jogos_nao_salvos)\n",
    "# end = time.time()\n",
    "# print((end - start)/60)"
   ]
  },
  {
   "cell_type": "code",
   "execution_count": null,
   "metadata": {},
   "outputs": [],
   "source": [
    "# insert_jogo(jogos_nao_salvos[0])"
   ]
  },
  {
   "cell_type": "markdown",
   "metadata": {},
   "source": [
    "# Jogos"
   ]
  },
  {
   "cell_type": "code",
   "execution_count": null,
   "metadata": {},
   "outputs": [],
   "source": [
    "# start = time.time()\n",
    "# jogos_salvos = get_all_jogos()\n",
    "# end = time.time()\n",
    "\n",
    "# print((end - start)/60)\n",
    "# print(len(jogos_salvos))"
   ]
  },
  {
   "cell_type": "code",
   "execution_count": null,
   "metadata": {},
   "outputs": [],
   "source": [
    "jogos_filtrados = jogos"
   ]
  },
  {
   "cell_type": "code",
   "execution_count": null,
   "metadata": {},
   "outputs": [],
   "source": [
    "jogos_filtrados = filtrar_cinco_primeiros(jogos_filtrados, cinco_primeiros)\n",
    "len(jogos_filtrados)"
   ]
  },
  {
   "cell_type": "code",
   "execution_count": null,
   "metadata": {},
   "outputs": [],
   "source": [
    "jogos_filtrados = filtrar_cinco_ultimos(jogos_filtrados, cinco_ultimos)\n",
    "len(jogos_filtrados)"
   ]
  },
  {
   "cell_type": "code",
   "execution_count": null,
   "metadata": {},
   "outputs": [],
   "source": [
    "jogos_filtrados = filtrar_cinco_centrais(jogos_filtrados, cinco_centrais)\n",
    "len(jogos_filtrados)"
   ]
  },
  {
   "cell_type": "code",
   "execution_count": null,
   "metadata": {},
   "outputs": [],
   "source": [
    "# for s in seq_final_unica:\n",
    "#     jogos_filtrados = filtrar_jogo_sequencia(jogos_filtrados, s)\n",
    "\n",
    "# len(jogos_filtrados)"
   ]
  },
  {
   "cell_type": "code",
   "execution_count": null,
   "metadata": {},
   "outputs": [],
   "source": [
    "jogos_filtrados = filtrar_jogo_menor_maior(jogos_filtrados, (1,), (24,25))\n",
    "len(jogos_filtrados)"
   ]
  },
  {
   "cell_type": "code",
   "execution_count": null,
   "metadata": {},
   "outputs": [],
   "source": [
    "jogos_filtrados = filtrar_jogo_impar_par(jogos_filtrados, [8,])\n",
    "len(jogos_filtrados)"
   ]
  },
  {
   "cell_type": "code",
   "execution_count": null,
   "metadata": {},
   "outputs": [],
   "source": [
    "jogos_filtrados = filtrar_jogo_por_numeros(jogos_filtrados, (6, 20), 2)\n",
    "len(jogos_filtrados)"
   ]
  },
  {
   "cell_type": "code",
   "execution_count": null,
   "metadata": {},
   "outputs": [],
   "source": [
    "jogos_filtrados = filtrar_jogo_notin(jogos_filtrados, (11,15))\n",
    "len(jogos_filtrados)"
   ]
  },
  {
   "cell_type": "code",
   "execution_count": null,
   "metadata": {},
   "outputs": [],
   "source": [
    "jogos_t2 = []\n",
    "\n",
    "for c in jogos_filtrados:\n",
    "    if max(c.sequencia) < 7 or c.sequencia == None:\n",
    "        jogos_t2.append(c)"
   ]
  },
  {
   "cell_type": "code",
   "execution_count": null,
   "metadata": {},
   "outputs": [],
   "source": [
    "jogos_filtrados = jogos_t2\n",
    "len(jogos_filtrados)"
   ]
  },
  {
   "cell_type": "code",
   "execution_count": null,
   "metadata": {},
   "outputs": [],
   "source": [
    "imprimir_jogo(jogos_filtrados)"
   ]
  },
  {
   "cell_type": "markdown",
   "metadata": {},
   "source": [
    "### converter lista de jogos"
   ]
  },
  {
   "cell_type": "code",
   "execution_count": null,
   "metadata": {},
   "outputs": [],
   "source": [
    "jogos_df = pd.DataFrame([x.numeros for x in jogos_filtrados], index=[c.id for c in jogos_filtrados])"
   ]
  },
  {
   "cell_type": "code",
   "execution_count": null,
   "metadata": {},
   "outputs": [],
   "source": [
    "jogos_df.to_csv('apostas.csv', sep=';')"
   ]
  },
  {
   "cell_type": "code",
   "execution_count": null,
   "metadata": {},
   "outputs": [],
   "source": [
    "# for c in jogos_filtrados:\n",
    "#     sequencia = []\n",
    "#     count = 0\n",
    "    \n",
    "#     for i in np.arange(1, len(c.numeros[1:])):\n",
    "#         if c.numeros[i] == c.numeros[i - 1] + 1:\n",
    "#             count += 1\n",
    "#         else:\n",
    "#             if count > 0:\n",
    "#                 count += 1\n",
    "#                 sequencia.append(count)\n",
    "#                 count = 0\n",
    "            \n",
    "#     c.sequencia = sorted(tuple(sequencia)) "
   ]
  },
  {
   "cell_type": "code",
   "execution_count": null,
   "metadata": {},
   "outputs": [],
   "source": [
    "jogos_t3 = []\n",
    "dezenas = np.arange(10,20)\n",
    "\n",
    "for c in jogos_filtrados:\n",
    "    if (len(set(c.numeros).intersection(dezenas)) >= 5 and len(set(c.numeros).intersection(dezenas)) <= 7):\n",
    "        jogos_t3.append(c)"
   ]
  },
  {
   "cell_type": "code",
   "execution_count": null,
   "metadata": {},
   "outputs": [],
   "source": [
    "jogos_filtrados = jogos_t3\n",
    "len(jogos_filtrados)"
   ]
  },
  {
   "cell_type": "code",
   "execution_count": null,
   "metadata": {},
   "outputs": [],
   "source": [
    "jogos_t4 = []\n",
    "\n",
    "for c in jogos_filtrados:\n",
    "    if (len(c.sequencia) >= 3 and len(c.sequencia) <= 5):\n",
    "        jogos_t4.append(c)\n",
    "        \n",
    "len(jogos_t4)"
   ]
  },
  {
   "cell_type": "code",
   "execution_count": null,
   "metadata": {},
   "outputs": [],
   "source": [
    "jogos_filtrados = jogos_t4\n",
    "len(jogos_filtrados)"
   ]
  },
  {
   "cell_type": "code",
   "execution_count": null,
   "metadata": {},
   "outputs": [],
   "source": [
    "# jogos_t6 = filtrar_jogo_por_numeros(jogos_t5, numeros=[19,20,21,22,23,24,25], match=7)\n",
    "# len(jogos_t6)"
   ]
  },
  {
   "cell_type": "code",
   "execution_count": null,
   "metadata": {},
   "outputs": [],
   "source": [
    "apostas_selecionadas = selecionar_jogos_aposta(jogos_filtrados, 25)"
   ]
  },
  {
   "cell_type": "code",
   "execution_count": null,
   "metadata": {},
   "outputs": [],
   "source": [
    "imprimir_jogo(apostas_selecionadas)"
   ]
  },
  {
   "cell_type": "code",
   "execution_count": null,
   "metadata": {},
   "outputs": [],
   "source": [
    "# seq_inicial = []\n",
    "# seq_final = []\n",
    "\n",
    "# for c in concursos_50_ultimos:\n",
    "# #     if (c.numeros[0] == 1):\n",
    "#     a = []\n",
    "\n",
    "#     for n in c.numeros:\n",
    "#         if n <= 5:\n",
    "#             a.append(n)\n",
    "\n",
    "#     seq_inicial.append(a)\n",
    "        \n",
    "# #     if (c.numeros[-1] in (24,25)):\n",
    "#     b = []\n",
    "\n",
    "#     for o in c.numeros[10:15]:\n",
    "#         if o >= 20:\n",
    "#             b.append(o)\n",
    "\n",
    "#     seq_final.append(b)\n",
    "        \n",
    "# seq_inicial_unica = []\n",
    "# seq_final_unica = []\n",
    "\n",
    "# i = 0\n",
    "\n",
    "# while i < len(seq_inicial):\n",
    "#     if (len(seq_inicial[i]) > 1):\n",
    "#         if (seq_inicial[i] not in seq_inicial_unica):\n",
    "#             seq_inicial_unica.append(seq_inicial[i])\n",
    "        \n",
    "#     i += 1\n",
    "\n",
    "    \n",
    "# j = 0\n",
    "\n",
    "# while j < len(seq_final):\n",
    "#     if (len(seq_final[j]) > 1):\n",
    "#         if (seq_final[j] not in seq_final_unica):\n",
    "#             seq_final_unica.append(seq_final[j])\n",
    "        \n",
    "#     j += 1"
   ]
  },
  {
   "cell_type": "code",
   "execution_count": null,
   "metadata": {},
   "outputs": [],
   "source": [
    "# print(sorted(seq_inicial_unica))\n",
    "# print(sorted(seq_final_unica))"
   ]
  },
  {
   "cell_type": "code",
   "execution_count": null,
   "metadata": {},
   "outputs": [],
   "source": [
    "tst = []\n",
    "\n",
    "for x in sorted(seq_inicial_unica):\n",
    "    txt = ', '.join([str(y) for y in x])\n",
    "    tst.append(txt)\n",
    "\n",
    "print(tst)"
   ]
  },
  {
   "cell_type": "code",
   "execution_count": null,
   "metadata": {},
   "outputs": [],
   "source": [
    "d1 = dict([(k, 0) for k in tst])\n",
    "print(d1)"
   ]
  },
  {
   "cell_type": "code",
   "execution_count": null,
   "metadata": {},
   "outputs": [],
   "source": [
    "i = 0\n",
    "\n",
    "while i < len(apostas):\n",
    "    j = 0\n",
    "    while j < len(apostas):\n",
    "        if i != j:\n",
    "            if len(set(apostas[i].numeros).intersection(apostas[j].numeros)) == 15:\n",
    "                del apostas[j]\n",
    "        j += 1\n",
    "#     print(len(set(a).intersection(apostas[i])))\n",
    "    i += 1"
   ]
  },
  {
   "cell_type": "code",
   "execution_count": null,
   "metadata": {},
   "outputs": [],
   "source": [
    "par_impar_lst = []\n",
    "\n",
    "for x in concursos:\n",
    "    par_impar_lst.append([x.impar, x.par])\n",
    "  \n",
    "df_v2 = pd.DataFrame(par_impar_lst, columns=['impar', 'par'])\n",
    "df_v2.set_index(['impar'])\n",
    "# par_impar_dic = dict(par_impar_lst)\n",
    "# print(par_impar_dic)"
   ]
  },
  {
   "cell_type": "code",
   "execution_count": null,
   "metadata": {},
   "outputs": [],
   "source": [
    "df_v2_group = df_v2.groupby(['impar', 'par'])['impar'].count()"
   ]
  },
  {
   "cell_type": "code",
   "execution_count": null,
   "metadata": {},
   "outputs": [],
   "source": [
    "df_v2_group"
   ]
  },
  {
   "cell_type": "code",
   "execution_count": null,
   "metadata": {},
   "outputs": [],
   "source": [
    "df_v3 = pd.DataFrame(df_v2_group)"
   ]
  },
  {
   "cell_type": "code",
   "execution_count": null,
   "metadata": {},
   "outputs": [],
   "source": [
    "df_v3['perc'] = [(x*100)/df_v2_group.values.sum() for x in df_v2_group.values]"
   ]
  },
  {
   "cell_type": "code",
   "execution_count": null,
   "metadata": {},
   "outputs": [],
   "source": [
    "df_v3"
   ]
  },
  {
   "cell_type": "code",
   "execution_count": null,
   "metadata": {},
   "outputs": [],
   "source": [
    "menor = []\n",
    "maior = []\n",
    "menor_maior_list = []\n",
    "menor_maior_dict = {}\n",
    "menor_maior_strg = []"
   ]
  },
  {
   "cell_type": "code",
   "execution_count": null,
   "metadata": {},
   "outputs": [],
   "source": [
    "for x in concursos_10_ultimos:\n",
    "    menor.append(x.numeros[0])\n",
    "    maior.append(x.numeros[-1])\n",
    "    menor_maior_list.append([x.numeros[0], x.numeros[-1]])\n",
    "    menor_maior_strg.append(str(x.numeros[0]) + ' - ' + str(x.numeros[-1]))\n",
    "#     menor_maior.update({str(x.numeros[0]) + ' - ' + str(x.numeros[-1]): 1})"
   ]
  },
  {
   "cell_type": "code",
   "execution_count": null,
   "metadata": {},
   "outputs": [],
   "source": [
    "import matplotlib.pyplot as plt"
   ]
  },
  {
   "cell_type": "code",
   "execution_count": null,
   "metadata": {},
   "outputs": [],
   "source": [
    "menor_freq = np.histogram(menor, bins=np.arange(1,11))"
   ]
  },
  {
   "cell_type": "code",
   "execution_count": null,
   "metadata": {},
   "outputs": [],
   "source": [
    "menor_perc = [(x * 100)/len(concursos_10_ultimos) for x in menor_freq[0]]"
   ]
  },
  {
   "cell_type": "code",
   "execution_count": null,
   "metadata": {},
   "outputs": [],
   "source": [
    "menor_perc"
   ]
  },
  {
   "cell_type": "code",
   "execution_count": null,
   "metadata": {},
   "outputs": [],
   "source": [
    "np.histogram(maior, bins=np.arange(15,26))"
   ]
  },
  {
   "cell_type": "code",
   "execution_count": null,
   "metadata": {},
   "outputs": [],
   "source": [
    "menor_maior_list[:5]"
   ]
  },
  {
   "cell_type": "code",
   "execution_count": null,
   "metadata": {},
   "outputs": [],
   "source": [
    "menor_maior_strg[:5]"
   ]
  },
  {
   "cell_type": "code",
   "execution_count": null,
   "metadata": {},
   "outputs": [],
   "source": [
    "df_menor_maior_list = pd.DataFrame(menor_maior_list, columns=['menor', 'maior'])"
   ]
  },
  {
   "cell_type": "code",
   "execution_count": null,
   "metadata": {},
   "outputs": [],
   "source": [
    "df_menor_maior_list.set_index(['menor', 'maior'])"
   ]
  },
  {
   "cell_type": "code",
   "execution_count": null,
   "metadata": {},
   "outputs": [],
   "source": [
    "menor_maior_freq = df_menor_maior_list.groupby(['menor', 'maior']).count()"
   ]
  },
  {
   "cell_type": "code",
   "execution_count": null,
   "metadata": {},
   "outputs": [],
   "source": [
    "menor_maior_freq.values"
   ]
  },
  {
   "cell_type": "code",
   "execution_count": null,
   "metadata": {},
   "outputs": [],
   "source": [
    "menor_maior_perc = [(x*100)/len(concursos) for x in menor_maior_freq.values]"
   ]
  },
  {
   "cell_type": "code",
   "execution_count": null,
   "metadata": {},
   "outputs": [],
   "source": [
    "df = pd.DataFrame(menor_maior_freq)"
   ]
  },
  {
   "cell_type": "code",
   "execution_count": null,
   "metadata": {},
   "outputs": [],
   "source": [
    "df['percentual'] = menor_maior_perc"
   ]
  },
  {
   "cell_type": "code",
   "execution_count": null,
   "metadata": {},
   "outputs": [],
   "source": [
    "df"
   ]
  },
  {
   "cell_type": "code",
   "execution_count": null,
   "metadata": {},
   "outputs": [],
   "source": [
    "df_menor_maior_str = pd.DataFrame(menor_maior_strg, columns=['col'])"
   ]
  },
  {
   "cell_type": "code",
   "execution_count": null,
   "metadata": {},
   "outputs": [],
   "source": [
    "menor_maior_group = df_menor_maior_str.groupby('col')['col'].count()"
   ]
  },
  {
   "cell_type": "code",
   "execution_count": null,
   "metadata": {},
   "outputs": [],
   "source": [
    "df_v1 = pd.DataFrame(menor_maior_group)"
   ]
  },
  {
   "cell_type": "code",
   "execution_count": null,
   "metadata": {},
   "outputs": [],
   "source": [
    "df_v1"
   ]
  },
  {
   "cell_type": "code",
   "execution_count": null,
   "metadata": {},
   "outputs": [],
   "source": [
    "# plt.hist(df_v1)\n",
    "# plt.show()"
   ]
  },
  {
   "cell_type": "code",
   "execution_count": null,
   "metadata": {},
   "outputs": [],
   "source": [
    "# np.histogram(menor_maior)"
   ]
  },
  {
   "cell_type": "code",
   "execution_count": null,
   "metadata": {},
   "outputs": [],
   "source": [
    "# plt.hist([menor, maior], bins=np.arange(1,26))\n",
    "# plt.xlabel('Menor Numero Sorteado')\n",
    "# plt.ylabel('Frequencia')\n",
    "# plt.grid(True)\n",
    "# plt.show()"
   ]
  },
  {
   "cell_type": "code",
   "execution_count": null,
   "metadata": {},
   "outputs": [],
   "source": [
    "# gravar_jogo(apostas)"
   ]
  },
  {
   "cell_type": "code",
   "execution_count": null,
   "metadata": {},
   "outputs": [],
   "source": [
    "# from __future__ import print_function\n",
    " \n",
    "# import MySQLdb as my\n",
    " \n",
    "# try:\n",
    " \n",
    "#     db = my.connect(host=\"127.0.0.1\",\n",
    "#                     user=\"root\",\n",
    "#                     passwd=\"\",\n",
    "#                     db=\"world\"\n",
    "#                     )\n",
    " \n",
    "#     cursor = db.cursor()\n",
    " \n",
    "#     sql = \"select * from city where id < 10\"\n",
    "#     number_of_rows = cursor.execute(sql)\n",
    " \n",
    "#     print(cursor.fetchone())  # fetch the first row only\n",
    " \n",
    "#     db.close()\n",
    " \n",
    "# except my.DataError as e:\n",
    "#     print(\"DataError\")\n",
    "#     print(e)\n",
    " \n",
    "# except my.InternalError as e:\n",
    "#     print(\"InternalError\")\n",
    "#     print(e)\n",
    " \n",
    "# except my.IntegrityError as e:\n",
    "#     print(\"IntegrityError\")\n",
    "#     print(e)\n",
    " \n",
    "# except my.OperationalError as e:\n",
    "#     print(\"OperationalError\")\n",
    "#     print(e)\n",
    " \n",
    "# except my.NotSupportedError as e:\n",
    "#     print(\"NotSupportedError\")\n",
    "#     print(e)\n",
    " \n",
    "# except my.ProgrammingError as e:\n",
    "#     print(\"ProgrammingError\")\n",
    "#     print(e)\n",
    " \n",
    "# except :\n",
    "#     print(\"Unknown error occurred\")"
   ]
  },
  {
   "cell_type": "markdown",
   "metadata": {
    "collapsed": true
   },
   "source": [
    "# Conferencia"
   ]
  },
  {
   "cell_type": "code",
   "execution_count": null,
   "metadata": {},
   "outputs": [],
   "source": [
    "def verificar_apostas(data_sorteio):\n",
    "    try:\n",
    "        concurso\n",
    "        \n",
    "    except Exception as ex:\n",
    "        print(ex)\n",
    "    "
   ]
  },
  {
   "cell_type": "markdown",
   "metadata": {},
   "source": [
    "# Teste"
   ]
  },
  {
   "cell_type": "code",
   "execution_count": null,
   "metadata": {
    "scrolled": true
   },
   "outputs": [],
   "source": [
    "total = 0\n",
    "\n",
    "for jogo in jogos:\n",
    "    for c in concursos:\n",
    "        if len(set(jogo.numeros).intersection(c.numeros)) == 15:\n",
    "#             print(\"Concurso: \", c.id)\n",
    "#             print(\"ID Aposta: \", jogo.id)\n",
    "#             print(\"Data Sorteio: \", c.data_sorteio)\n",
    "#             print(jogo.numeros)\n",
    "#             print(c.numeros)\n",
    "#             print(\"\\n\")\n",
    "            total += 1\n",
    "            break\n",
    "            \n",
    "print('total jogos ganahdores: %s' % (total))"
   ]
  },
  {
   "cell_type": "markdown",
   "metadata": {
    "collapsed": true
   },
   "source": [
    "### imprimir jogos"
   ]
  },
  {
   "cell_type": "code",
   "execution_count": null,
   "metadata": {},
   "outputs": [],
   "source": [
    "# !pip install reportlab"
   ]
  },
  {
   "cell_type": "code",
   "execution_count": null,
   "metadata": {},
   "outputs": [],
   "source": [
    "from reportlab.pdfgen import canvas\n",
    "from reportlab.lib.units import cm\n",
    "from reportlab.graphics.shapes import Rect\n",
    "from reportlab.lib.colors import black"
   ]
  },
  {
   "cell_type": "code",
   "execution_count": null,
   "metadata": {},
   "outputs": [],
   "source": [
    "file_name = 'apostas.pdf'\n",
    "lar = 60\n",
    "alt = 37\n",
    "\n",
    "c = canvas.Canvas(file_name, pagesize=(969, 2197))\n",
    "c.setFillColor(black)\n",
    "c.setFont('Helvetica', 24)\n",
    "\n",
    "xc = 154  # constante da diferenca entre cada espaco em x\n",
    "x1 = 100\n",
    "x2 = x1 + xc\n",
    "x3 = x2 + xc + 10\n",
    "x4 = x3 + xc + 10\n",
    "x5 = x4 + xc\n",
    "\n",
    "yc = 58\n",
    "\n",
    "jogos_pagina = 1\n",
    "pagina = 1\n",
    "\n",
    "for a in apostas_selecionadas:\n",
    "    if jogos_pagina == 1:\n",
    "        y1 = 1650\n",
    "        \n",
    "        if len(a.numeros) == 15:\n",
    "            xn = x1\n",
    "        \n",
    "        c.drawString(20, 20, 'pagina: ' + str(pagina))\n",
    "        c.rect(xn, 685, lar, alt, fill=True, stroke=False) # 15 jogos\n",
    "        \n",
    "    y2 = y1 - yc\n",
    "    y3 = y2 - yc\n",
    "    y4 = y3 - yc\n",
    "    y5 = y4 - yc\n",
    "    \n",
    "    for n in a.numeros:\n",
    "        if n == 1:\n",
    "            c.rect(x5, y1, lar, alt, fill=True, stroke=False) # 1\n",
    "        \n",
    "        if n == 2:\n",
    "            c.rect(x5, y2, lar, alt, fill=True, stroke=False) # 2\n",
    "            \n",
    "        if n == 3:\n",
    "            c.rect(x5, y3, lar, alt, fill=True, stroke=False) # 3\n",
    "            \n",
    "        if n == 4:\n",
    "            c.rect(x5, y4, lar, alt, fill=True, stroke=False) # 4\n",
    "            \n",
    "        if n == 5:\n",
    "            c.rect(x5, y5, lar, alt, fill=True, stroke=False) # 5\n",
    "            \n",
    "        if n == 6:\n",
    "            c.rect(x4, y1, lar, alt, fill=True, stroke=False) # 6\n",
    "            \n",
    "        if n == 7:\n",
    "            c.rect(x4, y2, lar, alt, fill=True, stroke=False) # 7\n",
    "            \n",
    "        if n == 8:\n",
    "            c.rect(x4, y3, lar, alt, fill=True, stroke=False) # 8\n",
    "            \n",
    "        if n == 9:\n",
    "            c.rect(x4, y4, lar, alt, fill=True, stroke=False) # 9\n",
    "            \n",
    "        if n == 10:\n",
    "            c.rect(x4, y5, lar, alt, fill=True, stroke=False) # 10\n",
    "            \n",
    "        if n == 11:\n",
    "            c.rect(x3, y1, lar, alt, fill=True, stroke=False) # 11\n",
    "            \n",
    "        if n == 12:\n",
    "            c.rect(x3, y2, lar, alt, fill=True, stroke=False) # 12\n",
    "            \n",
    "        if n == 13:\n",
    "            c.rect(x3, y3, lar, alt, fill=True, stroke=False) # 13\n",
    "            \n",
    "        if n == 14:\n",
    "            c.rect(x3, y4, lar, alt, fill=True, stroke=False) # 14\n",
    "            \n",
    "        if n == 15:\n",
    "            c.rect(x3, y5, lar, alt, fill=True, stroke=False) # 15\n",
    "            \n",
    "        if n == 16:\n",
    "            c.rect(x2, y1, lar, alt, fill=True, stroke=False) # 16\n",
    "            \n",
    "        if n == 17:\n",
    "            c.rect(x2, y2, lar, alt, fill=True, stroke=False) # 17\n",
    "            \n",
    "        if n == 18:\n",
    "            c.rect(x2, y3, lar, alt, fill=True, stroke=False) # 18\n",
    "            \n",
    "        if n == 19:\n",
    "            c.rect(x2, y4, lar, alt, fill=True, stroke=False) # 19\n",
    "            \n",
    "        if n == 20:\n",
    "            c.rect(x2, y5, lar, alt, fill=True, stroke=False) # 20\n",
    "            \n",
    "        if n == 21:\n",
    "            c.rect(x1, y1, lar, alt, fill=True, stroke=False) # 21\n",
    "            \n",
    "        if n == 22:\n",
    "            c.rect(x1, y2, lar, alt, fill=True, stroke=False) # 22\n",
    "            \n",
    "        if n == 23:\n",
    "            c.rect(x1, y3, lar, alt, fill=True, stroke=False) # 23\n",
    "            \n",
    "        if n == 24:\n",
    "            c.rect(x1, y4, lar, alt, fill=True, stroke=False) # 24\n",
    "            \n",
    "        if n == 25:\n",
    "            c.rect(x1, y5, lar, alt, fill=True, stroke=False) # 25\n",
    "            \n",
    "    jogos_pagina += 1\n",
    "    y1 = y5 - 84\n",
    "    \n",
    "    if jogos_pagina > 3:\n",
    "        c.showPage()\n",
    "        jogos_pagina = 1\n",
    "        pagina += 1\n",
    "        \n",
    "c.save()"
   ]
  }
 ],
 "metadata": {
  "kernelspec": {
   "display_name": "Python 3",
   "language": "python",
   "name": "python3"
  },
  "language_info": {
   "codemirror_mode": {
    "name": "ipython",
    "version": 3
   },
   "file_extension": ".py",
   "mimetype": "text/x-python",
   "name": "python",
   "nbconvert_exporter": "python",
   "pygments_lexer": "ipython3",
   "version": "3.7.0"
  }
 },
 "nbformat": 4,
 "nbformat_minor": 2
}
