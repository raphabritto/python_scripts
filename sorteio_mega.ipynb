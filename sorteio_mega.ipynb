{
 "cells": [
  {
   "cell_type": "code",
   "execution_count": 1,
   "metadata": {
    "collapsed": true
   },
   "outputs": [],
   "source": [
    "import numpy as np"
   ]
  },
  {
   "cell_type": "code",
   "execution_count": 8,
   "metadata": {
    "collapsed": false
   },
   "outputs": [],
   "source": [
    "apostas = []\n",
    "min_numeros_aposta = 6\n",
    "max_numeros_aposta = 15"
   ]
  },
  {
   "cell_type": "code",
   "execution_count": 9,
   "metadata": {
    "collapsed": false
   },
   "outputs": [
    {
     "name": "stdout",
     "output_type": "stream",
     "text": [
      "Quantidade de números por aposta: 6\n"
     ]
    }
   ],
   "source": [
    "while True:\n",
    "    try:\n",
    "        numerosAposta = int(input('Quantidade de números por aposta: '))\n",
    "        if numerosAposta < min_numeros_aposta or numerosAposta > max_numeros_aposta:\n",
    "            raise ValueError('Digite um valor entre ' + min_numeros_aposta + ' e ' + max_numeros_aposta + '!')\n",
    "    except ValueError as e:\n",
    "        print(e)\n",
    "        continue\n",
    "    except:\n",
    "        print('Erro desconhecido!')\n",
    "        continue\n",
    "    else:\n",
    "        break"
   ]
  },
  {
   "cell_type": "code",
   "execution_count": 10,
   "metadata": {
    "collapsed": false
   },
   "outputs": [],
   "source": [
    "class Megasena:\n",
    "    numeros = []\n",
    "    quantidade = 0\n",
    "    \n",
    "    def __init__(self):\n",
    "        self.quantidade = 0\n",
    "        \n",
    "    def sorteio(self, qtdNumeros):\n",
    "        self.numeros = sorted(list(np.random.choice(np.arange(1, 61), qtdNumeros, replace= False)))\n",
    "        self.quantidadeNum = len(self.numeros)\n",
    "        "
   ]
  },
  {
   "cell_type": "code",
   "execution_count": 11,
   "metadata": {
    "collapsed": false
   },
   "outputs": [],
   "source": [
    "for i in range(1,100):\n",
    "    aposta = Megasena()\n",
    "# aposta.numeros = sorted(list(np.random.choice(np.arange(1, 26), numerosAposta, replace= False)))\n",
    "    aposta.sorteio(numerosAposta)\n",
    "    apostas.append(aposta)"
   ]
  },
  {
   "cell_type": "code",
   "execution_count": 12,
   "metadata": {
    "collapsed": false
   },
   "outputs": [
    {
     "data": {
      "text/plain": [
       "99"
      ]
     },
     "execution_count": 12,
     "metadata": {},
     "output_type": "execute_result"
    }
   ],
   "source": [
    "len(apostas)"
   ]
  },
  {
   "cell_type": "code",
   "execution_count": 14,
   "metadata": {
    "collapsed": false
   },
   "outputs": [],
   "source": [
    "i = 0\n",
    "ultimoSorteio = [12,20,24,28,33,57]\n",
    "while i < len(apostas):\n",
    "    if len(set(apostas[i].numeros).intersection(ultimoSorteio)) > 2:\n",
    "        del apostas[i]\n",
    "    i += 1"
   ]
  },
  {
   "cell_type": "code",
   "execution_count": 15,
   "metadata": {
    "collapsed": false
   },
   "outputs": [
    {
     "data": {
      "text/plain": [
       "99"
      ]
     },
     "execution_count": 15,
     "metadata": {},
     "output_type": "execute_result"
    }
   ],
   "source": [
    "len(apostas)"
   ]
  },
  {
   "cell_type": "code",
   "execution_count": 13,
   "metadata": {
    "collapsed": false
   },
   "outputs": [
    {
     "name": "stdout",
     "output_type": "stream",
     "text": [
      "[5, 11, 15, 16, 29, 41]\n",
      "[5, 11, 19, 22, 48, 58]\n",
      "[7, 36, 45, 48, 50, 60]\n",
      "[6, 7, 28, 43, 46, 56]\n",
      "[2, 8, 9, 10, 31, 41]\n",
      "[17, 19, 20, 35, 48, 51]\n",
      "[2, 3, 21, 24, 56, 57]\n",
      "[15, 26, 33, 35, 57, 58]\n",
      "[11, 12, 16, 32, 38, 54]\n",
      "[3, 13, 22, 32, 43, 55]\n",
      "[21, 33, 37, 43, 47, 58]\n",
      "[2, 5, 19, 22, 40, 47]\n",
      "[6, 9, 17, 27, 48, 57]\n",
      "[13, 22, 33, 36, 42, 56]\n",
      "[14, 18, 34, 36, 49, 58]\n",
      "[12, 20, 30, 34, 43, 55]\n",
      "[9, 11, 17, 22, 49, 55]\n",
      "[8, 25, 26, 29, 31, 36]\n",
      "[6, 16, 17, 23, 33, 46]\n",
      "[20, 31, 33, 36, 44, 56]\n",
      "[32, 37, 39, 41, 44, 47]\n",
      "[15, 22, 32, 43, 45, 48]\n",
      "[7, 9, 11, 22, 40, 52]\n",
      "[2, 12, 23, 28, 36, 40]\n",
      "[12, 17, 26, 42, 44, 49]\n",
      "[1, 15, 25, 39, 46, 49]\n",
      "[6, 8, 14, 27, 35, 48]\n",
      "[4, 7, 8, 30, 35, 44]\n",
      "[2, 3, 30, 33, 43, 55]\n",
      "[5, 36, 39, 42, 49, 50]\n",
      "[19, 22, 31, 35, 51, 53]\n",
      "[29, 36, 42, 43, 53, 58]\n",
      "[4, 5, 6, 25, 45, 48]\n",
      "[11, 13, 19, 27, 42, 48]\n",
      "[11, 44, 48, 51, 57, 58]\n",
      "[11, 14, 15, 23, 38, 41]\n",
      "[4, 22, 41, 47, 49, 57]\n",
      "[3, 5, 20, 25, 31, 40]\n",
      "[5, 16, 18, 23, 28, 34]\n",
      "[2, 4, 17, 27, 40, 54]\n",
      "[5, 6, 47, 50, 53, 56]\n",
      "[15, 30, 37, 39, 42, 51]\n",
      "[4, 10, 11, 44, 46, 47]\n",
      "[4, 10, 22, 37, 50, 52]\n",
      "[19, 21, 29, 30, 46, 47]\n",
      "[7, 17, 23, 24, 40, 53]\n",
      "[29, 34, 38, 48, 50, 53]\n",
      "[10, 35, 47, 50, 55, 58]\n",
      "[10, 19, 21, 31, 48, 51]\n",
      "[9, 19, 43, 45, 51, 53]\n",
      "[19, 20, 21, 27, 28, 37]\n",
      "[7, 21, 48, 56, 58, 60]\n",
      "[4, 9, 14, 26, 36, 53]\n",
      "[14, 18, 29, 33, 42, 43]\n",
      "[9, 16, 35, 40, 42, 50]\n",
      "[4, 12, 15, 23, 30, 34]\n",
      "[8, 13, 27, 45, 56, 60]\n",
      "[6, 20, 33, 36, 44, 60]\n",
      "[24, 43, 45, 51, 56, 59]\n",
      "[1, 31, 38, 43, 59, 60]\n",
      "[8, 30, 39, 44, 55, 58]\n",
      "[3, 7, 13, 27, 41, 42]\n",
      "[2, 8, 19, 33, 56, 59]\n",
      "[3, 19, 26, 29, 50, 58]\n",
      "[1, 12, 16, 34, 46, 60]\n",
      "[15, 27, 30, 34, 54, 59]\n",
      "[6, 7, 9, 16, 38, 57]\n",
      "[20, 22, 28, 29, 35, 51]\n",
      "[3, 6, 19, 33, 53, 58]\n",
      "[4, 18, 22, 37, 44, 48]\n",
      "[15, 18, 20, 21, 22, 30]\n",
      "[1, 3, 12, 13, 33, 44]\n",
      "[11, 15, 26, 29, 40, 48]\n",
      "[6, 15, 17, 23, 41, 43]\n",
      "[1, 11, 38, 46, 47, 52]\n",
      "[13, 15, 33, 41, 53, 59]\n",
      "[11, 15, 18, 38, 39, 40]\n",
      "[14, 17, 26, 38, 54, 60]\n",
      "[38, 39, 40, 45, 49, 51]\n",
      "[8, 13, 15, 22, 31, 42]\n",
      "[6, 26, 38, 41, 52, 54]\n",
      "[17, 23, 28, 31, 41, 44]\n",
      "[5, 32, 44, 51, 57, 60]\n",
      "[1, 6, 23, 33, 38, 51]\n",
      "[11, 13, 35, 40, 46, 54]\n",
      "[6, 14, 20, 21, 28, 40]\n",
      "[5, 7, 15, 17, 55, 60]\n",
      "[14, 15, 24, 52, 56, 60]\n",
      "[17, 20, 21, 26, 29, 50]\n",
      "[10, 15, 21, 28, 50, 55]\n",
      "[3, 5, 15, 39, 42, 51]\n",
      "[27, 28, 29, 40, 49, 55]\n",
      "[22, 23, 27, 32, 43, 58]\n",
      "[22, 29, 33, 37, 47, 52]\n",
      "[10, 12, 19, 29, 53, 58]\n",
      "[3, 10, 29, 33, 40, 57]\n",
      "[9, 34, 35, 40, 45, 47]\n",
      "[6, 24, 36, 38, 57, 60]\n",
      "[1, 8, 23, 25, 38, 50]\n"
     ]
    }
   ],
   "source": [
    "for i in apostas:\n",
    "    print(i.numeros)"
   ]
  },
  {
   "cell_type": "code",
   "execution_count": null,
   "metadata": {
    "collapsed": true
   },
   "outputs": [],
   "source": []
  }
 ],
 "metadata": {
  "kernelspec": {
   "display_name": "Python 3",
   "language": "python",
   "name": "python3"
  },
  "language_info": {
   "codemirror_mode": {
    "name": "ipython",
    "version": 3
   },
   "file_extension": ".py",
   "mimetype": "text/x-python",
   "name": "python",
   "nbconvert_exporter": "python",
   "pygments_lexer": "ipython3",
   "version": "3.6.0"
  }
 },
 "nbformat": 4,
 "nbformat_minor": 2
}
